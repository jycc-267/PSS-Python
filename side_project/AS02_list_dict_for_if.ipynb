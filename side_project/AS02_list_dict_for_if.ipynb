{
 "cells": [
  {
   "cell_type": "markdown",
   "metadata": {
    "id": "iiMwv5fb01PH"
   },
   "source": [
    "# Q1 Pre-Processing Youbike data"
   ]
  },
  {
   "cell_type": "code",
   "execution_count": 98,
   "metadata": {
    "id": "jviuL0hgrrZI"
   },
   "outputs": [],
   "source": [
    "# Getting youtube data\n",
    "import requests\n",
    "import json\n",
    "response = requests.get('https://tcgbusfs.blob.core.windows.net/blobyoubike/YouBikeTP.gz')\n",
    "data = json.loads(response.text)"
   ]
  },
  {
   "cell_type": "markdown",
   "metadata": {
    "id": "9jc47vviq7Hf"
   },
   "source": [
    "## Q1_Code: Using site name as dict id \n",
    "\n",
    "1. 原本的Youbike data除了第一層有`retCode`和`retVal`外，在`retVal`所對應到的資料中，是以`sno`也就是駐車站編號作為dict的key。我希望把整筆資料轉個型態，仍保持dict of dict，但最外層的dictionary裡面的每個key是站台「中文名稱」，並以`site_dict`來作為新的dictionary的變數名稱。\n",
    "\n",
    "2. 除此之外，請參考下列資料，嘗試移除幾個儲存英文站名、英文區域和英文地址的keys與values，有`['sareaen', 'snaen', 'aren']`。參考資料：[Removing multiple keys from a dictionary safely (stackoverflow)](https://stackoverflow.com/questions/8995611/removing-multiple-keys-from-a-dictionary-safely)"
   ]
  },
  {
   "cell_type": "code",
   "execution_count": 99,
   "metadata": {},
   "outputs": [
    {
     "name": "stdout",
     "output_type": "stream",
     "text": [
      "<class 'dict'>\n",
      "dict_keys(['retCode', 'retVal'])\n",
      "<class 'dict'>\n",
      "dict_keys(['0001', '0002', '0003', '0004', '0005', '0006', '0007', '0008', '0009', '0010', '0011', '0012', '0013', '0014', '0016', '0017', '0018', '0019', '0021', '0022', '0023', '0024', '0025', '0026', '0027', '0028', '0029', '0030', '0031', '0032', '0033', '0034', '0035', '0036', '0037', '0038', '0039', '0040', '0041', '0042', '0043', '0044', '0045', '0046', '0047', '0048', '0049', '0050', '0051', '0052', '0053', '0054', '0055', '0056', '0057', '0058', '0059', '0060', '0061', '0062', '0063', '0064', '0065', '0066', '0067', '0068', '0069', '0070', '0071', '0072', '0073', '0074', '0075', '0076', '0077', '0078', '0079', '0080', '0081', '0082', '0083', '0084', '0085', '0086', '0087', '0088', '0089', '0090', '0091', '0092', '0093', '0094', '0095', '0096', '0097', '0098', '0099', '0100', '0101', '0102', '0103', '0104', '0105', '0106', '0107', '0108', '0109', '0110', '0111', '0112', '0113', '0114', '0115', '0116', '0117', '0118', '0119', '0120', '0121', '0122', '0123', '0124', '0125', '0126', '0127', '0128', '0129', '0130', '0131', '0132', '0133', '0134', '0135', '0136', '0137', '0138', '0139', '0140', '0141', '0142', '0143', '0144', '0145', '0146', '0147', '0148', '0149', '0150', '0151', '0152', '0153', '0154', '0155', '0156', '0157', '0158', '0159', '0161', '0162', '0163', '0164', '0165', '0166', '0167', '0168', '0169', '0170', '0171', '0172', '0173', '0174', '0175', '0176', '0177', '0178', '0179', '0180', '0181', '0182', '0183', '0184', '0185', '0186', '0187', '0188', '0189', '0190', '0191', '0192', '0193', '0194', '0195', '0196', '0197', '0201', '0202', '0203', '0204', '0205', '0206', '0207', '0208', '0209', '0210', '0211', '0212', '0213', '0214', '0215', '0216', '0217', '0218', '0219', '0220', '0221', '0222', '0223', '0224', '0225', '0226', '0227', '0228', '0229', '0230', '0231', '0232', '0233', '0234', '0235', '0236', '0237', '0238', '0239', '0240', '0241', '0242', '0243', '0244', '0245', '0246', '0247', '0248', '0249', '0250', '0251', '0252', '0253', '0254', '0255', '0256', '0257', '0258', '0259', '0260', '0261', '0262', '0263', '0264', '0265', '0266', '0267', '0268', '0269', '0270', '0271', '0272', '0273', '0274', '0275', '0276', '0277', '0278', '0279', '0280', '0281', '0282', '0283', '0284', '0285', '0286', '0287', '0288', '0289', '0290', '0291', '0292', '0293', '0294', '0295', '0296', '0297', '0298', '0299', '0300', '0301', '0302', '0303', '0304', '0305', '0306', '0307', '0308', '0309', '0310', '0311', '0312', '0313', '0314', '0315', '0316', '0317', '0318', '0319', '0320', '0321', '0322', '0323', '0324', '0325', '0326', '0327', '0328', '0329', '0330', '0331', '0332', '0333', '0334', '0335', '0336', '0337', '0338', '0339', '0340', '0341', '0342', '0343', '0344', '0345', '0346', '0347', '0348', '0349', '0350', '0351', '0352', '0353', '0354', '0355', '0356', '0357', '0358', '0359', '0360', '0361', '0362', '0363', '0364', '0365', '0366', '0367', '0368', '0369', '0370', '0371', '0372', '0373', '0374', '0375', '0376', '0377', '0378', '0379', '0380', '0381', '0382', '0383', '0384', '0385', '0386', '0387', '0388', '0389', '0390', '0391', '0392', '0393', '0394', '0395', '0396', '0397', '0398', '0399', '0400', '0401', '0402', '0403', '0404', '0405'])\n",
      "399\n",
      "{'sno': '0001', 'sna': '捷運市政府站(3號出口)', 'tot': '180', 'sbi': '88', 'sarea': '信義區', 'mday': '20211022225218', 'lat': '25.0408578889', 'lng': '121.567904444', 'ar': '忠孝東路/松仁路(東南側)', 'sareaen': 'Xinyi Dist.', 'snaen': 'MRT Taipei City Hall Stataion(Exit 3)-2', 'aren': 'The S.W. side of Road Zhongxiao East Road & Road Chung Yan.', 'bemp': '92', 'act': '1'}\n"
     ]
    }
   ],
   "source": [
    "print(type(data))\n",
    "print(data.keys())\n",
    "print(type(data['retVal']))\n",
    "print(data['retVal'].keys())\n",
    "print(len(data['retVal']))\n",
    "print(data['retVal']['0001'])"
   ]
  },
  {
   "cell_type": "code",
   "execution_count": 100,
   "metadata": {
    "id": "CmW91nT5tZcF"
   },
   "outputs": [],
   "source": [
    "site_dict = {}  # Using this as new dict name\n",
    "en_keys = ['sareaen', 'snaen', 'aren']\n",
    "\n",
    "# Your code should go here\n",
    "for k, v in data['retVal'].items():\n",
    "    for x in en_keys:\n",
    "        v.pop(x)\n",
    "    site_dict[v['sna']] = v"
   ]
  },
  {
   "cell_type": "markdown",
   "metadata": {
    "id": "2f_A9HOZtja7"
   },
   "source": [
    "## Q1_Verification: Print out the key of the outermost dictionary\n",
    "\n",
    "執行以下程式碼以驗證你的程式撰寫是否成功。你不能更動以下Cell的Code，僅能在上面的Cell撰寫程式，使得以下的Code列印出來的資料與預期相同。助教會看這個Cell的結果來判斷你是否達到題目要求。\n",
    "\n",
    "預期結果如下：\n",
    "`['捷運市政府站(3號出口)', '捷運國父紀念館站(2號出口)', '台北市政府', '市民廣場', '興雅國中', '臺北南山廣場', '信義廣場(台北101)', '世貿三館', '松德站', '台北市災害應變中心']\n",
    "`"
   ]
  },
  {
   "cell_type": "code",
   "execution_count": 101,
   "metadata": {
    "id": "gJR-kyDkt_U4"
   },
   "outputs": [
    {
     "name": "stdout",
     "output_type": "stream",
     "text": [
      "['捷運市政府站(3號出口)', '捷運國父紀念館站(2號出口)', '台北市政府', '市民廣場', '興雅國中', '臺北南山廣場', '信義廣場(台北101)', '世貿三館', '松德站', '台北市災害應變中心']\n"
     ]
    }
   ],
   "source": [
    "print(list(site_dict.keys())[:10])"
   ]
  },
  {
   "cell_type": "markdown",
   "metadata": {
    "id": "P3rG0rxSuRnR"
   },
   "source": [
    "## Q1_Verification: Print out keys of site's data\n",
    "\n",
    "執行以下程式碼以驗證你的程式撰寫是否成功。你不能更動以下Cell的Code，僅能在上面的Cell撰寫程式，使得以下的Code列印出來的資料與預期相同。預期結果如下：`dict_keys(['sno', 'sna', 'tot', 'sbi', 'sarea', 'mday', 'lat', 'lng', 'ar', 'bemp', 'act'])\n",
    "`"
   ]
  },
  {
   "cell_type": "code",
   "execution_count": 102,
   "metadata": {
    "id": "iGToCqINuR0R"
   },
   "outputs": [
    {
     "data": {
      "text/plain": [
       "dict_keys(['sno', 'sna', 'tot', 'sbi', 'sarea', 'mday', 'lat', 'lng', 'ar', 'bemp', 'act'])"
      ]
     },
     "execution_count": 102,
     "metadata": {},
     "output_type": "execute_result"
    }
   ],
   "source": [
    "site_dict['捷運市政府站(3號出口)'].keys()"
   ]
  },
  {
   "cell_type": "markdown",
   "metadata": {
    "id": "KDJT6w7nro03"
   },
   "source": [
    "# Q2 Calculating the fullness of each youbike site\n",
    "\n",
    "\n",
    "## Q2_1 : Inserting a new indicator fullness for each site\n",
    "\n",
    "建立一個新的指標`perc = sbi/tot`，為現有單車數(`sbi`)除以總單車格數（`tot`）作為滿站的比例，並希望在每個駐車站的資料中多一個key為`perc`來存放滿站比例。你可以接續上題作，或者回到原本撈回來的資料做。\n",
    "\n",
    "例如\n",
    "```\n",
    "{ '捷運市政府站(3號出口)':{\n",
    "    'sna': '捷運市政府站(3號出口)', \n",
    "    'sno': ...,\n",
    "    'tot': ...,\n",
    "    'sbi': ..., \n",
    "    'perc': ...,\n",
    "    ...},\n",
    "    ...\n",
    "}\n",
    "```"
   ]
  },
  {
   "cell_type": "code",
   "execution_count": 103,
   "metadata": {
    "id": "awYVPUw2yClq"
   },
   "outputs": [],
   "source": [
    "# Your code should be here\n",
    "for k, v in site_dict.items():\n",
    "    v['perc'] = int(v['sbi']) / int(v['tot'])\n",
    "\n"
   ]
  },
  {
   "cell_type": "markdown",
   "metadata": {
    "tags": []
   },
   "source": [
    "## Q2_1: Verification\n",
    "* 列印出任意10個站台的perc。必須同時列印出每個站台的sna, sbi, tot, perc\n",
    "* 請盡可能地印出類似下面的格式，以了解如何使用`.format()`或`%d`等來控制列印輸出格式。"
   ]
  },
  {
   "cell_type": "code",
   "execution_count": 104,
   "metadata": {},
   "outputs": [
    {
     "name": "stdout",
     "output_type": "stream",
     "text": [
      "捷運市政府站(3號出口)          \t88 \t180 \t0.488889\n",
      "捷運國父紀念館站(2號出口)        \t8 \t48 \t0.166667\n",
      "台北市政府                 \t26 \t40 \t0.650000\n",
      "市民廣場                  \t3 \t60 \t0.050000\n",
      "興雅國中                  \t25 \t60 \t0.416667\n",
      "臺北南山廣場                \t20 \t80 \t0.250000\n",
      "信義廣場(台北101)           \t16 \t80 \t0.200000\n",
      "世貿三館                  \t7 \t60 \t0.116667\n",
      "松德站                   \t13 \t40 \t0.325000\n",
      "台北市災害應變中心             \t36 \t54 \t0.666667\n"
     ]
    }
   ],
   "source": [
    "# Your code should be here\n",
    "for k, v in list(site_dict.items())[:10]:\n",
    "    print(\"%-20s  \\t%d \\t%d \\t%f\"%(v['sna'], int(v['sbi']), int(v['tot']), float(v['perc'])))\n"
   ]
  },
  {
   "cell_type": "markdown",
   "metadata": {
    "id": "u_CLG0BIrqhk"
   },
   "source": [
    "## Q2_2 (Code + Output verification): 列印出`perc`(fullness)最高的站\n",
    "\n",
    "用`for-loop`和`if-else`找出`perc`(fullness)最高的駐車站，並印出其站名和`perc`數值，以及時間。<br>\n",
    "\n",
    "註：本題不可使用內建或者第三方的sorting函式。"
   ]
  },
  {
   "cell_type": "code",
   "execution_count": 109,
   "metadata": {
    "id": "cELbhh1myJLG"
   },
   "outputs": [
    {
     "name": "stdout",
     "output_type": "stream",
     "text": [
      "At 20211022225231, the highest perc is 0.970588 (Station: 稻香重三路口)\n"
     ]
    }
   ],
   "source": [
    "fullest_sna = \"\"\n",
    "fullest_perc = 0.0\n",
    "fullest_time = \"\"\n",
    "\n",
    "# Your code should be here\n",
    "for site in site_dict:\n",
    "    if site_dict[site]['perc'] > fullest_perc:\n",
    "        fullest_perc = site_dict[site]['perc']\n",
    "        fullest_sna = site_dict[site]['sna']\n",
    "        fullest_time = site_dict[site]['mday']\n",
    "\n",
    "\n",
    "print(\"At %s, the highest perc is %f (Station: %s)\"%(fullest_time, fullest_perc, fullest_sna))"
   ]
  },
  {
   "cell_type": "markdown",
   "metadata": {
    "id": "xJyWK69h44qu"
   },
   "source": [
    "## Q2_3 (Code + Output verification 2): Top 10\n",
    "\n",
    "用內建或第三方的sorting函式，將`perc`(fullness)按照full to empty排序，用for-loop列印出，`perc`最高的10個駐車站的`sna`、`perc`、`tot`、`sbi`(（請善用printing formation和`\\t`將之對齊排列好，但不用照高低順序）。"
   ]
  },
  {
   "cell_type": "code",
   "execution_count": 122,
   "metadata": {
    "id": "hMxtXfUR44yz"
   },
   "outputs": [
    {
     "name": "stdout",
     "output_type": "stream",
     "text": [
      "龍門廣場                  \t0.923077 \t52 \t48\n",
      "林森公園                  \t0.875000 \t32 \t28\n",
      "基隆光復路口                \t0.800000 \t20 \t16\n",
      "臺北市立景美女中              \t0.850000 \t20 \t17\n",
      "市民林森路口                \t0.800000 \t30 \t24\n",
      "樂群二敬業四路口              \t0.857143 \t42 \t36\n",
      "螢橋國小                  \t0.850000 \t40 \t34\n",
      "新生公園                  \t0.884615 \t26 \t23\n",
      "太原五原路口                \t0.843750 \t32 \t27\n",
      "稻香重三路口                \t0.970588 \t34 \t33\n"
     ]
    }
   ],
   "source": [
    "# Your code should be here\n",
    "perc_list = []\n",
    "\n",
    "for site in site_dict:\n",
    "    perc_list.append(site_dict[site]['perc'])\n",
    "perc_list = sorted(perc_list, reverse = True)\n",
    "\n",
    "for site in site_dict:\n",
    "    if site_dict[site]['perc'] >= perc_list[9]:\n",
    "        print(\"%-20s  \\t%f \\t%d \\t%d\"%(site_dict[site]['sna'], site_dict[site]['perc'], int(site_dict[site]['tot']), int(site_dict[site]['sbi'])))\n"
   ]
  },
  {
   "cell_type": "markdown",
   "metadata": {},
   "source": [
    "# Q3: Categorizing fullness\n",
    "\n",
    "當要建立回歸模型來預測腳踏車的滿站程度時，我們需要的可能是上述的`perc`來作為依變項Y；但我如果只是要仿照Youbike地圖，用顏色來標示出滿站程度時（如https://taipei.youbike.com.tw/station/map） ，就需要將`perc`按數值分區。"
   ]
  },
  {
   "cell_type": "markdown",
   "metadata": {
    "id": "_JWFYfTv6r9u"
   },
   "source": [
    "## Q3_2 (Code and Output Verification)\n",
    "\n",
    "設計if-else搭配for-loop來計算每個資料區間各有多少個腳踏車站台。一共分成以下幾個label。\n",
    "- full: perc = 1.0，\n",
    "- empty: perc = 0.0, \n",
    "- few: 0.0 < perc <0.3\n",
    "- general: 0.3 <= perc < 0.7\n",
    "- many: 0.7 <=  perc < 1.0\n",
    "請在每個站台的dictionary中新增一個key為label，然後用Counting來累計並**列印出**當時刻full, empty, few, general, many各有多少個站台。\n",
    "\n",
    "範例輸出（可能因為不同時間而數量不同）\n",
    "```\n",
    "few 173\n",
    "general 152\n",
    "empty 44\n",
    "many 30\n",
    "```"
   ]
  },
  {
   "cell_type": "code",
   "execution_count": 125,
   "metadata": {},
   "outputs": [
    {
     "name": "stdout",
     "output_type": "stream",
     "text": [
      "general \t202\n",
      "few \t134\n",
      "empty \t40\n",
      "many \t23\n"
     ]
    }
   ],
   "source": [
    "# Your code should be here\n",
    "\n",
    "# scaling few, general and many\n",
    "degree = ['few', 'general', 'many']\n",
    "scale = [0.3, 0.7, 1.0]\n",
    "\n",
    "for site in site_dict:\n",
    "    if site_dict[site]['perc'] != \"\":\n",
    "        for i, n in enumerate(scale):\n",
    "            if site_dict[site]['perc'] <= n:\n",
    "                d = i\n",
    "                break\n",
    "        site_dict[site]['quality'] = degree[d]\n",
    "\n",
    "# scaling empty and full\n",
    "for site in site_dict:\n",
    "    if site_dict[site]['perc'] == 0.0:\n",
    "        site_dict[site]['quality'] = 'empty'\n",
    "    elif site_dict[site]['perc'] == 1.0:\n",
    "        site_dict[site]['quality'] = 'full'\n",
    "\n",
    "# counting sites by scale\n",
    "scale_count = {}\n",
    "for k, v in list(site_dict.items()):\n",
    "    if v['quality'] not in scale_count:\n",
    "        scale_count[v['quality']] = 1\n",
    "    else:\n",
    "        scale_count[v['quality']] += 1\n",
    "for k, v in scale_count.items():\n",
    "    print(\"%s \\t%d\"%(k, v))"
   ]
  },
  {
   "attachments": {
    "fd9f0b1b-d708-453b-b38a-5edc4d8a6a6b.png": {
     "image/png": "[encoded data removed]"
    }
   },
   "cell_type": "markdown",
   "metadata": {},
   "source": [
    "# Q4_e 自然常數的泰勒展式\n",
    "* e ≈ 2.71828 18284 59045 23536\n",
    "* ![image.png](attachment:fd9f0b1b-d708-453b-b38a-5edc4d8a6a6b.png)"
   ]
  },
  {
   "cell_type": "code",
   "execution_count": 133,
   "metadata": {},
   "outputs": [
    {
     "name": "stdout",
     "output_type": "stream",
     "text": [
      "2.7182818284590455\n"
     ]
    }
   ],
   "source": [
    "e = 1; n = 1\n",
    "for i in range(1, 1000):\n",
    "    # Your code should be here\n",
    "    n *= 1/i\n",
    "    e += n\n",
    "print(e)\n",
    "        "
   ]
  }
 ],
 "metadata": {
  "colab": {
   "authorship_tag": "ABX9TyMhnz/fLysIkoewCjoWQR5P",
   "collapsed_sections": [],
   "name": "AS02.ipynb",
   "provenance": [],
   "toc_visible": true
  },
  "kernelspec": {
   "display_name": "Python 3 (ipykernel)",
   "language": "python",
   "name": "python3"
  },
  "language_info": {
   "codemirror_mode": {
    "name": "ipython",
    "version": 3
   },
   "file_extension": ".py",
   "mimetype": "text/x-python",
   "name": "python",
   "nbconvert_exporter": "python",
   "pygments_lexer": "ipython3",
   "version": "3.9.7"
  },
  "toc": {
   "base_numbering": 1,
   "nav_menu": {},
   "number_sections": true,
   "sideBar": true,
   "skip_h1_title": false,
   "title_cell": "Table of Contents",
   "title_sidebar": "Contents",
   "toc_cell": true,
   "toc_position": {},
   "toc_section_display": true,
   "toc_window_display": true
  }
 },
 "nbformat": 4,
 "nbformat_minor": 4
}
