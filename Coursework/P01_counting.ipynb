{
 "cells": [
  {
   "cell_type": "markdown",
   "metadata": {
    "id": "view-in-github"
   },
   "source": [
    "<a href=\"https://colab.research.google.com/github/P4CSS/PSS/blob/master/P01_counting.ipynb\" target=\"_parent\"><img src=\"https://colab.research.google.com/assets/colab-badge.svg\" alt=\"Open In Colab\"/></a>"
   ]
  },
  {
   "cell_type": "markdown",
   "metadata": {
    "id": "uJLILcc3Vsc1"
   },
   "source": [
    "# Resource\n",
    "* [Slide: Py01 Counting](https://docs.google.com/presentation/d/e/2PACX-1vT9xw6FZzdlR1QcXHZe-bQ8eeYftltAAutHPNTyyMcLkevEr2bHOBfrpaaZpMaTb1gb1ufUX00jeu8w/pub?start=false&loop=false&delayms=3000)\n",
    "\n",
    "* [Github Repo](https://github.com/P4CSS/PSS) "
   ]
  },
  {
   "cell_type": "markdown",
   "metadata": {
    "id": "IO2oAUEcCFPz"
   },
   "source": [
    "# Counting: The fruit-counting problem\n",
    "寫程式是模仿你解決問題的邏輯，讓電腦幫你重複做，大量的做。因此，重要的是你解決問題的邏輯。數物件、數水果就是個很實用的演算法邏輯，教你怎麼計算一堆物品中，每個物件各有幾個。相關範例有：\n",
    "* 全班有這麼多人，我想算算每個科系有多少人，好知道系所比例安排專題。\n",
    "* 你被當好人跑腿，幫全班買飲料，結果一票人買了很多種飲料，只好一杯一杯畫正字。\n",
    "* 計算某一篇文章裡面，每個字出現幾次（字頻）；依照0~10、10~20依此類推計算學生的成績分布。"
   ]
  },
  {
   "cell_type": "markdown",
   "metadata": {},
   "source": [
    "## Problem definition\n",
    "\n",
    "考慮一個狀況，有一個跟一座山一樣多的水果，不知道有幾種水果，也不知道有幾顆，你必須要數出各種水果有幾顆，你會怎麼數？\n",
    "\n",
    "**別的程式語言會怎麼做？**\n",
    "* 如果是Google Sheet或Excel要做到這件事的話，要先用`unique()`找出相異的data value，然後用`countif()`函式來計算，每個相異值個別出現過幾次。，作法如下[Excel skills: How do I get the distinct/uniq](https://paper.dropbox.com/doc/Excel-skills--AMhtEb1RwJRKglJS17HxOonIAQ-oFgGCjW9W1m7UXBsdq6UG)\n",
    "* 如果你是用R來處理的話，那就會是`count(vec)`。"
   ]
  },
  {
   "cell_type": "markdown",
   "metadata": {
    "id": "SfvlrByqCFP6",
    "tags": []
   },
   "source": [
    "# \"Counting\" by code\n",
    "以下這個例子將帶你從最基礎的語法，用Python最基礎的資料型態來「計數（counting）」"
   ]
  },
  {
   "cell_type": "markdown",
   "metadata": {},
   "source": [
    "## Progammable thinking\n",
    "先想想若你在數水果實際上你是怎麼數？Ans. 一顆一顆數。\n",
    "\n",
    "那你怎麼記住哪一種水果有幾顆？Ans. 拿出一張紙，看到一種沒看過的水果，就新增一個「對應」，將水果名稱對應到0，然後在對應的欄位數值遞增一。若已經看過該水果，那就直接找到那個欄位遞增一即可。\n",
    "\n",
    "    apple 3\n",
    "    orange 2\n",
    "    kiwi 3"
   ]
  },
  {
   "cell_type": "markdown",
   "metadata": {},
   "source": [
    "## Elaborated thinking\n",
    "1. 先拿出一張紙做對應表， 左一行要寫水果名，右一行為他所對應到的水果數量\n",
    "2. 把水果排成一列準備一個一個數\n",
    "3. 對在該列中的每顆水果\n",
    "    * 如果我沒看過他\n",
    "        * 就在對應表記下該水果，登記該水果為1顆。\n",
    "    * 若我有看過他\n",
    "        * 就把對應表上的那個水果所對應到的數字加1。"
   ]
  },
  {
   "cell_type": "markdown",
   "metadata": {
    "id": "KJdPfyydCFP7"
   },
   "source": [
    "---\n",
    "## Describing in in English\n",
    "1. build a look-up table to record each fruit and number of the fruit(calls it dictionary), naming as `fruit_count`\n",
    "2. keep all fruits in a list named `fruit_list`\n",
    "3. for each `fruit` in `fruit_list`: \n",
    "    * If the fruit does not appear in `fruit_count`\n",
    "        * Create a mapping in `fruit_count` to map the `fruit` name to 1\n",
    "    * else\n",
    "        * increase the mapped value of the `fruit` name in `fruit_count`"
   ]
  },
  {
   "cell_type": "markdown",
   "metadata": {
    "id": "VD4jaMykCFP8"
   },
   "source": [
    "# Convert it to python\n",
    "* Assignment\n",
    "`variable = value`\n",
    "* Assigning an empty dictionary to a vriable\n",
    "`fruit_count = {}`\n",
    "* Assigning an list containing value to a variable\n",
    "`fruit_list = ['a', 'b', 'c', 'a', 'd', 'a', 'w', 'b']`\n",
    "* `var[]` Brackes are used to access a list or a dictionry\n",
    "`fruit_list[1]`\n",
    "`fruit_count[\"a\"]`\n",
    "* a = a + 1 is a typical incrementer 遞增運算\n",
    "`fruit_count[fruit] = fruit_count[fruit] + 1`\n",
    "* list is ordered `fruit_list[2]`\n",
    "* A dictionary is an unordered key-to-value pair `fruit_count[\"b\"]`"
   ]
  },
  {
   "cell_type": "code",
   "execution_count": 2,
   "metadata": {
    "ExecuteTime": {
     "end_time": "2020-03-09T16:31:01.002367Z",
     "start_time": "2020-03-09T16:31:00.995311Z"
    },
    "id": "P9P7hpirCFP8",
    "outputId": "0db58fd8-a9e3-41c7-82f0-514f1ef28623"
   },
   "outputs": [
    {
     "name": "stdout",
     "output_type": "stream",
     "text": [
      "{'apple': 4, 'banana': 3, 'grape': 1}\n"
     ]
    }
   ],
   "source": [
    "# Create an empty dictionry to store the key to value pairs\n",
    "fruit_count = {}\n",
    "\n",
    "# Create a list to store all things to count\n",
    "fruit_list = ['apple', 'apple', 'banana', 'apple', 'banana', 'grape', 'banana', 'apple'] # A list of fruit\n",
    "\n",
    "# For each fruit in the list...\n",
    "for fruit in fruit_list:\n",
    "    if fruit not in fruit_count:\n",
    "        fruit_count[fruit] = 1\n",
    "    else:\n",
    "        fruit_count[fruit] = fruit_count[fruit] + 1\n",
    "\n",
    "# apple 4\n",
    "# banana 3\n",
    "# grape 1\n",
    "        \n",
    "print(fruit_count)"
   ]
  },
  {
   "cell_type": "markdown",
   "metadata": {
    "id": "xDMyamfFCFP9"
   },
   "source": [
    "# Dictionary: Print out all pair of data by for-loop\n",
    "* `{'apple': 4, 'banana': 3, 'grape': 1}`這種從key-to-value對應形態的資料稱之為`Dictionary`\n",
    "* `['apple', 'apple', 'banana', 'apple']`這種從0開始編號起，第0個、第1個、第2個的資料型態稱之為`List`。"
   ]
  },
  {
   "cell_type": "code",
   "execution_count": 3,
   "metadata": {
    "ExecuteTime": {
     "end_time": "2020-03-09T16:31:14.160029Z",
     "start_time": "2020-03-09T16:31:14.156614Z"
    },
    "id": "mPHTfzZDCFP9",
    "outputId": "6fd7496f-f9e9-456e-e8a2-133ba6916bab"
   },
   "outputs": [
    {
     "name": "stdout",
     "output_type": "stream",
     "text": [
      "['apple', 'apple', 'banana', 'apple', 'banana', 'grape', 'banana', 'apple']\n"
     ]
    }
   ],
   "source": [
    "# print out fruit_list for observation\n",
    "print(fruit_list)"
   ]
  },
  {
   "cell_type": "markdown",
   "metadata": {},
   "source": [
    "## Keys and values of a dictionary\n",
    "`Dictionary`既然稱之為一種key-to-value對應形態的資料，那這種資料型態就應該會有一群keys，然後每個keys對應至唯一的values，不會有一個keys對應到多個values的情形。\n",
    "- `keys()`可以傳回一個dictionary的所有keys\n",
    "- `values()`可以傳回一個dictionary的所有values\n",
    "- `items()`可傳回一個dictionary的所有key-to-value pairs，以`(key1, value1), (key2, value2)`的型態。\n",
    "\n",
    "傳回來的這三個東西，都是list，分別是keys的list、values的list、和key-to-value pairs的list。"
   ]
  },
  {
   "cell_type": "code",
   "execution_count": 10,
   "metadata": {
    "ExecuteTime": {
     "end_time": "2020-03-09T16:32:55.075470Z",
     "start_time": "2020-03-09T16:32:55.069715Z"
    },
    "id": "RbTCy8X4CFP9",
    "outputId": "20f79303-5bd7-4d02-d043-a0e37a37438f"
   },
   "outputs": [
    {
     "name": "stdout",
     "output_type": "stream",
     "text": [
      "{'apple': 4, 'banana': 3, 'grape': 1}\n",
      "dict_keys(['apple', 'banana', 'grape'])\n",
      "dict_values([4, 3, 1])\n",
      "dict_items([('apple', 4), ('banana', 3), ('grape', 1)])\n"
     ]
    }
   ],
   "source": [
    "# Print the dictionary\n",
    "print(fruit_count)\n",
    "\n",
    "# Print all keys\n",
    "print(fruit_count.keys())\n",
    "\n",
    "# Print all values mapped by keys\n",
    "print(fruit_count.values())\n",
    "\n",
    "# Print all key-to-value pairs\n",
    "print(fruit_count.items())\n"
   ]
  },
  {
   "cell_type": "markdown",
   "metadata": {},
   "source": [
    "## Print out dictionary content iteratively by for-loop"
   ]
  },
  {
   "cell_type": "code",
   "execution_count": 6,
   "metadata": {
    "ExecuteTime": {
     "end_time": "2020-03-09T16:34:57.555124Z",
     "start_time": "2020-03-09T16:34:57.550281Z"
    },
    "id": "hqBtX5rtCFP-",
    "outputId": "08f569a1-6a4a-4a78-b464-ef0da714f974"
   },
   "outputs": [
    {
     "name": "stdout",
     "output_type": "stream",
     "text": [
      "apple \t 4\n",
      "banana \t 3\n",
      "grape \t 1\n"
     ]
    }
   ],
   "source": [
    "for k in fruit_count:\n",
    "    print(k, \"\\t\", fruit_count[k])\n",
    "#     print(key, fruit_count[key])"
   ]
  },
  {
   "cell_type": "code",
   "execution_count": 5,
   "metadata": {
    "ExecuteTime": {
     "end_time": "2020-03-09T16:36:43.929868Z",
     "start_time": "2020-03-09T16:36:43.925989Z"
    },
    "id": "6Gg5Q2sUCFP-",
    "outputId": "e29114b9-be88-4307-9822-1fb767482386"
   },
   "outputs": [
    {
     "name": "stdout",
     "output_type": "stream",
     "text": [
      "apple \t 4\n",
      "banana \t 3\n",
      "grape \t 1\n"
     ]
    }
   ],
   "source": [
    "for k, v in fruit_count.items():\n",
    "    print(k, \"\\t\", v)\n",
    "    "
   ]
  },
  {
   "cell_type": "markdown",
   "metadata": {
    "id": "6cL8n-xJCFP-"
   },
   "source": [
    "# Shorter versions\n",
    "## Using list.count(key) to count the frequency of something"
   ]
  },
  {
   "cell_type": "code",
   "execution_count": 6,
   "metadata": {
    "ExecuteTime": {
     "end_time": "2020-03-09T05:01:20.187865Z",
     "start_time": "2020-03-09T05:01:20.184133Z"
    },
    "id": "tI8nc_Z_CFP_",
    "outputId": "96fdac61-f9c6-47fb-c38b-0c77bd727c7d"
   },
   "outputs": [
    {
     "data": {
      "text/plain": [
       "4"
      ]
     },
     "execution_count": 6,
     "metadata": {},
     "output_type": "execute_result"
    }
   ],
   "source": [
    "fruit_list.count(\"apple\")"
   ]
  },
  {
   "cell_type": "code",
   "execution_count": 7,
   "metadata": {
    "ExecuteTime": {
     "end_time": "2020-03-09T05:00:54.948668Z",
     "start_time": "2020-03-09T05:00:54.944797Z"
    },
    "id": "TSlZeJjYCFP_",
    "outputId": "b0f711f7-42d4-47ca-e1e8-dbd85357165f"
   },
   "outputs": [
    {
     "name": "stdout",
     "output_type": "stream",
     "text": [
      "{'apple': 4, 'banana': 3, 'grape': 1}\n"
     ]
    }
   ],
   "source": [
    "fruit_count = {} # dictionary, key to value pairs\n",
    "\n",
    "fruit_list = ['apple', 'apple', 'banana', 'apple', 'banana', 'grape', 'banana', 'apple'] # A list of fruit\n",
    "\n",
    "for fruit in fruit_list:\n",
    "    if fruit not in fruit_count:\n",
    "        fruit_count[fruit] = fruit_list.count(fruit)\n",
    "print(fruit_count)"
   ]
  },
  {
   "cell_type": "markdown",
   "metadata": {
    "id": "tS1sseK8CFP_"
   },
   "source": [
    "## Using set(fruit_list) to gaurantee unique value in the list¶\n",
    "\n",
    "[Visualized by PythonTutor](http://pythontutor.com/visualize.html#code=fruit_list%20%3D%20%5B'apple',%20'apple',%20'banana',%20'apple',%20'banana',%20'grape',%20'banana',%20'apple'%5D%0Afruit_count%20%3D%20%7B%7D%0Afor%20k%20in%20set%28fruit_list%29%3A%0A%20%20%20%20fruit_count%5Bk%5D%20%3D%20fruit_list.count%28k%29%0Aprint%28fruit_count%29&cumulative=false&curInstr=10&heapPrimitives=nevernest&mode=display&origin=opt-frontend.js&py=3&rawInputLstJSON=%5B%5D&textReferences=false)"
   ]
  },
  {
   "cell_type": "code",
   "execution_count": 8,
   "metadata": {
    "ExecuteTime": {
     "end_time": "2020-03-09T05:02:41.876030Z",
     "start_time": "2020-03-09T05:02:41.871883Z"
    },
    "id": "QFMoZi9nCFP_",
    "outputId": "fdc7502a-f44d-4497-8881-6b75e89beba5"
   },
   "outputs": [
    {
     "data": {
      "text/plain": [
       "{'apple', 'banana', 'grape'}"
      ]
     },
     "execution_count": 8,
     "metadata": {},
     "output_type": "execute_result"
    }
   ],
   "source": [
    "set(fruit_list)"
   ]
  },
  {
   "cell_type": "code",
   "execution_count": 9,
   "metadata": {
    "ExecuteTime": {
     "end_time": "2020-03-09T05:03:31.228211Z",
     "start_time": "2020-03-09T05:03:31.224314Z"
    },
    "code_folding": [],
    "id": "L4Badp5KCFQA",
    "outputId": "7f3bab00-01c7-42b4-f0d2-8b22bf132120"
   },
   "outputs": [
    {
     "name": "stdout",
     "output_type": "stream",
     "text": [
      "{'banana': 3, 'apple': 4, 'grape': 1}\n"
     ]
    }
   ],
   "source": [
    "fruit_count = {}\n",
    "for k in set(fruit_list):\n",
    "    fruit_count[k] = fruit_list.count(k)\n",
    "print(fruit_count)"
   ]
  },
  {
   "cell_type": "markdown",
   "metadata": {
    "id": "piAfZ4caCFQA"
   },
   "source": [
    "## by Comprehensive dictionary"
   ]
  },
  {
   "cell_type": "code",
   "execution_count": 10,
   "metadata": {
    "ExecuteTime": {
     "end_time": "2020-03-09T05:04:50.778139Z",
     "start_time": "2020-03-09T05:04:50.772822Z"
    },
    "id": "5AONv9TfCFQA",
    "outputId": "0f361991-69d8-4043-af4c-0b13322e34dd"
   },
   "outputs": [
    {
     "name": "stdout",
     "output_type": "stream",
     "text": [
      "{'banana': 3, 'apple': 4, 'grape': 1}\n"
     ]
    }
   ],
   "source": [
    "fruit_count = {k:fruit_list.count(k) for k in set(fruit_list)}\n",
    "print(fruit_count)"
   ]
  },
  {
   "cell_type": "markdown",
   "metadata": {
    "id": "4FJrvPdQCFQA"
   },
   "source": [
    "## by `Counter()`\n",
    "[Visualized by PythonTutor](http://pythontutor.com/visualize.html#code=from%20collections%20import%20Counter%0Afruit_list%20%3D%20%5B'apple',%20'apple',%20'banana',%20'apple',%20'banana',%20'grape',%20'banana',%20'apple'%5D%20%23%20A%20list%20of%20fruit%0Afruit_count%20%3D%20Counter%28fruit_list%29%0Afor%20k,%20v,%20in%20fruit_count.items%28%29%3A%0A%20%20%20%20print%28k,%20%22%5Ct%22,%20v%29&cumulative=false&curInstr=9&heapPrimitives=nevernest&mode=display&origin=opt-frontend.js&py=3&rawInputLstJSON=%5B%5D&textReferences=false)"
   ]
  },
  {
   "cell_type": "code",
   "execution_count": 11,
   "metadata": {
    "ExecuteTime": {
     "end_time": "2020-03-09T05:05:59.139483Z",
     "start_time": "2020-03-09T05:05:59.135434Z"
    },
    "id": "_5s7vAXvCFQA",
    "outputId": "f057dbc7-23b9-4e4f-957c-720d22f7ab97"
   },
   "outputs": [
    {
     "name": "stdout",
     "output_type": "stream",
     "text": [
      "apple \t 4\n",
      "banana \t 3\n",
      "grape \t 1\n"
     ]
    }
   ],
   "source": [
    "from collections import Counter\n",
    "fruit_list = ['apple', 'apple', 'banana', 'apple', 'banana', 'grape', 'banana', 'apple'] # A list of fruit\n",
    "fruit_count = Counter(fruit_list)\n",
    "for k, v, in fruit_count.items():\n",
    "    print(k, \"\\t\", v)"
   ]
  },
  {
   "cell_type": "markdown",
   "metadata": {
    "id": "yLw2TAigCFQA"
   },
   "source": [
    "# Counting Word frequency: A document as your \"fruits\"\n",
    "\n",
    "演算邏輯都是一樣的，所以，我也可以將一篇文章裡面每個字詞視為相異的「水果」。有一套函式庫是wikipedia wrapper可以將wikipedia的內容抓回來（用`!pip install wikipedia`安裝該函式庫）。用wikipedia的函式把某頁wikipedia的內容抓少許回來後，要先把該篇文章拆成字（用`str.split()`）。然後再用前面教的方法來計算每個字的出現次數。\n",
    "\n",
    "## instal wikipedia wrapper\n"
   ]
  },
  {
   "cell_type": "code",
   "execution_count": null,
   "metadata": {
    "colab": {
     "base_uri": "https://localhost:8080/"
    },
    "id": "ljHC7XTzCYGU",
    "outputId": "258a716f-5237-40f3-aa7e-bc3299616e85"
   },
   "outputs": [],
   "source": [
    "pip install wikipedia  # install a new third-party library"
   ]
  },
  {
   "cell_type": "markdown",
   "metadata": {},
   "source": [
    "## Obtaining some qurery result from wikipedia"
   ]
  },
  {
   "cell_type": "code",
   "execution_count": 1,
   "metadata": {
    "ExecuteTime": {
     "end_time": "2020-03-09T05:12:50.986631Z",
     "start_time": "2020-03-09T05:12:50.982786Z"
    },
    "id": "UL9KgOJQCFQB",
    "outputId": "7b7a757e-d6cf-44a4-b4ec-19e8cc35bd03"
   },
   "outputs": [
    {
     "name": "stdout",
     "output_type": "stream",
     "text": [
      "<class 'str'>\n",
      "Big data is a field that treats ways to analyze, systematically extract information from, or otherwise deal with data sets that are too large or complex to be dealt with by traditional data-processing application software. Data with many fields (columns) offer greater statistical power, while data with higher complexity (more attributes or columns) may lead to a higher false discovery rate. Big data analysis challenges include capturing data, data storage, data analysis, search, sharing, transfer, visualization, querying, updating, information privacy, and data source. Big data was originally associated with three key concepts: volume, variety, and velocity. The analysis of big data presents challenges in sampling, and thus previously allowing for only observations and sampling. Therefore, big data often includes data with sizes that exceed the capacity of traditional software to process within an acceptable time and value.\n",
      "Current usage of the term big data tends to refer to the use of predictive analytics, user behavior analytics, or certain other advanced data analytics methods that extract value from big data, and seldom to a particular size of data set. \"There is little doubt that the quantities of data now available are indeed large, but that's not the most relevant characteristic of this new data ecosystem.\"\n",
      "Analysis of data sets can find new correlations to \"spot business trends, prevent diseases, combat crime and so on\". Scientists, business executives, medical practitioners, advertising and governments alike regularly meet difficulties with large data-sets in areas including Internet searches, fintech, healthcare analytics, geographic information systems, urban informatics, and business informatics.  Scientists encounter limitations in e-Science work, including meteorology, genomics, connectomics, complex physics simulations, biology, and environmental research.The size and number of available data sets have grown rapidly as data is collected by devices such as mobile devices, cheap and numerous information-sensing Internet of things devices, aerial (remote sensing), software logs, cameras, microphones, radio-frequency identification (RFID) readers and wireless sensor networks.\n"
     ]
    }
   ],
   "source": [
    "import wikipedia    # import a 3rd-party library into runtime\n",
    "string_a  = wikipedia.summary(\"Big_data\", sentences = 10)   # get data by 3rd-party function\n",
    "print(type(string_a))\n",
    "print(string_a)\n",
    "# string_a = \"In 2004, Obama received national attention during his campaign to represent Illinois in the United States Senate with his victory in the March Democratic Party primary, his keynote address at the Democratic National Convention in July, and his election to the Senate in November. He began his presidential campaign in 2007 and, after a close primary campaign against Hillary Rodham Clinton in 2008, he won sufficient delegates in the Democratic Party primaries to receive the presidential nomination. He then defeated Republican nominee John McCain in the general election, and was inaugurated as president on January 20, 2009. Nine months after his inauguration, Obama was named the 2009 Nobel Peace Prize laureate\""
   ]
  },
  {
   "cell_type": "markdown",
   "metadata": {
    "id": "Ixh9X5ryCFQB"
   },
   "source": [
    "## text process - replacing punctuation"
   ]
  },
  {
   "cell_type": "code",
   "execution_count": 2,
   "metadata": {
    "ExecuteTime": {
     "end_time": "2020-03-09T05:14:24.641315Z",
     "start_time": "2020-03-09T05:14:24.637953Z"
    },
    "id": "dlqeoJjsCFQB",
    "outputId": "90a61c25-a4e3-4c1b-bcb7-6bfeeffda8db"
   },
   "outputs": [
    {
     "name": "stdout",
     "output_type": "stream",
     "text": [
      "<class 'str'>\n",
      "!\"#$%&'()*+,-./:;<=>?@[\\]^_`{|}~\n"
     ]
    }
   ],
   "source": [
    "import string\n",
    "print(type(string.punctuation))\n",
    "print(string.punctuation)"
   ]
  },
  {
   "cell_type": "code",
   "execution_count": 3,
   "metadata": {
    "ExecuteTime": {
     "end_time": "2020-03-09T05:15:09.691154Z",
     "start_time": "2020-03-09T05:15:09.686679Z"
    },
    "id": "v0mzGXiDCFQB",
    "outputId": "6abd8996-32eb-46b2-ba5b-03ac6a3015ca"
   },
   "outputs": [
    {
     "data": {
      "text/plain": [
       "'Big data is a field that treats ways to analyze systematically extract information from or otherwise deal with data sets that are too large or complex to be dealt with by traditional dataprocessing application software Data with many fields columns offer greater statistical power while data with higher complexity more attributes or columns may lead to a higher false discovery rate Big data analysis challenges include capturing data data storage data analysis search sharing transfer visualization querying updating information privacy and data source Big data was originally associated with three key concepts volume variety and velocity The analysis of big data presents challenges in sampling and thus previously allowing for only observations and sampling Therefore big data often includes data with sizes that exceed the capacity of traditional software to process within an acceptable time and value\\nCurrent usage of the term big data tends to refer to the use of predictive analytics user behavior analytics or certain other advanced data analytics methods that extract value from big data and seldom to a particular size of data set There is little doubt that the quantities of data now available are indeed large but thats not the most relevant characteristic of this new data ecosystem\\nAnalysis of data sets can find new correlations to spot business trends prevent diseases combat crime and so on Scientists business executives medical practitioners advertising and governments alike regularly meet difficulties with large datasets in areas including Internet searches fintech healthcare analytics geographic information systems urban informatics and business informatics  Scientists encounter limitations in eScience work including meteorology genomics connectomics complex physics simulations biology and environmental researchThe size and number of available data sets have grown rapidly as data is collected by devices such as mobile devices cheap and numerous informationsensing Internet of things devices aerial remote sensing software logs cameras microphones radiofrequency identification RFID readers and wireless sensor networks'"
      ]
     },
     "execution_count": 3,
     "metadata": {},
     "output_type": "execute_result"
    }
   ],
   "source": [
    "translator = str.maketrans('','',string.punctuation)\n",
    "string_a = string_a.translate(translator)\n",
    "string_a"
   ]
  },
  {
   "cell_type": "markdown",
   "metadata": {},
   "source": [
    "## Capitalization: Converting string to lower"
   ]
  },
  {
   "cell_type": "code",
   "execution_count": 4,
   "metadata": {
    "ExecuteTime": {
     "end_time": "2020-03-09T05:15:42.012652Z",
     "start_time": "2020-03-09T05:15:42.009506Z"
    },
    "id": "q_dpwDoTCFQB",
    "outputId": "02118265-297d-48bc-ad73-200c514fca65"
   },
   "outputs": [
    {
     "name": "stdout",
     "output_type": "stream",
     "text": [
      "big data is a field that treats ways to analyze systematically extract information from or otherwise deal with data sets that are too large or complex to be dealt with by traditional dataprocessing application software data with many fields columns offer greater statistical power while data with higher complexity more attributes or columns may lead to a higher false discovery rate big data analysis challenges include capturing data data storage data analysis search sharing transfer visualization querying updating information privacy and data source big data was originally associated with three key concepts volume variety and velocity the analysis of big data presents challenges in sampling and thus previously allowing for only observations and sampling therefore big data often includes data with sizes that exceed the capacity of traditional software to process within an acceptable time and value\n",
      "current usage of the term big data tends to refer to the use of predictive analytics user behavior analytics or certain other advanced data analytics methods that extract value from big data and seldom to a particular size of data set there is little doubt that the quantities of data now available are indeed large but thats not the most relevant characteristic of this new data ecosystem\n",
      "analysis of data sets can find new correlations to spot business trends prevent diseases combat crime and so on scientists business executives medical practitioners advertising and governments alike regularly meet difficulties with large datasets in areas including internet searches fintech healthcare analytics geographic information systems urban informatics and business informatics  scientists encounter limitations in escience work including meteorology genomics connectomics complex physics simulations biology and environmental researchthe size and number of available data sets have grown rapidly as data is collected by devices such as mobile devices cheap and numerous informationsensing internet of things devices aerial remote sensing software logs cameras microphones radiofrequency identification rfid readers and wireless sensor networks\n"
     ]
    }
   ],
   "source": [
    "string_a = string_a.lower()\n",
    "print(string_a)"
   ]
  },
  {
   "cell_type": "markdown",
   "metadata": {},
   "source": [
    "## Tokenization: splitting text to word"
   ]
  },
  {
   "cell_type": "code",
   "execution_count": 5,
   "metadata": {
    "ExecuteTime": {
     "end_time": "2020-03-09T05:16:53.546328Z",
     "start_time": "2020-03-09T05:16:53.542223Z"
    },
    "id": "NU2UIavHCFQC",
    "outputId": "dbdcbebc-a0af-4c5c-ddce-1a3c5ab3ed2a"
   },
   "outputs": [
    {
     "data": {
      "text/plain": [
       "['big', 'data', 'is', 'a', 'field', 'that', 'treats', 'ways', 'to', 'analyze']"
      ]
     },
     "execution_count": 5,
     "metadata": {},
     "output_type": "execute_result"
    }
   ],
   "source": [
    "# astring = astring.translate(None, string.punctuation) for python 2.x\n",
    "words = string_a.split()\n",
    "words[:10]"
   ]
  },
  {
   "cell_type": "markdown",
   "metadata": {},
   "source": [
    "## Counting word frequency"
   ]
  },
  {
   "cell_type": "code",
   "execution_count": 6,
   "metadata": {
    "ExecuteTime": {
     "end_time": "2020-03-09T05:19:18.855528Z",
     "start_time": "2020-03-09T05:19:18.850787Z"
    },
    "id": "z1k4OmTJCFQC",
    "outputId": "87e314be-7166-44c5-f385-2d8ca7be0a9c"
   },
   "outputs": [
    {
     "data": {
      "text/plain": [
       "198"
      ]
     },
     "execution_count": 6,
     "metadata": {},
     "output_type": "execute_result"
    }
   ],
   "source": [
    "word_freq = {}\n",
    "for w in words:\n",
    "    if w not in word_freq: # dictionary key-value initilization\n",
    "        word_freq[w] = 0\n",
    "    word_freq[w] += 1\n",
    "#         word_freq[w] = word_freq[w] + 1\n",
    "len(word_freq)"
   ]
  },
  {
   "cell_type": "code",
   "execution_count": 10,
   "metadata": {
    "ExecuteTime": {
     "end_time": "2020-03-09T05:21:17.993018Z",
     "start_time": "2020-03-09T05:21:17.989536Z"
    },
    "id": "XlPiNAngCFQC",
    "outputId": "66f2a36c-fc74-4d1d-9e66-b43da227abd1"
   },
   "outputs": [
    {
     "ename": "NameError",
     "evalue": "name 'Counter' is not defined",
     "output_type": "error",
     "traceback": [
      "\u001b[1;31m---------------------------------------------------------------------------\u001b[0m",
      "\u001b[1;31mNameError\u001b[0m                                 Traceback (most recent call last)",
      "\u001b[1;32m~\\AppData\\Local\\Temp/ipykernel_2724/2500268786.py\u001b[0m in \u001b[0;36m<module>\u001b[1;34m\u001b[0m\n\u001b[0;32m      1\u001b[0m \u001b[1;32mimport\u001b[0m \u001b[0mcollections\u001b[0m\u001b[1;33m\u001b[0m\u001b[1;33m\u001b[0m\u001b[0m\n\u001b[1;32m----> 2\u001b[1;33m \u001b[0mword_freq\u001b[0m \u001b[1;33m=\u001b[0m \u001b[0mCounter\u001b[0m\u001b[1;33m(\u001b[0m\u001b[0mwords\u001b[0m\u001b[1;33m)\u001b[0m\u001b[1;33m\u001b[0m\u001b[1;33m\u001b[0m\u001b[0m\n\u001b[0m\u001b[0;32m      3\u001b[0m \u001b[0mprint\u001b[0m\u001b[1;33m(\u001b[0m\u001b[0mlen\u001b[0m\u001b[1;33m(\u001b[0m\u001b[0mword_freq\u001b[0m\u001b[1;33m)\u001b[0m\u001b[1;33m)\u001b[0m\u001b[1;33m\u001b[0m\u001b[1;33m\u001b[0m\u001b[0m\n\u001b[0;32m      4\u001b[0m \u001b[0mprint\u001b[0m\u001b[1;33m(\u001b[0m\u001b[0mword_freq\u001b[0m\u001b[1;33m.\u001b[0m\u001b[0mvalues\u001b[0m\u001b[1;33m(\u001b[0m\u001b[1;33m)\u001b[0m\u001b[1;33m)\u001b[0m\u001b[1;33m\u001b[0m\u001b[1;33m\u001b[0m\u001b[0m\n\u001b[0;32m      5\u001b[0m \u001b[1;33m\u001b[0m\u001b[0m\n",
      "\u001b[1;31mNameError\u001b[0m: name 'Counter' is not defined"
     ]
    }
   ],
   "source": [
    "import collections\n",
    "word_freq = Counter(words)\n",
    "print(len(word_freq))\n",
    "print(word_freq.values())\n",
    "\n",
    "value_freq = Counter(word_freq.values())\n",
    "print(value_freq)"
   ]
  },
  {
   "cell_type": "markdown",
   "metadata": {
    "id": "IgflyrEXCFQC"
   },
   "source": [
    "## Plot histogram of word frequency"
   ]
  },
  {
   "cell_type": "code",
   "execution_count": 11,
   "metadata": {
    "ExecuteTime": {
     "end_time": "2020-03-07T11:17:57.307440Z",
     "start_time": "2020-03-07T11:17:56.990520Z"
    },
    "id": "h44r7Ew_CFQD",
    "outputId": "4d2ef66c-3a12-445a-f97d-7aeb878a9cca"
   },
   "outputs": [
    {
     "data": {
      "text/plain": [
       "(array([178.,   9.,   3.,   1.,   1.,   2.,   1.,   0.,   1.,   0.,   0.,\n",
       "          1.,   0.,   0.,   0.,   0.,   0.,   0.,   0.,   1.]),\n",
       " array([ 1.  ,  2.05,  3.1 ,  4.15,  5.2 ,  6.25,  7.3 ,  8.35,  9.4 ,\n",
       "        10.45, 11.5 , 12.55, 13.6 , 14.65, 15.7 , 16.75, 17.8 , 18.85,\n",
       "        19.9 , 20.95, 22.  ]),\n",
       " <BarContainer object of 20 artists>)"
      ]
     },
     "execution_count": 11,
     "metadata": {},
     "output_type": "execute_result"
    },
    {
     "data": {
      "image/png": "[encoded data removed]",
      "text/plain": [
       "<Figure size 432x288 with 1 Axes>"
      ]
     },
     "metadata": {
      "needs_background": "light"
     },
     "output_type": "display_data"
    }
   ],
   "source": [
    "%matplotlib inline\n",
    "import matplotlib.pyplot as plt\n",
    "plt.hist(word_freq.values(), facecolor='green', alpha=0.5, bins=20)"
   ]
  },
  {
   "cell_type": "markdown",
   "metadata": {
    "id": "eospbSG7CFQD"
   },
   "source": [
    "## More: A shortest version to count word frequency"
   ]
  },
  {
   "cell_type": "code",
   "execution_count": 13,
   "metadata": {
    "ExecuteTime": {
     "end_time": "2020-03-09T05:22:01.961484Z",
     "start_time": "2020-03-09T05:22:01.957786Z"
    },
    "id": "yr3RRiXHCFQD"
   },
   "outputs": [],
   "source": [
    "word_freq = {k:words.count(k) for k in set(words)}"
   ]
  },
  {
   "cell_type": "markdown",
   "metadata": {
    "id": "rh4KsJJCCFQD"
   },
   "source": [
    "## More:Sorting all pairs of key and value"
   ]
  },
  {
   "cell_type": "code",
   "execution_count": 14,
   "metadata": {
    "ExecuteTime": {
     "end_time": "2020-03-09T05:24:48.432616Z",
     "start_time": "2020-03-09T05:24:48.428332Z"
    },
    "id": "QaqgTleNCFQD",
    "outputId": "f31635ca-5079-4ece-e9d4-0fb0e1acc0c6"
   },
   "outputs": [
    {
     "name": "stdout",
     "output_type": "stream",
     "text": [
      "[('data', 22), ('and', 13), ('of', 10), ('to', 8), ('with', 7), ('big', 7), ('the', 6), ('that', 5), ('analysis', 4), ('or', 4), ('analytics', 4), ('is', 3), ('software', 3), ('large', 3), ('business', 3), ('a', 3), ('in', 3), ('devices', 3), ('information', 3), ('sets', 3), ('sampling', 2), ('size', 2), ('from', 2), ('complex', 2), ('traditional', 2), ('new', 2), ('are', 2), ('value', 2), ('extract', 2), ('scientists', 2), ('columns', 2), ('including', 2), ('available', 2), ('by', 2), ('as', 2), ('higher', 2), ('informatics', 2), ('internet', 2), ('challenges', 2), ('deal', 1), ('quantities', 1), ('dataprocessing', 1), ('statistical', 1), ('seldom', 1), ('capacity', 1), ('sensing', 1), ('more', 1), ('practitioners', 1), ('cheap', 1), ('rate', 1), ('predictive', 1), ('now', 1), ('mobile', 1), ('physics', 1), ('otherwise', 1), ('attributes', 1), ('healthcare', 1), ('updating', 1), ('search', 1), ('alike', 1), ('allowing', 1), ('other', 1), ('may', 1), ('there', 1), ('not', 1), ('often', 1), ('escience', 1), ('systematically', 1), ('observations', 1), ('little', 1), ('advertising', 1), ('have', 1), ('on', 1), ('geographic', 1), ('genomics', 1), ('collected', 1), ('aerial', 1), ('logs', 1), ('dealt', 1), ('for', 1), ('medical', 1), ('urban', 1), ('velocity', 1), ('concepts', 1), ('use', 1), ('exceed', 1), ('correlations', 1), ('visualization', 1), ('governments', 1), ('wireless', 1), ('user', 1), ('three', 1), ('thats', 1), ('can', 1), ('offer', 1), ('rfid', 1), ('combat', 1), ('meteorology', 1), ('greater', 1), ('work', 1), ('informationsensing', 1), ('connectomics', 1), ('readers', 1), ('rapidly', 1), ('while', 1), ('originally', 1), ('indeed', 1), ('methods', 1), ('transfer', 1), ('therefore', 1), ('this', 1), ('researchthe', 1), ('numerous', 1), ('cameras', 1), ('identification', 1), ('includes', 1), ('volume', 1), ('characteristic', 1), ('term', 1), ('environmental', 1), ('many', 1), ('prevent', 1), ('an', 1), ('certain', 1), ('executives', 1), ('tends', 1), ('querying', 1), ('field', 1), ('was', 1), ('process', 1), ('associated', 1), ('spot', 1), ('include', 1), ('microphones', 1), ('relevant', 1), ('such', 1), ('regularly', 1), ('networks', 1), ('so', 1), ('presents', 1), ('key', 1), ('things', 1), ('remote', 1), ('biology', 1), ('number', 1), ('variety', 1), ('within', 1), ('radiofrequency', 1), ('application', 1), ('encounter', 1), ('fintech', 1), ('meet', 1), ('complexity', 1), ('advanced', 1), ('source', 1), ('too', 1), ('searches', 1), ('behavior', 1), ('time', 1), ('systems', 1), ('grown', 1), ('ways', 1), ('limitations', 1), ('capturing', 1), ('set', 1), ('doubt', 1), ('sensor', 1), ('privacy', 1), ('thus', 1), ('refer', 1), ('false', 1), ('only', 1), ('power', 1), ('previously', 1), ('sizes', 1), ('fields', 1), ('usage', 1), ('datasets', 1), ('areas', 1), ('ecosystem', 1), ('trends', 1), ('most', 1), ('particular', 1), ('find', 1), ('storage', 1), ('current', 1), ('diseases', 1), ('sharing', 1), ('be', 1), ('but', 1), ('analyze', 1), ('lead', 1), ('discovery', 1), ('treats', 1), ('acceptable', 1), ('difficulties', 1), ('crime', 1), ('simulations', 1)]\n",
      "('data', 22)\n",
      "('and', 13)\n",
      "('of', 10)\n",
      "('to', 8)\n",
      "('with', 7)\n",
      "('big', 7)\n"
     ]
    }
   ],
   "source": [
    "import operator\n",
    "sorted_x = sorted(word_freq.items(), \n",
    "                  key=operator.itemgetter(1), \n",
    "                  reverse=True)\n",
    "print(sorted_x)\n",
    "for k in sorted_x[:6]:\n",
    "    print(k)"
   ]
  },
  {
   "cell_type": "markdown",
   "metadata": {
    "id": "OnhiyWOLCFQD"
   },
   "source": [
    "# Sort the data by value"
   ]
  },
  {
   "cell_type": "code",
   "execution_count": null,
   "metadata": {
    "ExecuteTime": {
     "end_time": "2020-03-09T05:09:33.596159Z",
     "start_time": "2020-03-09T05:09:33.592828Z"
    },
    "id": "EfO-yoy_CFQE",
    "outputId": "5488140d-250f-4937-b056-95a98549a489"
   },
   "outputs": [],
   "source": [
    "sorted_keys = sorted(fruit_count, key=fruit_count.get, reverse=True)\n",
    "print(sorted_keys)"
   ]
  },
  {
   "cell_type": "code",
   "execution_count": null,
   "metadata": {
    "ExecuteTime": {
     "end_time": "2020-03-09T05:09:35.698455Z",
     "start_time": "2020-03-09T05:09:35.694962Z"
    },
    "id": "eieJAQj7CFQE",
    "outputId": "3885cdea-ac09-4b70-b1a6-25a636011c1b"
   },
   "outputs": [],
   "source": [
    "for key in sorted_keys[:2]:\n",
    "    print(key, fruit_count[key])"
   ]
  },
  {
   "cell_type": "markdown",
   "metadata": {},
   "source": [
    "# (Application) Counting Pass/Fail \n",
    "假設我有一群學生共75人`range(0, 75)`，考試成績為整數35~99分的隨機分佈`random.randint(35, 100)`。我想計算看看Fail/Pass各有多少人。"
   ]
  },
  {
   "cell_type": "markdown",
   "metadata": {},
   "source": [
    "## Generating grades\n",
    "先不要管下面怎麼做的，先知道這樣的方式可以產生隨機75個35~99間的數字並儲存到`grades`這個`list`中。"
   ]
  },
  {
   "cell_type": "code",
   "execution_count": null,
   "metadata": {},
   "outputs": [],
   "source": [
    "import random\n",
    "grades  =  [random.randint(35, 100) for i in range(0, 75)]\n",
    "print(\"Length of: \", len(grades))\n",
    "print(\"Grades: \", \" \".join(str(g) for g in grades))"
   ]
  },
  {
   "cell_type": "markdown",
   "metadata": {},
   "source": [
    "## Initializing a dict to store the frequency"
   ]
  },
  {
   "cell_type": "code",
   "execution_count": null,
   "metadata": {
    "id": "vzsckBKOCFQF",
    "outputId": "be501730-ab57-4233-b5e8-593c115789a8"
   },
   "outputs": [],
   "source": [
    "grade_dict = {'Pass':0, \"Fail\":0}\n",
    "for g in grades:\n",
    "    if g >= 60:\n",
    "        grade_dict[\"Pass\"] += 1\n",
    "    else:\n",
    "        grade_dict[\"Fail\"] += 1\n",
    "print(grade_dict)"
   ]
  },
  {
   "cell_type": "markdown",
   "metadata": {},
   "source": [
    "# Practice\n",
    "[P01p.ipynb](P01p.ipynb) and [P01p_Ans.ipynb](P01p_Ans.ipynb)"
   ]
  }
 ],
 "metadata": {
  "colab": {
   "collapsed_sections": [],
   "name": "P01_counting.ipynb",
   "provenance": [],
   "toc_visible": true
  },
  "kernelspec": {
   "display_name": "Python 3 (ipykernel)",
   "language": "python",
   "name": "python3"
  },
  "language_info": {
   "codemirror_mode": {
    "name": "ipython",
    "version": 3
   },
   "file_extension": ".py",
   "mimetype": "text/x-python",
   "name": "python",
   "nbconvert_exporter": "python",
   "pygments_lexer": "ipython3",
   "version": "3.8.13"
  },
  "toc": {
   "base_numbering": 1,
   "nav_menu": {},
   "number_sections": true,
   "sideBar": true,
   "skip_h1_title": false,
   "title_cell": "Table of Contents",
   "title_sidebar": "INDEX",
   "toc_cell": false,
   "toc_position": {
    "height": "751px",
    "left": "188px",
    "top": "79px",
    "width": "193px"
   },
   "toc_section_display": true,
   "toc_window_display": true
  },
  "varInspector": {
   "cols": {
    "lenName": 16,
    "lenType": 16,
    "lenVar": 40
   },
   "kernels_config": {
    "python": {
     "delete_cmd_postfix": "",
     "delete_cmd_prefix": "del ",
     "library": "var_list.py",
     "varRefreshCmd": "print(var_dic_list())"
    },
    "r": {
     "delete_cmd_postfix": ") ",
     "delete_cmd_prefix": "rm(",
     "library": "var_list.r",
     "varRefreshCmd": "cat(var_dic_list()) "
    }
   },
   "types_to_exclude": [
    "module",
    "function",
    "builtin_function_or_method",
    "instance",
    "_Feature"
   ],
   "window_display": false
  }
 },
 "nbformat": 4,
 "nbformat_minor": 4
}
