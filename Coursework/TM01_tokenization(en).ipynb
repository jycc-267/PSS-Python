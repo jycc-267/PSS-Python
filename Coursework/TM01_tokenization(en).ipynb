{
 "cells": [
  {
   "cell_type": "markdown",
   "metadata": {
    "id": "cJ0nmBvdOu7v"
   },
   "source": [
    "# Text Mining I - tokenization\n",
    "## Data Preparation\n",
    "* Open the corpus in the file \"hindu.txt\" from https://en.wikipedia.org/wiki/Hindu\n",
    "* Other public resource: http://www.gutenberg.org/\n",
    "* Never \"push\" protected text to Github or other publicly available platforms.  "
   ]
  },
  {
   "cell_type": "markdown",
   "metadata": {
    "id": "rxwguQ5jOu70"
   },
   "source": [
    "# Loading wikipedia data"
   ]
  },
  {
   "cell_type": "code",
   "execution_count": 16,
   "metadata": {
    "ExecuteTime": {
     "end_time": "2020-03-27T09:45:13.423574Z",
     "start_time": "2020-03-27T09:45:11.988828Z"
    },
    "colab": {
     "base_uri": "https://localhost:8080/"
    },
    "executionInfo": {
     "elapsed": 650,
     "status": "ok",
     "timestamp": 1619877681404,
     "user": {
      "displayName": "JILUNG",
      "photoUrl": "https://lh3.googleusercontent.com/a-/AOh14Gg6zj7prBu9I41dXrwQwaD6D0pMAipXePNpoU-MZ30=s64",
      "userId": "08765716966079614016"
     },
     "user_tz": -480
    },
    "id": "PzzzhI4NOu70",
    "outputId": "ca9bd5eb-a3f1-4f77-f96c-9521dfea4129"
   },
   "outputs": [
    {
     "name": "stdout",
     "output_type": "stream",
     "text": [
      "<class 'str'>\n",
      "The length of Rembrandt summary is  2170\n"
     ]
    }
   ],
   "source": [
    "# !pip install wikipedia\n",
    "import wikipedia \n",
    "import string\n",
    "# cv = wikipedia.page(\"Taipei\")\n",
    "# text = cv.content\n",
    "# print(cv.url)\n",
    "# print(\"The length of Taipei page is \", len(text))\n",
    "# print(text[:100])\n",
    "\n",
    "# text = wikipedia.page(\"Rembrandt\").content\n",
    "# print(len(text))\n",
    "\n",
    "text  = wikipedia.summary(\"Rembrandt\", sentences = 10)\n",
    "print(type(text))\n",
    "print(\"The length of Rembrandt summary is \", len(text))"
   ]
  },
  {
   "cell_type": "markdown",
   "metadata": {
    "id": "FpPYWr-GOu71"
   },
   "source": [
    "### One more example"
   ]
  },
  {
   "cell_type": "code",
   "execution_count": 17,
   "metadata": {
    "colab": {
     "base_uri": "https://localhost:8080/"
    },
    "executionInfo": {
     "elapsed": 1737,
     "status": "ok",
     "timestamp": 1619877688400,
     "user": {
      "displayName": "JILUNG",
      "photoUrl": "https://lh3.googleusercontent.com/a-/AOh14Gg6zj7prBu9I41dXrwQwaD6D0pMAipXePNpoU-MZ30=s64",
      "userId": "08765716966079614016"
     },
     "user_tz": -480
    },
    "id": "VBVZvEr2Ou72",
    "outputId": "fdda7d89-d858-4552-b4c3-6fb85e9bd0cf"
   },
   "outputs": [
    {
     "name": "stdout",
     "output_type": "stream",
     "text": [
      "<class 'str'>\n",
      "The length of Hindus summary is  2016\n"
     ]
    }
   ],
   "source": [
    "text  = wikipedia.summary(\"Hindus\", sentences = 10)\n",
    "print(type(text))\n",
    "print(\"The length of Hindus summary is \", len(text))"
   ]
  },
  {
   "cell_type": "code",
   "execution_count": 11,
   "metadata": {
    "colab": {
     "base_uri": "https://localhost:8080/"
    },
    "executionInfo": {
     "elapsed": 1056,
     "status": "ok",
     "timestamp": 1619877912981,
     "user": {
      "displayName": "JILUNG",
      "photoUrl": "https://lh3.googleusercontent.com/a-/AOh14Gg6zj7prBu9I41dXrwQwaD6D0pMAipXePNpoU-MZ30=s64",
      "userId": "08765716966079614016"
     },
     "user_tz": -480
    },
    "id": "CbUbR5IcOu72",
    "outputId": "20657d60-be74-4a13-a3dc-7928699ea9a8"
   },
   "outputs": [
    {
     "name": "stdout",
     "output_type": "stream",
     "text": [
      "--2021-05-01 14:05:12--  https://raw.githubusercontent.com/P4CSS/PSS/master/data/hindu.txt\n",
      "Resolving raw.githubusercontent.com (raw.githubusercontent.com)... 185.199.108.133, 185.199.109.133, 185.199.110.133, ...\n",
      "Connecting to raw.githubusercontent.com (raw.githubusercontent.com)|185.199.108.133|:443... connected.\n",
      "HTTP request sent, awaiting response... 200 OK\n",
      "Length: 2747 (2.7K) [text/plain]\n",
      "Saving to: ‘hindu.txt’\n",
      "\n",
      "hindu.txt           100%[===================>]   2.68K  --.-KB/s    in 0s      \n",
      "\n",
      "Last-modified header missing -- time-stamps turned off.\n",
      "2021-05-01 14:05:12 (67.5 MB/s) - ‘hindu.txt’ saved [2747/2747]\n",
      "\n",
      "hindu.txt  hindu.txt.1\thindu.txt.2  sample_data\n"
     ]
    }
   ],
   "source": [
    "!wget -N https://raw.githubusercontent.com/P4CSS/PSS/master/data/hindu.txt\n",
    "!ls"
   ]
  },
  {
   "cell_type": "code",
   "execution_count": 12,
   "metadata": {
    "ExecuteTime": {
     "end_time": "2019-06-15T12:01:24.498362Z",
     "start_time": "2019-06-15T12:01:24.495016Z"
    },
    "executionInfo": {
     "elapsed": 669,
     "status": "ok",
     "timestamp": 1619877919521,
     "user": {
      "displayName": "JILUNG",
      "photoUrl": "https://lh3.googleusercontent.com/a-/AOh14Gg6zj7prBu9I41dXrwQwaD6D0pMAipXePNpoU-MZ30=s64",
      "userId": "08765716966079614016"
     },
     "user_tz": -480
    },
    "id": "k4TXVI8iOu72"
   },
   "outputs": [],
   "source": [
    "with open(\"hindu.txt\") as fin:\n",
    "    text = fin.read()"
   ]
  },
  {
   "cell_type": "markdown",
   "metadata": {
    "id": "LfVEgEuDOu72"
   },
   "source": [
    "# Length of the corpus (in characters) "
   ]
  },
  {
   "cell_type": "code",
   "execution_count": 18,
   "metadata": {
    "ExecuteTime": {
     "end_time": "2019-06-15T12:01:24.504571Z",
     "start_time": "2019-06-15T12:01:24.501194Z"
    },
    "colab": {
     "base_uri": "https://localhost:8080/"
    },
    "executionInfo": {
     "elapsed": 671,
     "status": "ok",
     "timestamp": 1619877921773,
     "user": {
      "displayName": "JILUNG",
      "photoUrl": "https://lh3.googleusercontent.com/a-/AOh14Gg6zj7prBu9I41dXrwQwaD6D0pMAipXePNpoU-MZ30=s64",
      "userId": "08765716966079614016"
     },
     "user_tz": -480
    },
    "id": "KRqmplCaOu73",
    "outputId": "5f793b0b-4408-44b3-dfd7-5a83477185f3"
   },
   "outputs": [
    {
     "name": "stdout",
     "output_type": "stream",
     "text": [
      "The lenght of the corpus: 2016\n"
     ]
    }
   ],
   "source": [
    "print(\"The lenght of the corpus: %d\" % len(text))"
   ]
  },
  {
   "cell_type": "markdown",
   "metadata": {
    "id": "rlytGB1iOu73"
   },
   "source": [
    "## Content"
   ]
  },
  {
   "cell_type": "code",
   "execution_count": 19,
   "metadata": {
    "ExecuteTime": {
     "end_time": "2019-06-15T12:01:24.511032Z",
     "start_time": "2019-06-15T12:01:24.507068Z"
    },
    "colab": {
     "base_uri": "https://localhost:8080/"
    },
    "executionInfo": {
     "elapsed": 732,
     "status": "ok",
     "timestamp": 1619877924054,
     "user": {
      "displayName": "JILUNG",
      "photoUrl": "https://lh3.googleusercontent.com/a-/AOh14Gg6zj7prBu9I41dXrwQwaD6D0pMAipXePNpoU-MZ30=s64",
      "userId": "08765716966079614016"
     },
     "user_tz": -480
    },
    "id": "aECjbrPoOu73",
    "outputId": "cf4189b2-74e0-46cf-de07-09d50fc28483"
   },
   "outputs": [
    {
     "name": "stdout",
     "output_type": "stream",
     "text": [
      "Hindus (Hindustani: [ˈɦɪndu] (listen); ) are persons who regard themselves as culturally, ethnically, or religiously adhering to aspects of Hinduism. Historically, the term has also been used as a geographical, cultural, and later religious identifier for people living in the Indian subcontinent.The historical meaning of the term Hindu has evolved with time. Starting with the Persian and Greek references to the land of the Indus in the 1st millennium BCE through the texts of the medieval era, the term Hindu implied a geographic, ethnic or cultural identifier for people living in the Indian subcontinent around or beyond the Sindhu (Indus) River. By the 16th century CE, the term began to refer to residents of the subcontinent who were not Turkic or Muslims. In DN Jha’s essay “Looking for a Hindu identity”, he writes: “No Indians described themselves as Hindus before the fourteenth century” and “Hinduism was a creation of the colonial period and cannot lay claim to any great antiquity”. He further wrote “The British borrowed the word ‘Hindu’ from India, gave it a new meaning and significance, [and] reimported it into India as a reified phenomenon called Hinduism.” In the 18th century, the European merchants and colonists began to refer to the followers of Indian religions collectively as Hindus. Hindoo is an archaic spelling variant, whose use today may be considered derogatory.The historical development of Hindu self-identity within the local Indian population, in a religious or cultural sense, is unclear. Competing theories state that Hindu identity developed in the British colonial era, or that it may have developed post-8th century CE after the Muslim invasions and medieval Hindu–Muslim wars. A sense of Hindu identity and the term Hindu appears in some texts dated between the 13th and 18th century in Sanskrit and Bengali. The 14th- and 18th-century Indian poets such as Vidyapati, Kabir and Eknath used the phrase Hindu dharma (Hinduism) and contrasted it with Turaka dharma (Islam).\n"
     ]
    }
   ],
   "source": [
    "print(text)"
   ]
  },
  {
   "cell_type": "markdown",
   "metadata": {
    "id": "Vtyp2H13Ou73"
   },
   "source": [
    "# Tokenization"
   ]
  },
  {
   "cell_type": "markdown",
   "metadata": {
    "id": "DatUBjE4Ou74"
   },
   "source": [
    "## Method 1. by built-in `.split()`"
   ]
  },
  {
   "cell_type": "code",
   "execution_count": 20,
   "metadata": {
    "colab": {
     "base_uri": "https://localhost:8080/"
    },
    "executionInfo": {
     "elapsed": 1014,
     "status": "ok",
     "timestamp": 1619877934794,
     "user": {
      "displayName": "JILUNG",
      "photoUrl": "https://lh3.googleusercontent.com/a-/AOh14Gg6zj7prBu9I41dXrwQwaD6D0pMAipXePNpoU-MZ30=s64",
      "userId": "08765716966079614016"
     },
     "user_tz": -480
    },
    "id": "fV9aRxz-Ou74",
    "outputId": "4f866150-1d4d-49af-a88a-2578354e9d5c"
   },
   "outputs": [
    {
     "name": "stdout",
     "output_type": "stream",
     "text": [
      "['What’s', 'in', 'a', 'name?', 'That', 'which', 'we', 'call', 'a', 'rose', 'by', 'any', 'other', 'name', 'would', 'smell', 'as', 'sweet.']\n",
      "['2020', '04', '07 00:08:00']\n"
     ]
    }
   ],
   "source": [
    "sentence_a = \"What’s in a name? That which we call a rose by any other name would smell as sweet.\"\n",
    "print(sentence_a.split(\" \"))\n",
    "\n",
    "sentence_b = \"2020/04/07 00:08:00\"\n",
    "print(sentence_b.split(\"/\"))"
   ]
  },
  {
   "cell_type": "code",
   "execution_count": 21,
   "metadata": {
    "colab": {
     "base_uri": "https://localhost:8080/"
    },
    "executionInfo": {
     "elapsed": 909,
     "status": "ok",
     "timestamp": 1619877938225,
     "user": {
      "displayName": "JILUNG",
      "photoUrl": "https://lh3.googleusercontent.com/a-/AOh14Gg6zj7prBu9I41dXrwQwaD6D0pMAipXePNpoU-MZ30=s64",
      "userId": "08765716966079614016"
     },
     "user_tz": -480
    },
    "id": "BGuuGyoTOu74",
    "outputId": "a5f12726-474e-4071-e7ef-487c14f3e752"
   },
   "outputs": [
    {
     "name": "stdout",
     "output_type": "stream",
     "text": [
      "False\n",
      "True\n"
     ]
    }
   ],
   "source": [
    "print(\"123\".isalpha())\n",
    "print(\"abc\".isalpha())"
   ]
  },
  {
   "cell_type": "code",
   "execution_count": 22,
   "metadata": {
    "ExecuteTime": {
     "end_time": "2019-06-15T12:01:24.520738Z",
     "start_time": "2019-06-15T12:01:24.516614Z"
    },
    "colab": {
     "base_uri": "https://localhost:8080/"
    },
    "executionInfo": {
     "elapsed": 638,
     "status": "ok",
     "timestamp": 1619877949388,
     "user": {
      "displayName": "JILUNG",
      "photoUrl": "https://lh3.googleusercontent.com/a-/AOh14Gg6zj7prBu9I41dXrwQwaD6D0pMAipXePNpoU-MZ30=s64",
      "userId": "08765716966079614016"
     },
     "user_tz": -480
    },
    "id": "utaWTVsiOu74",
    "outputId": "e50d5984-b756-4a42-d681-e1e4c8c5d280"
   },
   "outputs": [
    {
     "name": "stdout",
     "output_type": "stream",
     "text": [
      "319\n",
      "['Hindus', '(Hindustani:', '[ˈɦɪndu]', '(listen);', ')', 'are', 'persons', 'who', 'regard', 'themselves', 'as', 'culturally,', 'ethnically,', 'or', 'religiously', 'adhering', 'to', 'aspects', 'of', 'Hinduism.', 'Historically,', 'the', 'term', 'has', 'also', 'been', 'used', 'as', 'a', 'geographical,', 'cultural,', 'and', 'later', 'religious', 'identifier', 'for', 'people', 'living', 'in', 'the', 'Indian', 'subcontinent.The', 'historical', 'meaning', 'of', 'the', 'term', 'Hindu', 'has', 'evolved', 'with', 'time.', 'Starting', 'with', 'the', 'Persian', 'and', 'Greek', 'references', 'to', 'the', 'land', 'of', 'the', 'Indus', 'in', 'the', '1st', 'millennium', 'BCE', 'through', 'the', 'texts', 'of', 'the', 'medieval', 'era,', 'the', 'term', 'Hindu', 'implied', 'a', 'geographic,', 'ethnic', 'or', 'cultural', 'identifier', 'for', 'people', 'living', 'in', 'the', 'Indian', 'subcontinent', 'around', 'or', 'beyond', 'the', 'Sindhu', '(Indus)', 'River.', 'By', 'the', '16th', 'century', 'CE,', 'the', 'term', 'began', 'to', 'refer', 'to', 'residents', 'of', 'the', 'subcontinent', 'who', 'were', 'not', 'Turkic', 'or', 'Muslims.', 'In', 'DN', 'Jha’s', 'essay', '“Looking', 'for', 'a', 'Hindu', 'identity”,', 'he', 'writes:', '“No', 'Indians', 'described', 'themselves', 'as', 'Hindus', 'before', 'the', 'fourteenth', 'century”', 'and', '“Hinduism', 'was', 'a', 'creation', 'of', 'the', 'colonial', 'period', 'and', 'cannot', 'lay', 'claim', 'to', 'any', 'great', 'antiquity”.', 'He', 'further', 'wrote', '“The', 'British', 'borrowed', 'the', 'word', '‘Hindu’', 'from', 'India,', 'gave', 'it', 'a', 'new', 'meaning', 'and', 'significance,', '[and]', 'reimported', 'it', 'into', 'India', 'as', 'a', 'reified', 'phenomenon', 'called', 'Hinduism.”', 'In', 'the', '18th', 'century,', 'the', 'European', 'merchants', 'and', 'colonists', 'began', 'to', 'refer', 'to', 'the', 'followers', 'of', 'Indian', 'religions', 'collectively', 'as', 'Hindus.', 'Hindoo', 'is', 'an', 'archaic', 'spelling', 'variant,', 'whose', 'use', 'today', 'may', 'be', 'considered', 'derogatory.The', 'historical', 'development', 'of', 'Hindu', 'self-identity', 'within', 'the', 'local', 'Indian', 'population,', 'in', 'a', 'religious', 'or', 'cultural', 'sense,', 'is', 'unclear.', 'Competing', 'theories', 'state', 'that', 'Hindu', 'identity', 'developed', 'in', 'the', 'British', 'colonial', 'era,', 'or', 'that', 'it', 'may', 'have', 'developed', 'post-8th', 'century', 'CE', 'after', 'the', 'Muslim', 'invasions', 'and', 'medieval', 'Hindu–Muslim', 'wars.', 'A', 'sense', 'of', 'Hindu', 'identity', 'and', 'the', 'term', 'Hindu', 'appears', 'in', 'some', 'texts', 'dated', 'between', 'the', '13th', 'and', '18th', 'century', 'in', 'Sanskrit', 'and', 'Bengali.', 'The', '14th-', 'and', '18th-century', 'Indian', 'poets', 'such', 'as', 'Vidyapati,', 'Kabir', 'and', 'Eknath', 'used', 'the', 'phrase', 'Hindu', 'dharma', '(Hinduism)', 'and', 'contrasted', 'it', 'with', 'Turaka', 'dharma', '(Islam).']\n"
     ]
    }
   ],
   "source": [
    "# 還要處理大小寫、標點符號、數字\n",
    "print(len(text.split(\" \")))\n",
    "print(text.split(\" \"))"
   ]
  },
  {
   "cell_type": "markdown",
   "metadata": {
    "id": "CBK0J4_oOu75"
   },
   "source": [
    "## Method 2. by nltk's function"
   ]
  },
  {
   "cell_type": "code",
   "execution_count": 24,
   "metadata": {
    "ExecuteTime": {
     "end_time": "2019-06-15T14:02:57.585328Z",
     "start_time": "2019-06-15T14:02:57.574621Z"
    },
    "colab": {
     "base_uri": "https://localhost:8080/"
    },
    "executionInfo": {
     "elapsed": 1305,
     "status": "ok",
     "timestamp": 1619877987662,
     "user": {
      "displayName": "JILUNG",
      "photoUrl": "https://lh3.googleusercontent.com/a-/AOh14Gg6zj7prBu9I41dXrwQwaD6D0pMAipXePNpoU-MZ30=s64",
      "userId": "08765716966079614016"
     },
     "user_tz": -480
    },
    "id": "w56fyHxyOu75",
    "outputId": "aa456902-2905-451d-a27c-d70ba9565177"
   },
   "outputs": [
    {
     "name": "stdout",
     "output_type": "stream",
     "text": [
      "375\n",
      "['Hindus', '(', 'Hindustani', ':', '[', 'ˈɦɪndu', ']', '(', 'listen', ')', ';', ')', 'are', 'persons', 'who', 'regard', 'themselves', 'as', 'culturally', ',', 'ethnically', ',', 'or', 'religiously', 'adhering', 'to', 'aspects', 'of', 'Hinduism', '.', 'Historically', ',', 'the', 'term', 'has', 'also', 'been', 'used', 'as', 'a', 'geographical', ',', 'cultural', ',', 'and', 'later', 'religious', 'identifier', 'for', 'people', 'living', 'in', 'the', 'Indian', 'subcontinent.The', 'historical', 'meaning', 'of', 'the', 'term', 'Hindu', 'has', 'evolved', 'with', 'time', '.', 'Starting', 'with', 'the', 'Persian', 'and', 'Greek', 'references', 'to', 'the', 'land', 'of', 'the', 'Indus', 'in', 'the', '1st', 'millennium', 'BCE', 'through', 'the', 'texts', 'of', 'the', 'medieval', 'era', ',', 'the', 'term', 'Hindu', 'implied', 'a', 'geographic', ',', 'ethnic', 'or', 'cultural', 'identifier', 'for', 'people', 'living', 'in', 'the', 'Indian', 'subcontinent', 'around', 'or', 'beyond', 'the', 'Sindhu', '(', 'Indus', ')', 'River', '.', 'By', 'the', '16th', 'century', 'CE', ',', 'the', 'term', 'began', 'to', 'refer', 'to', 'residents', 'of', 'the', 'subcontinent', 'who', 'were', 'not', 'Turkic', 'or', 'Muslims', '.', 'In', 'DN', 'Jha', '’', 's', 'essay', '“', 'Looking', 'for', 'a', 'Hindu', 'identity', '”', ',', 'he', 'writes', ':', '“', 'No', 'Indians', 'described', 'themselves', 'as', 'Hindus', 'before', 'the', 'fourteenth', 'century', '”', 'and', '“', 'Hinduism', 'was', 'a', 'creation', 'of', 'the', 'colonial', 'period', 'and', 'can', 'not', 'lay', 'claim', 'to', 'any', 'great', 'antiquity', '”', '.', 'He', 'further', 'wrote', '“', 'The', 'British', 'borrowed', 'the', 'word', '‘', 'Hindu', '’', 'from', 'India', ',', 'gave', 'it', 'a', 'new', 'meaning', 'and', 'significance', ',', '[', 'and', ']', 'reimported', 'it', 'into', 'India', 'as', 'a', 'reified', 'phenomenon', 'called', 'Hinduism.', '”', 'In', 'the', '18th', 'century', ',', 'the', 'European', 'merchants', 'and', 'colonists', 'began', 'to', 'refer', 'to', 'the', 'followers', 'of', 'Indian', 'religions', 'collectively', 'as', 'Hindus', '.', 'Hindoo', 'is', 'an', 'archaic', 'spelling', 'variant', ',', 'whose', 'use', 'today', 'may', 'be', 'considered', 'derogatory.The', 'historical', 'development', 'of', 'Hindu', 'self-identity', 'within', 'the', 'local', 'Indian', 'population', ',', 'in', 'a', 'religious', 'or', 'cultural', 'sense', ',', 'is', 'unclear', '.', 'Competing', 'theories', 'state', 'that', 'Hindu', 'identity', 'developed', 'in', 'the', 'British', 'colonial', 'era', ',', 'or', 'that', 'it', 'may', 'have', 'developed', 'post-8th', 'century', 'CE', 'after', 'the', 'Muslim', 'invasions', 'and', 'medieval', 'Hindu–Muslim', 'wars', '.', 'A', 'sense', 'of', 'Hindu', 'identity', 'and', 'the', 'term', 'Hindu', 'appears', 'in', 'some', 'texts', 'dated', 'between', 'the', '13th', 'and', '18th', 'century', 'in', 'Sanskrit', 'and', 'Bengali', '.', 'The', '14th-', 'and', '18th-century', 'Indian', 'poets', 'such', 'as', 'Vidyapati', ',', 'Kabir', 'and', 'Eknath', 'used', 'the', 'phrase', 'Hindu', 'dharma', '(', 'Hinduism', ')', 'and', 'contrasted', 'it', 'with', 'Turaka', 'dharma', '(', 'Islam', ')', '.']\n"
     ]
    },
    {
     "name": "stderr",
     "output_type": "stream",
     "text": [
      "[nltk_data] Downloading package punkt to C:\\Users\\user/nltk_data...\n",
      "[nltk_data]   Package punkt is already up-to-date!\n"
     ]
    }
   ],
   "source": [
    "# using natural language tool kit\n",
    "# need to download punkt tokenizer for the first use\n",
    "# saved at C:/User/user/nltk_data\n",
    "import nltk\n",
    "nltk.download('punkt')\n",
    "\n",
    "# 數字跟標點符號都被斷開來了\n",
    "from nltk.tokenize import word_tokenize\n",
    "print(len(word_tokenize(text)))\n",
    "print(word_tokenize(text))"
   ]
  },
  {
   "cell_type": "markdown",
   "metadata": {
    "id": "XaDe3703Ou75"
   },
   "source": [
    "## Method 3. Design manually as Python function\n",
    "要考慮文本在Python是如何構成的，用for loop iterate 每個字元，遇到空白用if偵測將前面讀過的字元存成一個詞。"
   ]
  },
  {
   "cell_type": "code",
   "execution_count": 27,
   "metadata": {},
   "outputs": [
    {
     "name": "stdout",
     "output_type": "stream",
     "text": [
      "H\n",
      "Hi\n",
      "Hin\n",
      "Hind\n",
      "Hindu\n",
      "Hindus\n",
      "Add to word_list:  ['Hindus']\n",
      "(\n",
      "(H\n",
      "(Hi\n",
      "(Hin\n",
      "(Hind\n",
      "(Hindu\n",
      "(Hindus\n",
      "(Hindust\n",
      "(Hindusta\n",
      "(Hindustan\n",
      "(Hindustani\n",
      "(Hindustani:\n",
      "Add to word_list:  ['Hindus', '(Hindustani:']\n",
      "[\n",
      "[ˈ\n",
      "[ˈɦ\n",
      "[ˈɦɪ\n",
      "[ˈɦɪn\n",
      "[ˈɦɪnd\n",
      "[ˈɦɪndu\n",
      "[ˈɦɪndu]\n",
      "Add to word_list:  ['Hindus', '(Hindustani:', '[ˈɦɪndu]']\n",
      "(\n"
     ]
    }
   ],
   "source": [
    "# .split() 的原理\n",
    "\n",
    "tok = \"\" # 用來暫存的空字元\n",
    "word_list = []\n",
    "\n",
    "for ch in text[:30]:\n",
    "    if ch == \" \":\n",
    "        word_list.append(tok)\n",
    "        tok = \"\"\n",
    "        print(\"Add to word_list: \", word_list)\n",
    "    else:\n",
    "        tok += ch\n",
    "        print(tok)"
   ]
  },
  {
   "cell_type": "code",
   "execution_count": 29,
   "metadata": {
    "colab": {
     "base_uri": "https://localhost:8080/"
    },
    "executionInfo": {
     "elapsed": 852,
     "status": "ok",
     "timestamp": 1619877996103,
     "user": {
      "displayName": "JILUNG",
      "photoUrl": "https://lh3.googleusercontent.com/a-/AOh14Gg6zj7prBu9I41dXrwQwaD6D0pMAipXePNpoU-MZ30=s64",
      "userId": "08765716966079614016"
     },
     "user_tz": -480
    },
    "id": "SvYbLvZWOu75",
    "outputId": "cbefc85f-0130-4592-807c-cb4eed1fa923"
   },
   "outputs": [
    {
     "name": "stdout",
     "output_type": "stream",
     "text": [
      "(5.0, 3, 4)\n"
     ]
    }
   ],
   "source": [
    "import math\n",
    "def myfun(x, y):\n",
    "    return math.sqrt(x**2 + y**2), x, y # 回傳一個 tuple\n",
    "print(myfun(3, 4))"
   ]
  },
  {
   "cell_type": "code",
   "execution_count": 62,
   "metadata": {
    "colab": {
     "base_uri": "https://localhost:8080/"
    },
    "executionInfo": {
     "elapsed": 763,
     "status": "ok",
     "timestamp": 1619878050844,
     "user": {
      "displayName": "JILUNG",
      "photoUrl": "https://lh3.googleusercontent.com/a-/AOh14Gg6zj7prBu9I41dXrwQwaD6D0pMAipXePNpoU-MZ30=s64",
      "userId": "08765716966079614016"
     },
     "user_tz": -480
    },
    "id": "l-u5ujW6Ou76",
    "outputId": "4b9371af-fbe0-4fea-e351-da1772871993"
   },
   "outputs": [
    {
     "name": "stdout",
     "output_type": "stream",
     "text": [
      "318\n"
     ]
    }
   ],
   "source": [
    "# 把上面的 for loop 包成函數\n",
    "def my_tokenizer(txt):\n",
    "    tok = \"\" # 用來暫存的空字元\n",
    "    word_list = []\n",
    "\n",
    "    for ch in txt:\n",
    "        if ch == \" \":\n",
    "            word_list.append(tok)\n",
    "            tok = \"\"\n",
    "            # print(\"Add to word_list: \", word_list)\n",
    "        else:\n",
    "            tok += ch\n",
    "            # print(tok)\n",
    "    return word_list\n",
    "            \n",
    "word_list = my_tokenizer(text)\n",
    "print(len(word_list))\n",
    "\n",
    "# 會遺漏最後一個字，因為是讀到下一個空白才斷"
   ]
  },
  {
   "cell_type": "code",
   "execution_count": 32,
   "metadata": {
    "colab": {
     "base_uri": "https://localhost:8080/"
    },
    "executionInfo": {
     "elapsed": 914,
     "status": "ok",
     "timestamp": 1619878055311,
     "user": {
      "displayName": "JILUNG",
      "photoUrl": "https://lh3.googleusercontent.com/a-/AOh14Gg6zj7prBu9I41dXrwQwaD6D0pMAipXePNpoU-MZ30=s64",
      "userId": "08765716966079614016"
     },
     "user_tz": -480
    },
    "id": "rgXS4zrjOu76",
    "outputId": "9becc0aa-4961-473e-ce69-8df06cbe8be2"
   },
   "outputs": [
    {
     "name": "stdout",
     "output_type": "stream",
     "text": [
      "No\n"
     ]
    }
   ],
   "source": [
    "tok = \"\"\n",
    "if tok:\n",
    "    print(\"Yes\")\n",
    "else:\n",
    "    print(\"No\")"
   ]
  },
  {
   "cell_type": "code",
   "execution_count": 34,
   "metadata": {
    "ExecuteTime": {
     "end_time": "2019-06-15T12:01:24.539233Z",
     "start_time": "2019-06-15T12:01:24.535536Z"
    },
    "colab": {
     "base_uri": "https://localhost:8080/"
    },
    "executionInfo": {
     "elapsed": 776,
     "status": "ok",
     "timestamp": 1619878062193,
     "user": {
      "displayName": "JILUNG",
      "photoUrl": "https://lh3.googleusercontent.com/a-/AOh14Gg6zj7prBu9I41dXrwQwaD6D0pMAipXePNpoU-MZ30=s64",
      "userId": "08765716966079614016"
     },
     "user_tz": -480
    },
    "id": "-NU7AcbJOu76",
    "outputId": "0f69ecb3-4ee9-47e5-8ee7-2bd54db98864"
   },
   "outputs": [
    {
     "name": "stdout",
     "output_type": "stream",
     "text": [
      "319\n",
      "['Hindus', '(Hindustani:', '[ˈɦɪndu]', '(listen);', ')', 'are', 'persons', 'who', 'regard', 'themselves', 'as', 'culturally,', 'ethnically,', 'or', 'religiously', 'adhering', 'to', 'aspects', 'of', 'Hinduism.', 'Historically,', 'the', 'term', 'has', 'also', 'been', 'used', 'as', 'a', 'geographical,', 'cultural,', 'and', 'later', 'religious', 'identifier', 'for', 'people', 'living', 'in', 'the', 'Indian', 'subcontinent.The', 'historical', 'meaning', 'of', 'the', 'term', 'Hindu', 'has', 'evolved', 'with', 'time.', 'Starting', 'with', 'the', 'Persian', 'and', 'Greek', 'references', 'to', 'the', 'land', 'of', 'the', 'Indus', 'in', 'the', '1st', 'millennium', 'BCE', 'through', 'the', 'texts', 'of', 'the', 'medieval', 'era,', 'the', 'term', 'Hindu', 'implied', 'a', 'geographic,', 'ethnic', 'or', 'cultural', 'identifier', 'for', 'people', 'living', 'in', 'the', 'Indian', 'subcontinent', 'around', 'or', 'beyond', 'the', 'Sindhu', '(Indus)', 'River.', 'By', 'the', '16th', 'century', 'CE,', 'the', 'term', 'began', 'to', 'refer', 'to', 'residents', 'of', 'the', 'subcontinent', 'who', 'were', 'not', 'Turkic', 'or', 'Muslims.', 'In', 'DN', 'Jha’s', 'essay', '“Looking', 'for', 'a', 'Hindu', 'identity”,', 'he', 'writes:', '“No', 'Indians', 'described', 'themselves', 'as', 'Hindus', 'before', 'the', 'fourteenth', 'century”', 'and', '“Hinduism', 'was', 'a', 'creation', 'of', 'the', 'colonial', 'period', 'and', 'cannot', 'lay', 'claim', 'to', 'any', 'great', 'antiquity”.', 'He', 'further', 'wrote', '“The', 'British', 'borrowed', 'the', 'word', '‘Hindu’', 'from', 'India,', 'gave', 'it', 'a', 'new', 'meaning', 'and', 'significance,', '[and]', 'reimported', 'it', 'into', 'India', 'as', 'a', 'reified', 'phenomenon', 'called', 'Hinduism.”', 'In', 'the', '18th', 'century,', 'the', 'European', 'merchants', 'and', 'colonists', 'began', 'to', 'refer', 'to', 'the', 'followers', 'of', 'Indian', 'religions', 'collectively', 'as', 'Hindus.', 'Hindoo', 'is', 'an', 'archaic', 'spelling', 'variant,', 'whose', 'use', 'today', 'may', 'be', 'considered', 'derogatory.The', 'historical', 'development', 'of', 'Hindu', 'self-identity', 'within', 'the', 'local', 'Indian', 'population,', 'in', 'a', 'religious', 'or', 'cultural', 'sense,', 'is', 'unclear.', 'Competing', 'theories', 'state', 'that', 'Hindu', 'identity', 'developed', 'in', 'the', 'British', 'colonial', 'era,', 'or', 'that', 'it', 'may', 'have', 'developed', 'post-8th', 'century', 'CE', 'after', 'the', 'Muslim', 'invasions', 'and', 'medieval', 'Hindu–Muslim', 'wars.', 'A', 'sense', 'of', 'Hindu', 'identity', 'and', 'the', 'term', 'Hindu', 'appears', 'in', 'some', 'texts', 'dated', 'between', 'the', '13th', 'and', '18th', 'century', 'in', 'Sanskrit', 'and', 'Bengali.', 'The', '14th-', 'and', '18th-century', 'Indian', 'poets', 'such', 'as', 'Vidyapati,', 'Kabir', 'and', 'Eknath', 'used', 'the', 'phrase', 'Hindu', 'dharma', '(Hinduism)', 'and', 'contrasted', 'it', 'with', 'Turaka', 'dharma', '(Islam).']\n"
     ]
    }
   ],
   "source": [
    "# A problematic implementation for word tokenization.\n",
    "\n",
    "def tokenize(text):\n",
    "    tokens = []\n",
    "    tok = \"\"\n",
    "    for ch in text:\n",
    "        if ch == \" \":\n",
    "            if tok: # 若 tok 不為空\n",
    "                tokens.append(tok)\n",
    "                tok = \"\"\n",
    "        else:\n",
    "            tok += ch\n",
    "    if tok: # 補上最後一個字(前提是最後面沒有空白)\n",
    "        tokens.append(tok)\n",
    "    return tokens\n",
    "\n",
    "print(len(tokenize(text)))\n",
    "print(tokenize(text))"
   ]
  },
  {
   "cell_type": "markdown",
   "metadata": {
    "id": "fEFZ_IkYOu77"
   },
   "source": [
    "## How to compare if two lists are identical?\n"
   ]
  },
  {
   "cell_type": "code",
   "execution_count": null,
   "metadata": {
    "id": "sdF9EDqpOu77"
   },
   "outputs": [],
   "source": []
  },
  {
   "cell_type": "markdown",
   "metadata": {
    "id": "Vm4ip2x0Ou77"
   },
   "source": [
    "## Counting"
   ]
  },
  {
   "cell_type": "code",
   "execution_count": 82,
   "metadata": {
    "ExecuteTime": {
     "end_time": "2019-06-15T12:01:24.562552Z",
     "start_time": "2019-06-15T12:01:24.549269Z"
    },
    "colab": {
     "base_uri": "https://localhost:8080/"
    },
    "executionInfo": {
     "elapsed": 801,
     "status": "ok",
     "timestamp": 1619878257759,
     "user": {
      "displayName": "JILUNG",
      "photoUrl": "https://lh3.googleusercontent.com/a-/AOh14Gg6zj7prBu9I41dXrwQwaD6D0pMAipXePNpoU-MZ30=s64",
      "userId": "08765716966079614016"
     },
     "user_tz": -480
    },
    "id": "7fyTBLYvOu77",
    "outputId": "8e99dc66-f156-4b30-9bc8-664c5c53d146"
   },
   "outputs": [
    {
     "name": "stdout",
     "output_type": "stream",
     "text": [
      "[('the', 27), (',', 17), ('and', 14), ('.', 10), ('of', 9), ('Hindu', 9), ('to', 7), ('a', 7), ('in', 7), ('as', 6), ('or', 6), ('(', 5), (')', 5), ('term', 5), ('Indian', 5), ('century', 5), ('“', 4), ('”', 4), ('it', 4), ('Hindus', 3)]\n",
      "the\t27\n",
      ",\t17\n",
      "and\t14\n",
      ".\t10\n",
      "of\t9\n",
      "Hindu\t9\n",
      "to\t7\n",
      "a\t7\n",
      "in\t7\n",
      "as\t6\n",
      "or\t6\n",
      "(\t5\n",
      ")\t5\n",
      "term\t5\n",
      "Indian\t5\n",
      "century\t5\n",
      "“\t4\n",
      "”\t4\n",
      "it\t4\n",
      "Hindus\t3\n"
     ]
    }
   ],
   "source": [
    "from collections import Counter\n",
    "from nltk.tokenize import word_tokenize\n",
    "\n",
    "tokens = word_tokenize(text)\n",
    "word_count = Counter(tokens)\n",
    "print(word_count.most_common(20)) # list of tuple\n",
    "\n",
    "for w, c in word_count.most_common(20):\n",
    "    print(\"%s\\t%d\" % (w, c))"
   ]
  },
  {
   "cell_type": "markdown",
   "metadata": {
    "id": "3mqFlXPuOu77"
   },
   "source": [
    "# Stopword and sign removal"
   ]
  },
  {
   "cell_type": "markdown",
   "metadata": {
    "id": "xMfcgTj9R12O"
   },
   "source": [
    "## Method 1.Removal of Punctuation Marks"
   ]
  },
  {
   "cell_type": "code",
   "execution_count": 85,
   "metadata": {
    "ExecuteTime": {
     "end_time": "2019-06-15T12:01:24.568215Z",
     "start_time": "2019-06-15T12:01:24.564796Z"
    },
    "colab": {
     "base_uri": "https://localhost:8080/"
    },
    "executionInfo": {
     "elapsed": 671,
     "status": "ok",
     "timestamp": 1619878263798,
     "user": {
      "displayName": "JILUNG",
      "photoUrl": "https://lh3.googleusercontent.com/a-/AOh14Gg6zj7prBu9I41dXrwQwaD6D0pMAipXePNpoU-MZ30=s64",
      "userId": "08765716966079614016"
     },
     "user_tz": -480
    },
    "id": "XLJ_rEXTOu77",
    "outputId": "b703b50e-988e-4caa-9107-9508bccdfdc4"
   },
   "outputs": [
    {
     "name": "stdout",
     "output_type": "stream",
     "text": [
      "!\"#$%&'()*+,-./:;<=>?@[\\]^_`{|}~\n",
      "the\t27\n",
      "and\t14\n",
      "of\t9\n",
      "Hindu\t9\n",
      "to\t7\n",
      "a\t7\n",
      "in\t7\n",
      "as\t6\n",
      "or\t6\n",
      "term\t5\n",
      "Indian\t5\n",
      "century\t5\n",
      "“\t4\n",
      "”\t4\n",
      "it\t4\n",
      "Hindus\t3\n",
      "Hinduism\t3\n",
      "cultural\t3\n",
      "for\t3\n",
      "with\t3\n"
     ]
    }
   ],
   "source": [
    "import string\n",
    "print(string.punctuation)\n",
    "\n",
    "# list comprehension\n",
    "clean_tokens = [tok for tok in tokens if tok not in string.punctuation] # 若判斷式成立，將 tok 取出存進 clean_tokens\n",
    "# clean_tokens = []\n",
    "# for tok in tokens:\n",
    "#         if tok not in string.punctuation:\n",
    "#             clean_tokens.append(tok)\n",
    "\n",
    "word_count = Counter(clean_tokens)\n",
    "\n",
    "for w, c in word_count.most_common(20):\n",
    "    print(\"%s\\t%d\" % (w, c))"
   ]
  },
  {
   "cell_type": "code",
   "execution_count": 86,
   "metadata": {
    "ExecuteTime": {
     "end_time": "2019-06-15T12:01:24.574857Z",
     "start_time": "2019-06-15T12:01:24.570534Z"
    },
    "colab": {
     "base_uri": "https://localhost:8080/"
    },
    "executionInfo": {
     "elapsed": 707,
     "status": "ok",
     "timestamp": 1619878266639,
     "user": {
      "displayName": "JILUNG",
      "photoUrl": "https://lh3.googleusercontent.com/a-/AOh14Gg6zj7prBu9I41dXrwQwaD6D0pMAipXePNpoU-MZ30=s64",
      "userId": "08765716966079614016"
     },
     "user_tz": -480
    },
    "id": "DkdsfcRbOu78",
    "outputId": "b136d4b1-dfe5-4c17-c0d2-029345a4864c"
   },
   "outputs": [
    {
     "name": "stdout",
     "output_type": "stream",
     "text": [
      "['Hindus', 'Hindustani', 'ˈɦɪndu', 'listen', 'are', 'persons', 'who', 'regard', 'themselves', 'as', 'culturally', 'ethnically', 'or', 'religiously', 'adhering', 'to', 'aspects', 'of', 'Hinduism', 'Historically', 'the', 'term', 'has', 'also', 'been', 'used', 'as', 'a', 'geographical', 'cultural', 'and', 'later', 'religious', 'identifier', 'for', 'people', 'living', 'in', 'the', 'Indian', 'subcontinent.The', 'historical', 'meaning', 'of', 'the', 'term', 'Hindu', 'has', 'evolved', 'with', 'time', 'Starting', 'with', 'the', 'Persian', 'and', 'Greek', 'references', 'to', 'the', 'land', 'of', 'the', 'Indus', 'in', 'the', '1st', 'millennium', 'BCE', 'through', 'the', 'texts', 'of', 'the', 'medieval', 'era', 'the', 'term', 'Hindu', 'implied', 'a', 'geographic', 'ethnic', 'or', 'cultural', 'identifier', 'for', 'people', 'living', 'in', 'the', 'Indian', 'subcontinent', 'around', 'or', 'beyond', 'the', 'Sindhu', 'Indus', 'River', 'By', 'the', '16th', 'century', 'CE', 'the', 'term', 'began', 'to', 'refer', 'to', 'residents', 'of', 'the', 'subcontinent', 'who', 'were', 'not', 'Turkic', 'or', 'Muslims', 'In', 'DN', 'Jha', '’', 's', 'essay', '“', 'Looking', 'for', 'a', 'Hindu', 'identity', '”', 'he', 'writes', '“', 'No', 'Indians', 'described', 'themselves', 'as', 'Hindus', 'before', 'the', 'fourteenth', 'century', '”', 'and', '“', 'Hinduism', 'was', 'a', 'creation', 'of', 'the', 'colonial', 'period', 'and', 'can', 'not', 'lay', 'claim', 'to', 'any', 'great', 'antiquity', '”', 'He', 'further', 'wrote', '“', 'The', 'British', 'borrowed', 'the', 'word', '‘', 'Hindu', '’', 'from', 'India', 'gave', 'it', 'a', 'new', 'meaning', 'and', 'significance', 'and', 'reimported', 'it', 'into', 'India', 'as', 'a', 'reified', 'phenomenon', 'called', 'Hinduism.', '”', 'In', 'the', '18th', 'century', 'the', 'European', 'merchants', 'and', 'colonists', 'began', 'to', 'refer', 'to', 'the', 'followers', 'of', 'Indian', 'religions', 'collectively', 'as', 'Hindus', 'Hindoo', 'is', 'an', 'archaic', 'spelling', 'variant', 'whose', 'use', 'today', 'may', 'be', 'considered', 'derogatory.The', 'historical', 'development', 'of', 'Hindu', 'self-identity', 'within', 'the', 'local', 'Indian', 'population', 'in', 'a', 'religious', 'or', 'cultural', 'sense', 'is', 'unclear', 'Competing', 'theories', 'state', 'that', 'Hindu', 'identity', 'developed', 'in', 'the', 'British', 'colonial', 'era', 'or', 'that', 'it', 'may', 'have', 'developed', 'post-8th', 'century', 'CE', 'after', 'the', 'Muslim', 'invasions', 'and', 'medieval', 'Hindu–Muslim', 'wars', 'A', 'sense', 'of', 'Hindu', 'identity', 'and', 'the', 'term', 'Hindu', 'appears', 'in', 'some', 'texts', 'dated', 'between', 'the', '13th', 'and', '18th', 'century', 'in', 'Sanskrit', 'and', 'Bengali', 'The', '14th-', 'and', '18th-century', 'Indian', 'poets', 'such', 'as', 'Vidyapati', 'Kabir', 'and', 'Eknath', 'used', 'the', 'phrase', 'Hindu', 'dharma', 'Hinduism', 'and', 'contrasted', 'it', 'with', 'Turaka', 'dharma', 'Islam']\n"
     ]
    }
   ],
   "source": [
    "def remove_punctuation_marks(tokens):\n",
    "    clean_tokens = []\n",
    "    for tok in tokens:\n",
    "        if tok not in string.punctuation:\n",
    "            clean_tokens.append(tok)\n",
    "    return clean_tokens\n",
    "\n",
    "print(remove_punctuation_marks(tokens))"
   ]
  },
  {
   "cell_type": "markdown",
   "metadata": {
    "id": "ato0lK6kOu78"
   },
   "source": [
    "## Method 2. Removing all tokens that contain characters other than letters. "
   ]
  },
  {
   "cell_type": "code",
   "execution_count": 87,
   "metadata": {
    "ExecuteTime": {
     "end_time": "2019-06-15T12:01:24.581292Z",
     "start_time": "2019-06-15T12:01:24.576977Z"
    },
    "colab": {
     "base_uri": "https://localhost:8080/"
    },
    "executionInfo": {
     "elapsed": 817,
     "status": "ok",
     "timestamp": 1619878269732,
     "user": {
      "displayName": "JILUNG",
      "photoUrl": "https://lh3.googleusercontent.com/a-/AOh14Gg6zj7prBu9I41dXrwQwaD6D0pMAipXePNpoU-MZ30=s64",
      "userId": "08765716966079614016"
     },
     "user_tz": -480
    },
    "id": "7Rbn4UZ5Ou78",
    "outputId": "8edce227-aecd-4b40-d832-fb01a278fd0f"
   },
   "outputs": [
    {
     "name": "stdout",
     "output_type": "stream",
     "text": [
      "['Hindus', 'Hindustani', 'ˈɦɪndu', 'listen', 'are', 'persons', 'who', 'regard', 'themselves', 'as', 'culturally', 'ethnically', 'or', 'religiously', 'adhering', 'to', 'aspects', 'of', 'Hinduism', 'Historically', 'the', 'term', 'has', 'also', 'been', 'used', 'as', 'a', 'geographical', 'cultural', 'and', 'later', 'religious', 'identifier', 'for', 'people', 'living', 'in', 'the', 'Indian', 'historical', 'meaning', 'of', 'the', 'term', 'Hindu', 'has', 'evolved', 'with', 'time', 'Starting', 'with', 'the', 'Persian', 'and', 'Greek', 'references', 'to', 'the', 'land', 'of', 'the', 'Indus', 'in', 'the', 'millennium', 'BCE', 'through', 'the', 'texts', 'of', 'the', 'medieval', 'era', 'the', 'term', 'Hindu', 'implied', 'a', 'geographic', 'ethnic', 'or', 'cultural', 'identifier', 'for', 'people', 'living', 'in', 'the', 'Indian', 'subcontinent', 'around', 'or', 'beyond', 'the', 'Sindhu', 'Indus', 'River', 'By', 'the', 'century', 'CE', 'the', 'term', 'began', 'to', 'refer', 'to', 'residents', 'of', 'the', 'subcontinent', 'who', 'were', 'not', 'Turkic', 'or', 'Muslims', 'In', 'DN', 'Jha', 's', 'essay', 'Looking', 'for', 'a', 'Hindu', 'identity', 'he', 'writes', 'No', 'Indians', 'described', 'themselves', 'as', 'Hindus', 'before', 'the', 'fourteenth', 'century', 'and', 'Hinduism', 'was', 'a', 'creation', 'of', 'the', 'colonial', 'period', 'and', 'can', 'not', 'lay', 'claim', 'to', 'any', 'great', 'antiquity', 'He', 'further', 'wrote', 'The', 'British', 'borrowed', 'the', 'word', 'Hindu', 'from', 'India', 'gave', 'it', 'a', 'new', 'meaning', 'and', 'significance', 'and', 'reimported', 'it', 'into', 'India', 'as', 'a', 'reified', 'phenomenon', 'called', 'In', 'the', 'century', 'the', 'European', 'merchants', 'and', 'colonists', 'began', 'to', 'refer', 'to', 'the', 'followers', 'of', 'Indian', 'religions', 'collectively', 'as', 'Hindus', 'Hindoo', 'is', 'an', 'archaic', 'spelling', 'variant', 'whose', 'use', 'today', 'may', 'be', 'considered', 'historical', 'development', 'of', 'Hindu', 'within', 'the', 'local', 'Indian', 'population', 'in', 'a', 'religious', 'or', 'cultural', 'sense', 'is', 'unclear', 'Competing', 'theories', 'state', 'that', 'Hindu', 'identity', 'developed', 'in', 'the', 'British', 'colonial', 'era', 'or', 'that', 'it', 'may', 'have', 'developed', 'century', 'CE', 'after', 'the', 'Muslim', 'invasions', 'and', 'medieval', 'wars', 'A', 'sense', 'of', 'Hindu', 'identity', 'and', 'the', 'term', 'Hindu', 'appears', 'in', 'some', 'texts', 'dated', 'between', 'the', 'and', 'century', 'in', 'Sanskrit', 'and', 'Bengali', 'The', 'and', 'Indian', 'poets', 'such', 'as', 'Vidyapati', 'Kabir', 'and', 'Eknath', 'used', 'the', 'phrase', 'Hindu', 'dharma', 'Hinduism', 'and', 'contrasted', 'it', 'with', 'Turaka', 'dharma', 'Islam']\n",
      "the\t27\n",
      "and\t14\n",
      "of\t9\n",
      "Hindu\t9\n",
      "to\t7\n",
      "a\t7\n",
      "in\t7\n",
      "as\t6\n",
      "or\t6\n",
      "term\t5\n",
      "Indian\t5\n",
      "century\t5\n",
      "it\t4\n",
      "Hindus\t3\n",
      "Hinduism\t3\n",
      "cultural\t3\n",
      "for\t3\n",
      "with\t3\n",
      "identity\t3\n",
      "who\t2\n"
     ]
    }
   ],
   "source": [
    "# 純英文以外的都被拿掉了\n",
    "\n",
    "def remove_punctuation_marks(tokens):\n",
    "    clean_tokens = []\n",
    "    for tok in tokens:\n",
    "        if tok.isalpha():\n",
    "            clean_tokens.append(tok)\n",
    "    return clean_tokens\n",
    "\n",
    "print(remove_punctuation_marks(tokens))\n",
    "\n",
    "word_count = Counter(remove_punctuation_marks(tokens))\n",
    "for w, c in word_count.most_common(20):\n",
    "    print(\"%s\\t%d\" % (w, c))"
   ]
  },
  {
   "cell_type": "markdown",
   "metadata": {
    "id": "SuNnb2L2Ou79"
   },
   "source": [
    "## A shorter implementation with Python generator."
   ]
  },
  {
   "cell_type": "code",
   "execution_count": 88,
   "metadata": {
    "ExecuteTime": {
     "end_time": "2019-06-15T12:01:24.588252Z",
     "start_time": "2019-06-15T12:01:24.583379Z"
    },
    "colab": {
     "base_uri": "https://localhost:8080/"
    },
    "executionInfo": {
     "elapsed": 740,
     "status": "ok",
     "timestamp": 1619878274473,
     "user": {
      "displayName": "JILUNG",
      "photoUrl": "https://lh3.googleusercontent.com/a-/AOh14Gg6zj7prBu9I41dXrwQwaD6D0pMAipXePNpoU-MZ30=s64",
      "userId": "08765716966079614016"
     },
     "user_tz": -480
    },
    "id": "6JpfFD4wOu79",
    "outputId": "90e9e494-ad10-4e42-d122-67b5f5bdcd8f"
   },
   "outputs": [
    {
     "name": "stdout",
     "output_type": "stream",
     "text": [
      "['Hindus', 'Hindustani', 'ˈɦɪndu', 'listen', 'are', 'persons', 'who', 'regard', 'themselves', 'as', 'culturally', 'ethnically', 'or', 'religiously', 'adhering', 'to', 'aspects', 'of', 'Hinduism', 'Historically', 'the', 'term', 'has', 'also', 'been', 'used', 'as', 'a', 'geographical', 'cultural', 'and', 'later', 'religious', 'identifier', 'for', 'people', 'living', 'in', 'the', 'Indian', 'historical', 'meaning', 'of', 'the', 'term', 'Hindu', 'has', 'evolved', 'with', 'time', 'Starting', 'with', 'the', 'Persian', 'and', 'Greek', 'references', 'to', 'the', 'land', 'of', 'the', 'Indus', 'in', 'the', 'millennium', 'BCE', 'through', 'the', 'texts', 'of', 'the', 'medieval', 'era', 'the', 'term', 'Hindu', 'implied', 'a', 'geographic', 'ethnic', 'or', 'cultural', 'identifier', 'for', 'people', 'living', 'in', 'the', 'Indian', 'subcontinent', 'around', 'or', 'beyond', 'the', 'Sindhu', 'Indus', 'River', 'By', 'the', 'century', 'CE', 'the', 'term', 'began', 'to', 'refer', 'to', 'residents', 'of', 'the', 'subcontinent', 'who', 'were', 'not', 'Turkic', 'or', 'Muslims', 'In', 'DN', 'Jha', 's', 'essay', 'Looking', 'for', 'a', 'Hindu', 'identity', 'he', 'writes', 'No', 'Indians', 'described', 'themselves', 'as', 'Hindus', 'before', 'the', 'fourteenth', 'century', 'and', 'Hinduism', 'was', 'a', 'creation', 'of', 'the', 'colonial', 'period', 'and', 'can', 'not', 'lay', 'claim', 'to', 'any', 'great', 'antiquity', 'He', 'further', 'wrote', 'The', 'British', 'borrowed', 'the', 'word', 'Hindu', 'from', 'India', 'gave', 'it', 'a', 'new', 'meaning', 'and', 'significance', 'and', 'reimported', 'it', 'into', 'India', 'as', 'a', 'reified', 'phenomenon', 'called', 'In', 'the', 'century', 'the', 'European', 'merchants', 'and', 'colonists', 'began', 'to', 'refer', 'to', 'the', 'followers', 'of', 'Indian', 'religions', 'collectively', 'as', 'Hindus', 'Hindoo', 'is', 'an', 'archaic', 'spelling', 'variant', 'whose', 'use', 'today', 'may', 'be', 'considered', 'historical', 'development', 'of', 'Hindu', 'within', 'the', 'local', 'Indian', 'population', 'in', 'a', 'religious', 'or', 'cultural', 'sense', 'is', 'unclear', 'Competing', 'theories', 'state', 'that', 'Hindu', 'identity', 'developed', 'in', 'the', 'British', 'colonial', 'era', 'or', 'that', 'it', 'may', 'have', 'developed', 'century', 'CE', 'after', 'the', 'Muslim', 'invasions', 'and', 'medieval', 'wars', 'A', 'sense', 'of', 'Hindu', 'identity', 'and', 'the', 'term', 'Hindu', 'appears', 'in', 'some', 'texts', 'dated', 'between', 'the', 'and', 'century', 'in', 'Sanskrit', 'and', 'Bengali', 'The', 'and', 'Indian', 'poets', 'such', 'as', 'Vidyapati', 'Kabir', 'and', 'Eknath', 'used', 'the', 'phrase', 'Hindu', 'dharma', 'Hinduism', 'and', 'contrasted', 'it', 'with', 'Turaka', 'dharma', 'Islam']\n"
     ]
    }
   ],
   "source": [
    "def remove_punctuation_marks(tokens):\n",
    "    return [tok for tok in tokens if tok.isalpha()]\n",
    "\n",
    "print(remove_punctuation_marks(tokens))"
   ]
  },
  {
   "cell_type": "markdown",
   "metadata": {
    "id": "tGBU6CAMOu79"
   },
   "source": [
    "## New counting results with the removal of punctuations and digits."
   ]
  },
  {
   "cell_type": "code",
   "execution_count": 89,
   "metadata": {
    "ExecuteTime": {
     "end_time": "2019-06-15T12:01:24.594658Z",
     "start_time": "2019-06-15T12:01:24.590429Z"
    },
    "colab": {
     "base_uri": "https://localhost:8080/"
    },
    "executionInfo": {
     "elapsed": 450,
     "status": "ok",
     "timestamp": 1619878276957,
     "user": {
      "displayName": "JILUNG",
      "photoUrl": "https://lh3.googleusercontent.com/a-/AOh14Gg6zj7prBu9I41dXrwQwaD6D0pMAipXePNpoU-MZ30=s64",
      "userId": "08765716966079614016"
     },
     "user_tz": -480
    },
    "id": "gaediR6cOu79",
    "outputId": "e7a4ce6e-97fb-4a19-aff2-bcfe475b75f3"
   },
   "outputs": [
    {
     "name": "stdout",
     "output_type": "stream",
     "text": [
      "the\t27\n",
      "and\t14\n",
      "of\t9\n",
      "Hindu\t9\n",
      "to\t7\n",
      "a\t7\n",
      "in\t7\n",
      "as\t6\n",
      "or\t6\n",
      "term\t5\n"
     ]
    }
   ],
   "source": [
    "tokens = remove_punctuation_marks(tokens)\n",
    "word_count = Counter(tokens)\n",
    "\n",
    "for w, c in word_count.most_common(10):\n",
    "    print(\"%s\\t%d\" % (w, c))\n",
    "    "
   ]
  },
  {
   "cell_type": "markdown",
   "metadata": {
    "id": "Hvu-5L3KOu7-"
   },
   "source": [
    "## Stopword Removal\n",
    "\n",
    "Load an English stopword list from NTLK."
   ]
  },
  {
   "cell_type": "code",
   "execution_count": 90,
   "metadata": {
    "ExecuteTime": {
     "end_time": "2019-06-15T12:01:46.636862Z",
     "start_time": "2019-06-15T12:01:45.889642Z"
    },
    "colab": {
     "base_uri": "https://localhost:8080/"
    },
    "executionInfo": {
     "elapsed": 766,
     "status": "ok",
     "timestamp": 1619880982215,
     "user": {
      "displayName": "JILUNG",
      "photoUrl": "https://lh3.googleusercontent.com/a-/AOh14Gg6zj7prBu9I41dXrwQwaD6D0pMAipXePNpoU-MZ30=s64",
      "userId": "08765716966079614016"
     },
     "user_tz": -480
    },
    "id": "3TzkRVb5Ou7-",
    "outputId": "3a826afe-9e75-457d-9162-cf9adeeebfdb"
   },
   "outputs": [
    {
     "name": "stdout",
     "output_type": "stream",
     "text": [
      "['i', 'me', 'my', 'myself', 'we', 'our', 'ours', 'ourselves', 'you', \"you're\", \"you've\", \"you'll\", \"you'd\", 'your', 'yours', 'yourself', 'yourselves', 'he', 'him', 'his', 'himself', 'she', \"she's\", 'her', 'hers', 'herself', 'it', \"it's\", 'its', 'itself', 'they', 'them', 'their', 'theirs', 'themselves', 'what', 'which', 'who', 'whom', 'this', 'that', \"that'll\", 'these', 'those', 'am', 'is', 'are', 'was', 'were', 'be', 'been', 'being', 'have', 'has', 'had', 'having', 'do', 'does', 'did', 'doing', 'a', 'an', 'the', 'and', 'but', 'if', 'or', 'because', 'as', 'until', 'while', 'of', 'at', 'by', 'for', 'with', 'about', 'against', 'between', 'into', 'through', 'during', 'before', 'after', 'above', 'below', 'to', 'from', 'up', 'down', 'in', 'out', 'on', 'off', 'over', 'under', 'again', 'further', 'then', 'once', 'here', 'there', 'when', 'where', 'why', 'how', 'all', 'any', 'both', 'each', 'few', 'more', 'most', 'other', 'some', 'such', 'no', 'nor', 'not', 'only', 'own', 'same', 'so', 'than', 'too', 'very', 's', 't', 'can', 'will', 'just', 'don', \"don't\", 'should', \"should've\", 'now', 'd', 'll', 'm', 'o', 're', 've', 'y', 'ain', 'aren', \"aren't\", 'couldn', \"couldn't\", 'didn', \"didn't\", 'doesn', \"doesn't\", 'hadn', \"hadn't\", 'hasn', \"hasn't\", 'haven', \"haven't\", 'isn', \"isn't\", 'ma', 'mightn', \"mightn't\", 'mustn', \"mustn't\", 'needn', \"needn't\", 'shan', \"shan't\", 'shouldn', \"shouldn't\", 'wasn', \"wasn't\", 'weren', \"weren't\", 'won', \"won't\", 'wouldn', \"wouldn't\"]\n",
      "Hindu\t9\n",
      "term\t5\n",
      "Indian\t5\n",
      "century\t5\n",
      "Hindus\t3\n",
      "Hinduism\t3\n",
      "cultural\t3\n",
      "identity\t3\n",
      "used\t2\n",
      "religious\t2\n",
      "identifier\t2\n",
      "people\t2\n",
      "living\t2\n",
      "historical\t2\n",
      "meaning\t2\n",
      "Indus\t2\n",
      "texts\t2\n",
      "medieval\t2\n",
      "era\t2\n",
      "subcontinent\t2\n"
     ]
    },
    {
     "name": "stderr",
     "output_type": "stream",
     "text": [
      "[nltk_data] Downloading package stopwords to\n",
      "[nltk_data]     C:\\Users\\user/nltk_data...\n",
      "[nltk_data]   Package stopwords is already up-to-date!\n"
     ]
    }
   ],
   "source": [
    "# 一定要看看自己移掉那些東西: 全是小寫，所有格、肯定否定字也全都被涵蓋了\n",
    "\n",
    "import nltk\n",
    "from nltk.corpus import stopwords\n",
    "nltk.download('stopwords')\n",
    "stopword_list = stopwords.words('english')\n",
    "print(stopword_list)\n",
    "\n",
    "clean_tokens = []\n",
    "for tok in tokens:\n",
    "    if tok not in string.punctuation:\n",
    "        if tok.lower() not in stopword_list:\n",
    "            clean_tokens.append(tok)\n",
    "\n",
    "word_count = Counter(clean_tokens)\n",
    "for w, c in word_count.most_common(20):\n",
    "    print(\"%s\\t%d\" % (w, c))"
   ]
  },
  {
   "cell_type": "markdown",
   "metadata": {
    "id": "tVngM8NKOu7-"
   },
   "source": [
    "## Remove stopwords from the tokens."
   ]
  },
  {
   "cell_type": "code",
   "execution_count": 91,
   "metadata": {
    "ExecuteTime": {
     "end_time": "2019-06-15T12:01:54.970278Z",
     "start_time": "2019-06-15T12:01:54.964978Z"
    },
    "colab": {
     "base_uri": "https://localhost:8080/"
    },
    "executionInfo": {
     "elapsed": 645,
     "status": "ok",
     "timestamp": 1619880985316,
     "user": {
      "displayName": "JILUNG",
      "photoUrl": "https://lh3.googleusercontent.com/a-/AOh14Gg6zj7prBu9I41dXrwQwaD6D0pMAipXePNpoU-MZ30=s64",
      "userId": "08765716966079614016"
     },
     "user_tz": -480
    },
    "id": "T7PADsqZOu7-",
    "outputId": "7f644a93-2722-4bcf-f178-6a9d72e206b5"
   },
   "outputs": [
    {
     "name": "stdout",
     "output_type": "stream",
     "text": [
      "['Hindus', 'Hindustani', 'ˈɦɪndu', 'listen', 'persons', 'regard', 'culturally', 'ethnically', 'religiously', 'adhering', 'aspects', 'Hinduism', 'Historically', 'term', 'also', 'used', 'geographical', 'cultural', 'later', 'religious', 'identifier', 'people', 'living', 'Indian', 'historical', 'meaning', 'term', 'Hindu', 'evolved', 'time', 'Starting', 'Persian', 'Greek', 'references', 'land', 'Indus', 'millennium', 'BCE', 'texts', 'medieval', 'era', 'term', 'Hindu', 'implied', 'geographic', 'ethnic', 'cultural', 'identifier', 'people', 'living', 'Indian', 'subcontinent', 'around', 'beyond', 'Sindhu', 'Indus', 'River', 'By', 'century', 'CE', 'term', 'began', 'refer', 'residents', 'subcontinent', 'Turkic', 'Muslims', 'In', 'DN', 'Jha', 'essay', 'Looking', 'Hindu', 'identity', 'writes', 'No', 'Indians', 'described', 'Hindus', 'fourteenth', 'century', 'Hinduism', 'creation', 'colonial', 'period', 'lay', 'claim', 'great', 'antiquity', 'He', 'wrote', 'The', 'British', 'borrowed', 'word', 'Hindu', 'India', 'gave', 'new', 'meaning', 'significance', 'reimported', 'India', 'reified', 'phenomenon', 'called', 'In', 'century', 'European', 'merchants', 'colonists', 'began', 'refer', 'followers', 'Indian', 'religions', 'collectively', 'Hindus', 'Hindoo', 'archaic', 'spelling', 'variant', 'whose', 'use', 'today', 'may', 'considered', 'historical', 'development', 'Hindu', 'within', 'local', 'Indian', 'population', 'religious', 'cultural', 'sense', 'unclear', 'Competing', 'theories', 'state', 'Hindu', 'identity', 'developed', 'British', 'colonial', 'era', 'may', 'developed', 'century', 'CE', 'Muslim', 'invasions', 'medieval', 'wars', 'A', 'sense', 'Hindu', 'identity', 'term', 'Hindu', 'appears', 'texts', 'dated', 'century', 'Sanskrit', 'Bengali', 'The', 'Indian', 'poets', 'Vidyapati', 'Kabir', 'Eknath', 'used', 'phrase', 'Hindu', 'dharma', 'Hinduism', 'contrasted', 'Turaka', 'dharma', 'Islam']\n"
     ]
    }
   ],
   "source": [
    "def remove_stopwords(tokens):\n",
    "    tokens_clean = []\n",
    "    for tok in tokens:\n",
    "        if tok not in stopword_list:\n",
    "            tokens_clean.append(tok)\n",
    "    return tokens_clean\n",
    "\n",
    "print(remove_stopwords(remove_punctuation_marks(tokens)))"
   ]
  },
  {
   "cell_type": "markdown",
   "metadata": {
    "id": "VrdtkkZhOu7-"
   },
   "source": [
    "# Handle Capitalization in English"
   ]
  },
  {
   "cell_type": "markdown",
   "metadata": {
    "id": "ocTxcmMNOu7-"
   },
   "source": [
    "## Solution 1: Converting all characters to lowercase. "
   ]
  },
  {
   "cell_type": "code",
   "execution_count": 92,
   "metadata": {
    "ExecuteTime": {
     "end_time": "2019-06-15T12:02:09.911982Z",
     "start_time": "2019-06-15T12:02:09.906382Z"
    },
    "colab": {
     "base_uri": "https://localhost:8080/"
    },
    "executionInfo": {
     "elapsed": 719,
     "status": "ok",
     "timestamp": 1619880988457,
     "user": {
      "displayName": "JILUNG",
      "photoUrl": "https://lh3.googleusercontent.com/a-/AOh14Gg6zj7prBu9I41dXrwQwaD6D0pMAipXePNpoU-MZ30=s64",
      "userId": "08765716966079614016"
     },
     "user_tz": -480
    },
    "id": "YbcYgNLvOu7_",
    "outputId": "5ef65c26-68c1-4da3-b55b-be3d720014f9"
   },
   "outputs": [
    {
     "name": "stdout",
     "output_type": "stream",
     "text": [
      "['hindus', 'hindustani', 'ˈɦɪndu', 'listen', 'persons', 'regard', 'culturally', 'ethnically', 'religiously', 'adhering', 'aspects', 'hinduism', 'historically', 'term', 'also', 'used', 'geographical', 'cultural', 'later', 'religious', 'identifier', 'people', 'living', 'indian', 'historical', 'meaning', 'term', 'hindu', 'evolved', 'time', 'starting', 'persian', 'greek', 'references', 'land', 'indus', 'millennium', 'bce', 'texts', 'medieval', 'era', 'term', 'hindu', 'implied', 'geographic', 'ethnic', 'cultural', 'identifier', 'people', 'living', 'indian', 'subcontinent', 'around', 'beyond', 'sindhu', 'indus', 'river', 'century', 'ce', 'term', 'began', 'refer', 'residents', 'subcontinent', 'turkic', 'muslims', 'dn', 'jha', 'essay', 'looking', 'hindu', 'identity', 'writes', 'indians', 'described', 'hindus', 'fourteenth', 'century', 'hinduism', 'creation', 'colonial', 'period', 'lay', 'claim', 'great', 'antiquity', 'wrote', 'british', 'borrowed', 'word', 'hindu', 'india', 'gave', 'new', 'meaning', 'significance', 'reimported', 'india', 'reified', 'phenomenon', 'called', 'century', 'european', 'merchants', 'colonists', 'began', 'refer', 'followers', 'indian', 'religions', 'collectively', 'hindus', 'hindoo', 'archaic', 'spelling', 'variant', 'whose', 'use', 'today', 'may', 'considered', 'historical', 'development', 'hindu', 'within', 'local', 'indian', 'population', 'religious', 'cultural', 'sense', 'unclear', 'competing', 'theories', 'state', 'hindu', 'identity', 'developed', 'british', 'colonial', 'era', 'may', 'developed', 'century', 'ce', 'muslim', 'invasions', 'medieval', 'wars', 'sense', 'hindu', 'identity', 'term', 'hindu', 'appears', 'texts', 'dated', 'century', 'sanskrit', 'bengali', 'indian', 'poets', 'vidyapati', 'kabir', 'eknath', 'used', 'phrase', 'hindu', 'dharma', 'hinduism', 'contrasted', 'turaka', 'dharma', 'islam']\n"
     ]
    }
   ],
   "source": [
    "def lowercase(tokens):\n",
    "    tokens_lower = []\n",
    "    for tok in tokens:\n",
    "        tokens_lower.append(tok.lower())\n",
    "    return tokens_lower\n",
    "\n",
    "print(remove_stopwords(lowercase(remove_punctuation_marks(tokens))))\n"
   ]
  },
  {
   "cell_type": "markdown",
   "metadata": {
    "id": "3j5M4_qyOu7_"
   },
   "source": [
    "## Solution 2: Maintain the capitalization."
   ]
  },
  {
   "cell_type": "code",
   "execution_count": 93,
   "metadata": {
    "ExecuteTime": {
     "end_time": "2019-06-15T12:02:25.460493Z",
     "start_time": "2019-06-15T12:02:25.454796Z"
    },
    "colab": {
     "base_uri": "https://localhost:8080/"
    },
    "executionInfo": {
     "elapsed": 645,
     "status": "ok",
     "timestamp": 1619880994711,
     "user": {
      "displayName": "JILUNG",
      "photoUrl": "https://lh3.googleusercontent.com/a-/AOh14Gg6zj7prBu9I41dXrwQwaD6D0pMAipXePNpoU-MZ30=s64",
      "userId": "08765716966079614016"
     },
     "user_tz": -480
    },
    "id": "nIj0X4_9Ou7_",
    "outputId": "8aba2583-0838-4a5a-ba50-8b06a858dd6a"
   },
   "outputs": [
    {
     "name": "stdout",
     "output_type": "stream",
     "text": [
      "['Hindus', 'Hindustani', 'ˈɦɪndu', 'listen', 'persons', 'regard', 'culturally', 'ethnically', 'religiously', 'adhering', 'aspects', 'Hinduism', 'Historically', 'term', 'also', 'used', 'geographical', 'cultural', 'later', 'religious', 'identifier', 'people', 'living', 'Indian', 'historical', 'meaning', 'term', 'Hindu', 'evolved', 'time', 'Starting', 'Persian', 'Greek', 'references', 'land', 'Indus', 'millennium', 'BCE', 'texts', 'medieval', 'era', 'term', 'Hindu', 'implied', 'geographic', 'ethnic', 'cultural', 'identifier', 'people', 'living', 'Indian', 'subcontinent', 'around', 'beyond', 'Sindhu', 'Indus', 'River', 'century', 'CE', 'term', 'began', 'refer', 'residents', 'subcontinent', 'Turkic', 'Muslims', 'DN', 'Jha', 'essay', 'Looking', 'Hindu', 'identity', 'writes', 'Indians', 'described', 'Hindus', 'fourteenth', 'century', 'Hinduism', 'creation', 'colonial', 'period', 'lay', 'claim', 'great', 'antiquity', 'wrote', 'British', 'borrowed', 'word', 'Hindu', 'India', 'gave', 'new', 'meaning', 'significance', 'reimported', 'India', 'reified', 'phenomenon', 'called', 'century', 'European', 'merchants', 'colonists', 'began', 'refer', 'followers', 'Indian', 'religions', 'collectively', 'Hindus', 'Hindoo', 'archaic', 'spelling', 'variant', 'whose', 'use', 'today', 'may', 'considered', 'historical', 'development', 'Hindu', 'within', 'local', 'Indian', 'population', 'religious', 'cultural', 'sense', 'unclear', 'Competing', 'theories', 'state', 'Hindu', 'identity', 'developed', 'British', 'colonial', 'era', 'may', 'developed', 'century', 'CE', 'Muslim', 'invasions', 'medieval', 'wars', 'sense', 'Hindu', 'identity', 'term', 'Hindu', 'appears', 'texts', 'dated', 'century', 'Sanskrit', 'Bengali', 'Indian', 'poets', 'Vidyapati', 'Kabir', 'Eknath', 'used', 'phrase', 'Hindu', 'dharma', 'Hinduism', 'contrasted', 'Turaka', 'dharma', 'Islam']\n"
     ]
    }
   ],
   "source": [
    "def remove_stopwords(tokens):\n",
    "    tokens_clean = [tok for tok in tokens if tok.lower() not in stopword_list]\n",
    "    # tokens_clean = []\n",
    "    # for tok in tokens:\n",
    "    #     if tok.lower() not in stopword_list:\n",
    "    #         tokens_clean.append(tok)\n",
    "    return tokens_clean\n",
    "print(remove_stopwords(remove_punctuation_marks(tokens)))"
   ]
  },
  {
   "cell_type": "markdown",
   "metadata": {
    "id": "sjCi51DtOu7_"
   },
   "source": [
    "\n",
    "## New counting results with the removal of stopwords."
   ]
  },
  {
   "cell_type": "code",
   "execution_count": 94,
   "metadata": {
    "ExecuteTime": {
     "end_time": "2019-06-15T12:04:59.666073Z",
     "start_time": "2019-06-15T12:04:59.660387Z"
    },
    "colab": {
     "base_uri": "https://localhost:8080/"
    },
    "executionInfo": {
     "elapsed": 701,
     "status": "ok",
     "timestamp": 1619880998395,
     "user": {
      "displayName": "JILUNG",
      "photoUrl": "https://lh3.googleusercontent.com/a-/AOh14Gg6zj7prBu9I41dXrwQwaD6D0pMAipXePNpoU-MZ30=s64",
      "userId": "08765716966079614016"
     },
     "user_tz": -480
    },
    "id": "VTF_mYBmOu8A",
    "outputId": "2c53c217-58b0-4769-d1c9-28e2dc945264"
   },
   "outputs": [
    {
     "name": "stdout",
     "output_type": "stream",
     "text": [
      "Hindu\t9\n",
      "term\t5\n",
      "Indian\t5\n",
      "century\t5\n",
      "Hindus\t3\n",
      "Hinduism\t3\n",
      "cultural\t3\n",
      "identity\t3\n",
      "used\t2\n",
      "religious\t2\n",
      "identifier\t2\n",
      "people\t2\n",
      "living\t2\n",
      "historical\t2\n",
      "meaning\t2\n",
      "Indus\t2\n",
      "texts\t2\n",
      "medieval\t2\n",
      "era\t2\n",
      "subcontinent\t2\n"
     ]
    }
   ],
   "source": [
    "word_count = Counter(remove_stopwords(remove_punctuation_marks(tokens)))\n",
    "\n",
    "for w, c in word_count.most_common(20):\n",
    "    print(\"%s\\t%d\" % (w, c))"
   ]
  },
  {
   "cell_type": "markdown",
   "metadata": {
    "id": "BpLT3Y7vOu8A"
   },
   "source": [
    "## Unicase results with the removal of stopwords."
   ]
  },
  {
   "cell_type": "code",
   "execution_count": 95,
   "metadata": {
    "ExecuteTime": {
     "end_time": "2019-06-15T12:05:09.418191Z",
     "start_time": "2019-06-15T12:05:09.411483Z"
    },
    "colab": {
     "base_uri": "https://localhost:8080/"
    },
    "executionInfo": {
     "elapsed": 735,
     "status": "ok",
     "timestamp": 1619881001849,
     "user": {
      "displayName": "JILUNG",
      "photoUrl": "https://lh3.googleusercontent.com/a-/AOh14Gg6zj7prBu9I41dXrwQwaD6D0pMAipXePNpoU-MZ30=s64",
      "userId": "08765716966079614016"
     },
     "user_tz": -480
    },
    "id": "GDaHtGWIOu8A",
    "outputId": "df7511d7-d52d-42de-bb0a-bb28808eb75e"
   },
   "outputs": [
    {
     "name": "stdout",
     "output_type": "stream",
     "text": [
      "hindu\t9\n",
      "term\t5\n",
      "indian\t5\n",
      "century\t5\n",
      "hindus\t3\n",
      "hinduism\t3\n",
      "cultural\t3\n",
      "identity\t3\n",
      "used\t2\n",
      "religious\t2\n",
      "identifier\t2\n",
      "people\t2\n",
      "living\t2\n",
      "historical\t2\n",
      "meaning\t2\n",
      "indus\t2\n",
      "texts\t2\n",
      "medieval\t2\n",
      "era\t2\n",
      "subcontinent\t2\n"
     ]
    }
   ],
   "source": [
    "word_count = Counter(remove_stopwords(lowercase(remove_punctuation_marks(tokens))))\n",
    "\n",
    "for w, c in word_count.most_common(20):\n",
    "    print(\"%s\\t%d\" % (w, c))"
   ]
  },
  {
   "cell_type": "markdown",
   "metadata": {
    "id": "Dn5p1pPwOu8A"
   },
   "source": [
    "# 詞幹提取 Stemming"
   ]
  },
  {
   "cell_type": "markdown",
   "metadata": {
    "id": "gU3EX0y0Ou8B"
   },
   "source": [
    "Stemming with Snowball algorithm implemented by NLTK.\n",
    "\n",
    "Reference: http://snowball.tartarus.org/texts/introduction.html"
   ]
  },
  {
   "cell_type": "code",
   "execution_count": 96,
   "metadata": {
    "ExecuteTime": {
     "end_time": "2019-06-15T12:06:01.751877Z",
     "start_time": "2019-06-15T12:06:01.739792Z"
    },
    "colab": {
     "base_uri": "https://localhost:8080/"
    },
    "executionInfo": {
     "elapsed": 639,
     "status": "ok",
     "timestamp": 1619881004906,
     "user": {
      "displayName": "JILUNG",
      "photoUrl": "https://lh3.googleusercontent.com/a-/AOh14Gg6zj7prBu9I41dXrwQwaD6D0pMAipXePNpoU-MZ30=s64",
      "userId": "08765716966079614016"
     },
     "user_tz": -480
    },
    "id": "diSMzMWfOu8B",
    "outputId": "44c5fb0a-349f-4a38-a822-5e106c79f19d"
   },
   "outputs": [
    {
     "name": "stdout",
     "output_type": "stream",
     "text": [
      "hindu\t9\n",
      "indian\t6\n",
      "term\t5\n",
      "centuri\t5\n",
      "cultur\t4\n",
      "hindus\t3\n",
      "religi\t3\n",
      "hinduism\t3\n",
      "histor\t3\n",
      "use\t3\n",
      "refer\t3\n",
      "ident\t3\n",
      "develop\t3\n",
      "ethnic\t2\n",
      "geograph\t2\n",
      "identifi\t2\n",
      "peopl\t2\n",
      "live\t2\n",
      "mean\t2\n",
      "indus\t2\n",
      "text\t2\n",
      "mediev\t2\n",
      "era\t2\n",
      "subcontin\t2\n",
      "ce\t2\n",
      "began\t2\n",
      "muslim\t2\n",
      "coloni\t2\n",
      "british\t2\n",
      "india\t2\n",
      "may\t2\n",
      "sens\t2\n",
      "dharma\t2\n",
      "hindustani\t1\n",
      "ˈɦɪndu\t1\n",
      "listen\t1\n",
      "person\t1\n",
      "regard\t1\n",
      "adher\t1\n",
      "aspect\t1\n",
      "also\t1\n",
      "later\t1\n",
      "evolv\t1\n",
      "time\t1\n",
      "start\t1\n",
      "persian\t1\n",
      "greek\t1\n",
      "land\t1\n",
      "millennium\t1\n",
      "bce\t1\n"
     ]
    }
   ],
   "source": [
    "from collections import Counter\n",
    "from nltk.tokenize import word_tokenize\n",
    "\n",
    "tokens = word_tokenize(text)\n",
    "tokens = [tok for tok in tokens if tok.isalpha()]\n",
    "tokens = [tok for tok in tokens if tok.lower() not in stopword_list]\n",
    "\n",
    "from nltk.stem.snowball import SnowballStemmer\n",
    "snowball_stemmer = SnowballStemmer(\"english\")\n",
    "\n",
    "stemmed_tokens = []\n",
    "for tok in tokens:\n",
    "    stemmed_tokens.append(snowball_stemmer.stem(tok))\n",
    "word_count = Counter(stemmed_tokens)\n",
    "\n",
    "for w, c in word_count.most_common(50):\n",
    "    print(\"%s\\t%d\" % (w, c))\n"
   ]
  },
  {
   "cell_type": "markdown",
   "metadata": {
    "id": "fMD4ias9Ou8B"
   },
   "source": [
    "# 詞型還原 Lemmatization\n",
    "\n",
    "Perform lemmatization with WordNet, a lexical ontology, via NLTK. This is a lazy version that does not require part-of-speech information given. "
   ]
  },
  {
   "cell_type": "code",
   "execution_count": 99,
   "metadata": {
    "ExecuteTime": {
     "end_time": "2019-06-15T12:06:37.782946Z",
     "start_time": "2019-06-15T12:06:37.776928Z"
    },
    "colab": {
     "base_uri": "https://localhost:8080/"
    },
    "executionInfo": {
     "elapsed": 782,
     "status": "ok",
     "timestamp": 1619881033052,
     "user": {
      "displayName": "JILUNG",
      "photoUrl": "https://lh3.googleusercontent.com/a-/AOh14Gg6zj7prBu9I41dXrwQwaD6D0pMAipXePNpoU-MZ30=s64",
      "userId": "08765716966079614016"
     },
     "user_tz": -480
    },
    "id": "4xUtOAqUOu8B",
    "outputId": "fe590dbb-abb8-403e-d35f-8426039e363a"
   },
   "outputs": [
    {
     "name": "stdout",
     "output_type": "stream",
     "text": [
      "Dogs\n",
      "dog\n",
      "hit\n"
     ]
    },
    {
     "name": "stderr",
     "output_type": "stream",
     "text": [
      "[nltk_data] Downloading package wordnet to C:\\Users\\user/nltk_data...\n",
      "[nltk_data]   Package wordnet is already up-to-date!\n"
     ]
    }
   ],
   "source": [
    "import nltk\n",
    "nltk.download('wordnet')\n",
    "from nltk.stem import WordNetLemmatizer\n",
    "# initialize the Lemmatizer\n",
    "wordnet_lemmatizer = WordNetLemmatizer()\n",
    "\n",
    "def lemmatize(token):\n",
    "    # ADJ (a), ADJ_SAT (s), ADV (r), NOUN (n) or VERB (v)\n",
    "    for p in ['v', 'n', 'a', 'r', 's']:\n",
    "        l = wordnet_lemmatizer.lemmatize(token, pos=p)\n",
    "        if l != token:\n",
    "            return l\n",
    "    return token\n",
    "\n",
    "print(lemmatize('Dogs'))\n",
    "print(lemmatize('dogs'))\n",
    "print(lemmatize('hits'))"
   ]
  },
  {
   "cell_type": "markdown",
   "metadata": {
    "id": "KuQoC5OtOu8C"
   },
   "source": [
    "## Show the differences between stemming and lemmatization."
   ]
  },
  {
   "cell_type": "code",
   "execution_count": 100,
   "metadata": {
    "ExecuteTime": {
     "end_time": "2019-06-15T12:06:50.981542Z",
     "start_time": "2019-06-15T12:06:50.971410Z"
    },
    "colab": {
     "base_uri": "https://localhost:8080/"
    },
    "executionInfo": {
     "elapsed": 860,
     "status": "ok",
     "timestamp": 1619881040807,
     "user": {
      "displayName": "JILUNG",
      "photoUrl": "https://lh3.googleusercontent.com/a-/AOh14Gg6zj7prBu9I41dXrwQwaD6D0pMAipXePNpoU-MZ30=s64",
      "userId": "08765716966079614016"
     },
     "user_tz": -480
    },
    "id": "VEszqVbcOu8C",
    "outputId": "e2d01d09-50a2-4aad-de04-a89184628052"
   },
   "outputs": [
    {
     "name": "stdout",
     "output_type": "stream",
     "text": [
      "open\topen\topen\n",
      "opens\topen\topen\n",
      "opened\topen\topen\n",
      "opening\topen\topen\n",
      "unopened\tunopen\tunopened\n",
      "talk\ttalk\ttalk\n",
      "talks\ttalk\ttalk\n",
      "talked\ttalk\ttalk\n",
      "talking\ttalk\ttalk\n",
      "decompose\tdecompos\tdecompose\n",
      "decomposes\tdecompos\tdecompose\n",
      "decomposed\tdecompos\tdecompose\n",
      "decomposing\tdecompos\tdecompose\n",
      "do\tdo\tdo\n",
      "does\tdoe\tdo\n",
      "did\tdid\tdo\n",
      "wrote\twrote\twrite\n",
      "written\twritten\twrite\n",
      "ran\tran\trun\n",
      "gave\tgave\tgive\n",
      "held\theld\thold\n",
      "went\twent\tgo\n",
      "gone\tgone\tgo\n",
      "lied\tlie\tlie\n",
      "lies\tlie\tlie\n",
      "lay\tlay\tlay\n",
      "lain\tlain\tlie\n",
      "lying\tlie\tlie\n",
      "cats\tcat\tcat\n",
      "people\tpeopl\tpeople\n",
      "feet\tfeet\tfoot\n",
      "women\twomen\twoman\n",
      "smoothly\tsmooth\tsmoothly\n",
      "firstly\tfirst\tfirstly\n",
      "secondly\tsecond\tsecondly\n",
      "install\tinstal\tinstall\n",
      "installed\tinstal\tinstal\n",
      "uninstall\tuninstal\tuninstall\n",
      "internalization\tintern\tinternalization\n",
      "internationalization\tinternation\tinternationalization\n",
      "decontextualization\tdecontextu\tdecontextualization\n",
      "decontextualized\tdecontextu\tdecontextualized\n",
      "decentralization\tdecentr\tdecentralization\n",
      "decentralized\tdecentr\tdecentralize\n"
     ]
    }
   ],
   "source": [
    "# Lemmatization 比 Stemming 效果好\n",
    "\n",
    "for w in [\n",
    "    'open', 'opens', 'opened', 'opening', 'unopened',\n",
    "    'talk', 'talks', 'talked', 'talking',\n",
    "    'decompose', 'decomposes', 'decomposed', 'decomposing',\n",
    "    'do', 'does', 'did', \n",
    "    'wrote', 'written', 'ran', 'gave', 'held', 'went', 'gone',\n",
    "    'lied', 'lies', 'lay', 'lain', 'lying', \n",
    "    'cats', 'people', 'feet', 'women', 'smoothly', 'firstly', 'secondly', \n",
    "    'install', 'installed', 'uninstall',\n",
    "    'internalization', 'internationalization',\n",
    "    'decontextualization', 'decontextualized', 'decentralization', 'decentralized']:\n",
    "    s = snowball_stemmer.stem(w)\n",
    "    l = lemmatize(w)\n",
    "    # if s != l:\n",
    "    print(\"%s\\t%s\\t%s\" % (w, s, l))"
   ]
  },
  {
   "cell_type": "markdown",
   "metadata": {
    "id": "7fhSvmDvOu8C"
   },
   "source": [
    "## New counting results with lemmatization. "
   ]
  },
  {
   "cell_type": "code",
   "execution_count": 101,
   "metadata": {
    "ExecuteTime": {
     "end_time": "2019-06-15T12:15:40.305964Z",
     "start_time": "2019-06-15T12:15:40.293460Z"
    },
    "colab": {
     "base_uri": "https://localhost:8080/"
    },
    "executionInfo": {
     "elapsed": 791,
     "status": "ok",
     "timestamp": 1619881046827,
     "user": {
      "displayName": "JILUNG",
      "photoUrl": "https://lh3.googleusercontent.com/a-/AOh14Gg6zj7prBu9I41dXrwQwaD6D0pMAipXePNpoU-MZ30=s64",
      "userId": "08765716966079614016"
     },
     "user_tz": -480
    },
    "id": "V_LcOrIgOu8C",
    "outputId": "4c6fabfa-f4f2-4b59-e311-3c66b6cc10a1"
   },
   "outputs": [
    {
     "name": "stdout",
     "output_type": "stream",
     "text": [
      "Hindu\t9\n",
      "term\t5\n",
      "Indian\t5\n",
      "century\t5\n",
      "Hindus\t3\n",
      "Hinduism\t3\n",
      "use\t3\n",
      "cultural\t3\n",
      "identity\t3\n",
      "religious\t2\n",
      "identifier\t2\n",
      "people\t2\n",
      "live\t2\n",
      "historical\t2\n",
      "mean\t2\n",
      "Indus\t2\n",
      "text\t2\n",
      "medieval\t2\n",
      "era\t2\n",
      "subcontinent\t2\n",
      "CE\t2\n",
      "begin\t2\n",
      "refer\t2\n",
      "write\t2\n",
      "colonial\t2\n",
      "British\t2\n",
      "India\t2\n",
      "may\t2\n",
      "sense\t2\n",
      "develop\t2\n",
      "dharma\t2\n",
      "Hindustani\t1\n",
      "ˈɦɪndu\t1\n",
      "listen\t1\n",
      "person\t1\n",
      "regard\t1\n",
      "culturally\t1\n",
      "ethnically\t1\n",
      "religiously\t1\n",
      "adhere\t1\n",
      "aspect\t1\n",
      "Historically\t1\n",
      "also\t1\n",
      "geographical\t1\n",
      "late\t1\n",
      "evolve\t1\n",
      "time\t1\n",
      "Starting\t1\n",
      "Persian\t1\n",
      "Greek\t1\n"
     ]
    }
   ],
   "source": [
    "from collections import Counter\n",
    "from nltk.tokenize import word_tokenize\n",
    "\n",
    "tokens = word_tokenize(text)\n",
    "tokens = [tok for tok in tokens if tok.isalpha()]\n",
    "tokens = [tok for tok in tokens if tok.lower() not in stopword_list]\n",
    "\n",
    "lemmatized_tokens = []\n",
    "for tok in tokens:\n",
    "    lemmatized_tokens.append(lemmatize(tok))\n",
    "word_count = Counter(lemmatized_tokens)\n",
    "\n",
    "for w, c in word_count.most_common(50):\n",
    "    print(\"%s\\t%d\" % (w, c))"
   ]
  },
  {
   "cell_type": "markdown",
   "metadata": {
    "id": "lYJTQZ0NOu8C"
   },
   "source": [
    "# Applications: Genearte data for WordCloud rendering. \n",
    "\n",
    "https://www.jasondavies.com/wordcloud/"
   ]
  },
  {
   "cell_type": "code",
   "execution_count": 102,
   "metadata": {
    "colab": {
     "base_uri": "https://localhost:8080/"
    },
    "executionInfo": {
     "elapsed": 672,
     "status": "ok",
     "timestamp": 1619881050981,
     "user": {
      "displayName": "JILUNG",
      "photoUrl": "https://lh3.googleusercontent.com/a-/AOh14Gg6zj7prBu9I41dXrwQwaD6D0pMAipXePNpoU-MZ30=s64",
      "userId": "08765716966079614016"
     },
     "user_tz": -480
    },
    "id": "JqPj9gk4Ou8C",
    "outputId": "3cca606e-0fe5-44bc-c19d-d81305b09841"
   },
   "outputs": [
    {
     "name": "stdout",
     "output_type": "stream",
     "text": [
      "Hindu Hindu Hindu Hindu Hindu Hindu Hindu Hindu Hindu term term term term term Indian Indian Indian Indian Indian century century century century century Hindus Hindus Hindus Hinduism Hinduism Hinduism use use use cultural cultural cultural identity identity identity religious religious identifier identifier people people live live historical historical mean mean Indus Indus text text medieval medieval era era subcontinent subcontinent CE CE begin begin refer refer write write colonial colonial British British India India may may sense sense develop develop dharma dharma Hindustani ˈɦɪndu listen person regard culturally ethnically religiously adhere aspect Historically also geographical late evolve time Starting Persian Greek reference land millennium BCE imply geographic ethnic around beyond Sindhu River resident Turkic Muslims DN Jha essay Looking Indians describe fourteenth creation period lay claim great antiquity borrow word give new significance reimported reify phenomenon call European merchant colonist follower religion collectively Hindoo archaic spell variant whose today consider development within local population unclear Competing theory state Muslim invasion war appear date Sanskrit Bengali poet Vidyapati Kabir Eknath phrase contrast Turaka Islam\n"
     ]
    }
   ],
   "source": [
    "repeated_tokens = []\n",
    "for w, c in word_count.most_common():\n",
    "    for i in range(c):\n",
    "        repeated_tokens.append(w) # 這個字出現幾次就印幾次\n",
    "print(\" \".join(repeated_tokens)) # 把 repeated_tokens join 成一個空白分隔的文章"
   ]
  }
 ],
 "metadata": {
  "celltoolbar": "Slideshow",
  "colab": {
   "collapsed_sections": [],
   "name": "TM01_tokenization.ipynb",
   "provenance": [],
   "toc_visible": true
  },
  "kernelspec": {
   "display_name": "Python 3 (ipykernel)",
   "language": "python",
   "name": "python3"
  },
  "language_info": {
   "codemirror_mode": {
    "name": "ipython",
    "version": 3
   },
   "file_extension": ".py",
   "mimetype": "text/x-python",
   "name": "python",
   "nbconvert_exporter": "python",
   "pygments_lexer": "ipython3",
   "version": "3.8.12"
  },
  "toc": {
   "base_numbering": 1,
   "nav_menu": {},
   "number_sections": true,
   "sideBar": true,
   "skip_h1_title": false,
   "title_cell": "Table of Contents",
   "title_sidebar": "Contents",
   "toc_cell": false,
   "toc_position": {
    "height": "calc(100% - 180px)",
    "left": "10px",
    "top": "150px",
    "width": "237px"
   },
   "toc_section_display": true,
   "toc_window_display": true
  }
 },
 "nbformat": 4,
 "nbformat_minor": 4
}
