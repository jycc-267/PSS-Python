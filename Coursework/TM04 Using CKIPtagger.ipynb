{
 "cells": [
  {
   "cell_type": "markdown",
   "metadata": {},
   "source": [
    "# CKIP tagger\n",
    "\n",
    "github repo of CKIPtagger - https://github.com/ckiplab/ckiptagger\n",
    "\n",
    "# Installation\n",
    "1. Install tensorflow: https://www.tensorflow.org/install/pip\n",
    "2. Install CKIPtagger: Back to CKIPtagger repo https://github.com/ckiplab/ckiptagger\n",
    "3. Download model (see the links in ckiptagger repo page) > the fastest one [iis-ckip](http://ckip.iis.sinica.edu.tw/data/ckiptagger/data.zip)"
   ]
  },
  {
   "cell_type": "code",
   "execution_count": 2,
   "metadata": {},
   "outputs": [],
   "source": [
    "from ckiptagger import data_utils, construct_dictionary, WS, POS, NER"
   ]
  },
  {
   "cell_type": "markdown",
   "metadata": {},
   "source": [
    "# Load model\n",
    "\n",
    "**To use GPU:**\n",
    "1. Install tensorflow (see Installation)\n",
    "`pip install --upgrade tensorflow==1.15`\n",
    "2. Set CUDA_VISIBLE_DEVICES environment variable, e.g. os.environ[\"CUDA_VISIBLE_DEVICES\"] = \"0\"\n",
    "3. Set disable_cuda=False, e.g. ws = WS(\"./data\", disable_cuda=False)\n",
    "\n",
    "**To use CPU: **\n",
    "ws = WS(\"./data\")\n",
    "pos = POS(\"./data\")\n",
    "ner = NER(\"./data\")\n",
    "```"
   ]
  },
  {
   "cell_type": "code",
   "execution_count": 4,
   "metadata": {},
   "outputs": [
    {
     "data": {
      "text/plain": [
       "['home',\n",
       " 'usr',\n",
       " '.DS_Store',\n",
       " 'bin',\n",
       " 'Preboot',\n",
       " 'sbin',\n",
       " '.file',\n",
       " 'etc',\n",
       " 'var',\n",
       " 'Library',\n",
       " 'System',\n",
       " '.VolumeIcon.icns',\n",
       " '.fseventsd',\n",
       " 'private',\n",
       " '.vol',\n",
       " 'Users',\n",
       " 'Applications',\n",
       " 'opt',\n",
       " 'dev',\n",
       " 'Volumes',\n",
       " 'tmp',\n",
       " 'cores']"
      ]
     },
     "execution_count": 4,
     "metadata": {},
     "output_type": "execute_result"
    }
   ],
   "source": [
    "import os\n",
    "os.listdir(\"/\")"
   ]
  },
  {
   "cell_type": "code",
   "execution_count": null,
   "metadata": {},
   "outputs": [],
   "source": [
    "ws = WS(\"/Users/jirlong/Downloads/python/data\")"
   ]
  },
  {
   "cell_type": "code",
   "execution_count": null,
   "metadata": {},
   "outputs": [],
   "source": [
    "# very slow without GPU\n",
    "pos = POS(\"/Users/jirlong/Downloads/python/data\")\n",
    "ner = NER(\"/Users/jirlong/Downloads/python/data\")"
   ]
  }
 ],
 "metadata": {
  "kernelspec": {
   "display_name": "Python 3",
   "language": "python",
   "name": "python3"
  },
  "language_info": {
   "codemirror_mode": {
    "name": "ipython",
    "version": 3
   },
   "file_extension": ".py",
   "mimetype": "text/x-python",
   "name": "python",
   "nbconvert_exporter": "python",
   "pygments_lexer": "ipython3",
   "version": "3.7.6"
  },
  "toc": {
   "base_numbering": 1,
   "nav_menu": {},
   "number_sections": true,
   "sideBar": true,
   "skip_h1_title": false,
   "title_cell": "Table of Contents",
   "title_sidebar": "Contents",
   "toc_cell": false,
   "toc_position": {},
   "toc_section_display": true,
   "toc_window_display": true
  },
  "varInspector": {
   "cols": {
    "lenName": 16,
    "lenType": 16,
    "lenVar": 40
   },
   "kernels_config": {
    "python": {
     "delete_cmd_postfix": "",
     "delete_cmd_prefix": "del ",
     "library": "var_list.py",
     "varRefreshCmd": "print(var_dic_list())"
    },
    "r": {
     "delete_cmd_postfix": ") ",
     "delete_cmd_prefix": "rm(",
     "library": "var_list.r",
     "varRefreshCmd": "cat(var_dic_list()) "
    }
   },
   "types_to_exclude": [
    "module",
    "function",
    "builtin_function_or_method",
    "instance",
    "_Feature"
   ],
   "window_display": false
  }
 },
 "nbformat": 4,
 "nbformat_minor": 4
}
