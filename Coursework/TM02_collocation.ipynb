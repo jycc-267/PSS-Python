{
 "cells": [
  {
   "cell_type": "markdown",
   "metadata": {
    "id": "K5D8D2Ww45Vg"
   },
   "source": [
    "# Collocation"
   ]
  },
  {
   "cell_type": "markdown",
   "metadata": {
    "id": "jJWj1nQR45Vm"
   },
   "source": [
    "# Data Preparation\n",
    "\n",
    "## Loading data\n",
    "\n",
    "本單元將依照政大資科黃瀚萱老師的教材建議採用一個較長文本《共產黨宣言（The Communist Manifesto）》來介紹Collocation，並測試能否找到一些該文本的特徵。該文件可由Project Gutenberg免費電子書處下載，你也可以下載其他的英文書籍來做測試，以觀察文本間的差異。"
   ]
  },
  {
   "cell_type": "code",
   "execution_count": 1,
   "metadata": {
    "colab": {
     "base_uri": "https://localhost:8080/"
    },
    "id": "gSrAf6G645Vn",
    "outputId": "1d84fcb7-df88-4a98-c38c-30889bd7073a"
   },
   "outputs": [
    {
     "name": "stdout",
     "output_type": "stream",
     "text": [
      "Number of characters: 75346\n"
     ]
    }
   ],
   "source": [
    "# using colab\n",
    "# !wget https://raw.githubusercontent.com/P4CSS/PSS/master/data/corpus02.txt -O corpus02.txt\n",
    "with open(\"data/corpus02.txt\", encoding=\"utf8\") as fin:\n",
    "    text = fin.read()\n",
    "print(\"Number of characters: %d\" % len(text))"
   ]
  },
  {
   "cell_type": "code",
   "execution_count": 4,
   "metadata": {
    "colab": {
     "base_uri": "https://localhost:8080/",
     "height": 219
    },
    "id": "o5v4NXSF45Vn",
    "outputId": "74df4ba5-b165-4335-e3b1-409c1a9b16b4"
   },
   "outputs": [
    {
     "name": "stdout",
     "output_type": "stream",
     "text": [
      "Number of characters: 75346\n",
      "<class '_io.TextIOWrapper'>\n",
      "<class 'str'>\n"
     ]
    }
   ],
   "source": [
    "# github + jupyterlab\n",
    "with open(\"data/corpus02.txt\", encoding=\"utf8\") as fin:\n",
    "    text = fin.read()\n",
    "print(\"Number of characters: %d\" % len(text))\n",
    "print(type(fin)) # io. file input output\n",
    "print(type(text))"
   ]
  },
  {
   "cell_type": "markdown",
   "metadata": {
    "id": "7-uGy5D-45Vo"
   },
   "source": [
    "## Fundamental text processing"
   ]
  },
  {
   "cell_type": "code",
   "execution_count": 7,
   "metadata": {
    "id": "YtxTleLR45Vp"
   },
   "outputs": [
    {
     "name": "stdout",
     "output_type": "stream",
     "text": [
      "Number of tokens: 11781\n"
     ]
    }
   ],
   "source": [
    "import nltk\n",
    "# nltk.download('punkt')\n",
    "\n",
    "from nltk.tokenize import word_tokenize\n",
    "# from nltk.corpus import stopwords\n",
    "# stopword_list = stopwords.words('english')\n",
    "\n",
    "raw_tokens = word_tokenize(text)\n",
    "# tokens = []\n",
    "# for token in raw_tokens:\n",
    "#     if token.isalpha():\n",
    "# #         if token.lower() not in stopword_list: \n",
    "#         tokens.append(token.lower())\n",
    "\n",
    "tokens = [token.lower() for token in raw_tokens if token.isalpha()]\n",
    "print(\"Number of tokens: %d\" % len(tokens))"
   ]
  },
  {
   "cell_type": "code",
   "execution_count": 8,
   "metadata": {
    "id": "MljpbRhM45Vp"
   },
   "outputs": [
    {
     "data": {
      "text/plain": [
       "['manifesto',\n",
       " 'of',\n",
       " 'the',\n",
       " 'communist',\n",
       " 'party',\n",
       " 'by',\n",
       " 'karl',\n",
       " 'marx',\n",
       " 'and',\n",
       " 'frederick',\n",
       " 'engels',\n",
       " 'a',\n",
       " 'specter',\n",
       " 'is',\n",
       " 'haunting',\n",
       " 'europe',\n",
       " 'the',\n",
       " 'specter',\n",
       " 'of',\n",
       " 'communism']"
      ]
     },
     "execution_count": 8,
     "metadata": {},
     "output_type": "execute_result"
    }
   ],
   "source": [
    "tokens[:20]"
   ]
  },
  {
   "cell_type": "markdown",
   "metadata": {
    "id": "2jRPf7Nk45Vp"
   },
   "source": [
    "## Most Frequent Tokens: Term frequency"
   ]
  },
  {
   "cell_type": "code",
   "execution_count": 10,
   "metadata": {
    "id": "hrb5_LLu45Vp"
   },
   "outputs": [
    {
     "name": "stdout",
     "output_type": "stream",
     "text": [
      "the\t1167\n",
      "of\t801\n",
      "and\t360\n",
      "in\t299\n",
      "to\t279\n",
      "a\t173\n",
      "is\t138\n",
      "that\t128\n",
      "by\t123\n",
      "class\t104\n",
      "with\t101\n",
      "it\t100\n",
      "bourgeois\t99\n",
      "all\t98\n",
      "bourgeoisie\t92\n",
      "as\t86\n",
      "for\t84\n",
      "they\t83\n",
      "its\t81\n",
      "their\t80\n",
      "society\t75\n",
      "has\t69\n",
      "but\t67\n",
      "this\t66\n",
      "proletariat\t64\n",
      "are\t59\n",
      "property\t56\n",
      "into\t55\n",
      "not\t55\n",
      "on\t54\n",
      "more\t52\n",
      "production\t52\n",
      "conditions\t50\n",
      "have\t45\n",
      "which\t44\n",
      "from\t43\n",
      "modern\t43\n",
      "be\t41\n",
      "these\t41\n",
      "at\t40\n",
      "social\t39\n",
      "no\t37\n",
      "against\t34\n",
      "one\t32\n",
      "means\t32\n",
      "only\t32\n",
      "an\t31\n",
      "labor\t30\n",
      "existence\t30\n",
      "industry\t29\n"
     ]
    }
   ],
   "source": [
    "from collections import Counter\n",
    "word_counts = Counter(tokens)\n",
    "for w, c in word_counts.most_common(50):\n",
    "    print(\"%s\\t%d\" % (w, c))"
   ]
  },
  {
   "cell_type": "markdown",
   "metadata": {
    "id": "Cjqq2grX45Vq"
   },
   "source": [
    "# Collocation"
   ]
  },
  {
   "cell_type": "markdown",
   "metadata": {
    "id": "PkrCUYfG45Vq"
   },
   "source": [
    "## Counting most Frequent Collocations"
   ]
  },
  {
   "cell_type": "code",
   "execution_count": 12,
   "metadata": {
    "colab": {
     "background_save": true
    },
    "id": "L6cSVQyg45Vq",
    "outputId": "49a23a96-9305-439c-c6ee-40fe9e7d67d6"
   },
   "outputs": [
    {
     "name": "stdout",
     "output_type": "stream",
     "text": [
      "of\tthe\t244\n",
      "in\tthe\t91\n",
      "the\tbourgeoisie\t66\n",
      "the\tproletariat\t50\n",
      "to\tthe\t43\n",
      "by\tthe\t40\n",
      "for\tthe\t38\n",
      "of\tproduction\t38\n",
      "with\tthe\t34\n",
      "the\tbourgeois\t33\n",
      "conditions\tof\t29\n",
      "means\tof\t25\n",
      "of\tsociety\t24\n",
      "against\tthe\t23\n",
      "on\tthe\t23\n",
      "working\tclass\t23\n",
      "to\tbe\t22\n",
      "of\tall\t22\n",
      "is\tthe\t21\n",
      "the\tcommunists\t21\n"
     ]
    }
   ],
   "source": [
    "word_pair_counts = Counter()\n",
    "for i in range(len(tokens) - 1):\n",
    "    (w1, w2) = (tokens[i], tokens[i + 1])\n",
    "    word_pair_counts[(w1, w2)] += 1\n",
    "    \n",
    "for pair, c in word_pair_counts.most_common(20):\n",
    "    print(\"%s\\t%s\\t%d\" % (pair[0], pair[1], c))\n",
    "\n",
    "# for (w1, w2), n in word_pair_counts.most_common(20):\n",
    "#     print(\"%s\\t%s\\t%d\" % (w1, w2, n))"
   ]
  },
  {
   "cell_type": "markdown",
   "metadata": {
    "id": "sMHGA-7I45Vq"
   },
   "source": [
    "## Show the content in word_pair_counts"
   ]
  },
  {
   "cell_type": "code",
   "execution_count": 13,
   "metadata": {
    "colab": {
     "background_save": true
    },
    "id": "HMTFf7vI45Vr",
    "outputId": "727072f6-398b-4810-feb0-ce70bf87dc0f"
   },
   "outputs": [
    {
     "name": "stdout",
     "output_type": "stream",
     "text": [
      "(('of', 'the'), 244)\n"
     ]
    }
   ],
   "source": [
    "print(word_pair_counts.most_common(1)[0])"
   ]
  },
  {
   "cell_type": "markdown",
   "metadata": {
    "id": "uXBf8cIm45Vs"
   },
   "source": [
    "## Alternative way to get the contents in the pair."
   ]
  },
  {
   "cell_type": "code",
   "execution_count": 14,
   "metadata": {
    "colab": {
     "background_save": true
    },
    "id": "5VsTX0OZ45Vs",
    "outputId": "849893d1-6da1-4159-ccc2-112ea7f1721d",
    "scrolled": true
   },
   "outputs": [
    {
     "name": "stdout",
     "output_type": "stream",
     "text": [
      "of\tthe\t244\n",
      "in\tthe\t91\n",
      "the\tbourgeoisie\t66\n",
      "the\tproletariat\t50\n",
      "to\tthe\t43\n",
      "by\tthe\t40\n",
      "for\tthe\t38\n",
      "of\tproduction\t38\n",
      "with\tthe\t34\n",
      "the\tbourgeois\t33\n",
      "conditions\tof\t29\n",
      "means\tof\t25\n",
      "of\tsociety\t24\n",
      "against\tthe\t23\n",
      "on\tthe\t23\n",
      "working\tclass\t23\n",
      "to\tbe\t22\n",
      "of\tall\t22\n",
      "is\tthe\t21\n",
      "the\tcommunists\t21\n"
     ]
    }
   ],
   "source": [
    "for (w1, w2), c in word_pair_counts.most_common(20):\n",
    "    print(\"%s\\t%s\\t%d\" % (w1, w2, c))"
   ]
  },
  {
   "cell_type": "markdown",
   "metadata": {
    "id": "EtaPmLoZ45Vs"
   },
   "source": [
    "## Removing stopwords"
   ]
  },
  {
   "cell_type": "code",
   "execution_count": 17,
   "metadata": {
    "colab": {
     "background_save": true
    },
    "id": "ioHKxclm45Vs",
    "outputId": "2eb8f593-47ba-420f-f2a5-1f78575aba03"
   },
   "outputs": [
    {
     "name": "stdout",
     "output_type": "stream",
     "text": [
      "working\tclass\t23\n",
      "bourgeois\tsociety\t15\n",
      "class\tantagonisms\t11\n",
      "modern\tindustry\t11\n",
      "ruling\tclass\t11\n",
      "productive\tforces\t9\n",
      "modern\tbourgeois\t8\n",
      "middle\tages\t7\n",
      "bourgeois\tproperty\t7\n",
      "private\tproperty\t7\n",
      "feudal\tsociety\t6\n",
      "middle\tclass\t6\n",
      "social\tconditions\t6\n",
      "property\trelations\t6\n",
      "class\tstruggle\t6\n",
      "old\tsociety\t6\n",
      "petty\tbourgeois\t6\n",
      "existing\tsociety\t5\n",
      "one\tword\t5\n",
      "bourgeois\tsocialism\t5\n"
     ]
    }
   ],
   "source": [
    "# nltk.download('stopwords')\n",
    "from nltk.corpus import stopwords\n",
    "stopword_list = stopwords.words('english')\n",
    "\n",
    "word_pair_nosw_counts = Counter()\n",
    "for i in range(len(tokens) - 1):\n",
    "    (w1, w2) = (tokens[i], tokens[i + 1])\n",
    "    # if w1 not in stopword_list or w2 not in stopword_list: (至少有一個不是停用字)\n",
    "    if w1 not in stopword_list and w2 not in stopword_list:\n",
    "        word_pair_nosw_counts[(w1, w2)] += 1\n",
    "    \n",
    "for (w1, w2), c in word_pair_nosw_counts.most_common(20):\n",
    "    print(\"%s\\t%s\\t%d\" % (w1, w2, c))"
   ]
  },
  {
   "cell_type": "code",
   "execution_count": 20,
   "metadata": {},
   "outputs": [
    {
     "name": "stdout",
     "output_type": "stream",
     "text": [
      "working\tclass\t23\n",
      "bourgeois\tsociety\t15\n",
      "class\tantagonisms\t12\n",
      "modern\tindustry\t12\n",
      "conditions\texistence\t11\n",
      "ruling\tclass\t11\n",
      "bourgeois\tproperty\t10\n",
      "means\tproduction\t9\n",
      "productive\tforces\t9\n",
      "modern\tbourgeois\t8\n",
      "old\tsociety\t8\n",
      "middle\tages\t7\n",
      "production\texchange\t7\n",
      "instruments\tproduction\t7\n",
      "social\tconditions\t7\n",
      "bourgeois\tproduction\t7\n",
      "conditions\tproduction\t7\n",
      "property\trelations\t7\n",
      "abolition\tproperty\t7\n",
      "private\tproperty\t7\n"
     ]
    }
   ],
   "source": [
    "# 抓距離三個字以內的詞對\n",
    "word_pair_nosw_counts = Counter()\n",
    "for i in range(len(tokens) - 1):\n",
    "    # 抓 i and i+1, i+2, i+3 的詞對\n",
    "    for j in range(1, 4):\n",
    "        if (i+j) < len(tokens):\n",
    "            (w1, w2) = (tokens[i], tokens[i + j])\n",
    "            # if w1 not in stopword_list or w2 not in stopword_list: (至少有一個不是停用字)\n",
    "            if w1 not in stopword_list and w2 not in stopword_list:\n",
    "                word_pair_nosw_counts[(w1, w2)] += 1\n",
    "    \n",
    "for (w1, w2), c in word_pair_nosw_counts.most_common(20):\n",
    "    print(\"%s\\t%s\\t%d\" % (w1, w2, c))"
   ]
  },
  {
   "cell_type": "markdown",
   "metadata": {
    "id": "hmaVEl5a45Vt"
   },
   "source": [
    "# Distant Collocations"
   ]
  },
  {
   "cell_type": "markdown",
   "metadata": {
    "id": "h572iD2i45Vt"
   },
   "source": [
    "## Most frequent collocations with a distance of k"
   ]
  },
  {
   "cell_type": "code",
   "execution_count": 71,
   "metadata": {
    "colab": {
     "background_save": true
    },
    "id": "Z88XiH2a45Vt",
    "outputId": "d8dc2ccb-f42a-40b7-efaa-e3af614fedb2"
   },
   "outputs": [
    {
     "name": "stdout",
     "output_type": "stream",
     "text": [
      "53403\n",
      "the\tof\t2\t302\n",
      "of\tthe\t1\t244\n",
      "the\tthe\t3\t186\n",
      "the\tthe\t8\t134\n",
      "the\tthe\t6\t129\n",
      "the\tthe\t7\t126\n",
      "the\tof\t3\t125\n",
      "the\tthe\t4\t117\n",
      "the\tthe\t5\t114\n",
      "of\tthe\t4\t92\n",
      "in\tthe\t1\t91\n",
      "of\tthe\t8\t91\n",
      "of\tthe\t6\t88\n",
      "the\tof\t7\t81\n",
      "the\tof\t6\t77\n",
      "of\tthe\t7\t76\n",
      "the\tof\t5\t76\n",
      "the\tof\t8\t75\n",
      "of\tthe\t5\t72\n",
      "the\tbourgeoisie\t1\t66\n"
     ]
    }
   ],
   "source": [
    "window_size = 9\n",
    "\n",
    "word_pair_counts = Counter()\n",
    "word_pair_distance_counts = Counter()\n",
    "for i in range(len(tokens) - 1):\n",
    "    for distance in range(1, window_size):\n",
    "        if i + distance < len(tokens):\n",
    "            w1 = tokens[i]\n",
    "            w2 = tokens[i + distance]\n",
    "            word_pair_distance_counts[(w1, w2, distance)] += 1\n",
    "            word_pair_counts[(w1, w2)] += 1\n",
    "\n",
    "print(len(word_pair_counts))\n",
    "            \n",
    "for (w1, w2, distance), c in word_pair_distance_counts.most_common(20):\n",
    "    print(\"%s\\t%s\\t%d\\t%d\" % (w1, w2, distance, c))"
   ]
  },
  {
   "cell_type": "markdown",
   "metadata": {
    "id": "EZWjVDJP45Vt"
   },
   "source": [
    "## Show an entry in word_pair_distance"
   ]
  },
  {
   "cell_type": "code",
   "execution_count": 72,
   "metadata": {
    "colab": {
     "background_save": true
    },
    "id": "I_Ol8RmN45Vt",
    "outputId": "f194abc8-136f-495a-f864-1eaf49fdc5f3"
   },
   "outputs": [
    {
     "name": "stdout",
     "output_type": "stream",
     "text": [
      "(('the', 'of', 2), 302)\n",
      "3\n",
      "0\n",
      "Occurrences of the word pair (the, of) with a distance of 1: 3\n",
      "Occurrences of the word pair (the, of) with a distance of 2: 302\n",
      "Occurrences of the word pair (the, of) with a distance of 3: 125\n",
      "Occurrences of the word pair (the, of) with a distance of 4: 59\n",
      "Occurrences of the word pair (the, of) with a distance of 5: 76\n",
      "Occurrences of the word pair (the, of) with a distance of 6: 77\n",
      "Occurrences of the word pair (the, of) with a distance of 7: 81\n",
      "Occurrences of the word pair (the, of) with a distance of 8: 75\n",
      "Occurrences of the usage 'the * * of'\n",
      "302\n",
      "Occurrences of the usage 'of * * the'\n",
      "27\n"
     ]
    }
   ],
   "source": [
    "print(word_pair_distance_counts.most_common(1)[0])\n",
    "\n",
    "print(word_pair_distance_counts['the', 'of', 1])\n",
    "print(word_pair_distance_counts['the', 'of', 100])\n",
    "\n",
    "\n",
    "for distance in range(1, window_size):\n",
    "    print(\"Occurrences of the word pair (%s, %s) with a distance of %d: %d\" % (\n",
    "        'the', 'of', distance, word_pair_distance_counts['the', 'of', distance]))\n",
    "\n",
    "print(\"Occurrences of the usage 'the * * of'\")\n",
    "print(word_pair_distance_counts['the', 'of', 2])\n",
    "\n",
    "print(\"Occurrences of the usage 'of * * the'\")\n",
    "print(word_pair_distance_counts['of', 'the', 2])"
   ]
  },
  {
   "cell_type": "markdown",
   "metadata": {
    "id": "LNx6b3YH45Vu"
   },
   "source": [
    "## Filtering the collocations with mean distance"
   ]
  },
  {
   "cell_type": "code",
   "execution_count": 73,
   "metadata": {
    "colab": {
     "background_save": true
    },
    "id": "55DpFm4F45Vu",
    "outputId": "7a5b0b5f-b6cf-4427-af3c-00c9d8262916"
   },
   "outputs": [
    {
     "name": "stdout",
     "output_type": "stream",
     "text": [
      "of\tdestroyed\t8.000000\t3\n",
      "to\tpetty\t8.000000\t3\n",
      "necessarily\tof\t8.000000\t3\n",
      "in\tcommunistic\t8.000000\t2\n",
      "world\tand\t8.000000\t2\n",
      "and\texisting\t8.000000\t2\n",
      "is\tslave\t8.000000\t2\n",
      "an\teach\t8.000000\t2\n",
      "time\tsociety\t8.000000\t2\n",
      "an\tcommunication\t8.000000\t2\n",
      "every\twe\t8.000000\t2\n",
      "that\tword\t8.000000\t2\n",
      "bourgeoisie\tmarket\t8.000000\t2\n",
      "of\tfeet\t8.000000\t2\n",
      "population\tproperty\t8.000000\t2\n",
      "at\tthese\t8.000000\t2\n",
      "our\trelations\t8.000000\t2\n",
      "is\tsubsistence\t8.000000\t2\n",
      "disposal\tthe\t8.000000\t2\n",
      "wealth\tbourgeoisie\t8.000000\t2\n"
     ]
    }
   ],
   "source": [
    "pair_mean_distances = Counter()\n",
    "\n",
    "for (w1, w2, distance), c in word_pair_distance_counts.most_common():\n",
    "    pair_mean_distances[(w1, w2)] += distance * (c / word_pair_counts[(w1, w2)])\n",
    "\n",
    "for (w1, w2), distance in pair_mean_distances.most_common(20):\n",
    "    print(\"%s\\t%s\\t%f\\t%d\" % (w1, w2, distance, word_pair_counts[(w1, w2)]))"
   ]
  },
  {
   "cell_type": "markdown",
   "metadata": {
    "id": "7zxhzmc245Vu"
   },
   "source": [
    "## Filtering one-time cases"
   ]
  },
  {
   "cell_type": "code",
   "execution_count": 74,
   "metadata": {
    "colab": {
     "background_save": true
    },
    "id": "Zdzsp5Z745Vu",
    "outputId": "e1a58842-7c18-4072-f1bb-b03dd8678b36"
   },
   "outputs": [
    {
     "name": "stdout",
     "output_type": "stream",
     "text": [
      "of\tdestroyed\t8.000000\t3\n",
      "to\tpetty\t8.000000\t3\n",
      "necessarily\tof\t8.000000\t3\n",
      "in\tcommunistic\t8.000000\t2\n",
      "world\tand\t8.000000\t2\n",
      "and\texisting\t8.000000\t2\n",
      "is\tslave\t8.000000\t2\n",
      "an\teach\t8.000000\t2\n",
      "time\tsociety\t8.000000\t2\n",
      "an\tcommunication\t8.000000\t2\n",
      "every\twe\t8.000000\t2\n",
      "that\tword\t8.000000\t2\n",
      "bourgeoisie\tmarket\t8.000000\t2\n",
      "of\tfeet\t8.000000\t2\n",
      "population\tproperty\t8.000000\t2\n",
      "at\tthese\t8.000000\t2\n",
      "our\trelations\t8.000000\t2\n",
      "is\tsubsistence\t8.000000\t2\n",
      "disposal\tthe\t8.000000\t2\n",
      "wealth\tbourgeoisie\t8.000000\t2\n"
     ]
    }
   ],
   "source": [
    "pair_mean_distances = Counter()\n",
    "\n",
    "for (w1, w2, distance), c in word_pair_distance_counts.most_common():\n",
    "    if word_pair_counts[(w1, w2)] > 1:\n",
    "        pair_mean_distances[(w1, w2)] += distance * (c / word_pair_counts[(w1, w2)])\n",
    "\n",
    "for (w1, w2), distance in pair_mean_distances.most_common(20):\n",
    "    print(\"%s\\t%s\\t%f\\t%d\" % (w1, w2, distance, word_pair_counts[(w1, w2)]))"
   ]
  },
  {
   "cell_type": "code",
   "execution_count": 75,
   "metadata": {
    "colab": {
     "background_save": true
    },
    "id": "b0ZG1oaq45Vv",
    "outputId": "9db4fb0c-2679-4548-f8c0-55a23cbdd27c"
   },
   "outputs": [
    {
     "name": "stdout",
     "output_type": "stream",
     "text": [
      "continued\texistence\t1.000000\t2\n",
      "complete\tsystems\t1.000000\t2\n",
      "they\twish\t1.000000\t2\n",
      "new\tjerusalem\t1.000000\t2\n",
      "every\trevolutionary\t1.000000\t2\n",
      "revolutionary\tmovement\t1.000000\t2\n",
      "could\tbe\t1.000000\t2\n",
      "and\tothers\t1.000000\t2\n",
      "these\tsystems\t1.000000\t2\n",
      "social\tscience\t1.000000\t2\n",
      "most\tsuffering\t1.000000\t2\n",
      "suffering\tclass\t1.000000\t2\n",
      "antagonisms\tthey\t1.000000\t2\n",
      "their\tends\t1.000000\t2\n",
      "a\tcritical\t1.000000\t2\n",
      "these\tproposals\t1.000000\t2\n",
      "chiefly\tto\t1.000000\t2\n",
      "they\tsupport\t1.000000\t2\n",
      "partly\tof\t1.000000\t2\n",
      "existing\tsocial\t1.000000\t2\n"
     ]
    }
   ],
   "source": [
    "# 平均距離最小的後20個詞對\n",
    "for (w1, w2), distance in pair_mean_distances.most_common()[-20:]:\n",
    "    print(\"%s\\t%s\\t%f\\t%d\" % (w1, w2, distance, word_pair_counts[(w1, w2)]))"
   ]
  },
  {
   "cell_type": "code",
   "execution_count": 76,
   "metadata": {
    "colab": {
     "background_save": true
    },
    "id": "T9ZyFI2f45Vv",
    "outputId": "2af8ad9f-c500-4c74-cd0b-ea082f6ffa08"
   },
   "outputs": [
    {
     "name": "stdout",
     "output_type": "stream",
     "text": [
      "which\tlaborer\t4.500000\t2\n",
      "in\tbare\t4.500000\t2\n",
      "a\texistence\t4.500000\t2\n",
      "means\tappropriation\t4.500000\t2\n",
      "intend\tthe\t4.500000\t2\n",
      "personal\tappropriation\t4.500000\t2\n",
      "labor\tappropriation\t4.500000\t2\n",
      "and\tleaves\t4.500000\t2\n",
      "away\tis\t4.500000\t2\n",
      "is\tfar\t4.500000\t2\n",
      "the\tliving\t4.500000\t2\n",
      "to\taccumulated\t4.500000\t2\n",
      "increase\tlabor\t4.500000\t2\n",
      "accumulated\tis\t4.500000\t2\n",
      "enrich\tthe\t4.500000\t2\n",
      "past\tsociety\t4.500000\t4\n",
      "dominates\tpresent\t4.500000\t2\n",
      "the\tperson\t4.500000\t2\n",
      "trade\tselling\t4.500000\t2\n",
      "but\tselling\t4.500000\t2\n"
     ]
    }
   ],
   "source": [
    "# 看平均距離排在中間的前後 10 個詞對\n",
    "num_pairs = len(pair_mean_distances)\n",
    "mid = num_pairs // 2 # 除以 2 取整數\n",
    "for (w1, w2), distance in pair_mean_distances.most_common()[mid-10:mid+10]:\n",
    "    print(\"%s\\t%s\\t%f\\t%d\" % (w1, w2, distance, word_pair_counts[(w1, w2)]))"
   ]
  },
  {
   "cell_type": "markdown",
   "metadata": {},
   "source": [
    "## (我的實作)去掉停詞算平均距離，過濾出現次數小於五的詞對"
   ]
  },
  {
   "cell_type": "code",
   "execution_count": 69,
   "metadata": {},
   "outputs": [
    {
     "name": "stdout",
     "output_type": "stream",
     "text": [
      "20987\n",
      "85\n",
      "division\tlabor\t2.000000\t5\n",
      "community\twomen\t2.000000\t5\n",
      "old\tsociety\t1.888889\t9\n",
      "modern\tsociety\t1.833333\t6\n",
      "true\tsocialism\t1.800000\t5\n",
      "class\tstruggle\t1.571429\t7\n",
      "class\tantagonisms\t1.538462\t13\n",
      "working\tclass\t1.360000\t25\n",
      "existing\tsociety\t1.333333\t6\n",
      "bourgeois\tsociety\t1.312500\t16\n",
      "modern\tindustry\t1.166667\t12\n",
      "property\trelations\t1.142857\t7\n",
      "ruling\tclass\t1.000000\t11\n",
      "productive\tforces\t1.000000\t9\n",
      "modern\tbourgeois\t1.000000\t8\n",
      "middle\tages\t1.000000\t7\n",
      "feudal\tsociety\t1.000000\t6\n",
      "middle\tclass\t1.000000\t6\n",
      "petty\tbourgeois\t1.000000\t6\n",
      "one\tword\t1.000000\t5\n"
     ]
    }
   ],
   "source": [
    "from nltk.corpus import stopwords\n",
    "stopword_list = stopwords.words('english')\n",
    "\n",
    "window_size = 8 # 幾個字以內 window_size 就多少\n",
    "\n",
    "word_pair_nosw_counts = Counter()\n",
    "word_pair_distance_counts = Counter()\n",
    "for i in range(len(tokens) - 1):\n",
    "    for distance in range(1, window_size + 1):\n",
    "        if i + distance < len(tokens):\n",
    "            (w1, w2) = (tokens[i], tokens[i + distance])\n",
    "            if w1 not in stopword_list and w2 not in stopword_list:\n",
    "                word_pair_distance_counts[(w1, w2, distance)] += 1\n",
    "                word_pair_nosw_counts[(w1, w2)] += 1\n",
    "\n",
    "print(len(word_pair_nosw_counts))\n",
    "\n",
    "pair_mean_distances = Counter()\n",
    "for (w1, w2, distance), n in word_pair_distance_counts.most_common():\n",
    "    # print(\"(%s %s %d)\\t\\t\\t%d\" % (w1, w2, distance, n))\n",
    "    if word_pair_nosw_counts[(w1, w2)] >= 5: # 把出現 5 次的以下詞對濾掉\n",
    "        pair_mean_distances[(w1, w2)] += distance*n / word_pair_nosw_counts[(w1, w2)] # 平均距離等於累加(該詞對的各特定距離*對數)/該詞對的總對數\n",
    "print(len(pair_mean_distances))\n",
    "\n",
    "for (w1, w2), mean_distance in pair_mean_distances.most_common()[-20:]:\n",
    "    print(\"%s\\t%s\\t%f\\t%d\"%(w1, w2, mean_distance, word_pair_nosw_counts[(w1, w2)]))"
   ]
  },
  {
   "cell_type": "markdown",
   "metadata": {
    "id": "_J8ONATO45Vv"
   },
   "source": [
    "## Filtering with offset deviation"
   ]
  },
  {
   "cell_type": "code",
   "execution_count": 77,
   "metadata": {
    "colab": {
     "background_save": true
    },
    "id": "3u3CmA9O45Vv",
    "outputId": "8c0e92ee-faea-4f59-9ed4-4f5a76a33ddc"
   },
   "outputs": [
    {
     "name": "stdout",
     "output_type": "stream",
     "text": [
      "the\tbranding\t4.500000\t4.949747\t2\n",
      "sketched\tthe\t4.500000\t4.949747\t2\n",
      "class\tstruggles\t4.500000\t4.949747\t2\n",
      "journeyman\tin\t4.500000\t4.949747\t2\n",
      "in\talmost\t4.500000\t4.949747\t2\n",
      "epochs\tof\t4.500000\t4.949747\t2\n",
      "everywhere\ta\t4.500000\t4.949747\t2\n",
      "old\tbourgeois\t4.500000\t4.949747\t2\n",
      "navigation\tand\t4.500000\t4.949747\t2\n",
      "vanished\tin\t4.500000\t4.949747\t2\n",
      "the\tgiant\t4.500000\t4.949747\t2\n",
      "the\tleaders\t4.500000\t4.949747\t2\n",
      "armies\tthe\t4.500000\t4.949747\t2\n",
      "its\tcapital\t4.500000\t4.949747\t2\n",
      "oppressed\tclass\t4.500000\t4.949747\t2\n",
      "the\texecutive\t4.500000\t4.949747\t2\n",
      "enthusiasm\tof\t4.500000\t4.949747\t2\n",
      "of\tegotistical\t4.500000\t4.949747\t2\n",
      "its\trelation\t4.500000\t4.949747\t2\n",
      "ones\tthat\t4.500000\t4.949747\t2\n"
     ]
    }
   ],
   "source": [
    "pair_deviations = Counter()\n",
    "for (w1, w2, distance), c in word_pair_distance_counts.most_common():\n",
    "    if word_pair_counts[(w1, w2)] > 1: # 其實只過濾掉只出現1次的詞對沒什麼意義\n",
    "        pair_deviations[(w1, w2)] += c * ((distance - pair_mean_distances[(w1, w2)]) ** 2)\n",
    "    \n",
    "for (w1, w2), dev_tmp in pair_deviations.most_common():\n",
    "    s_2 = dev_tmp / (word_pair_counts[(w1, w2)] - 1)\n",
    "    pair_deviations[(w1, w2)] = s_2 ** 0.5\n",
    "    \n",
    "for (w1, w2), dev in pair_deviations.most_common(20):\n",
    "    print(\"%s\\t%s\\t%f\\t%f\\t%d\" % (w1, w2, pair_mean_distances[(w1, w2)], dev, word_pair_counts[(w1, w2)]))"
   ]
  },
  {
   "cell_type": "code",
   "execution_count": 79,
   "metadata": {
    "colab": {
     "background_save": true
    },
    "id": "PBcckMj245Vw",
    "outputId": "bc71f69c-78d2-48b1-93f3-928f5e0804c6"
   },
   "outputs": [
    {
     "name": "stdout",
     "output_type": "stream",
     "text": [
      "being\tclass\t4.000000\t0.000000\t2\n",
      "most\tsuffering\t1.000000\t0.000000\t2\n",
      "suffering\tclass\t1.000000\t0.000000\t2\n",
      "antagonisms\tthey\t1.000000\t0.000000\t2\n",
      "the\tappeal\t6.000000\t0.000000\t2\n",
      "they\tends\t5.000000\t0.000000\t2\n",
      "their\tends\t1.000000\t0.000000\t2\n",
      "a\tcritical\t1.000000\t0.000000\t2\n",
      "these\tproposals\t1.000000\t0.000000\t2\n",
      "of\tc\t6.000000\t0.000000\t2\n",
      "chiefly\tto\t1.000000\t0.000000\t2\n",
      "chiefly\tgermany\t2.000000\t0.000000\t2\n",
      "communists\tagainst\t6.000000\t0.000000\t2\n",
      "they\tsupport\t1.000000\t0.000000\t2\n",
      "partly\tof\t1.000000\t0.000000\t2\n",
      "partly\tin\t4.000000\t0.000000\t2\n",
      "germany\tfight\t2.000000\t0.000000\t2\n",
      "revolutionary\tagainst\t2.000000\t0.000000\t2\n",
      "germany\timmediately\t8.000000\t0.000000\t2\n",
      "existing\tsocial\t1.000000\t0.000000\t2\n"
     ]
    }
   ],
   "source": [
    "for (w1, w2), dev in pair_deviations.most_common()[-20:]:\n",
    "    print(\"%s\\t%s\\t%f\\t%f\\t%d\" % (w1, w2, pair_mean_distances[(w1, w2)], dev, word_pair_counts[(w1, w2)]))    "
   ]
  },
  {
   "cell_type": "markdown",
   "metadata": {
    "id": "EbBrzCaQ45Vw"
   },
   "source": [
    "## With a higher supportive threshold\n",
    "算變異性每一種詞對的數量都不能太少，過濾對數沒超過10的詞對。"
   ]
  },
  {
   "cell_type": "code",
   "execution_count": 81,
   "metadata": {
    "colab": {
     "background_save": true
    },
    "id": "RCGJZQT045Vw",
    "outputId": "86aafd7a-c5c6-4b03-a29f-d6aa74e999e2"
   },
   "outputs": [
    {
     "name": "stdout",
     "output_type": "stream",
     "text": [
      "be\tand\t3.833333\t1.466804\t12\n",
      "have\tof\t5.869565\t1.455533\t23\n",
      "to\tbe\t1.416667\t1.442120\t24\n",
      "the\tcommunism\t4.454545\t1.439697\t11\n",
      "of\tcan\t5.000000\t1.414214\t11\n",
      "in\tbut\t5.000000\t1.414214\t11\n",
      "for\ta\t2.076923\t1.382120\t13\n",
      "for\tclass\t5.363636\t1.361817\t11\n",
      "as\tand\t5.153846\t1.344504\t13\n",
      "has\tof\t5.730769\t1.343360\t26\n",
      "it\thas\t1.409091\t1.333063\t22\n",
      "working\tclass\t1.360000\t1.319091\t25\n",
      "in\tclass\t5.272727\t1.272078\t11\n",
      "bourgeois\tsociety\t1.312500\t1.250000\t16\n",
      "it\tof\t6.088235\t1.239933\t34\n",
      "by\tmeans\t1.692308\t0.947331\t13\n",
      "in\tproportion\t1.500000\t0.904534\t12\n",
      "they\tare\t1.250000\t0.866025\t12\n",
      "modern\tindustry\t1.166667\t0.577350\t12\n",
      "ruling\tclass\t1.000000\t0.000000\t11\n"
     ]
    }
   ],
   "source": [
    "pair_deviations = Counter()\n",
    "for (w1, w2, distance), c in word_pair_distance_counts.most_common():\n",
    "    if word_pair_counts[(w1, w2)] > 10:\n",
    "        pair_deviations[(w1, w2)] += c * ((distance - pair_mean_distances[(w1, w2)]) ** 2)\n",
    "    \n",
    "for (w1, w2), dev_tmp in pair_deviations.most_common():\n",
    "    s_2 = dev_tmp / (word_pair_counts[(w1, w2)] - 1)\n",
    "    pair_deviations[(w1, w2)] = s_2 ** 0.5\n",
    "    \n",
    "for (w1, w2), dev in pair_deviations.most_common()[-20:]: # 看平均距離低變異的詞對\n",
    "    print(\"%s\\t%s\\t%f\\t%f\\t%d\" % (w1, w2, pair_mean_distances[(w1, w2)], dev, word_pair_counts[(w1, w2)]))"
   ]
  },
  {
   "cell_type": "markdown",
   "metadata": {
    "id": "c4jo6I-545Vw"
   },
   "source": [
    "# Hyothesis Testing: Pearson's Chi-Square Test(類別分析)\n",
    "用確定性減去不確定性後做正規化，算出一個degree來測量哪些字要嘛就一起出現，要嘛就都不出現。(會不會一起出現的變異性)"
   ]
  },
  {
   "cell_type": "markdown",
   "metadata": {
    "id": "xGPhm04045Vx"
   },
   "source": [
    "## Back to bigrams"
   ]
  },
  {
   "cell_type": "code",
   "execution_count": 83,
   "metadata": {
    "colab": {
     "background_save": true
    },
    "id": "-8l44IvJ45Vx",
    "outputId": "17a2b8c4-ca64-452b-e106-d778d6f28505"
   },
   "outputs": [
    {
     "name": "stdout",
     "output_type": "stream",
     "text": [
      "11780\n"
     ]
    }
   ],
   "source": [
    "word_pair_counts = Counter() # Initialize a Counter\n",
    "word_counts = Counter(tokens) # 每個字的出現次數\n",
    "num_bigrams = 0\n",
    "\n",
    "for i in range(len(tokens) - 1):\n",
    "    (w1, w2) = (tokens[i], tokens[i + 1])\n",
    "    word_pair_counts[(w1, w2)] += 1\n",
    "    num_bigrams = sum(word_pair_counts.values()) # 所有詞對的對數加總\n",
    "    # num_bigrams += 1\n",
    "print(num_bigrams)"
   ]
  },
  {
   "cell_type": "markdown",
   "metadata": {
    "id": "3lxIESbB45Vx"
   },
   "source": [
    "## Chi-Square function"
   ]
  },
  {
   "cell_type": "code",
   "execution_count": 84,
   "metadata": {
    "colab": {
     "background_save": true
    },
    "id": "At7vRG1Y45Vx"
   },
   "outputs": [],
   "source": [
    "def chisquare(o11, o12, o21, o22):\n",
    "    n = o11 + o12 + o21 + o22\n",
    "    x_2 = (n * ((o11 * o22 - o12 * o21)**2)) / ((o11 + o12) * (o11 + o21) * (o12 + o22) * (o21 + o22)) \n",
    "    return x_2"
   ]
  },
  {
   "cell_type": "markdown",
   "metadata": {
    "id": "e6MmL77u45Vx",
    "tags": []
   },
   "source": [
    "## Now we can compute the chi-squares."
   ]
  },
  {
   "cell_type": "markdown",
   "metadata": {},
   "source": [
    "### 我的實作"
   ]
  },
  {
   "cell_type": "code",
   "execution_count": 90,
   "metadata": {},
   "outputs": [
    {
     "name": "stdout",
     "output_type": "stream",
     "text": [
      "many\tbourgeois\t49.412739\n",
      "bourgeois\tprivate\t44.087627\n",
      "petty\tbourgeoisie\t43.023037\n",
      "modern\tworking\t41.985003\n",
      "bourgeois\tfreedom\t39.732201\n",
      "revolutionary\tproletariat\t35.100229\n",
      "old\tconditions\t32.566311\n",
      "feudal\tproperty\t31.386462\n",
      "old\tproperty\t28.685615\n",
      "bourgeois\trevolution\t26.136797\n",
      "modern\tbourgeoisie\t21.380029\n",
      "whole\tbourgeoisie\t20.752016\n",
      "revolutionary\tclass\t20.224783\n",
      "bourgeois\tstate\t17.063629\n",
      "every\tclass\t16.075081\n",
      "bourgeois\tconditions\t16.040705\n",
      "bourgeois\tform\t14.680146\n",
      "one\tclass\t10.562861\n",
      "bourgeois\tproduction\t5.662454\n",
      "bourgeois\tclass\t5.261506\n"
     ]
    }
   ],
   "source": [
    "pair_chi_square = Counter()\n",
    "for (w1, w2), n in word_pair_counts.most_common():\n",
    "    if n > 1 and w1 not in stopword_list and w2 not in stopword_list:\n",
    "        o11 = word_pair_counts[(w1, w2)]\n",
    "        o12 = word_counts[w2] - o11\n",
    "        o21 = word_counts[w1] - o11\n",
    "        o22 = num_bigrams - o11 - o12 - o21\n",
    "        pair_chi_square[(w1, w2)] = chisquare(o11, o12, o21, o22)\n",
    "\n",
    "# 基本上chi-square很大的都一定是關鍵詞對，停用詞跟其他詞的搭配不會那麼唯一，所以chi-square會很小。我們有興趣的是去掉停用字後哪些chi-square很高，哪些很低。\n",
    "for (w1, w2), x_2 in pair_chi_square.most_common()[-20:]: \n",
    "    print(\"%s\\t%s\\t%f\" % (w1, w2, x_2))"
   ]
  },
  {
   "cell_type": "markdown",
   "metadata": {},
   "source": [
    "### Code示範"
   ]
  },
  {
   "cell_type": "code",
   "execution_count": 20,
   "metadata": {
    "colab": {
     "background_save": true
    },
    "id": "Y3oIquSC45Vx",
    "outputId": "f7a80c65-9136-4102-bd6d-50ea82accd05"
   },
   "outputs": [
    {
     "name": "stdout",
     "output_type": "stream",
     "text": [
      "third\testate\t2\t11780.000000\n",
      "constitution\tadapted\t2\t11780.000000\n",
      "karl\tmarx\t1\t11780.000000\n",
      "frederick\tengels\t1\t11780.000000\n",
      "czar\tmetternich\t1\t11780.000000\n",
      "police\tspies\t1\t11780.000000\n",
      "nursery\ttale\t1\t11780.000000\n",
      "italian\tflemish\t1\t11780.000000\n",
      "danish\tlanguages\t1\t11780.000000\n",
      "plebeian\tlord\t1\t11780.000000\n",
      "complicated\tarrangement\t1\t11780.000000\n",
      "manifold\tgradation\t1\t11780.000000\n",
      "patricians\tknights\t1\t11780.000000\n",
      "knights\tplebeians\t1\t11780.000000\n",
      "journeymen\tapprentices\t1\t11780.000000\n",
      "subordinate\tgradations\t1\t11780.000000\n",
      "cape\topened\t1\t11780.000000\n",
      "proper\tserving\t1\t11780.000000\n",
      "left\tremaining\t1\t11780.000000\n",
      "heavenly\tecstacies\t1\t11780.000000\n"
     ]
    }
   ],
   "source": [
    "pair_chi_squares = Counter()\n",
    "for (w1, w2), w1_w2_count in word_pair_counts.most_common():\n",
    "    w1_only_count = word_counts[w1] - w1_w2_count\n",
    "    w2_only_count = word_counts[w2] - w1_w2_count\n",
    "    rest_count = num_bigrams - w1_only_count - w2_only_count - w1_w2_count\n",
    "    pair_chi_squares[(w1, w2)] = chisquare(w1_w2_count, w1_only_count, w2_only_count, rest_count)\n",
    "\n",
    "for (w1, w2), x_2 in pair_chi_squares.most_common(20):\n",
    "    print(\"%s\\t%s\\t%d\\t%f\" % (w1, w2, word_pair_counts[(w1, w2)], x_2))\n",
    "    "
   ]
  },
  {
   "cell_type": "markdown",
   "metadata": {
    "id": "voyh90ws45Vx"
   },
   "source": [
    "## Focus on more frequent bigrams"
   ]
  },
  {
   "cell_type": "code",
   "execution_count": 21,
   "metadata": {
    "colab": {
     "background_save": true
    },
    "id": "7ZQicYJF45Vy",
    "outputId": "e04b168e-5ba8-495f-ce5c-f536d146805a"
   },
   "outputs": [
    {
     "name": "stdout",
     "output_type": "stream",
     "text": [
      "productive\tforces\t9\t9636.544203\n",
      "middle\tages\t7\t4928.714781\n",
      "no\tlonger\t14\t4150.496033\n",
      "working\tclass\t23\t2477.732678\n",
      "modern\tindustry\t11\t1128.037662\n",
      "class\tantagonisms\t11\t1042.736309\n",
      "private\tproperty\t7\t1022.522314\n",
      "ruling\tclass\t11\t966.767323\n",
      "can\tnot\t9\t775.745125\n",
      "their\town\t11\t759.449519\n",
      "proportion\tas\t8\t720.619853\n",
      "have\tbeen\t7\t702.438620\n",
      "it\thas\t20\t652.817376\n",
      "away\twith\t8\t563.758348\n",
      "to\tbe\t22\t468.075784\n",
      "just\tas\t6\t439.987822\n",
      "of\tthe\t244\t406.859323\n",
      "the\tbourgeoisie\t66\t397.199063\n",
      "its\town\t8\t392.296908\n",
      "petty\tbourgeois\t6\t381.069314\n"
     ]
    }
   ],
   "source": [
    "pair_chi_squares = Counter()\n",
    "for (w1, w2), w1_w2_count in word_pair_counts.most_common():\n",
    "    if w1_w2_count > 5:\n",
    "        w1_only_count = word_counts[w1] - w1_w2_count\n",
    "        w2_only_count = word_counts[w2] - w1_w2_count\n",
    "        rest_count = num_bigrams - w1_only_count - w2_only_count - w1_w2_count\n",
    "        pair_chi_squares[(w1, w2)] = chisquare(w1_w2_count, w1_only_count, w2_only_count, rest_count)\n",
    "\n",
    "for (w1, w2), x_2 in pair_chi_squares.most_common(20):\n",
    "    print(\"%s\\t%s\\t%d\\t%f\" % (w1, w2, word_pair_counts[(w1, w2)], x_2))\n",
    "    "
   ]
  },
  {
   "cell_type": "code",
   "execution_count": 22,
   "metadata": {
    "colab": {
     "background_save": true
    },
    "id": "E5J1-IgF45Vy",
    "outputId": "f66977cd-ffc1-4dcd-d89b-faf24c0b8bbc"
   },
   "outputs": [
    {
     "name": "stdout",
     "output_type": "stream",
     "text": [
      "is\tthe\t21\t4.412587\n",
      "and\tby\t7\t2.913108\n",
      "at\tthe\t7\t2.592918\n",
      "and\tthat\t7\t2.542680\n",
      "be\tthe\t7\t2.367553\n",
      "proletariat\tthe\t10\t2.357617\n",
      "bourgeois\tthe\t6\t1.654642\n",
      "that\tof\t6\t0.910970\n",
      "and\tof\t20\t0.906966\n",
      "of\tclass\t9\t0.569228\n",
      "bourgeoisie\tthe\t7\t0.548588\n",
      "that\tthe\t15\t0.476118\n",
      "of\tits\t7\t0.436822\n",
      "and\tin\t11\t0.401790\n",
      "society\tthe\t6\t0.307430\n",
      "all\tthe\t11\t0.192300\n",
      "the\tproperty\t6\t0.041125\n",
      "and\tto\t9\t0.027804\n",
      "the\tclass\t10\t0.009971\n",
      "class\tthe\t10\t0.009971\n"
     ]
    }
   ],
   "source": [
    "for (w1, w2), x_2 in pair_chi_squares.most_common()[-20:]:\n",
    "    print(\"%s\\t%s\\t%d\\t%f\" % (w1, w2, word_pair_counts[(w1, w2)], x_2))"
   ]
  },
  {
   "cell_type": "markdown",
   "metadata": {
    "id": "dtvwkfrP45Vy"
   },
   "source": [
    "## Now we can filtering out the stopwords"
   ]
  },
  {
   "cell_type": "code",
   "execution_count": 23,
   "metadata": {
    "colab": {
     "background_save": true
    },
    "id": "KWvUjIc645Vy",
    "outputId": "3cfaf78e-c3e8-47ac-d486-16b2835353a0"
   },
   "outputs": [
    {
     "name": "stdout",
     "output_type": "stream",
     "text": [
      "third\testate\t2\t11780.000000\n",
      "constitution\tadapted\t2\t11780.000000\n",
      "productive\tforces\t9\t9636.544203\n",
      "eternal\ttruths\t3\t8834.249809\n",
      "corporate\tguilds\t2\t7852.666553\n",
      "absolute\tmonarchy\t4\t7537.599406\n",
      "eighteenth\tcentury\t3\t7066.799694\n",
      "immense\tmajority\t3\t6624.749575\n",
      "laid\tbare\t2\t5888.999830\n",
      "distinctive\tfeature\t2\t5234.221968\n",
      "torn\tasunder\t2\t5234.221968\n",
      "middle\tages\t7\t4928.714781\n",
      "radical\trupture\t2\t4710.799796\n",
      "buying\tdisappears\t2\t3925.333107\n",
      "let\tus\t3\t3310.499278\n",
      "upper\thand\t2\t2943.499745\n",
      "commercial\tcrises\t2\t2943.499745\n",
      "various\tstages\t2\t2943.499745\n",
      "united\taction\t3\t2942.749427\n",
      "raw\tmaterial\t2\t2616.221958\n"
     ]
    }
   ],
   "source": [
    "pair_chi_squares = Counter()\n",
    "for (w1, w2), w1_w2_count in word_pair_counts.most_common():\n",
    "    if w1_w2_count > 1 and w1 not in stopword_list and w2 not in stopword_list:\n",
    "        w1_only_count = word_counts[w1] - w1_w2_count\n",
    "        w2_only_count = word_counts[w2] - w1_w2_count\n",
    "        rest_count = num_bigrams - w1_only_count - w2_only_count - w1_w2_count\n",
    "        pair_chi_squares[(w1, w2)] = chisquare(w1_w2_count, w1_only_count, w2_only_count, rest_count)\n",
    "\n",
    "for (w1, w2), x_2 in pair_chi_squares.most_common(20):\n",
    "    print(\"%s\\t%s\\t%d\\t%f\" % (w1, w2, word_pair_counts[(w1, w2)], x_2))"
   ]
  },
  {
   "cell_type": "code",
   "execution_count": 24,
   "metadata": {
    "colab": {
     "background_save": true
    },
    "id": "nEdcnDy145Vy",
    "outputId": "971fa0b3-064f-4430-9731-e92d35c9dc67"
   },
   "outputs": [
    {
     "name": "stdout",
     "output_type": "stream",
     "text": [
      "many\tbourgeois\t2\t49.412739\n",
      "bourgeois\tprivate\t2\t44.087627\n",
      "petty\tbourgeoisie\t2\t43.023037\n",
      "modern\tworking\t2\t41.985003\n",
      "bourgeois\tfreedom\t2\t39.732201\n",
      "revolutionary\tproletariat\t2\t35.100229\n",
      "old\tconditions\t2\t32.566311\n",
      "feudal\tproperty\t2\t31.386462\n",
      "old\tproperty\t2\t28.685615\n",
      "bourgeois\trevolution\t2\t26.136797\n",
      "modern\tbourgeoisie\t3\t21.380029\n",
      "whole\tbourgeoisie\t2\t20.752016\n",
      "revolutionary\tclass\t2\t20.224783\n",
      "bourgeois\tstate\t2\t17.063629\n",
      "every\tclass\t2\t16.075081\n",
      "bourgeois\tconditions\t3\t16.040705\n",
      "bourgeois\tform\t2\t14.680146\n",
      "one\tclass\t2\t10.562861\n",
      "bourgeois\tproduction\t2\t5.662454\n",
      "bourgeois\tclass\t3\t5.261506\n"
     ]
    }
   ],
   "source": [
    "for (w1, w2), x_2 in pair_chi_squares.most_common()[-20:]:\n",
    "    print(\"%s\\t%s\\t%d\\t%f\" % (w1, w2, word_pair_counts[(w1, w2)], x_2))"
   ]
  },
  {
   "cell_type": "markdown",
   "metadata": {
    "id": "Dj6xBe0K45Vz"
   },
   "source": [
    "# Mutual Information"
   ]
  },
  {
   "cell_type": "markdown",
   "metadata": {
    "id": "i7v0v-i745Vz"
   },
   "source": [
    "## Define a function for computing mutual information"
   ]
  },
  {
   "cell_type": "markdown",
   "metadata": {},
   "source": [
    "### 我的實作"
   ]
  },
  {
   "cell_type": "code",
   "execution_count": 93,
   "metadata": {},
   "outputs": [
    {
     "name": "stdout",
     "output_type": "stream",
     "text": [
      "karl\tmarx\t13.524297\n",
      "frederick\tengels\t13.524297\n",
      "czar\tmetternich\t13.524297\n",
      "police\tspies\t13.524297\n",
      "nursery\ttale\t13.524297\n",
      "italian\tflemish\t13.524297\n",
      "danish\tlanguages\t13.524297\n",
      "plebeian\tlord\t13.524297\n",
      "complicated\tarrangement\t13.524297\n",
      "manifold\tgradation\t13.524297\n",
      "patricians\tknights\t13.524297\n",
      "knights\tplebeians\t13.524297\n",
      "journeymen\tapprentices\t13.524297\n",
      "subordinate\tgradations\t13.524297\n",
      "cape\topened\t13.524297\n",
      "proper\tserving\t13.524297\n",
      "left\tremaining\t13.524297\n",
      "heavenly\tecstacies\t13.524297\n",
      "chivalrous\tenthusiasm\t13.524297\n",
      "egotistical\tcalculation\t13.524297\n"
     ]
    }
   ],
   "source": [
    "import math\n",
    "def mutual_information(p12, p1, p2):\n",
    "    return math.log2(p12 / (p1 * p2))\n",
    "\n",
    "word_counts = Counter(tokens)\n",
    "pair_mutual_information_scores = Counter()\n",
    "for (w1, w2), n in word_pair_counts.most_common():\n",
    "    p12 = n / num_bigrams\n",
    "    p1 = word_counts[w1] / len(tokens)\n",
    "    p2 = word_counts[w2] / len(tokens)\n",
    "    pair_mutual_information_scores[(w1, w2)] = mutual_information(p12, p1, p2)\n",
    "for (w1, w2), MI in pair_mutual_information_scores.most_common(20):\n",
    "    print(\"%s\\t%s\\t%f\" % (w1, w2, MI))"
   ]
  },
  {
   "cell_type": "markdown",
   "metadata": {},
   "source": [
    "### Code 示範"
   ]
  },
  {
   "cell_type": "code",
   "execution_count": 25,
   "metadata": {
    "colab": {
     "background_save": true
    },
    "id": "aboBqRKB45Vz"
   },
   "outputs": [],
   "source": [
    "import math\n",
    "def mutual_information(w1_w2_prob, w1_prob, w2_prob):\n",
    "    return math.log2(w1_w2_prob / (w1_prob * w2_prob))"
   ]
  },
  {
   "cell_type": "code",
   "execution_count": 26,
   "metadata": {
    "colab": {
     "background_save": true
    },
    "id": "6RGyPxFr45Vz",
    "outputId": "fa8fc3d2-3a88-46f2-ac95-7592c3706080"
   },
   "outputs": [
    {
     "name": "stdout",
     "output_type": "stream",
     "text": [
      "karl\tmarx\t1\t13.524297\n",
      "frederick\tengels\t1\t13.524297\n",
      "czar\tmetternich\t1\t13.524297\n",
      "police\tspies\t1\t13.524297\n",
      "nursery\ttale\t1\t13.524297\n",
      "italian\tflemish\t1\t13.524297\n",
      "danish\tlanguages\t1\t13.524297\n",
      "plebeian\tlord\t1\t13.524297\n",
      "complicated\tarrangement\t1\t13.524297\n",
      "manifold\tgradation\t1\t13.524297\n",
      "patricians\tknights\t1\t13.524297\n",
      "knights\tplebeians\t1\t13.524297\n",
      "journeymen\tapprentices\t1\t13.524297\n",
      "subordinate\tgradations\t1\t13.524297\n",
      "cape\topened\t1\t13.524297\n",
      "proper\tserving\t1\t13.524297\n",
      "left\tremaining\t1\t13.524297\n",
      "heavenly\tecstacies\t1\t13.524297\n",
      "chivalrous\tenthusiasm\t1\t13.524297\n",
      "egotistical\tcalculation\t1\t13.524297\n"
     ]
    }
   ],
   "source": [
    "num_unigrams = sum(word_counts.values())\n",
    "\n",
    "pair_mutual_information_scores = Counter()\n",
    "for (w1, w2), w1_w2_count in word_pair_counts.most_common():\n",
    "    if w1_w2_count > 0:\n",
    "        w1_prob = word_counts[w1] / num_unigrams\n",
    "        w2_prob = word_counts[w2] / num_unigrams\n",
    "        w1_w2_prob = w1_w2_count / num_bigrams\n",
    "        pair_mutual_information_scores[(w1, w2)] = mutual_information(w1_w2_prob, w1_prob, w2_prob)\n",
    "\n",
    "for (w1, w2), mi in pair_mutual_information_scores.most_common(20):\n",
    "    print(\"%s\\t%s\\t%d\\t%f\" % (w1, w2, word_pair_counts[(w1, w2)], mi))"
   ]
  },
  {
   "cell_type": "code",
   "execution_count": 27,
   "metadata": {
    "colab": {
     "background_save": true
    },
    "id": "xOul0n4n45Vz",
    "outputId": "fd04c5cc-6747-4450-8748-ac1e5423fd53"
   },
   "outputs": [
    {
     "name": "stdout",
     "output_type": "stream",
     "text": [
      "productive\tforces\t9\t10.064865\n",
      "middle\tages\t7\t9.461287\n",
      "no\tlonger\t14\t8.215308\n",
      "private\tproperty\t7\t7.202369\n",
      "working\tclass\t23\t6.762457\n",
      "modern\tindustry\t11\t6.699483\n",
      "have\tbeen\t7\t6.669874\n",
      "class\tantagonisms\t11\t6.582849\n",
      "proportion\tas\t8\t6.513070\n",
      "ruling\tclass\t11\t6.475934\n",
      "can\tnot\t9\t6.453431\n",
      "just\tas\t6\t6.223563\n",
      "away\twith\t8\t6.165646\n",
      "their\town\t11\t6.138238\n",
      "petty\tbourgeois\t6\t6.020471\n",
      "middle\tclass\t6\t5.708380\n",
      "its\town\t8\t5.660885\n",
      "property\trelations\t6\t5.658048\n",
      "not\tonly\t7\t5.550292\n",
      "class\tstruggle\t6\t5.321357\n"
     ]
    }
   ],
   "source": [
    "num_unigrams = sum(word_counts.values())\n",
    "\n",
    "pair_mutual_information_scores = Counter()\n",
    "for (w1, w2), w1_w2_count in word_pair_counts.most_common():\n",
    "    if w1_w2_count > 5:\n",
    "        w1_prob = word_counts[w1] / num_unigrams\n",
    "        w2_prob = word_counts[w2] / num_unigrams\n",
    "        w1_w2_prob = w1_w2_count / num_bigrams\n",
    "        pair_mutual_information_scores[(w1, w2)] = mutual_information(w1_w2_prob, w1_prob, w2_prob)\n",
    "\n",
    "for (w1, w2), mi in pair_mutual_information_scores.most_common(20):\n",
    "    print(\"%s\\t%s\\t%d\\t%f\" % (w1, w2, word_pair_counts[(w1, w2)], mi))"
   ]
  },
  {
   "cell_type": "markdown",
   "metadata": {
    "id": "a27hbZS445V0"
   },
   "source": [
    "## Now we can filtering out the collocations containing stopwords"
   ]
  },
  {
   "cell_type": "code",
   "execution_count": 28,
   "metadata": {
    "colab": {
     "background_save": true
    },
    "id": "cg8bj7RS45V0",
    "outputId": "1775697a-808f-45c2-c33d-ff3961526616"
   },
   "outputs": [
    {
     "name": "stdout",
     "output_type": "stream",
     "text": [
      "third\testate\t2\t12.524297\n",
      "constitution\tadapted\t2\t12.524297\n",
      "corporate\tguilds\t2\t11.939334\n",
      "eternal\ttruths\t3\t11.524297\n",
      "laid\tbare\t2\t11.524297\n",
      "distinctive\tfeature\t2\t11.354372\n",
      "torn\tasunder\t2\t11.354372\n",
      "eighteenth\tcentury\t3\t11.202369\n",
      "radical\trupture\t2\t11.202369\n",
      "immense\tmajority\t3\t11.109259\n",
      "buying\tdisappears\t2\t10.939334\n",
      "absolute\tmonarchy\t4\t10.880441\n",
      "upper\thand\t2\t10.524297\n",
      "commercial\tcrises\t2\t10.524297\n",
      "various\tstages\t2\t10.524297\n",
      "earlier\tepochs\t2\t10.354372\n",
      "raw\tmaterial\t2\t10.354372\n",
      "complete\tsystems\t2\t10.354372\n",
      "guild\tmasters\t2\t10.202369\n",
      "best\tpossible\t2\t10.202369\n"
     ]
    }
   ],
   "source": [
    "num_unigrams = sum(word_counts.values())\n",
    "\n",
    "pair_mutual_information_scores = Counter()\n",
    "for (w1, w2), w1_w2_count in word_pair_counts.most_common():\n",
    "    if w1_w2_count > 1 and w1 not in stopword_list and w2 not in stopword_list:\n",
    "        w1_prob = word_counts[w1] / num_unigrams\n",
    "        w2_prob = word_counts[w2] / num_unigrams\n",
    "        w1_w2_prob = w1_w2_count / num_bigrams\n",
    "        pair_mutual_information_scores[(w1, w2)] = mutual_information(w1_w2_prob, w1_prob, w2_prob)\n",
    "\n",
    "for (w1, w2), mi in pair_mutual_information_scores.most_common(20):\n",
    "    print(\"%s\\t%s\\t%d\\t%f\" % (w1, w2, word_pair_counts[(w1, w2)], mi))"
   ]
  },
  {
   "cell_type": "code",
   "execution_count": 29,
   "metadata": {
    "colab": {
     "background_save": true
    },
    "id": "VvLGgUvo64U8",
    "outputId": "5ca85e39-39c5-4a1c-96fe-78eaf81c9fc4"
   },
   "outputs": [
    {
     "name": "stdout",
     "output_type": "stream",
     "text": [
      "Counter\t c\t chisquare\t dev\t dev_tmp\t distance\t fin\t i\t math\t \n",
      "mi\t mid\t mutual_information\t nltk\t num_bigrams\t num_pairs\t num_unigrams\t pair\t pair_chi_squares\t \n",
      "pair_deviations\t pair_mean_distances\t pair_mutual_information_scores\t raw_tokens\t rest_count\t s_2\t stopword_list\t stopwords\t text\t \n",
      "token\t tokens\t w\t w1\t w1_only_count\t w1_prob\t w1_w2_count\t w1_w2_prob\t w2\t \n",
      "w2_only_count\t w2_prob\t window_size\t word_counts\t word_pair_counts\t word_pair_distance_counts\t word_pair_nosw_counts\t word_tokenize\t x_2\t \n",
      "\n"
     ]
    }
   ],
   "source": [
    "%who"
   ]
  },
  {
   "cell_type": "markdown",
   "metadata": {
    "id": "KLWZYy-n8vy8"
   },
   "source": [
    "# Visualization\n",
    "\n",
    "[Visualizing Networks in Python](https://towardsdatascience.com/visualizing-networks-in-python-d70f4cbeb259)"
   ]
  },
  {
   "cell_type": "code",
   "execution_count": 30,
   "metadata": {
    "colab": {
     "background_save": true
    },
    "id": "c6r-My7A8xAD",
    "outputId": "1e9c2b32-be37-4e5a-e2b8-921602703753"
   },
   "outputs": [
    {
     "data": {
      "text/html": [
       "<div>\n",
       "<style scoped>\n",
       "    .dataframe tbody tr th:only-of-type {\n",
       "        vertical-align: middle;\n",
       "    }\n",
       "\n",
       "    .dataframe tbody tr th {\n",
       "        vertical-align: top;\n",
       "    }\n",
       "\n",
       "    .dataframe thead th {\n",
       "        text-align: right;\n",
       "    }\n",
       "</style>\n",
       "<table border=\"1\" class=\"dataframe\">\n",
       "  <thead>\n",
       "    <tr style=\"text-align: right;\">\n",
       "      <th></th>\n",
       "      <th>w1</th>\n",
       "      <th>w2</th>\n",
       "      <th>count</th>\n",
       "      <th>mi</th>\n",
       "    </tr>\n",
       "  </thead>\n",
       "  <tbody>\n",
       "    <tr>\n",
       "      <th>0</th>\n",
       "      <td>third</td>\n",
       "      <td>estate</td>\n",
       "      <td>2</td>\n",
       "      <td>12.524297</td>\n",
       "    </tr>\n",
       "    <tr>\n",
       "      <th>1</th>\n",
       "      <td>constitution</td>\n",
       "      <td>adapted</td>\n",
       "      <td>2</td>\n",
       "      <td>12.524297</td>\n",
       "    </tr>\n",
       "    <tr>\n",
       "      <th>2</th>\n",
       "      <td>corporate</td>\n",
       "      <td>guilds</td>\n",
       "      <td>2</td>\n",
       "      <td>11.939334</td>\n",
       "    </tr>\n",
       "    <tr>\n",
       "      <th>3</th>\n",
       "      <td>eternal</td>\n",
       "      <td>truths</td>\n",
       "      <td>3</td>\n",
       "      <td>11.524297</td>\n",
       "    </tr>\n",
       "    <tr>\n",
       "      <th>4</th>\n",
       "      <td>laid</td>\n",
       "      <td>bare</td>\n",
       "      <td>2</td>\n",
       "      <td>11.524297</td>\n",
       "    </tr>\n",
       "    <tr>\n",
       "      <th>...</th>\n",
       "      <td>...</td>\n",
       "      <td>...</td>\n",
       "      <td>...</td>\n",
       "      <td>...</td>\n",
       "    </tr>\n",
       "    <tr>\n",
       "      <th>142</th>\n",
       "      <td>modern</td>\n",
       "      <td>bourgeoisie</td>\n",
       "      <td>3</td>\n",
       "      <td>3.159433</td>\n",
       "    </tr>\n",
       "    <tr>\n",
       "      <th>143</th>\n",
       "      <td>bourgeois</td>\n",
       "      <td>conditions</td>\n",
       "      <td>3</td>\n",
       "      <td>2.836047</td>\n",
       "    </tr>\n",
       "    <tr>\n",
       "      <th>144</th>\n",
       "      <td>one</td>\n",
       "      <td>class</td>\n",
       "      <td>2</td>\n",
       "      <td>2.823857</td>\n",
       "    </tr>\n",
       "    <tr>\n",
       "      <th>145</th>\n",
       "      <td>bourgeois</td>\n",
       "      <td>production</td>\n",
       "      <td>2</td>\n",
       "      <td>2.194501</td>\n",
       "    </tr>\n",
       "    <tr>\n",
       "      <th>146</th>\n",
       "      <td>bourgeois</td>\n",
       "      <td>class</td>\n",
       "      <td>3</td>\n",
       "      <td>1.779463</td>\n",
       "    </tr>\n",
       "  </tbody>\n",
       "</table>\n",
       "<p>147 rows × 4 columns</p>\n",
       "</div>"
      ],
      "text/plain": [
       "               w1           w2  count         mi\n",
       "0           third       estate      2  12.524297\n",
       "1    constitution      adapted      2  12.524297\n",
       "2       corporate       guilds      2  11.939334\n",
       "3         eternal       truths      3  11.524297\n",
       "4            laid         bare      2  11.524297\n",
       "..            ...          ...    ...        ...\n",
       "142        modern  bourgeoisie      3   3.159433\n",
       "143     bourgeois   conditions      3   2.836047\n",
       "144           one        class      2   2.823857\n",
       "145     bourgeois   production      2   2.194501\n",
       "146     bourgeois        class      3   1.779463\n",
       "\n",
       "[147 rows x 4 columns]"
      ]
     },
     "execution_count": 30,
     "metadata": {},
     "output_type": "execute_result"
    }
   ],
   "source": [
    "import pandas as pd\n",
    "# df = pd.DataFrame(pair_mutual_information_scores) # ERROR\n",
    "li = [(w1, w2, word_pair_counts[(w1, w2)], mi) for (w1, w2), mi in pair_mutual_information_scores.most_common()]\n",
    "df = pd.DataFrame.from_records(li, columns =['w1', 'w2', 'count', 'mi'])\n",
    "df"
   ]
  },
  {
   "cell_type": "code",
   "execution_count": 47,
   "metadata": {
    "colab": {
     "background_save": true
    },
    "id": "xiypuRX--gjk"
   },
   "outputs": [],
   "source": [
    "import networkx as nx\n",
    "G = nx.from_pandas_edgelist(df,\n",
    "                            source = 'w1',\n",
    "                            target = 'w2',\n",
    "                            edge_attr = 'mi')"
   ]
  },
  {
   "cell_type": "code",
   "execution_count": 51,
   "metadata": {
    "colab": {
     "background_save": true
    },
    "id": "plc_9ut0-_Ll",
    "outputId": "05e6294e-bf88-4986-bae9-61adfcdbd20f"
   },
   "outputs": [
    {
     "ename": "AttributeError",
     "evalue": "module 'matplotlib.cbook' has no attribute 'iterable'",
     "output_type": "error",
     "traceback": [
      "\u001b[0;31m---------------------------------------------------------------------------\u001b[0m",
      "\u001b[0;31mAttributeError\u001b[0m                            Traceback (most recent call last)",
      "\u001b[0;32m<ipython-input-51-9a11ba033940>\u001b[0m in \u001b[0;36m<module>\u001b[0;34m\u001b[0m\n\u001b[0;32m----> 1\u001b[0;31m \u001b[0mnx\u001b[0m\u001b[0;34m.\u001b[0m\u001b[0mdraw_kamada_kawai\u001b[0m\u001b[0;34m(\u001b[0m\u001b[0mG\u001b[0m\u001b[0;34m)\u001b[0m\u001b[0;34m\u001b[0m\u001b[0;34m\u001b[0m\u001b[0m\n\u001b[0m\u001b[1;32m      2\u001b[0m \u001b[0;31m# nx.draw_spring(G.to_directed())\u001b[0m\u001b[0;34m\u001b[0m\u001b[0;34m\u001b[0m\u001b[0;34m\u001b[0m\u001b[0m\n",
      "\u001b[0;32m~/opt/anaconda3/lib/python3.7/site-packages/networkx/drawing/nx_pylab.py\u001b[0m in \u001b[0;36mdraw_kamada_kawai\u001b[0;34m(G, **kwargs)\u001b[0m\n\u001b[1;32m    987\u001b[0m             \u001b[0mverticalalignment\u001b[0m\u001b[0;34m=\u001b[0m\u001b[0mverticalalignment\u001b[0m\u001b[0;34m,\u001b[0m\u001b[0;34m\u001b[0m\u001b[0;34m\u001b[0m\u001b[0m\n\u001b[1;32m    988\u001b[0m             \u001b[0mtransform\u001b[0m\u001b[0;34m=\u001b[0m\u001b[0max\u001b[0m\u001b[0;34m.\u001b[0m\u001b[0mtransData\u001b[0m\u001b[0;34m,\u001b[0m\u001b[0;34m\u001b[0m\u001b[0;34m\u001b[0m\u001b[0m\n\u001b[0;32m--> 989\u001b[0;31m             \u001b[0mbbox\u001b[0m\u001b[0;34m=\u001b[0m\u001b[0mbbox\u001b[0m\u001b[0;34m,\u001b[0m\u001b[0;34m\u001b[0m\u001b[0;34m\u001b[0m\u001b[0m\n\u001b[0m\u001b[1;32m    990\u001b[0m             \u001b[0mclip_on\u001b[0m\u001b[0;34m=\u001b[0m\u001b[0mclip_on\u001b[0m\u001b[0;34m,\u001b[0m\u001b[0;34m\u001b[0m\u001b[0;34m\u001b[0m\u001b[0m\n\u001b[1;32m    991\u001b[0m         )\n",
      "\u001b[0;32m~/opt/anaconda3/lib/python3.7/site-packages/networkx/drawing/nx_pylab.py\u001b[0m in \u001b[0;36mdraw\u001b[0;34m(G, pos, ax, **kwds)\u001b[0m\n\u001b[1;32m    124\u001b[0m     \u001b[0;32mreturn\u001b[0m\u001b[0;34m\u001b[0m\u001b[0;34m\u001b[0m\u001b[0m\n\u001b[1;32m    125\u001b[0m \u001b[0;34m\u001b[0m\u001b[0m\n\u001b[0;32m--> 126\u001b[0;31m \u001b[0;34m\u001b[0m\u001b[0m\n\u001b[0m\u001b[1;32m    127\u001b[0m \u001b[0;32mdef\u001b[0m \u001b[0mdraw_networkx\u001b[0m\u001b[0;34m(\u001b[0m\u001b[0mG\u001b[0m\u001b[0;34m,\u001b[0m \u001b[0mpos\u001b[0m\u001b[0;34m=\u001b[0m\u001b[0;32mNone\u001b[0m\u001b[0;34m,\u001b[0m \u001b[0marrows\u001b[0m\u001b[0;34m=\u001b[0m\u001b[0;32mNone\u001b[0m\u001b[0;34m,\u001b[0m \u001b[0mwith_labels\u001b[0m\u001b[0;34m=\u001b[0m\u001b[0;32mTrue\u001b[0m\u001b[0;34m,\u001b[0m \u001b[0;34m**\u001b[0m\u001b[0mkwds\u001b[0m\u001b[0;34m)\u001b[0m\u001b[0;34m:\u001b[0m\u001b[0;34m\u001b[0m\u001b[0;34m\u001b[0m\u001b[0m\n\u001b[1;32m    128\u001b[0m     r\"\"\"Draw the graph G using Matplotlib.\n",
      "\u001b[0;32m~/opt/anaconda3/lib/python3.7/site-packages/networkx/drawing/nx_pylab.py\u001b[0m in \u001b[0;36mdraw_networkx\u001b[0;34m(G, pos, arrows, with_labels, **kwds)\u001b[0m\n\u001b[1;32m    276\u001b[0m         \u001b[0;34m\"alpha\"\u001b[0m\u001b[0;34m,\u001b[0m\u001b[0;34m\u001b[0m\u001b[0;34m\u001b[0m\u001b[0m\n\u001b[1;32m    277\u001b[0m         \u001b[0;34m\"cmap\"\u001b[0m\u001b[0;34m,\u001b[0m\u001b[0;34m\u001b[0m\u001b[0;34m\u001b[0m\u001b[0m\n\u001b[0;32m--> 278\u001b[0;31m         \u001b[0;34m\"vmin\"\u001b[0m\u001b[0;34m,\u001b[0m\u001b[0;34m\u001b[0m\u001b[0;34m\u001b[0m\u001b[0m\n\u001b[0m\u001b[1;32m    279\u001b[0m         \u001b[0;34m\"vmax\"\u001b[0m\u001b[0;34m,\u001b[0m\u001b[0;34m\u001b[0m\u001b[0;34m\u001b[0m\u001b[0m\n\u001b[1;32m    280\u001b[0m         \u001b[0;34m\"ax\"\u001b[0m\u001b[0;34m,\u001b[0m\u001b[0;34m\u001b[0m\u001b[0;34m\u001b[0m\u001b[0m\n",
      "\u001b[0;32m~/opt/anaconda3/lib/python3.7/site-packages/networkx/drawing/nx_pylab.py\u001b[0m in \u001b[0;36mdraw_networkx_edges\u001b[0;34m(G, pos, edgelist, width, edge_color, style, alpha, arrowstyle, arrowsize, edge_cmap, edge_vmin, edge_vmax, ax, arrows, label, node_size, nodelist, node_shape, **kwds)\u001b[0m\n\u001b[1;32m    561\u001b[0m         \u001b[0mIf\u001b[0m\u001b[0;31m \u001b[0m\u001b[0;31m`\u001b[0m\u001b[0;32mNone\u001b[0m\u001b[0;31m`\u001b[0m\u001b[0;34m,\u001b[0m \u001b[0mdirected\u001b[0m \u001b[0mgraphs\u001b[0m \u001b[0mdraw\u001b[0m \u001b[0marrowheads\u001b[0m \u001b[0;32mwith\u001b[0m\u001b[0;34m\u001b[0m\u001b[0;34m\u001b[0m\u001b[0m\n\u001b[1;32m    562\u001b[0m         \u001b[0;31m`\u001b[0m\u001b[0;34m~\u001b[0m\u001b[0mmatplotlib\u001b[0m\u001b[0;34m.\u001b[0m\u001b[0mpatches\u001b[0m\u001b[0;34m.\u001b[0m\u001b[0mFancyArrowPatch\u001b[0m\u001b[0;31m`\u001b[0m\u001b[0;34m,\u001b[0m \u001b[0;32mwhile\u001b[0m \u001b[0mundirected\u001b[0m \u001b[0mgraphs\u001b[0m \u001b[0mdraw\u001b[0m \u001b[0medges\u001b[0m\u001b[0;34m\u001b[0m\u001b[0;34m\u001b[0m\u001b[0m\n\u001b[0;32m--> 563\u001b[0;31m         \u001b[0mvia\u001b[0m\u001b[0;31m \u001b[0m\u001b[0;31m`\u001b[0m\u001b[0;34m~\u001b[0m\u001b[0mmatplotlib\u001b[0m\u001b[0;34m.\u001b[0m\u001b[0mcollections\u001b[0m\u001b[0;34m.\u001b[0m\u001b[0mLineCollection\u001b[0m\u001b[0;31m`\u001b[0m \u001b[0;32mfor\u001b[0m \u001b[0mspeed\u001b[0m\u001b[0;34m.\u001b[0m\u001b[0;34m\u001b[0m\u001b[0;34m\u001b[0m\u001b[0m\n\u001b[0m\u001b[1;32m    564\u001b[0m         \u001b[0mIf\u001b[0m\u001b[0;31m \u001b[0m\u001b[0;31m`\u001b[0m\u001b[0;32mTrue\u001b[0m\u001b[0;31m`\u001b[0m\u001b[0;34m,\u001b[0m \u001b[0mdraw\u001b[0m \u001b[0marrowheads\u001b[0m \u001b[0;32mwith\u001b[0m \u001b[0mFancyArrowPatches\u001b[0m \u001b[0;34m(\u001b[0m\u001b[0mbendable\u001b[0m \u001b[0;32mand\u001b[0m \u001b[0mstylish\u001b[0m\u001b[0;34m)\u001b[0m\u001b[0;34m.\u001b[0m\u001b[0;34m\u001b[0m\u001b[0;34m\u001b[0m\u001b[0m\n\u001b[1;32m    565\u001b[0m         \u001b[0mIf\u001b[0m\u001b[0;31m \u001b[0m\u001b[0;31m`\u001b[0m\u001b[0;32mFalse\u001b[0m\u001b[0;31m`\u001b[0m\u001b[0;34m,\u001b[0m \u001b[0mdraw\u001b[0m \u001b[0medges\u001b[0m \u001b[0musing\u001b[0m \u001b[0mLineCollection\u001b[0m \u001b[0;34m(\u001b[0m\u001b[0mlinear\u001b[0m \u001b[0;32mand\u001b[0m \u001b[0mfast\u001b[0m\u001b[0;34m)\u001b[0m\u001b[0;34m.\u001b[0m\u001b[0;34m\u001b[0m\u001b[0;34m\u001b[0m\u001b[0m\n",
      "\u001b[0;31mAttributeError\u001b[0m: module 'matplotlib.cbook' has no attribute 'iterable'"
     ]
    },
    {
     "data": {
      "image/png": "[encoded data removed]",
      "text/plain": [
       "<Figure size 432x288 with 1 Axes>"
      ]
     },
     "metadata": {},
     "output_type": "display_data"
    }
   ],
   "source": [
    "nx.draw_kamada_kawai(G)\n",
    "# nx.draw_spring(G.to_directed())"
   ]
  },
  {
   "cell_type": "code",
   "execution_count": 52,
   "metadata": {
    "colab": {
     "background_save": true
    },
    "id": "rahn6d3o_dir",
    "outputId": "5054cc77-0e26-47a9-933d-aa7ca71b0317"
   },
   "outputs": [
    {
     "data": {
      "text/html": [
       "\n",
       "        <iframe\n",
       "            width=\"2048px\"\n",
       "            height=\"1024px\"\n",
       "            src=\"test.html\"\n",
       "            frameborder=\"0\"\n",
       "            allowfullscreen\n",
       "        ></iframe>\n",
       "        "
      ],
      "text/plain": [
       "<IPython.lib.display.IFrame at 0x7f8484e74e10>"
      ]
     },
     "execution_count": 52,
     "metadata": {},
     "output_type": "execute_result"
    }
   ],
   "source": [
    "# !pip install pyvis\n",
    "from pyvis.network import Network\n",
    "net = Network('1024px', '2048px', notebook=True)\n",
    "net.from_nx(G)\n",
    "net.show(\"test.html\")"
   ]
  },
  {
   "cell_type": "markdown",
   "metadata": {
    "id": "R1N4uWe545V0"
   },
   "source": [
    "# Question\n",
    "\n",
    "1. 與Mutual Information相比，Frequency based 的缺點是什什 麼?\n",
    "2. 處理理 metamorphosis_franz_kafka.txt，找出三種 collocations\n",
    "    * Frequency-based \n",
    "    * Chi-square test \n",
    "    * Mutual information\n",
    "3. metamorphosis_franz_kafka.txt 裡有很多對話或⾃自⾔言⾃自語，⽤用雙 引號區別。請只⽤用括號裡的⽂文字，建立collocations\n",
    "\n",
    "```\n",
    "\"Oh, God\", he thought, \"what a strenuous career it is that I’ve chosen! Travelling day in and day out. Doing business like this takes much more effort than doing your own business at home, and on top of that there's the curse of travelling, worries about making train connections, bad and irregular food, contact with different people all the time so that you can never get to know anyone or become friendly with them. It can all go to Hell!\" He felt a slight itch up on his belly; pushed himself slowly up on his back towards the headboard so that he could lift his head better;\n",
    "```"
   ]
  }
 ],
 "metadata": {
  "celltoolbar": "Slideshow",
  "colab": {
   "collapsed_sections": [],
   "name": "TM02_collocation.ipynb",
   "provenance": [],
   "toc_visible": true
  },
  "kernelspec": {
   "display_name": "Python 3 (ipykernel)",
   "language": "python",
   "name": "python3"
  },
  "language_info": {
   "codemirror_mode": {
    "name": "ipython",
    "version": 3
   },
   "file_extension": ".py",
   "mimetype": "text/x-python",
   "name": "python",
   "nbconvert_exporter": "python",
   "pygments_lexer": "ipython3",
   "version": "3.8.12"
  },
  "toc": {
   "base_numbering": 1,
   "nav_menu": {},
   "number_sections": true,
   "sideBar": true,
   "skip_h1_title": false,
   "title_cell": "Table of Contents",
   "title_sidebar": "Contents",
   "toc_cell": false,
   "toc_position": {
    "height": "calc(100% - 180px)",
    "left": "10px",
    "top": "150px",
    "width": "246px"
   },
   "toc_section_display": true,
   "toc_window_display": true
  }
 },
 "nbformat": 4,
 "nbformat_minor": 4
}
