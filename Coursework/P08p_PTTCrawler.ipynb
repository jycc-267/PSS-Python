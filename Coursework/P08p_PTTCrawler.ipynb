{
 "cells": [
  {
   "cell_type": "markdown",
   "metadata": {},
   "source": [
    "# Crawling PTT\n",
    "\n",
    "* Using BeautifulSoup Extract Text without Tags http://stackoverflow.com/questions/23380171/using-beautifulsoup-extract-text-without-tags\n",
    "* Scraper: [comparing beautifulsoup vs. scrapy](https://stackoverflow.com/questions/19687421/difference-between-beautifulsoup-and-scrapy-crawler)\n",
    "* [comparing beautifulsoup vs. scrapy 2](https://blog.michaelyin.info/scrapy-tutorial-1-scrapy-vs-beautiful-soup/)"
   ]
  },
  {
   "cell_type": "markdown",
   "metadata": {},
   "source": [
    "## (Review) Get url content by requests\n",
    "* try to get the following links (click and observe them, get them by request.get())\n",
    "    * https://www.ptt.cc/bbs/Boy-Girl/index.html\n",
    "    * https://www.ptt.cc/bbs/Gossiping/index.html\n",
    "    * http://ecshweb.pchome.com.tw/search/v3.3/?q=iphone"
   ]
  },
  {
   "cell_type": "code",
   "execution_count": 1,
   "metadata": {},
   "outputs": [],
   "source": [
    "import requests\n",
    "import json\n",
    "url = 'https://www.dcard.tw/service/api/v2/forums/relationship/posts?popular=true'\n",
    "response = requests.get(url)"
   ]
  },
  {
   "cell_type": "code",
   "execution_count": 2,
   "metadata": {},
   "outputs": [
    {
     "data": {
      "text/plain": [
       "200"
      ]
     },
     "execution_count": 2,
     "metadata": {},
     "output_type": "execute_result"
    }
   ],
   "source": [
    "response.status_code"
   ]
  },
  {
   "cell_type": "code",
   "execution_count": 1,
   "metadata": {},
   "outputs": [
    {
     "name": "stdout",
     "output_type": "stream",
     "text": [
      "https://www.ptt.cc/bbs/Boy-Girl/index.html\n"
     ]
    }
   ],
   "source": [
    "import requests\n",
    "url = 'https://www.ptt.cc/bbs/Boy-Girl/index.html'\n",
    "print(url)\n",
    "\n",
    "response = requests.get(url, timeout=(2, 3))\n",
    "# print(response.text)"
   ]
  },
  {
   "cell_type": "markdown",
   "metadata": {},
   "source": [
    "## Using Chrome DevTools to get right elements\n",
    "[Slide: Inspecting HTML by Chrome DevTools](https://docs.google.com/presentation/d/e/2PACX-1vSrIfJQJpr_24wwIjMaTMKiq_xrhZ5n-J26G7xbXC1HIMMKWfMsm6zFWOsX8NxNEN_S46z9PnsASj32/pub?start=false&loop=false&delayms=3000)\n",
    "\n",
    "## Parsing url content by beautifulsoup\n",
    "Beautifulsoup4 https://www.crummy.com/software/BeautifulSoup/bs4/doc/"
   ]
  },
  {
   "cell_type": "markdown",
   "metadata": {},
   "source": [
    "# Scraping and Parsing HTML"
   ]
  },
  {
   "cell_type": "markdown",
   "metadata": {},
   "source": [
    "## Getting response"
   ]
  },
  {
   "cell_type": "code",
   "execution_count": 2,
   "metadata": {},
   "outputs": [],
   "source": [
    "import requests\n",
    "from bs4 import BeautifulSoup\n",
    "\n",
    "url = 'https://www.ptt.cc/bbs/Boy-Girl/index.html'\n",
    "response = requests.get(url, timeout=(2, 3))"
   ]
  },
  {
   "cell_type": "code",
   "execution_count": null,
   "metadata": {},
   "outputs": [],
   "source": [
    "## Converting webpage to a soup object"
   ]
  },
  {
   "cell_type": "code",
   "execution_count": 3,
   "metadata": {
    "tags": []
   },
   "outputs": [
    {
     "name": "stdout",
     "output_type": "stream",
     "text": [
      "<class 'bs4.BeautifulSoup'>\n",
      "<!DOCTYPE html>\n",
      "<html>\n",
      " <head>\n",
      "  <meta charset=\"utf-8\"/>\n",
      "  <meta content=\"width=device-width, initial-scale=1\" name=\"viewport\"/>\n",
      "  <title>\n",
      "   看板 Boy-Girl 文章列表 - 批踢踢實業坊\n",
      "  </title>\n",
      "  <link href=\"//images.ptt.cc/bbs/v2.27/bbs-common.css\" rel=\"stylesheet\" type=\"text/css\"/>\n",
      "  <link href=\"//images.ptt.cc/bbs/v2.27/bbs-base.css\" media=\"screen\" rel=\"stylesheet\" type=\"text/css\"/>\n",
      "  <link href=\"//images.ptt.cc/bbs/v2.27/bbs-custom.css\" rel=\"stylesheet\" type=\"text/css\"/>\n",
      "  <link href=\"//images.ptt.cc/bbs/v2.27/pushstream.css\" media=\"screen\" rel=\"stylesheet\" type=\"text/css\"/>\n",
      "  <link href=\"//images.ptt.cc/bbs/v2.27/bbs-print.css\" media=\"print\" rel=\"stylesheet\" type=\"text/css\"/>\n",
      " </head>\n",
      " <body>\n",
      "  <div id=\"topbar-container\">\n",
      "   <div class=\"bbs-content\" id=\"topbar\">\n",
      "    <a href=\"/bbs/\" id=\"logo\">\n",
      "     批踢踢實業坊\n",
      "    </a>\n",
      "    <span>\n",
      "     ›\n",
      "    </span>\n",
      "    <a class=\"board\" href=\"/bbs/Boy-Girl/index.html\">\n",
      "     <span class=\"board-label\">\n",
      "      看板\n",
      "     </span>\n",
      "     Boy-Girl\n",
      "    </a>\n",
      "    <a class=\"right small\" href=\"/about.html\">\n",
      "     關於我們\n",
      "    </a>\n",
      "    <a class=\"right small\" href=\"/contact.html\">\n",
      "     聯絡資訊\n",
      "    </a>\n",
      "   </div>\n",
      "  </div>\n",
      "  <div id=\"main-container\">\n",
      "   <div id=\"action-bar-container\">\n",
      "    <div class=\"action-bar\">\n",
      "     <div class=\"btn-group btn-group-dir\">\n",
      "      <a class=\"btn selected\" href=\"/bbs/Boy-Girl/index.html\">\n",
      "       看板\n",
      "      </a>\n",
      "      <a class=\"btn\" href=\"/man/Boy-Girl/index.html\">\n",
      "       精華區\n",
      "      </a>\n",
      "     </div>\n",
      "     <div class=\"btn-group btn-group-paging\">\n",
      "      <a class=\"btn wide\" href=\"/bbs/Boy-Girl/index1.html\">\n",
      "       最舊\n",
      "      </a>\n",
      "      <a class=\"btn wide\" href=\"/bbs/Boy-Girl/index5543.html\">\n",
      "       ‹ 上頁\n",
      "      </a>\n",
      "      <a class=\"btn wide disabled\">\n",
      "       下頁 ›\n",
      "      </a>\n",
      "      <a class=\"btn wide\" href=\"/bbs/Boy-Girl/index.html\">\n",
      "       最新\n",
      "      </a>\n",
      "     </div>\n",
      "    </div>\n",
      "   </div>\n",
      "   <div class=\"r-list-container action-bar-margin bbs-screen\">\n",
      "    <div class=\"search-bar\">\n",
      "     <form action=\"search\" id=\"search-bar\" type=\"get\">\n",
      "      <input class=\"query\" name=\"q\" placeholder=\"搜尋文章⋯\" type=\"text\" value=\"\"/>\n",
      "     </form>\n",
      "    </div>\n",
      "    <div class=\"r-ent\">\n",
      "     <div class=\"nrec\">\n",
      "      <span class=\"hl f2\">\n",
      "       2\n",
      "      </span>\n",
      "     </div>\n",
      "     <div class=\"title\">\n",
      "      <a href=\"/bbs/Boy-Girl/M.1636863701.A.F37.html\">\n",
      "       Re: 怎麼樣分手最狠\n",
      "      </a>\n",
      "     </div>\n",
      "     <div class=\"meta\">\n",
      "      <div class=\"author\">\n",
      "       sumade\n",
      "      </div>\n",
      "      <div class=\"article-menu\">\n",
      "       <div class=\"trigger\">\n",
      "        ⋯\n",
      "       </div>\n",
      "       <div class=\"dropdown\">\n",
      "        <div class=\"item\">\n",
      "         <a href=\"/bbs/Boy-Girl/search?q=thread%3A%E6%80%8E%E9%BA%BC%E6%A8%A3%E5%88%86%E6%89%8B%E6%9C%80%E7%8B%A0\">\n",
      "          搜尋同標題文章\n",
      "         </a>\n",
      "        </div>\n",
      "        <div class=\"item\">\n",
      "         <a href=\"/bbs/Boy-Girl/search?q=author%3Asumade\">\n",
      "          搜尋看板內 sumade 的文章\n",
      "         </a>\n",
      "        </div>\n",
      "       </div>\n",
      "      </div>\n",
      "      <div class=\"date\">\n",
      "       11/14\n",
      "      </div>\n",
      "      <div class=\"mark\">\n",
      "      </div>\n",
      "     </div>\n",
      "    </div>\n",
      "    <div class=\"r-list-sep\">\n",
      "    </div>\n",
      "    <div class=\"r-ent\">\n",
      "     <div class=\"nrec\">\n",
      "      <span class=\"hl f2\">\n",
      "       6\n",
      "      </span>\n",
      "     </div>\n",
      "     <div class=\"title\">\n",
      "      <a href=\"/bbs/Boy-Girl/M.1399818891.A.D72.html\">\n",
      "       [公告] 關於新制板規說明（必讀）\n",
      "      </a>\n",
      "     </div>\n",
      "     <div class=\"meta\">\n",
      "      <div class=\"author\">\n",
      "       snda\n",
      "      </div>\n",
      "      <div class=\"article-menu\">\n",
      "       <div class=\"trigger\">\n",
      "        ⋯\n",
      "       </div>\n",
      "       <div class=\"dropdown\">\n",
      "        <div class=\"item\">\n",
      "         <a href=\"/bbs/Boy-Girl/search?q=thread%3A%5B%E5%85%AC%E5%91%8A%5D+%E9%97%9C%E6%96%BC%E6%96%B0%E5%88%B6%E6%9D%BF%E8%A6%8F%E8%AA%AA%E6%98%8E%EF%BC%88%E5%BF%85%E8%AE%80%EF%BC%89\">\n",
      "          搜尋同標題文章\n",
      "         </a>\n",
      "        </div>\n",
      "        <div class=\"item\">\n",
      "         <a href=\"/bbs/Boy-Girl/search?q=author%3Asnda\">\n",
      "          搜尋看板內 snda 的文章\n",
      "         </a>\n",
      "        </div>\n",
      "       </div>\n",
      "      </div>\n",
      "      <div class=\"date\">\n",
      "       5/11\n",
      "      </div>\n",
      "      <div class=\"mark\">\n",
      "       !\n",
      "      </div>\n",
      "     </div>\n",
      "    </div>\n",
      "    <div class=\"r-ent\">\n",
      "     <div class=\"nrec\">\n",
      "     </div>\n",
      "     <div class=\"title\">\n",
      "      <a href=\"/bbs/Boy-Girl/M.1554727003.A.986.html\">\n",
      "       [公告] 檢舉格式教學\n",
      "      </a>\n",
      "     </div>\n",
      "     <div class=\"meta\">\n",
      "      <div class=\"author\">\n",
      "       ChenDao\n",
      "      </div>\n",
      "      <div class=\"article-menu\">\n",
      "       <div class=\"trigger\">\n",
      "        ⋯\n",
      "       </div>\n",
      "       <div class=\"dropdown\">\n",
      "        <div class=\"item\">\n",
      "         <a href=\"/bbs/Boy-Girl/search?q=thread%3A%5B%E5%85%AC%E5%91%8A%5D+%E6%AA%A2%E8%88%89%E6%A0%BC%E5%BC%8F%E6%95%99%E5%AD%B8\">\n",
      "          搜尋同標題文章\n",
      "         </a>\n",
      "        </div>\n",
      "        <div class=\"item\">\n",
      "         <a href=\"/bbs/Boy-Girl/search?q=author%3AChenDao\">\n",
      "          搜尋看板內 ChenDao 的文章\n",
      "         </a>\n",
      "        </div>\n",
      "       </div>\n",
      "      </div>\n",
      "      <div class=\"date\">\n",
      "       4/08\n",
      "      </div>\n",
      "      <div class=\"mark\">\n",
      "       !\n",
      "      </div>\n",
      "     </div>\n",
      "    </div>\n",
      "    <div class=\"r-ent\">\n",
      "     <div class=\"nrec\">\n",
      "     </div>\n",
      "     <div class=\"title\">\n",
      "      <a href=\"/bbs/Boy-Girl/M.1560802697.A.8E6.html\">\n",
      "       [公告] 有關於\"問卷文申請\"\n",
      "      </a>\n",
      "     </div>\n",
      "     <div class=\"meta\">\n",
      "      <div class=\"author\">\n",
      "       ChenDao\n",
      "      </div>\n",
      "      <div class=\"article-menu\">\n",
      "       <div class=\"trigger\">\n",
      "        ⋯\n",
      "       </div>\n",
      "       <div class=\"dropdown\">\n",
      "        <div class=\"item\">\n",
      "         <a href=\"/bbs/Boy-Girl/search?q=thread%3A%5B%E5%85%AC%E5%91%8A%5D+%E6%9C%89%E9%97%9C%E6%96%BC%22%E5%95%8F%E5%8D%B7%E6%96%87%E7%94%B3%E8%AB%8B%22\">\n",
      "          搜尋同標題文章\n",
      "         </a>\n",
      "        </div>\n",
      "        <div class=\"item\">\n",
      "         <a href=\"/bbs/Boy-Girl/search?q=author%3AChenDao\">\n",
      "          搜尋看板內 ChenDao 的文章\n",
      "         </a>\n",
      "        </div>\n",
      "       </div>\n",
      "      </div>\n",
      "      <div class=\"date\">\n",
      "       6/18\n",
      "      </div>\n",
      "      <div class=\"mark\">\n",
      "       !\n",
      "      </div>\n",
      "     </div>\n",
      "    </div>\n",
      "    <div class=\"r-ent\">\n",
      "     <div class=\"nrec\">\n",
      "     </div>\n",
      "     <div class=\"title\">\n",
      "      <a href=\"/bbs/Boy-Girl/M.1565730811.A.BDC.html\">\n",
      "       [公告] 男女板板規\n",
      "      </a>\n",
      "     </div>\n",
      "     <div class=\"meta\">\n",
      "      <div class=\"author\">\n",
      "       ChenDao\n",
      "      </div>\n",
      "      <div class=\"article-menu\">\n",
      "       <div class=\"trigger\">\n",
      "        ⋯\n",
      "       </div>\n",
      "       <div class=\"dropdown\">\n",
      "        <div class=\"item\">\n",
      "         <a href=\"/bbs/Boy-Girl/search?q=thread%3A%5B%E5%85%AC%E5%91%8A%5D+%E7%94%B7%E5%A5%B3%E6%9D%BF%E6%9D%BF%E8%A6%8F\">\n",
      "          搜尋同標題文章\n",
      "         </a>\n",
      "        </div>\n",
      "        <div class=\"item\">\n",
      "         <a href=\"/bbs/Boy-Girl/search?q=author%3AChenDao\">\n",
      "          搜尋看板內 ChenDao 的文章\n",
      "         </a>\n",
      "        </div>\n",
      "       </div>\n",
      "      </div>\n",
      "      <div class=\"date\">\n",
      "       8/14\n",
      "      </div>\n",
      "      <div class=\"mark\">\n",
      "       !\n",
      "      </div>\n",
      "     </div>\n",
      "    </div>\n",
      "    <div class=\"r-ent\">\n",
      "     <div class=\"nrec\">\n",
      "     </div>\n",
      "     <div class=\"title\">\n",
      "      <a href=\"/bbs/Boy-Girl/M.1631115662.A.014.html\">\n",
      "       Fw: [情報] 34th 小天使招考（9/5～9/15）\n",
      "      </a>\n",
      "     </div>\n",
      "     <div class=\"meta\">\n",
      "      <div class=\"author\">\n",
      "       ChenDao\n",
      "      </div>\n",
      "      <div class=\"article-menu\">\n",
      "       <div class=\"trigger\">\n",
      "        ⋯\n",
      "       </div>\n",
      "       <div class=\"dropdown\">\n",
      "        <div class=\"item\">\n",
      "         <a href=\"/bbs/Boy-Girl/search?q=thread%3A%5B%E6%83%85%E5%A0%B1%5D+34th+%E5%B0%8F%E5%A4%A9%E4%BD%BF%E6%8B%9B%E8%80%83%EF%BC%889%2F5%EF%BD%9E9%2F15%EF%BC%89+\">\n",
      "          搜尋同標題文章\n",
      "         </a>\n",
      "        </div>\n",
      "        <div class=\"item\">\n",
      "         <a href=\"/bbs/Boy-Girl/search?q=author%3AChenDao\">\n",
      "          搜尋看板內 ChenDao 的文章\n",
      "         </a>\n",
      "        </div>\n",
      "       </div>\n",
      "      </div>\n",
      "      <div class=\"date\">\n",
      "       9/08\n",
      "      </div>\n",
      "      <div class=\"mark\">\n",
      "       M\n",
      "      </div>\n",
      "     </div>\n",
      "    </div>\n",
      "   </div>\n",
      "  </div>\n",
      "  <script>\n",
      "   (function(i,s,o,g,r,a,m){i['GoogleAnalyticsObject']=r;i[r]=i[r]||function(){\n",
      "  (i[r].q=i[r].q||[]).push(arguments)},i[r].l=1*new Date();a=s.createElement(o),\n",
      "  m=s.getElementsByTagName(o)[0];a.async=1;a.src=g;m.parentNode.insertBefore(a,m)\n",
      "  })(window,document,'script','https://www.google-analytics.com/analytics.js','ga');\n",
      "\n",
      "  ga('create', 'UA-32365737-1', {\n",
      "    cookieDomain: 'ptt.cc',\n",
      "    legacyCookieDomain: 'ptt.cc'\n",
      "  });\n",
      "  ga('send', 'pageview');\n",
      "  </script>\n",
      "  <script src=\"//ajax.googleapis.com/ajax/libs/jquery/2.1.1/jquery.min.js\">\n",
      "  </script>\n",
      "  <script src=\"//images.ptt.cc/bbs/v2.27/bbs.js\">\n",
      "  </script>\n",
      " </body>\n",
      "</html>\n",
      "\n"
     ]
    }
   ],
   "source": [
    "soup = BeautifulSoup(response.text, 'html.parser')\n",
    "print(type(soup))\n",
    "print(soup.prettify()) # 將 soup 轉為有階層的 html 結構"
   ]
  },
  {
   "cell_type": "markdown",
   "metadata": {
    "tags": []
   },
   "source": [
    "## Traversing an html file by soup\n",
    "根據html標籤來存取你要的data"
   ]
  },
  {
   "cell_type": "code",
   "execution_count": 52,
   "metadata": {},
   "outputs": [
    {
     "name": "stdout",
     "output_type": "stream",
     "text": [
      "<title>看板 Boy-Girl 文章列表 - 批踢踢實業坊</title>\n",
      "title\n",
      "看板 Boy-Girl 文章列表 - 批踢踢實業坊\n",
      "<head>\n",
      "<meta charset=\"utf-8\"/>\n",
      "<meta content=\"width=device-width, initial-scale=1\" name=\"viewport\"/>\n",
      "<title>看板 Boy-Girl 文章列表 - 批踢踢實業坊</title>\n",
      "<link href=\"//images.ptt.cc/bbs/v2.27/bbs-common.css\" rel=\"stylesheet\" type=\"text/css\"/>\n",
      "<link href=\"//images.ptt.cc/bbs/v2.27/bbs-base.css\" media=\"screen\" rel=\"stylesheet\" type=\"text/css\"/>\n",
      "<link href=\"//images.ptt.cc/bbs/v2.27/bbs-custom.css\" rel=\"stylesheet\" type=\"text/css\"/>\n",
      "<link href=\"//images.ptt.cc/bbs/v2.27/pushstream.css\" media=\"screen\" rel=\"stylesheet\" type=\"text/css\"/>\n",
      "<link href=\"//images.ptt.cc/bbs/v2.27/bbs-print.css\" media=\"print\" rel=\"stylesheet\" type=\"text/css\"/>\n",
      "</head>\n",
      "head\n",
      "<meta charset=\"utf-8\"/>\n",
      "<link href=\"//images.ptt.cc/bbs/v2.27/bbs-common.css\" rel=\"stylesheet\" type=\"text/css\"/>\n"
     ]
    }
   ],
   "source": [
    "print(soup.title)\n",
    "print(soup.title.name) # print out the name of the tag\n",
    "print(soup.title.string)# or title.text # print out the content of the tag\n",
    "print(soup.title.parent) # print out whole parent tag of title tag\n",
    "print(soup.title.parent.name) # print out the name of parent tag\n",
    "print(soup.title.parent.meta) # prinit out only the first meta of the parent tag\n",
    "print(soup.title.parent.link) # prinit out only the first link of the parent tag"
   ]
  },
  {
   "cell_type": "markdown",
   "metadata": {},
   "source": [
    "## Finding elements: finding all links in the doc"
   ]
  },
  {
   "cell_type": "code",
   "execution_count": 5,
   "metadata": {},
   "outputs": [
    {
     "name": "stdout",
     "output_type": "stream",
     "text": [
      "<class 'bs4.element.ResultSet'>\n",
      "28\n"
     ]
    },
    {
     "data": {
      "text/plain": [
       "[<a href=\"/bbs/\" id=\"logo\">批踢踢實業坊</a>,\n",
       " <a class=\"board\" href=\"/bbs/Boy-Girl/index.html\"><span class=\"board-label\">看板 </span>Boy-Girl</a>,\n",
       " <a class=\"right small\" href=\"/about.html\">關於我們</a>,\n",
       " <a class=\"right small\" href=\"/contact.html\">聯絡資訊</a>,\n",
       " <a class=\"btn selected\" href=\"/bbs/Boy-Girl/index.html\">看板</a>]"
      ]
     },
     "execution_count": 5,
     "metadata": {},
     "output_type": "execute_result"
    }
   ],
   "source": [
    "# 找 soup 裡面所有的 anchor tag\n",
    "soup.find_all(\"a\")\n",
    "\n",
    "print(type(soup.find_all(\"a\"))) # 在結構上長得像 list，可以使用 for loop iterate over whole soup\n",
    "# for n in soup.find_all(\"a\"):\n",
    "#     print(n)\n",
    "\n",
    "print(len(soup.find_all(\"a\")))\n",
    "soup.find_all(\"a\")[:5]"
   ]
  },
  {
   "cell_type": "markdown",
   "metadata": {},
   "source": [
    "## Extracting element content and attribute"
   ]
  },
  {
   "cell_type": "code",
   "execution_count": 6,
   "metadata": {},
   "outputs": [
    {
     "name": "stdout",
     "output_type": "stream",
     "text": [
      "<a href=\"/bbs/\" id=\"logo\">批踢踢實業坊</a>\n",
      "批踢踢實業坊\n",
      "/bbs/\n"
     ]
    }
   ],
   "source": [
    "nodes_a = soup.find_all('a')\n",
    "# print the first found nodes\n",
    "print(nodes_a[0])\n",
    "\n",
    "# print the text/content of the 1st node\n",
    "print(nodes_a[0].text)\n",
    "\n",
    "# print the `href` attribute of the 1st node\n",
    "print(nodes_a[0].get('href'))\n",
    "\n",
    "# for node in nodes_a:\n",
    "#     print(node.get('href')) # 取出所有 href"
   ]
  },
  {
   "cell_type": "code",
   "execution_count": 7,
   "metadata": {},
   "outputs": [
    {
     "name": "stdout",
     "output_type": "stream",
     "text": [
      "/bbs/\n",
      "/bbs/Boy-Girl/index.html\n",
      "/about.html\n",
      "/contact.html\n",
      "/bbs/Boy-Girl/index.html\n"
     ]
    }
   ],
   "source": [
    "# print all link\n",
    "for link in soup.find_all('a')[:5]:\n",
    "    print(link.get('href'))"
   ]
  },
  {
   "cell_type": "markdown",
   "metadata": {},
   "source": [
    "## append() links into a list"
   ]
  },
  {
   "cell_type": "code",
   "execution_count": 8,
   "metadata": {},
   "outputs": [
    {
     "name": "stdout",
     "output_type": "stream",
     "text": [
      "28\n"
     ]
    }
   ],
   "source": [
    "links = []\n",
    "for link in soup.find_all('a'):\n",
    "    links.append(link.get('href'))\n",
    "print(len(links))"
   ]
  },
  {
   "cell_type": "markdown",
   "metadata": {},
   "source": [
    "# Scraping PTT I: Get links from the first page\n",
    "* 注意這行code的class的寫法`for link in soup.find_all(class_ = \"r-ent\"):`\n",
    "* `str.strip()`可以幫你把一個字串前後的空白拿掉。\n",
    "```\n",
    "astring = \"     123123   \\n123123     \"\n",
    "astring.strip()\n",
    "[out]:\"123123   \\n123123\"\n",
    "```\n",
    "\n"
   ]
  },
  {
   "cell_type": "markdown",
   "metadata": {},
   "source": [
    "## Get element by specific class\n",
    "- `.find_all(class_ = '...')` to specify class\n",
    "- `.select(css_selector)` to use css selector"
   ]
  },
  {
   "cell_type": "code",
   "execution_count": 9,
   "metadata": {},
   "outputs": [],
   "source": [
    "# Just re-run thi\n",
    "url = 'https://www.ptt.cc/bbs/Boy-Girl/index.html'\n",
    "response = requests.get(url, timeout=(2, 3))\n",
    "soup = BeautifulSoup(response.text, 'html.parser')"
   ]
  },
  {
   "cell_type": "code",
   "execution_count": 10,
   "metadata": {},
   "outputs": [
    {
     "name": "stdout",
     "output_type": "stream",
     "text": [
      "6\n"
     ]
    }
   ],
   "source": [
    "print(len(soup.find_all(class_='r-ent')))"
   ]
  },
  {
   "cell_type": "code",
   "execution_count": 11,
   "metadata": {},
   "outputs": [
    {
     "name": "stdout",
     "output_type": "stream",
     "text": [
      "<class 'bs4.element.Tag'>\n",
      "<div class=\"r-ent\">\n",
      " <div class=\"nrec\">\n",
      "  <span class=\"hl f2\">\n",
      "   2\n",
      "  </span>\n",
      " </div>\n",
      " <div class=\"title\">\n",
      "  <a href=\"/bbs/Boy-Girl/M.1636863701.A.F37.html\">\n",
      "   Re: 怎麼樣分手最狠\n",
      "  </a>\n",
      " </div>\n",
      " <div class=\"meta\">\n",
      "  <div class=\"author\">\n",
      "   sumade\n",
      "  </div>\n",
      "  <div class=\"article-menu\">\n",
      "   <div class=\"trigger\">\n",
      "    ⋯\n",
      "   </div>\n",
      "   <div class=\"dropdown\">\n",
      "    <div class=\"item\">\n",
      "     <a href=\"/bbs/Boy-Girl/search?q=thread%3A%E6%80%8E%E9%BA%BC%E6%A8%A3%E5%88%86%E6%89%8B%E6%9C%80%E7%8B%A0\">\n",
      "      搜尋同標題文章\n",
      "     </a>\n",
      "    </div>\n",
      "    <div class=\"item\">\n",
      "     <a href=\"/bbs/Boy-Girl/search?q=author%3Asumade\">\n",
      "      搜尋看板內 sumade 的文章\n",
      "     </a>\n",
      "    </div>\n",
      "   </div>\n",
      "  </div>\n",
      "  <div class=\"date\">\n",
      "   11/14\n",
      "  </div>\n",
      "  <div class=\"mark\">\n",
      "  </div>\n",
      " </div>\n",
      "</div>\n",
      "\n",
      "--------------------------------------------------------------------------------\n",
      "<class 'bs4.element.Tag'>\n",
      "<div class=\"r-ent\">\n",
      " <div class=\"nrec\">\n",
      "  <span class=\"hl f2\">\n",
      "   6\n",
      "  </span>\n",
      " </div>\n",
      " <div class=\"title\">\n",
      "  <a href=\"/bbs/Boy-Girl/M.1399818891.A.D72.html\">\n",
      "   [公告] 關於新制板規說明（必讀）\n",
      "  </a>\n",
      " </div>\n",
      " <div class=\"meta\">\n",
      "  <div class=\"author\">\n",
      "   snda\n",
      "  </div>\n",
      "  <div class=\"article-menu\">\n",
      "   <div class=\"trigger\">\n",
      "    ⋯\n",
      "   </div>\n",
      "   <div class=\"dropdown\">\n",
      "    <div class=\"item\">\n",
      "     <a href=\"/bbs/Boy-Girl/search?q=thread%3A%5B%E5%85%AC%E5%91%8A%5D+%E9%97%9C%E6%96%BC%E6%96%B0%E5%88%B6%E6%9D%BF%E8%A6%8F%E8%AA%AA%E6%98%8E%EF%BC%88%E5%BF%85%E8%AE%80%EF%BC%89\">\n",
      "      搜尋同標題文章\n",
      "     </a>\n",
      "    </div>\n",
      "    <div class=\"item\">\n",
      "     <a href=\"/bbs/Boy-Girl/search?q=author%3Asnda\">\n",
      "      搜尋看板內 snda 的文章\n",
      "     </a>\n",
      "    </div>\n",
      "   </div>\n",
      "  </div>\n",
      "  <div class=\"date\">\n",
      "   5/11\n",
      "  </div>\n",
      "  <div class=\"mark\">\n",
      "   !\n",
      "  </div>\n",
      " </div>\n",
      "</div>\n",
      "\n",
      "--------------------------------------------------------------------------------\n"
     ]
    }
   ],
   "source": [
    "for div in soup.find_all(class_ = \"r-ent\")[:2]:\n",
    "    print(type(div))\n",
    "    print(div.prettify())\n",
    "    print(\"-\"*80)"
   ]
  },
  {
   "cell_type": "code",
   "execution_count": 12,
   "metadata": {},
   "outputs": [
    {
     "name": "stdout",
     "output_type": "stream",
     "text": [
      "2Re: 怎麼樣分手最狠sumade⋯搜尋同標題文章搜尋看板內 sumade 的文章11/14\n",
      "--------------------------------------------------------------------------------\n",
      "6[公告] 關於新制板規說明（必讀）snda⋯搜尋同標題文章搜尋看板內 snda 的文章5/11!\n",
      "--------------------------------------------------------------------------------\n",
      "[公告] 檢舉格式教學ChenDao⋯搜尋同標題文章搜尋看板內 ChenDao 的文章4/08!\n",
      "--------------------------------------------------------------------------------\n",
      "[公告] 有關於\"問卷文申請\"ChenDao⋯搜尋同標題文章搜尋看板內 ChenDao 的文章6/18!\n",
      "--------------------------------------------------------------------------------\n",
      "[公告] 男女板板規ChenDao⋯搜尋同標題文章搜尋看板內 ChenDao 的文章8/14!\n",
      "--------------------------------------------------------------------------------\n",
      "Fw: [情報] 34th 小天使招考（9/5～9/15）ChenDao⋯搜尋同標題文章搜尋看板內 ChenDao 的文章9/08M\n",
      "--------------------------------------------------------------------------------\n"
     ]
    }
   ],
   "source": [
    "# stripping white space before and after text\n",
    "# node.get_text(strip = True)\n",
    "for div in soup.find_all(class_ = \"r-ent\"):\n",
    "#     print(div.text) # 輸出 div tag 中的文字部分\n",
    "    print(div.get_text(strip = True)) # .get_text 的好處是除了輸出 .text 的結果之外，他的 argument 可以拿掉空白 = .text.strip()\n",
    "    print(\"-\"*80)"
   ]
  },
  {
   "cell_type": "markdown",
   "metadata": {},
   "source": [
    "## Using try and except to handle exception"
   ]
  },
  {
   "cell_type": "code",
   "execution_count": 27,
   "metadata": {},
   "outputs": [
    {
     "name": "stdout",
     "output_type": "stream",
     "text": [
      "2\n",
      "Re: 怎麼樣分手最狠\n",
      "11/14\n",
      "sumade\n",
      "https://www.ptt.cc//bbs/Boy-Girl/M.1636863701.A.F37.html\n",
      "--------------------------------------------------------------------------------\n",
      "6\n",
      "[公告] 關於新制板規說明（必讀）\n",
      "5/11\n",
      "snda\n",
      "https://www.ptt.cc//bbs/Boy-Girl/M.1399818891.A.D72.html\n",
      "--------------------------------------------------------------------------------\n",
      "\n",
      "[公告] 檢舉格式教學\n",
      "4/08\n",
      "ChenDao\n",
      "https://www.ptt.cc//bbs/Boy-Girl/M.1554727003.A.986.html\n",
      "--------------------------------------------------------------------------------\n",
      "\n",
      "[公告] 有關於\"問卷文申請\"\n",
      "6/18\n",
      "ChenDao\n",
      "https://www.ptt.cc//bbs/Boy-Girl/M.1560802697.A.8E6.html\n",
      "--------------------------------------------------------------------------------\n",
      "\n",
      "[公告] 男女板板規\n",
      "8/14\n",
      "ChenDao\n",
      "https://www.ptt.cc//bbs/Boy-Girl/M.1565730811.A.BDC.html\n",
      "--------------------------------------------------------------------------------\n",
      "\n",
      "Fw: [情報] 34th 小天使招考（9/5～9/15）\n",
      "9/08\n",
      "ChenDao\n",
      "https://www.ptt.cc//bbs/Boy-Girl/M.1631115662.A.014.html\n",
      "--------------------------------------------------------------------------------\n"
     ]
    }
   ],
   "source": [
    "# 處理被刪除的文章: 知道 ERROR成因後避開 ERROR\n",
    "\n",
    "prefix = 'https://www.ptt.cc/'\n",
    "for div in soup.find_all(class_ = \"r-ent\"):\n",
    "    print(div.find(class_='nrec').text.strip())\n",
    "    print(div.find(class_='title').text.strip())\n",
    "    print(div.find(class_='date').text.strip())\n",
    "    print(div.find(class_='author').text.strip())\n",
    "    # if div.find(class_='title').find('a') == None:\n",
    "    #     print(\"The link had been removed\")\n",
    "    # else:\n",
    "    #     print(div.find(class_='title').a.get('href'))\n",
    "\n",
    "# 爬蟲一定會遇到格式不一致的 error，但你不見得知道他發生在哪，需要 try error\n",
    "# 與上方 if-else 結果一樣\n",
    "    try: # 例外處理: if error does happen in try，執行 except 的例外處理\n",
    "        print(prefix + div.find(class_='title').a.get('href'))\n",
    "    except:\n",
    "        print(\"The link had been removed\")\n",
    "    print(\"-\"*80)"
   ]
  },
  {
   "cell_type": "code",
   "execution_count": 29,
   "metadata": {},
   "outputs": [
    {
     "name": "stdout",
     "output_type": "stream",
     "text": [
      "Re: 怎麼樣分手最狠\n",
      "/bbs/Boy-Girl/M.1636863701.A.F37.html\n",
      "Re: [討論] 倒追這個詞是不是父權?\n",
      "/bbs/Boy-Girl/M.1636866171.A.8AD.html\n",
      "[討論] 分手發跟別人的親密照的在想什麼\n",
      "/bbs/Boy-Girl/M.1636872161.A.77D.html\n"
     ]
    }
   ],
   "source": [
    "url = 'https://www.ptt.cc/bbs/Boy-Girl/index.html'\n",
    "response = requests.get(url, timeout = (1, 2))\n",
    "soup = BeautifulSoup(response.text, 'html.parser')\n",
    "\n",
    "for div in soup.find_all(class_ = \"r-ent\")[:3]:\n",
    "    print(div.find(class_=\"title\").text.strip())\n",
    "    try:\n",
    "        print(div.find(class_='title').a['href'])\n",
    "    except:\n",
    "        print(\"The Page was removed\")"
   ]
  },
  {
   "cell_type": "markdown",
   "metadata": {},
   "source": [
    "## Add the prefix url to each url"
   ]
  },
  {
   "cell_type": "code",
   "execution_count": 30,
   "metadata": {},
   "outputs": [
    {
     "name": "stdout",
     "output_type": "stream",
     "text": [
      "Re: 怎麼樣分手最狠\n",
      "https://www.ptt.cc/bbs/Boy-Girl/M.1636863701.A.F37.html\n",
      "Re: [討論] 倒追這個詞是不是父權?\n",
      "https://www.ptt.cc/bbs/Boy-Girl/M.1636866171.A.8AD.html\n",
      "[討論] 分手發跟別人的親密照的在想什麼\n",
      "https://www.ptt.cc/bbs/Boy-Girl/M.1636872161.A.77D.html\n",
      "[公告] 關於新制板規說明（必讀）\n",
      "https://www.ptt.cc/bbs/Boy-Girl/M.1399818891.A.D72.html\n",
      "[公告] 檢舉格式教學\n",
      "https://www.ptt.cc/bbs/Boy-Girl/M.1554727003.A.986.html\n",
      "[公告] 有關於\"問卷文申請\"\n",
      "https://www.ptt.cc/bbs/Boy-Girl/M.1560802697.A.8E6.html\n",
      "[公告] 男女板板規\n",
      "https://www.ptt.cc/bbs/Boy-Girl/M.1565730811.A.BDC.html\n",
      "Fw: [情報] 34th 小天使招考（9/5～9/15）\n",
      "https://www.ptt.cc/bbs/Boy-Girl/M.1631115662.A.014.html\n"
     ]
    }
   ],
   "source": [
    "pre = 'https://www.ptt.cc'\n",
    "url = 'https://www.ptt.cc/bbs/Boy-Girl/index.html'\n",
    "response = requests.get(url, timeout=(2, 3))\n",
    "soup = BeautifulSoup(response.text, 'html.parser')\n",
    "for div in soup.find_all(class_ = \"r-ent\"):\n",
    "    print(div.find(class_=\"title\").text.strip())\n",
    "    try:\n",
    "        print(pre + div.find(class_='title').a['href'])\n",
    "    except:\n",
    "        pass"
   ]
  },
  {
   "cell_type": "markdown",
   "metadata": {},
   "source": [
    "## Just append each scraped url to a list"
   ]
  },
  {
   "cell_type": "code",
   "execution_count": 3,
   "metadata": {},
   "outputs": [
    {
     "name": "stdout",
     "output_type": "stream",
     "text": [
      "16\n",
      "['https://www.ptt.cc/bbs/Boy-Girl/M.1619322667.A.70F.html', 'https://www.ptt.cc/bbs/Boy-Girl/M.1619339081.A.F9D.html', 'https://www.ptt.cc/bbs/Boy-Girl/M.1619348573.A.A00.html', 'https://www.ptt.cc/bbs/Boy-Girl/M.1619349065.A.1D2.html', 'https://www.ptt.cc/bbs/Boy-Girl/M.1619355537.A.844.html', 'https://www.ptt.cc/bbs/Boy-Girl/M.1619355589.A.6F2.html', 'https://www.ptt.cc/bbs/Boy-Girl/M.1619357481.A.E13.html', 'https://www.ptt.cc/bbs/Boy-Girl/M.1619359539.A.B5E.html', 'https://www.ptt.cc/bbs/Boy-Girl/M.1619361577.A.772.html', 'https://www.ptt.cc/bbs/Boy-Girl/M.1619362170.A.96D.html', 'https://www.ptt.cc/bbs/Boy-Girl/M.1619363517.A.B22.html', 'https://www.ptt.cc/bbs/Boy-Girl/M.1399818891.A.D72.html', 'https://www.ptt.cc/bbs/Boy-Girl/M.1554727003.A.986.html', 'https://www.ptt.cc/bbs/Boy-Girl/M.1560802697.A.8E6.html', 'https://www.ptt.cc/bbs/Boy-Girl/M.1565730811.A.BDC.html', 'https://www.ptt.cc/bbs/Boy-Girl/M.1612859347.A.C7A.html']\n"
     ]
    }
   ],
   "source": [
    "import requests\n",
    "from bs4 import BeautifulSoup\n",
    "links = []\n",
    "pre = 'https://www.ptt.cc'\n",
    "\n",
    "url = 'https://www.ptt.cc/bbs/Boy-Girl/index.html'\n",
    "response = requests.get(url, timeout=(2, 3))\n",
    "soup = BeautifulSoup(response.text, 'html.parser')\n",
    "\n",
    "for div in soup.find_all(class_ = \"r-ent\"):\n",
    "    try:\n",
    "        links.append(pre + div.find(class_='title').a['href'])\n",
    "    except:\n",
    "        pass\n",
    "print(len(links))\n",
    "print(links)"
   ]
  },
  {
   "cell_type": "code",
   "execution_count": 39,
   "metadata": {},
   "outputs": [
    {
     "name": "stdout",
     "output_type": "stream",
     "text": [
      "(本文已被刪除) [kaki1231]\n",
      "[{'nrec': '9', 'title': 'Re: 怎麼樣分手最狠', 'date': '11/14', 'link': 'https://www.ptt.cc//bbs/Boy-Girl/M.1636863701.A.F37.html'}, {'nrec': '1', 'title': 'Re: [討論] 倒追這個詞是不是父權?', 'date': '11/14', 'link': 'https://www.ptt.cc//bbs/Boy-Girl/M.1636866171.A.8AD.html'}, {'nrec': '6', 'title': '[公告] 關於新制板規說明（必讀）', 'date': '5/11', 'link': 'https://www.ptt.cc//bbs/Boy-Girl/M.1399818891.A.D72.html'}, {'nrec': '', 'title': '[公告] 檢舉格式教學', 'date': '4/08', 'link': 'https://www.ptt.cc//bbs/Boy-Girl/M.1554727003.A.986.html'}, {'nrec': '', 'title': '[公告] 有關於\"問卷文申請\"', 'date': '6/18', 'link': 'https://www.ptt.cc//bbs/Boy-Girl/M.1560802697.A.8E6.html'}, {'nrec': '', 'title': '[公告] 男女板板規', 'date': '8/14', 'link': 'https://www.ptt.cc//bbs/Boy-Girl/M.1565730811.A.BDC.html'}, {'nrec': '', 'title': 'Fw: [情報] 34th 小天使招考（9/5～9/15）', 'date': '9/08', 'link': 'https://www.ptt.cc//bbs/Boy-Girl/M.1631115662.A.014.html'}]\n"
     ]
    }
   ],
   "source": [
    "links = [] # 存放 url\n",
    "\n",
    "prefix = 'https://www.ptt.cc/'\n",
    "url = 'https://www.ptt.cc/bbs/Boy-Girl/index.html' # 撈一頁的 data，這是最新的一頁，要多撈前幾頁。需要知道最新頁的 index 頁碼。\n",
    "response = requests.get(url, timeout=(2, 3))\n",
    "soup = BeautifulSoup(response.text, 'html.parser')\n",
    "\n",
    "for div in soup.find_all(class_ = \"r-ent\"):\n",
    "    nrec = div.find(class_='nrec').text.strip()\n",
    "    title = div.find(class_='title').text.strip()\n",
    "    date = div.find(class_='date').text.strip()\n",
    "\n",
    "#     print(div.find(class_='nrec').text.strip())\n",
    "#     print(div.find(class_='title').text.strip())\n",
    "#     print(div.find(class_='author').text.strip())\n",
    "#     print(div.find(class_='date').text.strip())\n",
    "    \n",
    "    try:\n",
    "#         print(prefix + div.find(class_='title').a.get('href'))\n",
    "        link = prefix + div.find(class_='title').a.get('href')\n",
    "        temp  = {'nrec': nrec, \n",
    "                 'title': title, \n",
    "                 'date': date, \n",
    "                 'link': link}\n",
    "        links.append(temp)\n",
    "    \n",
    "    # if error happend, what's its title?\n",
    "    except:\n",
    "        print(div.find(class_='title').text.strip())\n",
    "\n",
    "#     if div.find(class_='title').find('a') == None:\n",
    "#         print(\"The link has been removed\")\n",
    "#     else:\n",
    "# #         print(div.find(class_='title').a.get('href'))\n",
    "#     print(\"-\"*80)\n",
    "\n",
    "print(links) # list of dict，可轉為 pandas"
   ]
  },
  {
   "cell_type": "markdown",
   "metadata": {},
   "source": [
    "# Get more links from more pages\n",
    "```\n",
    "https://www.ptt.cc/bbs/Boy-Girl/M.1463279135.A.825.html\n",
    "https://www.ptt.cc/bbs/Boy-Girl/M.1463280694.A.659.html\n",
    "https://www.ptt.cc/bbs/Boy-Girl/M.1463280951.A.42C.html\n",
    "https://www.ptt.cc/bbs/Boy-Girl/M.1463281950.A.094.html\n",
    "https://www.ptt.cc/bbs/Boy-Girl/M.1463281956.A.CE1.html\n",
    "https://www.ptt.cc/bbs/Boy-Girl/M.1463286737.A.ECC.html\n",
    "...\n",
    "```"
   ]
  },
  {
   "cell_type": "markdown",
   "metadata": {},
   "source": [
    "## Get the lastpage id"
   ]
  },
  {
   "cell_type": "code",
   "execution_count": 46,
   "metadata": {},
   "outputs": [
    {
     "name": "stdout",
     "output_type": "stream",
     "text": [
      "[<a class=\"btn selected\" href=\"/bbs/Boy-Girl/index.html\">看板</a>, <a class=\"btn\" href=\"/man/Boy-Girl/index.html\">精華區</a>, <a class=\"btn wide\" href=\"/bbs/Boy-Girl/index1.html\">最舊</a>, <a class=\"btn wide\" href=\"/bbs/Boy-Girl/index5543.html\">‹ 上頁</a>, <a class=\"btn wide disabled\">下頁 ›</a>, <a class=\"btn wide\" href=\"/bbs/Boy-Girl/index.html\">最新</a>]\n",
      "看板\n",
      "精華區\n",
      "最舊\n",
      "‹ 上頁\n",
      "下頁 ›\n",
      "最新\n",
      "/bbs/Boy-Girl/index5543.html\n",
      "5544\n"
     ]
    }
   ],
   "source": [
    "import requests\n",
    "from bs4 import BeautifulSoup\n",
    "url = 'https://www.ptt.cc/bbs/Boy-Girl/index.html' # 最新頁\n",
    "response = requests.get(url, timeout=(2, 3))\n",
    "soup = BeautifulSoup(response.text, 'html.parser')\n",
    "\n",
    "# inspect the former page's href (最新頁的 \"上頁\" ) of latest page\n",
    "print(soup.find_all(class_='btn'))\n",
    "for a in soup.find_all(class_='btn'):\n",
    "    print(a.string)\n",
    "\n",
    "# 上頁在 index = 3 的地方，取出其 href\n",
    "last2nd_url = soup.find_all(class_='btn')[3].get('href')\n",
    "print(last2nd_url)\n",
    "# ex: /bbs/Boy-Girl/index5316.html 目標是取出index後面的頁碼: 5316\n",
    "\n",
    "import re # regex\n",
    "lastpage = int(re.search('index(.+)\\.html', last2nd_url).group(1)) + 1\n",
    "print(lastpage)"
   ]
  },
  {
   "cell_type": "code",
   "execution_count": 47,
   "metadata": {
    "tags": []
   },
   "outputs": [
    {
     "name": "stdout",
     "output_type": "stream",
     "text": [
      "https://www.ptt.cc/bbs/Boy-Girl/index5544.html\n",
      "The link has been removed\n",
      "7\n",
      "https://www.ptt.cc/bbs/Boy-Girl/index5543.html\n",
      "The link has been removed\n",
      "The link has been removed\n",
      "The link has been removed\n",
      "24\n",
      "https://www.ptt.cc/bbs/Boy-Girl/index5542.html\n",
      "44\n",
      "https://www.ptt.cc/bbs/Boy-Girl/index5541.html\n",
      "64\n",
      "https://www.ptt.cc/bbs/Boy-Girl/index5540.html\n",
      "84\n",
      "https://www.ptt.cc/bbs/Boy-Girl/index5539.html\n",
      "104\n",
      "https://www.ptt.cc/bbs/Boy-Girl/index5538.html\n",
      "124\n",
      "https://www.ptt.cc/bbs/Boy-Girl/index5537.html\n",
      "144\n",
      "https://www.ptt.cc/bbs/Boy-Girl/index5536.html\n",
      "164\n",
      "https://www.ptt.cc/bbs/Boy-Girl/index5535.html\n",
      "184\n"
     ]
    }
   ],
   "source": [
    "import requests\n",
    "from bs4 import BeautifulSoup\n",
    "\n",
    "pre = 'https://www.ptt.cc'\n",
    "links = []\n",
    "\n",
    "for i in range(lastpage, lastpage-10, -1): # 一頁一頁抓討論區\n",
    "    \n",
    "    url = 'https://www.ptt.cc/bbs/Boy-Girl/index{}.html'.format(i)\n",
    "    print(url)\n",
    "    \n",
    "    response = requests.get(url, timeout=(2, 3))\n",
    "    soup = BeautifulSoup(response.text, 'html.parser')\n",
    "\n",
    "    for div in soup.find_all(class_ = \"r-ent\"): # 抓每一頁標題的 href\n",
    "        try:\n",
    "            links.append(pre + div.find(class_='title').a['href'])\n",
    "        except:\n",
    "            print(\"The link has been removed\")\n",
    "            pass  \n",
    "    print(len(links))"
   ]
  },
  {
   "cell_type": "code",
   "execution_count": 49,
   "metadata": {},
   "outputs": [
    {
     "data": {
      "text/plain": [
       "['https://www.ptt.cc/bbs/Boy-Girl/M.1636863701.A.F37.html',\n",
       " 'https://www.ptt.cc/bbs/Boy-Girl/M.1636866171.A.8AD.html',\n",
       " 'https://www.ptt.cc/bbs/Boy-Girl/M.1399818891.A.D72.html',\n",
       " 'https://www.ptt.cc/bbs/Boy-Girl/M.1554727003.A.986.html',\n",
       " 'https://www.ptt.cc/bbs/Boy-Girl/M.1560802697.A.8E6.html',\n",
       " 'https://www.ptt.cc/bbs/Boy-Girl/M.1565730811.A.BDC.html',\n",
       " 'https://www.ptt.cc/bbs/Boy-Girl/M.1631115662.A.014.html',\n",
       " 'https://www.ptt.cc/bbs/Boy-Girl/M.1636780844.A.7E5.html',\n",
       " 'https://www.ptt.cc/bbs/Boy-Girl/M.1636788548.A.3A6.html',\n",
       " 'https://www.ptt.cc/bbs/Boy-Girl/M.1636789510.A.8E3.html',\n",
       " 'https://www.ptt.cc/bbs/Boy-Girl/M.1636793088.A.6FB.html',\n",
       " 'https://www.ptt.cc/bbs/Boy-Girl/M.1636801291.A.0B4.html',\n",
       " 'https://www.ptt.cc/bbs/Boy-Girl/M.1636807170.A.176.html',\n",
       " 'https://www.ptt.cc/bbs/Boy-Girl/M.1636819374.A.D8E.html',\n",
       " 'https://www.ptt.cc/bbs/Boy-Girl/M.1636819900.A.212.html',\n",
       " 'https://www.ptt.cc/bbs/Boy-Girl/M.1636825944.A.00A.html',\n",
       " 'https://www.ptt.cc/bbs/Boy-Girl/M.1636826185.A.7F4.html',\n",
       " 'https://www.ptt.cc/bbs/Boy-Girl/M.1636843757.A.57C.html',\n",
       " 'https://www.ptt.cc/bbs/Boy-Girl/M.1636855642.A.C36.html',\n",
       " 'https://www.ptt.cc/bbs/Boy-Girl/M.1636855716.A.3E8.html',\n",
       " 'https://www.ptt.cc/bbs/Boy-Girl/M.1636855969.A.A0D.html',\n",
       " 'https://www.ptt.cc/bbs/Boy-Girl/M.1636858133.A.A19.html',\n",
       " 'https://www.ptt.cc/bbs/Boy-Girl/M.1636861654.A.A21.html',\n",
       " 'https://www.ptt.cc/bbs/Boy-Girl/M.1636862469.A.8A1.html',\n",
       " 'https://www.ptt.cc/bbs/Boy-Girl/M.1636681589.A.85C.html',\n",
       " 'https://www.ptt.cc/bbs/Boy-Girl/M.1636687399.A.340.html',\n",
       " 'https://www.ptt.cc/bbs/Boy-Girl/M.1636695839.A.145.html',\n",
       " 'https://www.ptt.cc/bbs/Boy-Girl/M.1636697913.A.F93.html',\n",
       " 'https://www.ptt.cc/bbs/Boy-Girl/M.1636703320.A.CB4.html',\n",
       " 'https://www.ptt.cc/bbs/Boy-Girl/M.1636703768.A.869.html',\n",
       " 'https://www.ptt.cc/bbs/Boy-Girl/M.1636706308.A.20D.html',\n",
       " 'https://www.ptt.cc/bbs/Boy-Girl/M.1636707081.A.535.html',\n",
       " 'https://www.ptt.cc/bbs/Boy-Girl/M.1636719858.A.E53.html',\n",
       " 'https://www.ptt.cc/bbs/Boy-Girl/M.1636720075.A.0DF.html',\n",
       " 'https://www.ptt.cc/bbs/Boy-Girl/M.1636725424.A.E94.html',\n",
       " 'https://www.ptt.cc/bbs/Boy-Girl/M.1636737423.A.252.html',\n",
       " 'https://www.ptt.cc/bbs/Boy-Girl/M.1636737623.A.C38.html',\n",
       " 'https://www.ptt.cc/bbs/Boy-Girl/M.1636741698.A.221.html',\n",
       " 'https://www.ptt.cc/bbs/Boy-Girl/M.1636756431.A.000.html',\n",
       " 'https://www.ptt.cc/bbs/Boy-Girl/M.1636767377.A.71A.html',\n",
       " 'https://www.ptt.cc/bbs/Boy-Girl/M.1636769849.A.E5D.html',\n",
       " 'https://www.ptt.cc/bbs/Boy-Girl/M.1636771618.A.E91.html',\n",
       " 'https://www.ptt.cc/bbs/Boy-Girl/M.1636775950.A.0E9.html',\n",
       " 'https://www.ptt.cc/bbs/Boy-Girl/M.1636780748.A.CF8.html',\n",
       " 'https://www.ptt.cc/bbs/Boy-Girl/M.1636619611.A.733.html',\n",
       " 'https://www.ptt.cc/bbs/Boy-Girl/M.1636624395.A.4F0.html',\n",
       " 'https://www.ptt.cc/bbs/Boy-Girl/M.1636624861.A.B91.html',\n",
       " 'https://www.ptt.cc/bbs/Boy-Girl/M.1636628817.A.242.html',\n",
       " 'https://www.ptt.cc/bbs/Boy-Girl/M.1636630985.A.911.html',\n",
       " 'https://www.ptt.cc/bbs/Boy-Girl/M.1636631480.A.C7B.html',\n",
       " 'https://www.ptt.cc/bbs/Boy-Girl/M.1636632108.A.7B1.html',\n",
       " 'https://www.ptt.cc/bbs/Boy-Girl/M.1636638695.A.F4F.html',\n",
       " 'https://www.ptt.cc/bbs/Boy-Girl/M.1636639361.A.768.html',\n",
       " 'https://www.ptt.cc/bbs/Boy-Girl/M.1636641538.A.766.html',\n",
       " 'https://www.ptt.cc/bbs/Boy-Girl/M.1636643970.A.877.html',\n",
       " 'https://www.ptt.cc/bbs/Boy-Girl/M.1636645420.A.301.html',\n",
       " 'https://www.ptt.cc/bbs/Boy-Girl/M.1636646174.A.58C.html',\n",
       " 'https://www.ptt.cc/bbs/Boy-Girl/M.1636646736.A.AA3.html',\n",
       " 'https://www.ptt.cc/bbs/Boy-Girl/M.1636649309.A.CDE.html',\n",
       " 'https://www.ptt.cc/bbs/Boy-Girl/M.1636652120.A.5AB.html',\n",
       " 'https://www.ptt.cc/bbs/Boy-Girl/M.1636652623.A.548.html',\n",
       " 'https://www.ptt.cc/bbs/Boy-Girl/M.1636670533.A.26F.html',\n",
       " 'https://www.ptt.cc/bbs/Boy-Girl/M.1636674494.A.EA1.html',\n",
       " 'https://www.ptt.cc/bbs/Boy-Girl/M.1636675876.A.56A.html',\n",
       " 'https://www.ptt.cc/bbs/Boy-Girl/M.1636546561.A.885.html',\n",
       " 'https://www.ptt.cc/bbs/Boy-Girl/M.1636547976.A.322.html',\n",
       " 'https://www.ptt.cc/bbs/Boy-Girl/M.1636549055.A.A7F.html',\n",
       " 'https://www.ptt.cc/bbs/Boy-Girl/M.1636550183.A.315.html',\n",
       " 'https://www.ptt.cc/bbs/Boy-Girl/M.1636550690.A.9C8.html',\n",
       " 'https://www.ptt.cc/bbs/Boy-Girl/M.1636556653.A.059.html',\n",
       " 'https://www.ptt.cc/bbs/Boy-Girl/M.1636557370.A.ED5.html',\n",
       " 'https://www.ptt.cc/bbs/Boy-Girl/M.1636559987.A.99E.html',\n",
       " 'https://www.ptt.cc/bbs/Boy-Girl/M.1636567743.A.22F.html',\n",
       " 'https://www.ptt.cc/bbs/Boy-Girl/M.1636592364.A.6FE.html',\n",
       " 'https://www.ptt.cc/bbs/Boy-Girl/M.1636592864.A.778.html',\n",
       " 'https://www.ptt.cc/bbs/Boy-Girl/M.1636595313.A.F3F.html',\n",
       " 'https://www.ptt.cc/bbs/Boy-Girl/M.1636597826.A.FBB.html',\n",
       " 'https://www.ptt.cc/bbs/Boy-Girl/M.1636599848.A.222.html',\n",
       " 'https://www.ptt.cc/bbs/Boy-Girl/M.1636602622.A.7CC.html',\n",
       " 'https://www.ptt.cc/bbs/Boy-Girl/M.1636603521.A.134.html',\n",
       " 'https://www.ptt.cc/bbs/Boy-Girl/M.1636603584.A.0D9.html',\n",
       " 'https://www.ptt.cc/bbs/Boy-Girl/M.1636607180.A.11D.html',\n",
       " 'https://www.ptt.cc/bbs/Boy-Girl/M.1636612796.A.09E.html',\n",
       " 'https://www.ptt.cc/bbs/Boy-Girl/M.1636616795.A.950.html',\n",
       " 'https://www.ptt.cc/bbs/Boy-Girl/M.1636500948.A.AB9.html',\n",
       " 'https://www.ptt.cc/bbs/Boy-Girl/M.1636503760.A.264.html',\n",
       " 'https://www.ptt.cc/bbs/Boy-Girl/M.1636504802.A.C2B.html',\n",
       " 'https://www.ptt.cc/bbs/Boy-Girl/M.1636509592.A.447.html',\n",
       " 'https://www.ptt.cc/bbs/Boy-Girl/M.1636510321.A.034.html',\n",
       " 'https://www.ptt.cc/bbs/Boy-Girl/M.1636511934.A.84D.html',\n",
       " 'https://www.ptt.cc/bbs/Boy-Girl/M.1636513170.A.3BB.html',\n",
       " 'https://www.ptt.cc/bbs/Boy-Girl/M.1636518365.A.2D9.html',\n",
       " 'https://www.ptt.cc/bbs/Boy-Girl/M.1636521719.A.3FB.html',\n",
       " 'https://www.ptt.cc/bbs/Boy-Girl/M.1636524381.A.A85.html',\n",
       " 'https://www.ptt.cc/bbs/Boy-Girl/M.1636526453.A.5F3.html',\n",
       " 'https://www.ptt.cc/bbs/Boy-Girl/M.1636527197.A.CA2.html',\n",
       " 'https://www.ptt.cc/bbs/Boy-Girl/M.1636527449.A.D49.html',\n",
       " 'https://www.ptt.cc/bbs/Boy-Girl/M.1636531706.A.327.html',\n",
       " 'https://www.ptt.cc/bbs/Boy-Girl/M.1636532655.A.2EC.html',\n",
       " 'https://www.ptt.cc/bbs/Boy-Girl/M.1636534521.A.888.html',\n",
       " 'https://www.ptt.cc/bbs/Boy-Girl/M.1636541583.A.A85.html',\n",
       " 'https://www.ptt.cc/bbs/Boy-Girl/M.1636545734.A.A9F.html',\n",
       " 'https://www.ptt.cc/bbs/Boy-Girl/M.1636546348.A.2DD.html',\n",
       " 'https://www.ptt.cc/bbs/Boy-Girl/M.1636546555.A.123.html',\n",
       " 'https://www.ptt.cc/bbs/Boy-Girl/M.1636377156.A.6F2.html',\n",
       " 'https://www.ptt.cc/bbs/Boy-Girl/M.1636423667.A.796.html',\n",
       " 'https://www.ptt.cc/bbs/Boy-Girl/M.1636425095.A.907.html',\n",
       " 'https://www.ptt.cc/bbs/Boy-Girl/M.1636429587.A.48D.html',\n",
       " 'https://www.ptt.cc/bbs/Boy-Girl/M.1636438527.A.182.html',\n",
       " 'https://www.ptt.cc/bbs/Boy-Girl/M.1636438841.A.019.html',\n",
       " 'https://www.ptt.cc/bbs/Boy-Girl/M.1636440356.A.F14.html',\n",
       " 'https://www.ptt.cc/bbs/Boy-Girl/M.1636440445.A.0D3.html',\n",
       " 'https://www.ptt.cc/bbs/Boy-Girl/M.1636442578.A.559.html',\n",
       " 'https://www.ptt.cc/bbs/Boy-Girl/M.1636443540.A.553.html',\n",
       " 'https://www.ptt.cc/bbs/Boy-Girl/M.1636447648.A.931.html',\n",
       " 'https://www.ptt.cc/bbs/Boy-Girl/M.1636447753.A.C6B.html',\n",
       " 'https://www.ptt.cc/bbs/Boy-Girl/M.1636447838.A.C33.html',\n",
       " 'https://www.ptt.cc/bbs/Boy-Girl/M.1636456833.A.1A5.html',\n",
       " 'https://www.ptt.cc/bbs/Boy-Girl/M.1636459138.A.711.html',\n",
       " 'https://www.ptt.cc/bbs/Boy-Girl/M.1636459329.A.DAE.html',\n",
       " 'https://www.ptt.cc/bbs/Boy-Girl/M.1636461469.A.38D.html',\n",
       " 'https://www.ptt.cc/bbs/Boy-Girl/M.1636476588.A.6E7.html',\n",
       " 'https://www.ptt.cc/bbs/Boy-Girl/M.1636476898.A.C9B.html',\n",
       " 'https://www.ptt.cc/bbs/Boy-Girl/M.1636496886.A.FEB.html',\n",
       " 'https://www.ptt.cc/bbs/Boy-Girl/M.1636290612.A.9DB.html',\n",
       " 'https://www.ptt.cc/bbs/Boy-Girl/M.1636299684.A.C7B.html',\n",
       " 'https://www.ptt.cc/bbs/Boy-Girl/M.1636301262.A.399.html',\n",
       " 'https://www.ptt.cc/bbs/Boy-Girl/M.1636303025.A.F24.html',\n",
       " 'https://www.ptt.cc/bbs/Boy-Girl/M.1636308165.A.724.html',\n",
       " 'https://www.ptt.cc/bbs/Boy-Girl/M.1636309403.A.168.html',\n",
       " 'https://www.ptt.cc/bbs/Boy-Girl/M.1636310768.A.D3F.html',\n",
       " 'https://www.ptt.cc/bbs/Boy-Girl/M.1636313486.A.143.html',\n",
       " 'https://www.ptt.cc/bbs/Boy-Girl/M.1636319561.A.D7D.html',\n",
       " 'https://www.ptt.cc/bbs/Boy-Girl/M.1636334124.A.1DC.html',\n",
       " 'https://www.ptt.cc/bbs/Boy-Girl/M.1636338111.A.8A7.html',\n",
       " 'https://www.ptt.cc/bbs/Boy-Girl/M.1636338129.A.67D.html',\n",
       " 'https://www.ptt.cc/bbs/Boy-Girl/M.1636342444.A.168.html',\n",
       " 'https://www.ptt.cc/bbs/Boy-Girl/M.1636342719.A.AC6.html',\n",
       " 'https://www.ptt.cc/bbs/Boy-Girl/M.1636343883.A.E06.html',\n",
       " 'https://www.ptt.cc/bbs/Boy-Girl/M.1636350754.A.2B3.html',\n",
       " 'https://www.ptt.cc/bbs/Boy-Girl/M.1636356215.A.E12.html',\n",
       " 'https://www.ptt.cc/bbs/Boy-Girl/M.1636359419.A.D70.html',\n",
       " 'https://www.ptt.cc/bbs/Boy-Girl/M.1636359963.A.C13.html',\n",
       " 'https://www.ptt.cc/bbs/Boy-Girl/M.1636368235.A.1F0.html',\n",
       " 'https://www.ptt.cc/bbs/Boy-Girl/M.1636228580.A.19E.html',\n",
       " 'https://www.ptt.cc/bbs/Boy-Girl/M.1636229331.A.B4C.html',\n",
       " 'https://www.ptt.cc/bbs/Boy-Girl/M.1636230349.A.BD8.html',\n",
       " 'https://www.ptt.cc/bbs/Boy-Girl/M.1636243668.A.8D9.html',\n",
       " 'https://www.ptt.cc/bbs/Boy-Girl/M.1636246432.A.534.html',\n",
       " 'https://www.ptt.cc/bbs/Boy-Girl/M.1636247088.A.400.html',\n",
       " 'https://www.ptt.cc/bbs/Boy-Girl/M.1636248701.A.FB8.html',\n",
       " 'https://www.ptt.cc/bbs/Boy-Girl/M.1636248863.A.C5A.html',\n",
       " 'https://www.ptt.cc/bbs/Boy-Girl/M.1636252165.A.3F9.html',\n",
       " 'https://www.ptt.cc/bbs/Boy-Girl/M.1636258674.A.BC7.html',\n",
       " 'https://www.ptt.cc/bbs/Boy-Girl/M.1636258931.A.1C0.html',\n",
       " 'https://www.ptt.cc/bbs/Boy-Girl/M.1636263870.A.188.html',\n",
       " 'https://www.ptt.cc/bbs/Boy-Girl/M.1636264012.A.82C.html',\n",
       " 'https://www.ptt.cc/bbs/Boy-Girl/M.1636267393.A.43F.html',\n",
       " 'https://www.ptt.cc/bbs/Boy-Girl/M.1636269764.A.21C.html',\n",
       " 'https://www.ptt.cc/bbs/Boy-Girl/M.1636273288.A.FF5.html',\n",
       " 'https://www.ptt.cc/bbs/Boy-Girl/M.1636275187.A.508.html',\n",
       " 'https://www.ptt.cc/bbs/Boy-Girl/M.1636276845.A.58A.html',\n",
       " 'https://www.ptt.cc/bbs/Boy-Girl/M.1636277263.A.F73.html',\n",
       " 'https://www.ptt.cc/bbs/Boy-Girl/M.1636283415.A.644.html',\n",
       " 'https://www.ptt.cc/bbs/Boy-Girl/M.1636107613.A.2C2.html',\n",
       " 'https://www.ptt.cc/bbs/Boy-Girl/M.1636107613.A.769.html',\n",
       " 'https://www.ptt.cc/bbs/Boy-Girl/M.1636108118.A.C71.html',\n",
       " 'https://www.ptt.cc/bbs/Boy-Girl/M.1636109330.A.461.html',\n",
       " 'https://www.ptt.cc/bbs/Boy-Girl/M.1636112459.A.FE9.html',\n",
       " 'https://www.ptt.cc/bbs/Boy-Girl/M.1636115255.A.025.html',\n",
       " 'https://www.ptt.cc/bbs/Boy-Girl/M.1636117288.A.570.html',\n",
       " 'https://www.ptt.cc/bbs/Boy-Girl/M.1636119698.A.8C5.html',\n",
       " 'https://www.ptt.cc/bbs/Boy-Girl/M.1636120113.A.121.html',\n",
       " 'https://www.ptt.cc/bbs/Boy-Girl/M.1636129527.A.81B.html',\n",
       " 'https://www.ptt.cc/bbs/Boy-Girl/M.1636130360.A.733.html',\n",
       " 'https://www.ptt.cc/bbs/Boy-Girl/M.1636166191.A.579.html',\n",
       " 'https://www.ptt.cc/bbs/Boy-Girl/M.1636170668.A.BF4.html',\n",
       " 'https://www.ptt.cc/bbs/Boy-Girl/M.1636171234.A.0AD.html',\n",
       " 'https://www.ptt.cc/bbs/Boy-Girl/M.1636174310.A.CBC.html',\n",
       " 'https://www.ptt.cc/bbs/Boy-Girl/M.1636180668.A.B6F.html',\n",
       " 'https://www.ptt.cc/bbs/Boy-Girl/M.1636184559.A.DF6.html',\n",
       " 'https://www.ptt.cc/bbs/Boy-Girl/M.1636199275.A.1B2.html',\n",
       " 'https://www.ptt.cc/bbs/Boy-Girl/M.1636200201.A.651.html',\n",
       " 'https://www.ptt.cc/bbs/Boy-Girl/M.1636205168.A.07D.html']"
      ]
     },
     "execution_count": 49,
     "metadata": {},
     "output_type": "execute_result"
    }
   ],
   "source": [
    "links # 所有文章的 url links，接下來要剖析每一個文章的 html link。"
   ]
  },
  {
   "cell_type": "markdown",
   "metadata": {},
   "source": [
    "## Notes: break, continue, and pass\n",
    "* `break`: 符合條件的時候，就跳出迴圈，別再執行了。\n",
    "* `continue`: 符合條件的時候，就不要執行這一圈了，接下去執行下一圈\n",
    "* `pass`: 不做任何事"
   ]
  },
  {
   "cell_type": "markdown",
   "metadata": {},
   "source": [
    "# Getting post content for each post link\n",
    "* Beautifulsoup has two ways to detect elements and its attributes\n",
    "    * `soup.find()`, `soup.find_all()`\n",
    "    * `soup.select()` <-- You can input CSS selector by this way"
   ]
  },
  {
   "cell_type": "code",
   "execution_count": 50,
   "metadata": {},
   "outputs": [
    {
     "data": {
      "text/plain": [
       "184"
      ]
     },
     "execution_count": 50,
     "metadata": {},
     "output_type": "execute_result"
    }
   ],
   "source": [
    "len(links)"
   ]
  },
  {
   "cell_type": "markdown",
   "metadata": {},
   "source": [
    "## 我的實作"
   ]
  },
  {
   "cell_type": "code",
   "execution_count": 67,
   "metadata": {},
   "outputs": [
    {
     "name": "stdout",
     "output_type": "stream",
     "text": [
      "https://www.ptt.cc/bbs/Boy-Girl/M.1636863701.A.F37.html\n",
      "Re: 怎麼樣分手最狠 - 看板 Boy-Girl - 批踢踢實業坊\n",
      "sumade (斬卍凱蒂貓卍佛)\n",
      "Sun Nov 14 12:21:37 2021\n",
      "39\n",
      "--------------------------------------------------------------------------------\n",
      "https://www.ptt.cc/bbs/Boy-Girl/M.1636866171.A.8AD.html\n",
      "Re: [討論] 倒追這個詞是不是父權? - 看板 Boy-Girl - 批踢踢實業坊\n",
      "cloud72426 (數字只是輔助不是真理)\n",
      "Sun Nov 14 13:02:49 2021\n",
      "26\n",
      "--------------------------------------------------------------------------------\n",
      "https://www.ptt.cc/bbs/Boy-Girl/M.1399818891.A.D72.html\n",
      "[公告] 關於新制板規說明（必讀） - 看板 Boy-Girl - 批踢踢實業坊\n",
      "snda (芽沼)\n",
      "Sun May 11 22:34:47 2014\n",
      "56\n",
      "--------------------------------------------------------------------------------\n",
      "https://www.ptt.cc/bbs/Boy-Girl/M.1554727003.A.986.html\n",
      "[公告] 檢舉格式教學 - 看板 Boy-Girl - 批踢踢實業坊\n",
      "ChenDao (陳到字叔至)\n",
      "Mon Apr  8 20:36:41 2019\n",
      "0\n",
      "--------------------------------------------------------------------------------\n",
      "https://www.ptt.cc/bbs/Boy-Girl/M.1560802697.A.8E6.html\n",
      "[公告] 有關於\"問卷文申請\" - 看板 Boy-Girl - 批踢踢實業坊\n",
      "ChenDao (陳到字叔至)\n",
      "Tue Jun 18 04:18:14 2019\n",
      "0\n",
      "--------------------------------------------------------------------------------\n"
     ]
    }
   ],
   "source": [
    "# 文字如果沒被 tag 包起來的話該如何處理\n",
    "from bs4 import NavigableString\n",
    "\n",
    "all_posts = []\n",
    "\n",
    "for link in links[:5]:\n",
    "    print(link)\n",
    "    response = requests.get(link, timeout = (2, 3))\n",
    "    soup = BeautifulSoup(response.text, 'html.parser')\n",
    "    # print(soup.title)\n",
    "    title = soup.title.text\n",
    "    metas = soup.find_all(class_='article-meta-value')\n",
    "    # print(metas)\n",
    "    author = metas[0].text\n",
    "    timestamp = metas[-1].text\n",
    "    maintext = soup.find(id = 'main-content')\n",
    "    # print(len(maintext))\n",
    "    \n",
    "    content = \"\"\n",
    "    for text in maintext:\n",
    "        if isinstance(text, NavigableString): # if text under maintext is a NavigableString:\n",
    "            content += text.strip()\n",
    "    \n",
    "    # 每一篇文章 append 進 list 一次\n",
    "    all_posts.append({'author':author,\n",
    "                     'title':title,\n",
    "                     'timestamp':timestamp,\n",
    "                     'link':link,\n",
    "                     'content':content})\n",
    "    \n",
    "    # 抓每篇文章的回文\n",
    "    comment_nodes = maintext.find_all(class_='push')\n",
    "    \n",
    "    print(title)\n",
    "    print(author)\n",
    "    print(timestamp)\n",
    "    print(len(comment_nodes))\n",
    "    print(\"-\"*80)"
   ]
  },
  {
   "cell_type": "code",
   "execution_count": 65,
   "metadata": {},
   "outputs": [
    {
     "data": {
      "text/html": [
       "<div>\n",
       "<style scoped>\n",
       "    .dataframe tbody tr th:only-of-type {\n",
       "        vertical-align: middle;\n",
       "    }\n",
       "\n",
       "    .dataframe tbody tr th {\n",
       "        vertical-align: top;\n",
       "    }\n",
       "\n",
       "    .dataframe thead th {\n",
       "        text-align: right;\n",
       "    }\n",
       "</style>\n",
       "<table border=\"1\" class=\"dataframe\">\n",
       "  <thead>\n",
       "    <tr style=\"text-align: right;\">\n",
       "      <th></th>\n",
       "      <th>author</th>\n",
       "      <th>title</th>\n",
       "      <th>timestamp</th>\n",
       "      <th>link</th>\n",
       "      <th>content</th>\n",
       "    </tr>\n",
       "  </thead>\n",
       "  <tbody>\n",
       "    <tr>\n",
       "      <th>0</th>\n",
       "      <td>sumade (斬卍凱蒂貓卍佛)</td>\n",
       "      <td>Re: 怎麼樣分手最狠 - 看板 Boy-Girl - 批踢踢實業坊</td>\n",
       "      <td>Sun Nov 14 12:21:37 2021</td>\n",
       "      <td>https://www.ptt.cc/bbs/Boy-Girl/M.1636863701.A...</td>\n",
       "      <td>我沒有要鼓勵大家報復  只是對不要報復的原因  有點不太理解\\n\\n一樣都是傷害對方  那為...</td>\n",
       "    </tr>\n",
       "    <tr>\n",
       "      <th>1</th>\n",
       "      <td>cloud72426 (數字只是輔助不是真理)</td>\n",
       "      <td>Re: [討論] 倒追這個詞是不是父權? - 看板 Boy-Girl - 批踢踢實業坊</td>\n",
       "      <td>Sun Nov 14 13:02:49 2021</td>\n",
       "      <td>https://www.ptt.cc/bbs/Boy-Girl/M.1636866171.A...</td>\n",
       "      <td>其實也不全然是這樣\\n\\n  在戀愛的世界裡\\n\\n  是有分等級的\\n\\n\\n  不管是你...</td>\n",
       "    </tr>\n",
       "    <tr>\n",
       "      <th>2</th>\n",
       "      <td>snda (芽沼)</td>\n",
       "      <td>[公告] 關於新制板規說明（必讀） - 看板 Boy-Girl - 批踢踢實業坊</td>\n",
       "      <td>Sun May 11 22:34:47 2014</td>\n",
       "      <td>https://www.ptt.cc/bbs/Boy-Girl/M.1399818891.A...</td>\n",
       "      <td>目前已將新制的板規換上\\n由於這次的版本變動幅度較大\\n為免板友適應不良或無法拿捏違規的標準...</td>\n",
       "    </tr>\n",
       "    <tr>\n",
       "      <th>3</th>\n",
       "      <td>ChenDao (陳到字叔至)</td>\n",
       "      <td>[公告] 檢舉格式教學 - 看板 Boy-Girl - 批踢踢實業坊</td>\n",
       "      <td>Mon Apr  8 20:36:41 2019</td>\n",
       "      <td>https://www.ptt.cc/bbs/Boy-Girl/M.1554727003.A...</td>\n",
       "      <td>所以\\n\\n以後檢舉\\n\\n請運用以下方式\\n\\n\\n以下為教學文\\n\\n\\n\\n\\n\\n\\...</td>\n",
       "    </tr>\n",
       "    <tr>\n",
       "      <th>4</th>\n",
       "      <td>ChenDao (陳到字叔至)</td>\n",
       "      <td>[公告] 有關於\"問卷文申請\" - 看板 Boy-Girl - 批踢踢實業坊</td>\n",
       "      <td>Tue Jun 18 04:18:14 2019</td>\n",
       "      <td>https://www.ptt.cc/bbs/Boy-Girl/M.1560802697.A...</td>\n",
       "      <td>這篇公告主要是想統整問卷文的格式\\n\\n不然以往的太混亂\\n\\n造成閱讀判斷不易\\n\\n所以...</td>\n",
       "    </tr>\n",
       "  </tbody>\n",
       "</table>\n",
       "</div>"
      ],
      "text/plain": [
       "                    author                                        title  \\\n",
       "0         sumade (斬卍凱蒂貓卍佛)           Re: 怎麼樣分手最狠 - 看板 Boy-Girl - 批踢踢實業坊   \n",
       "1  cloud72426 (數字只是輔助不是真理)  Re: [討論] 倒追這個詞是不是父權? - 看板 Boy-Girl - 批踢踢實業坊   \n",
       "2                snda (芽沼)     [公告] 關於新制板規說明（必讀） - 看板 Boy-Girl - 批踢踢實業坊   \n",
       "3          ChenDao (陳到字叔至)           [公告] 檢舉格式教學 - 看板 Boy-Girl - 批踢踢實業坊   \n",
       "4          ChenDao (陳到字叔至)       [公告] 有關於\"問卷文申請\" - 看板 Boy-Girl - 批踢踢實業坊   \n",
       "\n",
       "                  timestamp  \\\n",
       "0  Sun Nov 14 12:21:37 2021   \n",
       "1  Sun Nov 14 13:02:49 2021   \n",
       "2  Sun May 11 22:34:47 2014   \n",
       "3  Mon Apr  8 20:36:41 2019   \n",
       "4  Tue Jun 18 04:18:14 2019   \n",
       "\n",
       "                                                link  \\\n",
       "0  https://www.ptt.cc/bbs/Boy-Girl/M.1636863701.A...   \n",
       "1  https://www.ptt.cc/bbs/Boy-Girl/M.1636866171.A...   \n",
       "2  https://www.ptt.cc/bbs/Boy-Girl/M.1399818891.A...   \n",
       "3  https://www.ptt.cc/bbs/Boy-Girl/M.1554727003.A...   \n",
       "4  https://www.ptt.cc/bbs/Boy-Girl/M.1560802697.A...   \n",
       "\n",
       "                                             content  \n",
       "0  我沒有要鼓勵大家報復  只是對不要報復的原因  有點不太理解\\n\\n一樣都是傷害對方  那為...  \n",
       "1  其實也不全然是這樣\\n\\n  在戀愛的世界裡\\n\\n  是有分等級的\\n\\n\\n  不管是你...  \n",
       "2  目前已將新制的板規換上\\n由於這次的版本變動幅度較大\\n為免板友適應不良或無法拿捏違規的標準...  \n",
       "3  所以\\n\\n以後檢舉\\n\\n請運用以下方式\\n\\n\\n以下為教學文\\n\\n\\n\\n\\n\\n\\...  \n",
       "4  這篇公告主要是想統整問卷文的格式\\n\\n不然以往的太混亂\\n\\n造成閱讀判斷不易\\n\\n所以...  "
      ]
     },
     "execution_count": 65,
     "metadata": {},
     "output_type": "execute_result"
    }
   ],
   "source": [
    "import pandas as pd\n",
    "pd.DataFrame(all_posts)"
   ]
  },
  {
   "cell_type": "markdown",
   "metadata": {},
   "source": [
    "## 老師範例"
   ]
  },
  {
   "cell_type": "code",
   "execution_count": 68,
   "metadata": {},
   "outputs": [
    {
     "name": "stdout",
     "output_type": "stream",
     "text": [
      "https://www.ptt.cc/bbs/Boy-Girl/M.1636863701.A.F37.html\n",
      "Re: 怎麼樣分手最狠 - 看板 Boy-Girl - 批踢踢實業坊\n",
      "39\n",
      "--------------------------------------------------------------------------------\n",
      "https://www.ptt.cc/bbs/Boy-Girl/M.1636866171.A.8AD.html\n",
      "Re: [討論] 倒追這個詞是不是父權? - 看板 Boy-Girl - 批踢踢實業坊\n",
      "26\n",
      "--------------------------------------------------------------------------------\n",
      "https://www.ptt.cc/bbs/Boy-Girl/M.1399818891.A.D72.html\n",
      "[公告] 關於新制板規說明（必讀） - 看板 Boy-Girl - 批踢踢實業坊\n",
      "56\n",
      "--------------------------------------------------------------------------------\n",
      "https://www.ptt.cc/bbs/Boy-Girl/M.1554727003.A.986.html\n",
      "[公告] 檢舉格式教學 - 看板 Boy-Girl - 批踢踢實業坊\n",
      "0\n",
      "--------------------------------------------------------------------------------\n",
      "https://www.ptt.cc/bbs/Boy-Girl/M.1560802697.A.8E6.html\n",
      "[公告] 有關於\"問卷文申請\" - 看板 Boy-Girl - 批踢踢實業坊\n",
      "0\n",
      "--------------------------------------------------------------------------------\n"
     ]
    }
   ],
   "source": [
    "# 文字如果沒被 tag 包起來的話該如何處理\n",
    "from bs4 import NavigableString\n",
    "\n",
    "\n",
    "all_posts = []\n",
    "for link in links[:5]:\n",
    "    print(link)\n",
    "    response = requests.get(link, timeout=(2, 3))\n",
    "    soup = BeautifulSoup(response.text, 'html.parser')\n",
    "    title = soup.title.text\n",
    "    metas = soup.find_all(class_='article-meta-value')\n",
    "    author = metas[0].text\n",
    "    timestamp = metas[-1].text\n",
    "    print(title)\n",
    "    content = ''\n",
    "    for text in soup.find(id = 'main-content'):\n",
    "        if isinstance(text, NavigableString):\n",
    "            content += text.strip()\n",
    "    all_posts.append({'author':author,\n",
    "                     'title':title,\n",
    "                     'timestamp':timestamp,\n",
    "                     'link':link,\n",
    "                     'content':content})\n",
    "    \n",
    "    maincontent = soup.find(id = 'main-content')\n",
    "    comment_nodes = maincontent.find_all(class_='push')\n",
    "    print(len(comment_nodes))\n",
    "    \n",
    "    print(\"-\"*80)"
   ]
  },
  {
   "cell_type": "code",
   "execution_count": 69,
   "metadata": {},
   "outputs": [
    {
     "data": {
      "text/html": [
       "<div>\n",
       "<style scoped>\n",
       "    .dataframe tbody tr th:only-of-type {\n",
       "        vertical-align: middle;\n",
       "    }\n",
       "\n",
       "    .dataframe tbody tr th {\n",
       "        vertical-align: top;\n",
       "    }\n",
       "\n",
       "    .dataframe thead th {\n",
       "        text-align: right;\n",
       "    }\n",
       "</style>\n",
       "<table border=\"1\" class=\"dataframe\">\n",
       "  <thead>\n",
       "    <tr style=\"text-align: right;\">\n",
       "      <th></th>\n",
       "      <th>author</th>\n",
       "      <th>title</th>\n",
       "      <th>timestamp</th>\n",
       "      <th>link</th>\n",
       "      <th>content</th>\n",
       "    </tr>\n",
       "  </thead>\n",
       "  <tbody>\n",
       "    <tr>\n",
       "      <th>0</th>\n",
       "      <td>sumade (斬卍凱蒂貓卍佛)</td>\n",
       "      <td>Re: 怎麼樣分手最狠 - 看板 Boy-Girl - 批踢踢實業坊</td>\n",
       "      <td>Sun Nov 14 12:21:37 2021</td>\n",
       "      <td>https://www.ptt.cc/bbs/Boy-Girl/M.1636863701.A...</td>\n",
       "      <td>我沒有要鼓勵大家報復  只是對不要報復的原因  有點不太理解\\n\\n一樣都是傷害對方  那為...</td>\n",
       "    </tr>\n",
       "    <tr>\n",
       "      <th>1</th>\n",
       "      <td>cloud72426 (數字只是輔助不是真理)</td>\n",
       "      <td>Re: [討論] 倒追這個詞是不是父權? - 看板 Boy-Girl - 批踢踢實業坊</td>\n",
       "      <td>Sun Nov 14 13:02:49 2021</td>\n",
       "      <td>https://www.ptt.cc/bbs/Boy-Girl/M.1636866171.A...</td>\n",
       "      <td>其實也不全然是這樣\\n\\n  在戀愛的世界裡\\n\\n  是有分等級的\\n\\n\\n  不管是你...</td>\n",
       "    </tr>\n",
       "    <tr>\n",
       "      <th>2</th>\n",
       "      <td>snda (芽沼)</td>\n",
       "      <td>[公告] 關於新制板規說明（必讀） - 看板 Boy-Girl - 批踢踢實業坊</td>\n",
       "      <td>Sun May 11 22:34:47 2014</td>\n",
       "      <td>https://www.ptt.cc/bbs/Boy-Girl/M.1399818891.A...</td>\n",
       "      <td>目前已將新制的板規換上\\n由於這次的版本變動幅度較大\\n為免板友適應不良或無法拿捏違規的標準...</td>\n",
       "    </tr>\n",
       "    <tr>\n",
       "      <th>3</th>\n",
       "      <td>ChenDao (陳到字叔至)</td>\n",
       "      <td>[公告] 檢舉格式教學 - 看板 Boy-Girl - 批踢踢實業坊</td>\n",
       "      <td>Mon Apr  8 20:36:41 2019</td>\n",
       "      <td>https://www.ptt.cc/bbs/Boy-Girl/M.1554727003.A...</td>\n",
       "      <td>所以\\n\\n以後檢舉\\n\\n請運用以下方式\\n\\n\\n以下為教學文\\n\\n\\n\\n\\n\\n\\...</td>\n",
       "    </tr>\n",
       "    <tr>\n",
       "      <th>4</th>\n",
       "      <td>ChenDao (陳到字叔至)</td>\n",
       "      <td>[公告] 有關於\"問卷文申請\" - 看板 Boy-Girl - 批踢踢實業坊</td>\n",
       "      <td>Tue Jun 18 04:18:14 2019</td>\n",
       "      <td>https://www.ptt.cc/bbs/Boy-Girl/M.1560802697.A...</td>\n",
       "      <td>這篇公告主要是想統整問卷文的格式\\n\\n不然以往的太混亂\\n\\n造成閱讀判斷不易\\n\\n所以...</td>\n",
       "    </tr>\n",
       "  </tbody>\n",
       "</table>\n",
       "</div>"
      ],
      "text/plain": [
       "                    author                                        title  \\\n",
       "0         sumade (斬卍凱蒂貓卍佛)           Re: 怎麼樣分手最狠 - 看板 Boy-Girl - 批踢踢實業坊   \n",
       "1  cloud72426 (數字只是輔助不是真理)  Re: [討論] 倒追這個詞是不是父權? - 看板 Boy-Girl - 批踢踢實業坊   \n",
       "2                snda (芽沼)     [公告] 關於新制板規說明（必讀） - 看板 Boy-Girl - 批踢踢實業坊   \n",
       "3          ChenDao (陳到字叔至)           [公告] 檢舉格式教學 - 看板 Boy-Girl - 批踢踢實業坊   \n",
       "4          ChenDao (陳到字叔至)       [公告] 有關於\"問卷文申請\" - 看板 Boy-Girl - 批踢踢實業坊   \n",
       "\n",
       "                  timestamp  \\\n",
       "0  Sun Nov 14 12:21:37 2021   \n",
       "1  Sun Nov 14 13:02:49 2021   \n",
       "2  Sun May 11 22:34:47 2014   \n",
       "3  Mon Apr  8 20:36:41 2019   \n",
       "4  Tue Jun 18 04:18:14 2019   \n",
       "\n",
       "                                                link  \\\n",
       "0  https://www.ptt.cc/bbs/Boy-Girl/M.1636863701.A...   \n",
       "1  https://www.ptt.cc/bbs/Boy-Girl/M.1636866171.A...   \n",
       "2  https://www.ptt.cc/bbs/Boy-Girl/M.1399818891.A...   \n",
       "3  https://www.ptt.cc/bbs/Boy-Girl/M.1554727003.A...   \n",
       "4  https://www.ptt.cc/bbs/Boy-Girl/M.1560802697.A...   \n",
       "\n",
       "                                             content  \n",
       "0  我沒有要鼓勵大家報復  只是對不要報復的原因  有點不太理解\\n\\n一樣都是傷害對方  那為...  \n",
       "1  其實也不全然是這樣\\n\\n  在戀愛的世界裡\\n\\n  是有分等級的\\n\\n\\n  不管是你...  \n",
       "2  目前已將新制的板規換上\\n由於這次的版本變動幅度較大\\n為免板友適應不良或無法拿捏違規的標準...  \n",
       "3  所以\\n\\n以後檢舉\\n\\n請運用以下方式\\n\\n\\n以下為教學文\\n\\n\\n\\n\\n\\n\\...  \n",
       "4  這篇公告主要是想統整問卷文的格式\\n\\n不然以往的太混亂\\n\\n造成閱讀判斷不易\\n\\n所以...  "
      ]
     },
     "execution_count": 69,
     "metadata": {},
     "output_type": "execute_result"
    }
   ],
   "source": [
    "import pandas as pd\n",
    "pd.DataFrame(all_posts)"
   ]
  },
  {
   "cell_type": "code",
   "execution_count": 40,
   "metadata": {},
   "outputs": [
    {
     "name": "stdout",
     "output_type": "stream",
     "text": [
      "<class 'bs4.BeautifulSoup'>\n",
      "<class 'bs4.BeautifulSoup'>\n",
      "<class 'bs4.BeautifulSoup'>\n",
      "<class 'bs4.BeautifulSoup'>\n",
      "<class 'bs4.BeautifulSoup'>\n"
     ]
    }
   ],
   "source": [
    "for link in links[:5]:\n",
    "    res = requests.get(link, timeout=(1,2))\n",
    "    soup = BeautifulSoup(res.text, 'html.parser')\n",
    "    print(type(soup))"
   ]
  },
  {
   "cell_type": "markdown",
   "metadata": {},
   "source": [
    "## Get metadata"
   ]
  },
  {
   "cell_type": "code",
   "execution_count": 107,
   "metadata": {},
   "outputs": [
    {
     "name": "stdout",
     "output_type": "stream",
     "text": [
      "https://www.ptt.cc/bbs/Boy-Girl/M.1539730274.A.F41.html\n",
      "4\n",
      "GaryLeessang (康巧怡)\n",
      "Boy-Girl\n",
      "Re: [討論] 用錢作人？\n",
      "https://www.ptt.cc/bbs/Boy-Girl/M.1539738513.A.642.html\n",
      "4\n",
      "Joker3 (丑角3)\n",
      "Boy-Girl\n",
      "Re: [討論]女方比我強勢\n",
      "https://www.ptt.cc/bbs/Boy-Girl/M.1539738927.A.0E4.html\n",
      "4\n",
      "Andmacher (含笑半步顛)\n",
      "Boy-Girl\n",
      "Re: [求助] 男友說他有雙妻命\n",
      "https://www.ptt.cc/bbs/Boy-Girl/M.1539739427.A.ED5.html\n",
      "4\n",
      "recant (阿倫)\n",
      "Boy-Girl\n",
      "Re: [討論] 用錢作人？\n",
      "https://www.ptt.cc/bbs/Boy-Girl/M.1539744131.A.5C9.html\n",
      "4\n",
      "xraymugen (無限X光，每個都有學術上)\n",
      "Boy-Girl\n",
      "[討論] 這份統計的真實性\n"
     ]
    }
   ],
   "source": [
    "for link in links[:5]:\n",
    "    print(link)\n",
    "    res = requests.get(link, timeout=(1, 2))\n",
    "    soup = BeautifulSoup(res.text, \"html.parser\")\n",
    "    metas = soup.find_all(class_='article-meta-value')\n",
    "    print(len(metas))\n",
    "    print(metas[0].text)\n",
    "    print(metas[1].text)\n",
    "    print(metas[2].text)"
   ]
  },
  {
   "cell_type": "markdown",
   "metadata": {},
   "source": [
    "## Assign data to variables"
   ]
  },
  {
   "cell_type": "code",
   "execution_count": null,
   "metadata": {},
   "outputs": [],
   "source": [
    "for link in links:\n",
    "    print(link)\n",
    "    res = requests.get(link, timeout=(1, 2))\n",
    "    soup = BeautifulSoup(res.text, \"html.parser\")\n",
    "    metas = soup.find_all(class_='article-meta-value')\n",
    "    author = metas[0].text\n",
    "    title = metas[-2].text\n",
    "    timestamp = metas[-1].text"
   ]
  },
  {
   "cell_type": "markdown",
   "metadata": {},
   "source": [
    "## Get all content\n",
    "```\n",
    "alist = [1, 2, 3]\n",
    "print(isinstance(alist, tuple))\n",
    ": False\n",
    "```"
   ]
  },
  {
   "cell_type": "code",
   "execution_count": 41,
   "metadata": {},
   "outputs": [
    {
     "name": "stdout",
     "output_type": "stream",
     "text": [
      "https://www.ptt.cc/bbs/Boy-Girl/M.1617778263.A.0D4.html\n",
      "218\n",
      "https://www.ptt.cc/bbs/Boy-Girl/M.1617781509.A.D23.html\n",
      "818\n",
      "https://www.ptt.cc/bbs/Boy-Girl/M.1617781865.A.300.html\n",
      "860\n"
     ]
    }
   ],
   "source": [
    "from bs4 import NavigableString\n",
    "for link in links[:3]:\n",
    "    print(link)\n",
    "    res = requests.get(link, timeout=(1, 2))\n",
    "    soup = BeautifulSoup(res.text, \"html.parser\")\n",
    "    metas = soup.find_all(class_='article-meta-value')\n",
    "    if len(metas) == 0: \n",
    "        continue\n",
    "    author = metas[0].text\n",
    "    title = metas[-2].text\n",
    "    timestamp = metas[-1].text\n",
    "    \n",
    "    content = ''\n",
    "    for text in soup.find(id='main-content'):\n",
    "        if isinstance(text, NavigableString):\n",
    "            content += text.strip()\n",
    "    print(len(content)) # calculating number of words"
   ]
  },
  {
   "cell_type": "markdown",
   "metadata": {},
   "source": [
    "## Save them all to a dictionary and append to a list"
   ]
  },
  {
   "cell_type": "code",
   "execution_count": 42,
   "metadata": {},
   "outputs": [
    {
     "name": "stdout",
     "output_type": "stream",
     "text": [
      "https://www.ptt.cc/bbs/Boy-Girl/M.1617778263.A.0D4.html\n",
      "https://www.ptt.cc/bbs/Boy-Girl/M.1617781509.A.D23.html\n",
      "https://www.ptt.cc/bbs/Boy-Girl/M.1617781865.A.300.html\n",
      "https://www.ptt.cc/bbs/Boy-Girl/M.1617782587.A.CF2.html\n",
      "https://www.ptt.cc/bbs/Boy-Girl/M.1617782655.A.85D.html\n"
     ]
    }
   ],
   "source": [
    "from bs4 import NavigableString\n",
    "all_post = []\n",
    "for link in links[:5]:\n",
    "    print(link)\n",
    "    res = requests.get(link, timeout=(1, 2))\n",
    "    soup = BeautifulSoup(res.text, \"html.parser\")\n",
    "    metas = soup.find_all(class_='article-meta-value')\n",
    "    if len(metas) == 0: \n",
    "        continue\n",
    "    author = metas[0].text\n",
    "    title = metas[-2].text\n",
    "    timestamp = metas[-1].text\n",
    "    \n",
    "    content = ''\n",
    "    for text in soup.find(id='main-content'):\n",
    "        if isinstance(text, NavigableString):\n",
    "            content += text.strip()\n",
    "    \n",
    "    all_post.append({'author':author, \n",
    "                     'link':link,\n",
    "                      'title':title, \n",
    "                      'timestamp':timestamp, \n",
    "                      'content':content}) "
   ]
  },
  {
   "cell_type": "code",
   "execution_count": 43,
   "metadata": {},
   "outputs": [
    {
     "data": {
      "text/html": [
       "<div>\n",
       "<style scoped>\n",
       "    .dataframe tbody tr th:only-of-type {\n",
       "        vertical-align: middle;\n",
       "    }\n",
       "\n",
       "    .dataframe tbody tr th {\n",
       "        vertical-align: top;\n",
       "    }\n",
       "\n",
       "    .dataframe thead th {\n",
       "        text-align: right;\n",
       "    }\n",
       "</style>\n",
       "<table border=\"1\" class=\"dataframe\">\n",
       "  <thead>\n",
       "    <tr style=\"text-align: right;\">\n",
       "      <th></th>\n",
       "      <th>author</th>\n",
       "      <th>link</th>\n",
       "      <th>title</th>\n",
       "      <th>timestamp</th>\n",
       "      <th>content</th>\n",
       "    </tr>\n",
       "  </thead>\n",
       "  <tbody>\n",
       "    <tr>\n",
       "      <th>0</th>\n",
       "      <td>pauljet (拜登哥不要)</td>\n",
       "      <td>https://www.ptt.cc/bbs/Boy-Girl/M.1617778263.A...</td>\n",
       "      <td>Re: [求助] 老婆家裡給房子 每次吵架就</td>\n",
       "      <td>Wed Apr  7 14:51:01 2021</td>\n",
       "      <td>你也唸一唸不會離婚啦\\n\\n我有這種老婆要我離婚 又不是傻了\\n\\n先規劃生小孩差不多\\n\\...</td>\n",
       "    </tr>\n",
       "    <tr>\n",
       "      <th>1</th>\n",
       "      <td>madaniel (大孩子的小童話)</td>\n",
       "      <td>https://www.ptt.cc/bbs/Boy-Girl/M.1617781509.A...</td>\n",
       "      <td>Re: [分享] 交到另一半最重要的是把自己準備好</td>\n",
       "      <td>Wed Apr  7 15:45:06 2021</td>\n",
       "      <td>同意M兄這篇\\n\\n\\n我身高182 (對啦我高)、\\n不帥\\n(這輩子只有早餐店阿姨跟我第...</td>\n",
       "    </tr>\n",
       "    <tr>\n",
       "      <th>2</th>\n",
       "      <td>nicehorse06 (嘿嘿馬)</td>\n",
       "      <td>https://www.ptt.cc/bbs/Boy-Girl/M.1617781865.A...</td>\n",
       "      <td>Re: [心情] 明理的基督徒女友說不想浪費時間</td>\n",
       "      <td>Wed Apr  7 15:51:03 2021</td>\n",
       "      <td>我爸沒有信，我媽是真耶穌信徒\\n從小只有斷斷續續去教會，\\n可見下一代的信仰斷層，是教會裡結...</td>\n",
       "    </tr>\n",
       "    <tr>\n",
       "      <th>3</th>\n",
       "      <td>skywendy (天龍溫蒂)</td>\n",
       "      <td>https://www.ptt.cc/bbs/Boy-Girl/M.1617782587.A...</td>\n",
       "      <td>Re: [討論] 心靈出軌比較嚴重嗎？</td>\n",
       "      <td>Wed Apr  7 16:03:05 2021</td>\n",
       "      <td>好像是這樣\\n我有一個男性朋友\\n他跟一個女生很好\\n好到每天互相私訊那種\\n那女生狀況是已...</td>\n",
       "    </tr>\n",
       "    <tr>\n",
       "      <th>4</th>\n",
       "      <td>csgod1325 (alex)</td>\n",
       "      <td>https://www.ptt.cc/bbs/Boy-Girl/M.1617782655.A...</td>\n",
       "      <td>Re: [求助] 老婆家裡給房子 每次吵架就</td>\n",
       "      <td>Wed Apr  7 16:04:13 2021</td>\n",
       "      <td>其實原po算很幸運的\\n家姐老爸從小溺愛，總是特別偏袒\\n台北市市值4000萬房產決定留給不...</td>\n",
       "    </tr>\n",
       "  </tbody>\n",
       "</table>\n",
       "</div>"
      ],
      "text/plain": [
       "               author                                               link  \\\n",
       "0     pauljet (拜登哥不要)  https://www.ptt.cc/bbs/Boy-Girl/M.1617778263.A...   \n",
       "1  madaniel (大孩子的小童話)  https://www.ptt.cc/bbs/Boy-Girl/M.1617781509.A...   \n",
       "2   nicehorse06 (嘿嘿馬)  https://www.ptt.cc/bbs/Boy-Girl/M.1617781865.A...   \n",
       "3     skywendy (天龍溫蒂)  https://www.ptt.cc/bbs/Boy-Girl/M.1617782587.A...   \n",
       "4    csgod1325 (alex)  https://www.ptt.cc/bbs/Boy-Girl/M.1617782655.A...   \n",
       "\n",
       "                       title                 timestamp  \\\n",
       "0     Re: [求助] 老婆家裡給房子 每次吵架就  Wed Apr  7 14:51:01 2021   \n",
       "1  Re: [分享] 交到另一半最重要的是把自己準備好  Wed Apr  7 15:45:06 2021   \n",
       "2   Re: [心情] 明理的基督徒女友說不想浪費時間  Wed Apr  7 15:51:03 2021   \n",
       "3        Re: [討論] 心靈出軌比較嚴重嗎？  Wed Apr  7 16:03:05 2021   \n",
       "4     Re: [求助] 老婆家裡給房子 每次吵架就  Wed Apr  7 16:04:13 2021   \n",
       "\n",
       "                                             content  \n",
       "0  你也唸一唸不會離婚啦\\n\\n我有這種老婆要我離婚 又不是傻了\\n\\n先規劃生小孩差不多\\n\\...  \n",
       "1  同意M兄這篇\\n\\n\\n我身高182 (對啦我高)、\\n不帥\\n(這輩子只有早餐店阿姨跟我第...  \n",
       "2  我爸沒有信，我媽是真耶穌信徒\\n從小只有斷斷續續去教會，\\n可見下一代的信仰斷層，是教會裡結...  \n",
       "3  好像是這樣\\n我有一個男性朋友\\n他跟一個女生很好\\n好到每天互相私訊那種\\n那女生狀況是已...  \n",
       "4  其實原po算很幸運的\\n家姐老爸從小溺愛，總是特別偏袒\\n台北市市值4000萬房產決定留給不...  "
      ]
     },
     "execution_count": 43,
     "metadata": {},
     "output_type": "execute_result"
    }
   ],
   "source": [
    "import pandas as pd\n",
    "pd.DataFrame(all_post)"
   ]
  },
  {
   "cell_type": "markdown",
   "metadata": {},
   "source": [
    "# Saving data"
   ]
  },
  {
   "cell_type": "code",
   "execution_count": 71,
   "metadata": {},
   "outputs": [],
   "source": [
    "import pickle\n",
    "with open('ptt1092_testing.pkl', 'wb') as fout:  # Python 3: open(..., 'wb')\n",
    "    pickle.dump(all_posts, fout)"
   ]
  }
 ],
 "metadata": {
  "kernelspec": {
   "display_name": "Python 3 (ipykernel)",
   "language": "python",
   "name": "python3"
  },
  "language_info": {
   "codemirror_mode": {
    "name": "ipython",
    "version": 3
   },
   "file_extension": ".py",
   "mimetype": "text/x-python",
   "name": "python",
   "nbconvert_exporter": "python",
   "pygments_lexer": "ipython3",
   "version": "3.8.12"
  },
  "toc": {
   "base_numbering": 1,
   "nav_menu": {},
   "number_sections": true,
   "sideBar": true,
   "skip_h1_title": false,
   "title_cell": "Table of Contents",
   "title_sidebar": "Contents",
   "toc_cell": false,
   "toc_position": {
    "height": "calc(100% - 180px)",
    "left": "10px",
    "top": "150px",
    "width": "375px"
   },
   "toc_section_display": true,
   "toc_window_display": true
  },
  "toc-autonumbering": true
 },
 "nbformat": 4,
 "nbformat_minor": 4
}
