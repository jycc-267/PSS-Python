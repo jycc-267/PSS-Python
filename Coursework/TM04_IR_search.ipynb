{
 "cells": [
  {
   "cell_type": "markdown",
   "metadata": {},
   "source": [
    "# Information retrieval and Search\n",
    "- We have a lot of documents, we hope to extract their significant characteristics compared to others."
   ]
  },
  {
   "cell_type": "markdown",
   "metadata": {},
   "source": [
    "## Build Data\n",
    "Each doc has been tokenzied to a word list"
   ]
  },
  {
   "cell_type": "code",
   "execution_count": 43,
   "metadata": {
    "collapsed": false,
    "jupyter": {
     "outputs_hidden": false
    }
   },
   "outputs": [
    {
     "name": "stdout",
     "output_type": "stream",
     "text": [
      "Number of documents: 5669\n",
      "dict_keys(['title', 'content'])\n",
      "['Mounting', 'trade', 'friction', 'between', 'the', 'U', '.', 'S', '.', 'And', 'Japan', 'has', 'raised', 'fears', 'among', 'many', 'of', 'Asia', \"'\", 's', 'exporting', 'nations', 'that', 'the', 'row', 'could', 'inflict', 'far', '-', 'reaching', 'economic', 'damage', ',', 'businessmen', 'and', 'officials', 'said', '.', 'They', 'told', 'Reuter', 'correspondents', 'in', 'Asian', 'capitals', 'a', 'U', '.', 'S', '.', 'Move', 'against', 'Japan', 'might', 'boost', 'protectionist', 'sentiment', 'in', 'the', 'U', '.', 'S', '.', 'And', 'lead', 'to', 'curbs', 'on', 'American', 'imports', 'of', 'their', 'products', '.', 'But', 'some', 'exporters', 'said', 'that', 'while', 'the', 'conflict', 'would', 'hurt', 'them', 'in', 'the', 'long', '-', 'run', ',', 'in', 'the', 'short', '-', 'term', 'Tokyo', \"'\", 's', 'loss']\n"
     ]
    }
   ],
   "source": [
    "import json\n",
    "import pandas as pd\n",
    "\n",
    "with open(\"data/reuters.json\") as fin:\n",
    "    documents = json.load(fin)\n",
    "\n",
    "print(\"Number of documents: %d\" % len(documents))\n",
    "print(documents[0].keys()) # field: title, content\n",
    "print(documents[0]['content'][:100])"
   ]
  },
  {
   "cell_type": "code",
   "execution_count": 69,
   "metadata": {},
   "outputs": [
    {
     "data": {
      "text/html": [
       "<div>\n",
       "<style scoped>\n",
       "    .dataframe tbody tr th:only-of-type {\n",
       "        vertical-align: middle;\n",
       "    }\n",
       "\n",
       "    .dataframe tbody tr th {\n",
       "        vertical-align: top;\n",
       "    }\n",
       "\n",
       "    .dataframe thead th {\n",
       "        text-align: right;\n",
       "    }\n",
       "</style>\n",
       "<table border=\"1\" class=\"dataframe\">\n",
       "  <thead>\n",
       "    <tr style=\"text-align: right;\">\n",
       "      <th></th>\n",
       "      <th>title</th>\n",
       "      <th>content</th>\n",
       "    </tr>\n",
       "  </thead>\n",
       "  <tbody>\n",
       "    <tr>\n",
       "      <th>0</th>\n",
       "      <td>ASIAN EXPORTERS FEAR DAMAGE FROM U . S .- JAPA...</td>\n",
       "      <td>[Mounting, trade, friction, between, the, U, ....</td>\n",
       "    </tr>\n",
       "    <tr>\n",
       "      <th>1</th>\n",
       "      <td>CHINA DAILY SAYS VERMIN EAT 7 - 12 PCT GRAIN S...</td>\n",
       "      <td>[survey, of, 19, provinces, and, seven, cities...</td>\n",
       "    </tr>\n",
       "    <tr>\n",
       "      <th>2</th>\n",
       "      <td>JAPAN TO REVISE LONG - TERM ENERGY DEMAND DOWN...</td>\n",
       "      <td>[The, Ministry, of, International, Trade, and,...</td>\n",
       "    </tr>\n",
       "    <tr>\n",
       "      <th>3</th>\n",
       "      <td>THAI TRADE DEFICIT WIDENS IN FIRST QUARTER</td>\n",
       "      <td>[Thailand, ', s, trade, deficit, widened, to, ...</td>\n",
       "    </tr>\n",
       "    <tr>\n",
       "      <th>4</th>\n",
       "      <td>INDONESIA SEES CPO PRICE RISING SHARPLY</td>\n",
       "      <td>[Indonesia, expects, crude, palm, oil, (, CPO,...</td>\n",
       "    </tr>\n",
       "    <tr>\n",
       "      <th>...</th>\n",
       "      <td>...</td>\n",
       "      <td>...</td>\n",
       "    </tr>\n",
       "    <tr>\n",
       "      <th>5664</th>\n",
       "      <td>FED SETS TWO BILLION DLR CUSTOMER REPURCHASE</td>\n",
       "      <td>[The, Federal, Reserve, entered, the, U, ., S,...</td>\n",
       "    </tr>\n",
       "    <tr>\n",
       "      <th>5665</th>\n",
       "      <td>SENATE SEEKS U . S . PROBE OF CANADIAN CORN LEVY</td>\n",
       "      <td>[The, Senate, voted, unanimously, to, seek, an...</td>\n",
       "    </tr>\n",
       "    <tr>\n",
       "      <th>5666</th>\n",
       "      <td>U . K . MONEY MARKET SHORTAGE FORECAST REVISED...</td>\n",
       "      <td>[The, Bank, of, England, said, it, had, revise...</td>\n",
       "    </tr>\n",
       "    <tr>\n",
       "      <th>5667</th>\n",
       "      <td>KNIGHT - RIDDER INC &amp;</td>\n",
       "      <td>[lt, ;, KRN, &gt;, SETS, QUARTERLY, Qtly, div, 25...</td>\n",
       "    </tr>\n",
       "    <tr>\n",
       "      <th>5668</th>\n",
       "      <td>NATIONWIDE CELLULAR SERVICE INC &amp;</td>\n",
       "      <td>[lt, ;, NCEL, &gt;, 4TH, QTR, Shr, loss, six, cts...</td>\n",
       "    </tr>\n",
       "  </tbody>\n",
       "</table>\n",
       "<p>5669 rows × 2 columns</p>\n",
       "</div>"
      ],
      "text/plain": [
       "                                                  title  \\\n",
       "0     ASIAN EXPORTERS FEAR DAMAGE FROM U . S .- JAPA...   \n",
       "1     CHINA DAILY SAYS VERMIN EAT 7 - 12 PCT GRAIN S...   \n",
       "2     JAPAN TO REVISE LONG - TERM ENERGY DEMAND DOWN...   \n",
       "3            THAI TRADE DEFICIT WIDENS IN FIRST QUARTER   \n",
       "4               INDONESIA SEES CPO PRICE RISING SHARPLY   \n",
       "...                                                 ...   \n",
       "5664       FED SETS TWO BILLION DLR CUSTOMER REPURCHASE   \n",
       "5665   SENATE SEEKS U . S . PROBE OF CANADIAN CORN LEVY   \n",
       "5666  U . K . MONEY MARKET SHORTAGE FORECAST REVISED...   \n",
       "5667                              KNIGHT - RIDDER INC &   \n",
       "5668                  NATIONWIDE CELLULAR SERVICE INC &   \n",
       "\n",
       "                                                content  \n",
       "0     [Mounting, trade, friction, between, the, U, ....  \n",
       "1     [survey, of, 19, provinces, and, seven, cities...  \n",
       "2     [The, Ministry, of, International, Trade, and,...  \n",
       "3     [Thailand, ', s, trade, deficit, widened, to, ...  \n",
       "4     [Indonesia, expects, crude, palm, oil, (, CPO,...  \n",
       "...                                                 ...  \n",
       "5664  [The, Federal, Reserve, entered, the, U, ., S,...  \n",
       "5665  [The, Senate, voted, unanimously, to, seek, an...  \n",
       "5666  [The, Bank, of, England, said, it, had, revise...  \n",
       "5667  [lt, ;, KRN, >, SETS, QUARTERLY, Qtly, div, 25...  \n",
       "5668  [lt, ;, NCEL, >, 4TH, QTR, Shr, loss, six, cts...  \n",
       "\n",
       "[5669 rows x 2 columns]"
      ]
     },
     "execution_count": 69,
     "metadata": {},
     "output_type": "execute_result"
    }
   ],
   "source": [
    "doc_df = pd.DataFrame(documents)\n",
    "doc_df"
   ]
  },
  {
   "cell_type": "markdown",
   "metadata": {},
   "source": [
    "## Search for a single query term\n",
    "`search()`: return all docs containing query term"
   ]
  },
  {
   "cell_type": "code",
   "execution_count": 25,
   "metadata": {
    "collapsed": false,
    "jupyter": {
     "outputs_hidden": false
    }
   },
   "outputs": [
    {
     "name": "stdout",
     "output_type": "stream",
     "text": [
      "54\n",
      "['VW SAYS 480 MLN MARKS MAXIMUM FOR CURRENCY LOSSES', 'JAPAN WARNS U . S . IT MAY RETALIATE IN TRADE DISPUTE', 'SINGAPORE EXTERNAL TRADE GAINS 8 . 8 PCT IN QUARTER', 'TALKING POINT / IBM &', 'YEUTTER SAYS JAPANESE CURB ALL BUT CERTAIN U . S .', 'COMPUTERLAND TO BE ACQUIRED BY INVESTOR GROUP', 'ENTERTAINMENT MARKETING TOPS CRAZY EDDIE OFFER A', 'INVESTORS MAY TAKE COMPUTERLAND PUBLIC', 'SHULTZ WELCOMES TOKYO ECONOMIC PACKAGE U . S .', 'TOSHIBA , SHARP RESTRAIN LAP - TOP PC EXPORTS TO EC', 'MITSUI BUYS FIVE PCT STAKE IN U . S . CHIP MAKER', 'NEW LEADER COMING TO U . S . SEC IN CHALLENGING ERA', 'NAKASONE HARD - PRESSED TO SOOTHE U . S ANGER ON TRADE', 'HONEYWELL BULL SEES REVENUE GROWTH', \"JAPAN ' S CHIP MAKERS ANGERED BY U . S . SANCTION PLANS\", 'NAKASONE SOUNDS CONCILIATORY NOTE IN CHIP DISPUTE', 'TOKYO BIDS TO STOP CHIP ROW TURNING INTO TRADE WAR', 'JAPAN HAS LITTLE NEW TO OFFER IN MICROCHIP DISPUTE', 'NAKASONE SOUNDS CONCILIATORY NOTE IN CHIP DISPUTE', 'TOKYO BIDS TO STOP CHIP ROW BECOMING TRADE WAR', 'ECONOMIC SPOTLIGHT - U . S . CONGRESS RAPS JAPAN', 'EUROPE ON SIDELINES IN U . S - JAPAN MICROCHIP ROW', 'U . S . SETS CORN DEFICIENCY PAYMENT HALF PIK CERTS', 'U . S . STOCK MARKET OVERREACTS TO TARIFFS - YEUTTER U . S .', 'ENVOY ADVISES NAKASONE TO PREPARE FOR U . S . VISIT', 'U . S .- JAPAN NOT IN TRADE WAR , YEUTTER SAYS', 'JAPAN / U . S . WILL BE AT ODDS WHILE TRADE LOPSIDED', 'JAPAN WARNS OF ANTI - U . S . SENTIMENT IN TRADE ROW', 'JAPAN / U . S . WILL BE AT ODDS WHILE TRADE LOPSIDED', 'EC MINISTERS WILL DISCUSS STRENGTHENING EMS FLOAT', 'IMF , WORLD BANK TO MEET AMID NEW INFLATION FEARS', 'JAPAN CUTS CHIP SUPPLY , MAY PRODUCE SHORTAGE', 'BALDRIGE CONCERNED ABOUT KOREAN / TAIWAN DEFICITS', 'GATT COUNCIL DEFERS DECISION ON SEMICONDUCTORS', 'U . S . TELLS JAPAN TO DO MORE TO CUT TRADE SURPLUS U . S .', 'MATHEMATICAL APPLICATIONS SETS OPERATIONS SALE', 'EXCO BUYS U . S . GOVERNMENT SECURITIES BROKER &', 'JAPAN , U . S . SET TO BEGIN HIGH - LEVEL TRADE TALKS', \"SEARCH FOR BRITISH FERRY ' S TOXIC CARGO CONTINUES\", 'WEINBERGER OPPOSES FUJITSU BUYING U . S . FIRM', 'FAIRCHILD DEAL FAILURE SEEN MAKING JAPANESE WARY', 'SURALCO ALUMINA EXPORTS DROPPED 75 PCT IN FEB', 'VENTRA BUYS JOINT VENTURE LEASING', 'PAPER SAYS U . S . MAY SEEK TO CURB FOREIGN TAKEOVERS', 'ECONOMIC SPOTLIGHT - JAPAN BUYING OVERSEAS FIRMS', 'PILGRIM VENTURE IN MERGER AGREEMENT &', 'GROUP RECONSIDERS COMPUTER MEMORIES &', 'JAPAN TO ASK CHIP MAKERS TO SLASH OUTPUT FURTHER', 'SCAN - GRAPHICS TO MERGE WITH PUBLIC COMPANY', 'ECONOMIC SPOTLIGHT - U . S . DEFICIT WITH', 'WAVEHILL INTERNATIONAL TO MAKE ACQUISITION &', 'JAPAN IN LAST DITCH EFFORT TO SAVE CHIP PACT', 'BRAZIL COMPUTER MARKET TO REMAIN CLOSED - MINISTER', 'CAROLIAN SYSTEMS SEES LOWER FISCAL 1987 PROFIT &']\n"
     ]
    }
   ],
   "source": [
    "def search(docs, query):\n",
    "    results = []\n",
    "    for doc in docs:\n",
    "        if query in doc['content']:\n",
    "            results.append(doc['title'])\n",
    "    return results\n",
    "\n",
    "\n",
    "query = \"computer\"\n",
    "\n",
    "print(len(search(documents, query)))\n",
    "print(search(documents, query))"
   ]
  },
  {
   "cell_type": "markdown",
   "metadata": {},
   "source": [
    "## Search for multiple terms (AND)"
   ]
  },
  {
   "cell_type": "code",
   "execution_count": 26,
   "metadata": {
    "collapsed": false,
    "jupyter": {
     "outputs_hidden": false
    }
   },
   "outputs": [
    {
     "name": "stdout",
     "output_type": "stream",
     "text": [
      "Number of matched results: 21\n",
      "ASIAN EXPORTERS FEAR DAMAGE FROM U . S .- JAPAN RIFT\n",
      "JAPAN MINISTRY SAYS OPEN FARM TRADE WOULD HIT U . S .\n",
      "JAPAN ' S LDP URGES MORE IMPORTS OF 12 FARM ITEMS\n",
      "U . S . URGES JAPAN TO OPEN FARM MARKET FURTHER U . S .\n",
      "LYNG OPENS JAPAN TALKS ON FARM TRADE BARRIERS U . S .\n",
      "U . S . URGES JAPAN TO OPEN FARM MARKET FURTHER U . S .\n",
      "U . S . MEAT INDUSTRY LAUNCHES CAMPAIGN IN JAPAN\n",
      "GATT CASE AGAINST JAPAN A MODEL FOR U . S . - LYNG\n",
      "U . S . TAKES TOUGH STAND ON GATT FARM ISSUES\n",
      "EC AGREES TRADE DEAL WITH ARGENTINA\n"
     ]
    }
   ],
   "source": [
    "\n",
    "# match if all query terms appears in the doc\n",
    "# match if a list appears in a doc\n",
    "def match(doc_terms, query_terms):\n",
    "    for term in query_terms:\n",
    "        if term not in doc_terms:\n",
    "            return False\n",
    "    return True\n",
    "\n",
    "\n",
    "def match1(doc_terms, query_terms):\n",
    "    return set(query_terms) <= set(doc_terms)\n",
    "\n",
    "\n",
    "def search(docs, query):\n",
    "    query_terms = query.split(\" \")\n",
    "    results = []\n",
    "    for doc in docs:\n",
    "        if match(doc['content'], query_terms):\n",
    "            results.append(doc['title'])\n",
    "    return results\n",
    "\n",
    "query = \"Japan beef\"\n",
    "results = search(documents, query)\n",
    "print(\"Number of matched results: %d\" % len(results))\n",
    "print(\"\\n\".join(results[0:10]))"
   ]
  },
  {
   "cell_type": "markdown",
   "metadata": {},
   "source": [
    "# TF-IDF\n",
    "- **tf**: The occurrences of a term in a document. *tf(t, d)*\n",
    "- **df**: document frequency: Number of docs where a word appreared\n",
    "- **tf-idf**: term-frequency and inverted document frequency"
   ]
  },
  {
   "cell_type": "markdown",
   "metadata": {},
   "source": [
    "## Testing tf-idf"
   ]
  },
  {
   "cell_type": "code",
   "execution_count": 21,
   "metadata": {},
   "outputs": [
    {
     "name": "stdout",
     "output_type": "stream",
     "text": [
      "n(t, d)=5\t ndoc=100\t ndoc_term=10\t idf=2.302585\t tfidf=11.512925\n",
      "n(t, d)=10\t ndoc=100\t ndoc_term=20\t idf=1.609438\t tfidf=16.094379\n",
      "n(t, d)=20\t ndoc=100\t ndoc_term=40\t idf=0.916291\t tfidf=18.325815\n",
      "n(t, d)=40\t ndoc=100\t ndoc_term=80\t idf=0.223144\t tfidf=8.925742\n",
      "n(t, d)=50\t ndoc=100\t ndoc_term=100\t idf=0.000000\t tfidf=0.000000\n",
      "--------------------------------------------------------------------------------\n",
      "n(t, d)=5\t ndoc=100\t ndoc_term=5\t idf=2.995732\t tfidf=14.978661\n",
      "n(t, d)=5\t ndoc=100\t ndoc_term=10\t idf=2.302585\t tfidf=11.512925\n",
      "n(t, d)=5\t ndoc=100\t ndoc_term=20\t idf=1.609438\t tfidf=8.047190\n",
      "n(t, d)=5\t ndoc=100\t ndoc_term=40\t idf=0.916291\t tfidf=4.581454\n",
      "--------------------------------------------------------------------------------\n",
      "n(t, d)=5\t ndoc=100\t ndoc_term=5\t idf=2.995732\t tfidf=14.978661\n",
      "n(t, d)=10\t ndoc=100\t ndoc_term=10\t idf=2.302585\t tfidf=23.025851\n",
      "n(t, d)=20\t ndoc=100\t ndoc_term=20\t idf=1.609438\t tfidf=32.188758\n",
      "n(t, d)=40\t ndoc=100\t ndoc_term=40\t idf=0.916291\t tfidf=36.651629\n"
     ]
    }
   ],
   "source": [
    "def print_tfidf(td, ndoc, ntd):\n",
    "    import math\n",
    "    idf = math.log(ndoc/ntd)\n",
    "    tfidf = td*idf\n",
    "    print(\"n(t, d)=%d\\t ndoc=%d\\t ndoc_term=%d\\t idf=%f\\t tfidf=%f\"%(td, ndoc, ntd, idf, tfidf))\n",
    "\n",
    "print_tfidf(5, 100, 10)\n",
    "print_tfidf(10, 100, 20)\n",
    "print_tfidf(20, 100, 40)\n",
    "print_tfidf(40, 100, 80)\n",
    "print_tfidf(50, 100, 100)\n",
    "\n",
    "print(\"-\"*80)\n",
    "\n",
    "print_tfidf(5, 100, 5)\n",
    "print_tfidf(5, 100, 10)\n",
    "print_tfidf(5, 100, 20)\n",
    "print_tfidf(5, 100, 40)\n",
    "\n",
    "print(\"-\"*80)\n",
    "\n",
    "print_tfidf(5, 100, 5)\n",
    "print_tfidf(10, 100, 10)\n",
    "print_tfidf(20, 100, 20)\n",
    "print_tfidf(40, 100, 40)\n",
    "\n"
   ]
  },
  {
   "cell_type": "markdown",
   "metadata": {},
   "source": [
    "### Compute tf and df"
   ]
  },
  {
   "cell_type": "code",
   "execution_count": 70,
   "metadata": {
    "collapsed": false,
    "jupyter": {
     "outputs_hidden": false
    }
   },
   "outputs": [
    {
     "data": {
      "text/html": [
       "<div>\n",
       "<style scoped>\n",
       "    .dataframe tbody tr th:only-of-type {\n",
       "        vertical-align: middle;\n",
       "    }\n",
       "\n",
       "    .dataframe tbody tr th {\n",
       "        vertical-align: top;\n",
       "    }\n",
       "\n",
       "    .dataframe thead th {\n",
       "        text-align: right;\n",
       "    }\n",
       "</style>\n",
       "<table border=\"1\" class=\"dataframe\">\n",
       "  <thead>\n",
       "    <tr style=\"text-align: right;\">\n",
       "      <th></th>\n",
       "      <th>title</th>\n",
       "      <th>content</th>\n",
       "      <th>tdf</th>\n",
       "    </tr>\n",
       "  </thead>\n",
       "  <tbody>\n",
       "    <tr>\n",
       "      <th>0</th>\n",
       "      <td>ASIAN EXPORTERS FEAR DAMAGE FROM U . S .- JAPA...</td>\n",
       "      <td>[Mounting, trade, friction, between, the, U, ....</td>\n",
       "      <td>{'Mounting': 1, 'trade': 13, 'friction': 1, 'b...</td>\n",
       "    </tr>\n",
       "    <tr>\n",
       "      <th>1</th>\n",
       "      <td>CHINA DAILY SAYS VERMIN EAT 7 - 12 PCT GRAIN S...</td>\n",
       "      <td>[survey, of, 19, provinces, and, seven, cities...</td>\n",
       "      <td>{'survey': 1, 'of': 5, '19': 1, 'provinces': 1...</td>\n",
       "    </tr>\n",
       "    <tr>\n",
       "      <th>2</th>\n",
       "      <td>JAPAN TO REVISE LONG - TERM ENERGY DEMAND DOWN...</td>\n",
       "      <td>[The, Ministry, of, International, Trade, and,...</td>\n",
       "      <td>{'The': 2, 'Ministry': 1, 'of': 8, 'Internatio...</td>\n",
       "    </tr>\n",
       "    <tr>\n",
       "      <th>3</th>\n",
       "      <td>THAI TRADE DEFICIT WIDENS IN FIRST QUARTER</td>\n",
       "      <td>[Thailand, ', s, trade, deficit, widened, to, ...</td>\n",
       "      <td>{'Thailand': 2, 'trade': 1, 'deficit': 1, 'wid...</td>\n",
       "    </tr>\n",
       "    <tr>\n",
       "      <th>4</th>\n",
       "      <td>INDONESIA SEES CPO PRICE RISING SHARPLY</td>\n",
       "      <td>[Indonesia, expects, crude, palm, oil, (, CPO,...</td>\n",
       "      <td>{'Indonesia': 3, 'expects': 1, 'crude': 1, 'pa...</td>\n",
       "    </tr>\n",
       "    <tr>\n",
       "      <th>...</th>\n",
       "      <td>...</td>\n",
       "      <td>...</td>\n",
       "      <td>...</td>\n",
       "    </tr>\n",
       "    <tr>\n",
       "      <th>5664</th>\n",
       "      <td>FED SETS TWO BILLION DLR CUSTOMER REPURCHASE</td>\n",
       "      <td>[The, Federal, Reserve, entered, the, U, ., S,...</td>\n",
       "      <td>{'The': 1, 'Federal': 2, 'Reserve': 1, 'entere...</td>\n",
       "    </tr>\n",
       "    <tr>\n",
       "      <th>5665</th>\n",
       "      <td>SENATE SEEKS U . S . PROBE OF CANADIAN CORN LEVY</td>\n",
       "      <td>[The, Senate, voted, unanimously, to, seek, an...</td>\n",
       "      <td>{'The': 2, 'Senate': 2, 'voted': 1, 'unanimous...</td>\n",
       "    </tr>\n",
       "    <tr>\n",
       "      <th>5666</th>\n",
       "      <td>U . K . MONEY MARKET SHORTAGE FORECAST REVISED...</td>\n",
       "      <td>[The, Bank, of, England, said, it, had, revise...</td>\n",
       "      <td>{'The': 1, 'Bank': 1, 'of': 3, 'England': 1, '...</td>\n",
       "    </tr>\n",
       "    <tr>\n",
       "      <th>5667</th>\n",
       "      <td>KNIGHT - RIDDER INC &amp;</td>\n",
       "      <td>[lt, ;, KRN, &gt;, SETS, QUARTERLY, Qtly, div, 25...</td>\n",
       "      <td>{'lt': 1, 'KRN': 1, 'SETS': 1, 'QUARTERLY': 1,...</td>\n",
       "    </tr>\n",
       "    <tr>\n",
       "      <th>5668</th>\n",
       "      <td>NATIONWIDE CELLULAR SERVICE INC &amp;</td>\n",
       "      <td>[lt, ;, NCEL, &gt;, 4TH, QTR, Shr, loss, six, cts...</td>\n",
       "      <td>{'lt': 1, 'NCEL': 1, '4TH': 1, 'QTR': 1, 'Shr'...</td>\n",
       "    </tr>\n",
       "  </tbody>\n",
       "</table>\n",
       "<p>5669 rows × 3 columns</p>\n",
       "</div>"
      ],
      "text/plain": [
       "                                                  title  \\\n",
       "0     ASIAN EXPORTERS FEAR DAMAGE FROM U . S .- JAPA...   \n",
       "1     CHINA DAILY SAYS VERMIN EAT 7 - 12 PCT GRAIN S...   \n",
       "2     JAPAN TO REVISE LONG - TERM ENERGY DEMAND DOWN...   \n",
       "3            THAI TRADE DEFICIT WIDENS IN FIRST QUARTER   \n",
       "4               INDONESIA SEES CPO PRICE RISING SHARPLY   \n",
       "...                                                 ...   \n",
       "5664       FED SETS TWO BILLION DLR CUSTOMER REPURCHASE   \n",
       "5665   SENATE SEEKS U . S . PROBE OF CANADIAN CORN LEVY   \n",
       "5666  U . K . MONEY MARKET SHORTAGE FORECAST REVISED...   \n",
       "5667                              KNIGHT - RIDDER INC &   \n",
       "5668                  NATIONWIDE CELLULAR SERVICE INC &   \n",
       "\n",
       "                                                content  \\\n",
       "0     [Mounting, trade, friction, between, the, U, ....   \n",
       "1     [survey, of, 19, provinces, and, seven, cities...   \n",
       "2     [The, Ministry, of, International, Trade, and,...   \n",
       "3     [Thailand, ', s, trade, deficit, widened, to, ...   \n",
       "4     [Indonesia, expects, crude, palm, oil, (, CPO,...   \n",
       "...                                                 ...   \n",
       "5664  [The, Federal, Reserve, entered, the, U, ., S,...   \n",
       "5665  [The, Senate, voted, unanimously, to, seek, an...   \n",
       "5666  [The, Bank, of, England, said, it, had, revise...   \n",
       "5667  [lt, ;, KRN, >, SETS, QUARTERLY, Qtly, div, 25...   \n",
       "5668  [lt, ;, NCEL, >, 4TH, QTR, Shr, loss, six, cts...   \n",
       "\n",
       "                                                    tdf  \n",
       "0     {'Mounting': 1, 'trade': 13, 'friction': 1, 'b...  \n",
       "1     {'survey': 1, 'of': 5, '19': 1, 'provinces': 1...  \n",
       "2     {'The': 2, 'Ministry': 1, 'of': 8, 'Internatio...  \n",
       "3     {'Thailand': 2, 'trade': 1, 'deficit': 1, 'wid...  \n",
       "4     {'Indonesia': 3, 'expects': 1, 'crude': 1, 'pa...  \n",
       "...                                                 ...  \n",
       "5664  {'The': 1, 'Federal': 2, 'Reserve': 1, 'entere...  \n",
       "5665  {'The': 2, 'Senate': 2, 'voted': 1, 'unanimous...  \n",
       "5666  {'The': 1, 'Bank': 1, 'of': 3, 'England': 1, '...  \n",
       "5667  {'lt': 1, 'KRN': 1, 'SETS': 1, 'QUARTERLY': 1,...  \n",
       "5668  {'lt': 1, 'NCEL': 1, '4TH': 1, 'QTR': 1, 'Shr'...  \n",
       "\n",
       "[5669 rows x 3 columns]"
      ]
     },
     "execution_count": 70,
     "metadata": {},
     "output_type": "execute_result"
    }
   ],
   "source": [
    "from collections import Counter\n",
    "\n",
    "term_freq = Counter()\n",
    "doc_freq = Counter() # Number of docs where a word appeared\n",
    "\n",
    "tdf = list()\n",
    "for doc in documents:\n",
    "    term_doc_freq = Counter()\n",
    "    doc_terms = set() # to store all terms appearing in the doc\n",
    "    for w in doc['content']:\n",
    "        if len(w) > 1:\n",
    "            term_freq[w] += 1\n",
    "            term_doc_freq[w] += 1\n",
    "            doc_terms.add(w)\n",
    "        \n",
    "    for w in doc_terms:\n",
    "        doc_freq[w] += 1\n",
    "    tdf.append(term_doc_freq)\n",
    "doc_df['tdf'] = tdf\n",
    "doc_df"
   ]
  },
  {
   "cell_type": "markdown",
   "metadata": {},
   "source": [
    "### Compute idf"
   ]
  },
  {
   "cell_type": "code",
   "execution_count": 72,
   "metadata": {},
   "outputs": [],
   "source": [
    "import math\n",
    "num_docs = len(documents)\n",
    "tfidfs = list()\n",
    "for tdf in doc_df['tdf']:\n",
    "    tfidf = Counter()\n",
    "    for w, f in tdf.items():\n",
    "        tfidf[w] = f * math.log2(num_docs/doc_freq[w])\n",
    "    tfidfs.append(tfidf)\n",
    "doc_df['tfidf'] = tfidfs"
   ]
  },
  {
   "cell_type": "code",
   "execution_count": 73,
   "metadata": {},
   "outputs": [
    {
     "name": "stdout",
     "output_type": "stream",
     "text": [
      "asian exporters fear damage from u . s .- japan rift\n",
      "\tJapan(40.0751)\n",
      "\ttrade(35.1953)\n",
      "\telectronics(31.3001)\n",
      "\ttariffs(29.1976)\n",
      "\tbusinessmen(28.4453)\n",
      "china daily says vermin eat 7 - 12 pct grain stocks a\n",
      "\tpreservation(21.7678)\n",
      "\twaste(18.0189)\n",
      "\tChina(15.8372)\n",
      "\tstorage(13.5929)\n",
      "\tvermin(12.4689)\n",
      "japan to revise long - term energy demand downwards\n",
      "\tenergy(33.8159)\n",
      "\tMITI(31.0738)\n",
      "\telectric(16.7628)\n",
      "\tdemand(15.6265)\n",
      "\tkilolitres(12.4689)\n",
      "thai trade deficit widens in first quarter\n",
      "\tbaht(30.4409)\n",
      "\tThailand(13.5929)\n",
      "\tbillion(13.4837)\n",
      "\tpct(13.3317)\n",
      "\tJanunary(12.4689)\n",
      "indonesia sees cpo price rising sharply\n",
      "\tHarahap(37.4066)\n",
      "\tCPO(31.4066)\n",
      "\tpalm(27.1858)\n",
      "\tIndonesia(18.7783)\n",
      "\tIndonesian(14.1531)\n",
      "australian foreign ship ban ends but nsw ports hit\n",
      "\tNSW(41.8755)\n",
      "\tports(28.1705)\n",
      "\tdisrupted(17.3230)\n",
      "\tdisruption(17.3230)\n",
      "\tshipping(16.8702)\n",
      "indonesian commodity exchange may expand\n",
      "\trubber(48.1874)\n",
      "\texchange(38.7578)\n",
      "\tNainggolan(37.4066)\n",
      "\tcoffee(26.9603)\n",
      "\ttrading(22.9718)\n",
      "sri lanka gets usda approval for wheat price\n",
      "\tColombo(9.4689)\n",
      "\tNorthwest(9.0094)\n",
      "\tContinental(7.3396)\n",
      "\tDepartment(7.3166)\n",
      "\tFood(6.9770)\n",
      "western mining to open new gold mine in australia\n",
      "\tWMC(34.4066)\n",
      "\tmine(19.2084)\n",
      "\tGoodall(12.4689)\n",
      "\tBundey(12.4689)\n",
      "\tWMNG(11.4689)\n",
      "sumitomo bank aims at quick recovery from merger\n",
      "\tSumitomo(121.2613)\n",
      "\tKomatsu(112.2199)\n",
      "\tHeiwa(49.8755)\n",
      "\tSogo(49.8755)\n",
      "\tbusiness(32.1744)\n",
      "subroto says indonesia supports tin pact extension\n",
      "\textension(29.8755)\n",
      "\tITA(28.9846)\n",
      "\tsixth(24.0283)\n",
      "\tSubroto(17.5369)\n",
      "\tpact(10.1877)\n",
      "bundesbank allocates 6 . 1 billion marks in tender\n",
      "\tBundesbank(41.8392)\n",
      "\tmarks(37.0228)\n",
      "\tliquidity(22.0587)\n",
      "\tsteering(19.3230)\n",
      "\tbillion(17.9783)\n",
      "bond corp still considering atlas mining bail - out\n",
      "\tAtlas(97.9552)\n",
      "\tBond(40.3828)\n",
      "\tMasbate(24.9378)\n",
      "\tcopper(19.3395)\n",
      "\tgold(16.2408)\n",
      "china industrial output rises in first quarter\n",
      "\tquarter(11.7429)\n",
      "\tChina(10.5581)\n",
      "\tedition(9.6615)\n",
      "\tfirst(9.2750)\n",
      "\tindustrial(8.7948)\n",
      "japan ministry says open farm trade would hit u . s .\n",
      "\tJapan(46.7543)\n",
      "\tbeef(33.7048)\n",
      "\tproducts(24.2055)\n",
      "\tFarm(22.2735)\n",
      "\tlargest(22.2049)\n",
      "amatil proposes two - for - five bonus share issue\n",
      "\tAmatil(24.9378)\n",
      "\tAMAA(12.4689)\n",
      "\tBTI(10.8839)\n",
      "\tShareholders(10.1470)\n",
      "\trank(9.0094)\n",
      "bowater 1986 pretax profits rise 15 . 6 mln stg\n",
      "\tvs(35.6104)\n",
      "\tdebit(34.6461)\n",
      "\tmln(22.8789)\n",
      "\t0p(18.9378)\n",
      "\t7p(18.0189)\n",
      "u . k . money market deficit forecast at 250 mln stg\n",
      "\tstg(16.9602)\n",
      "\tbills(16.4066)\n",
      "\tdrain(14.1531)\n",
      "\taround(10.0343)\n",
      "\t690(9.2990)\n",
      "south korea moves to slow growth of trade surplus\n",
      "\tKim(73.2821)\n",
      "\tsurplus(51.4676)\n",
      "\tKorea(35.8622)\n",
      "\tSouth(32.4077)\n",
      "\tdebt(26.3204)\n",
      "finns and canadians to study mtbe production plant\n",
      "\tMTBE(68.8133)\n",
      "\tNeste(34.4066)\n",
      "\tOy(32.6517)\n",
      "\tEdmonton(32.6517)\n",
      "\tCelanese(30.4409)\n"
     ]
    }
   ],
   "source": [
    "for title, tfidf in zip(doc_df['title'][:20], doc_df['tfidf'][:20]):\n",
    "    print(title.lower())\n",
    "    for k, v in tfidf.most_common(5):\n",
    "        print(\"\\t%s(%.4f)\"%(k, v))"
   ]
  },
  {
   "cell_type": "markdown",
   "metadata": {},
   "source": [
    "### (Testing) tfidf for whole doc"
   ]
  },
  {
   "cell_type": "code",
   "execution_count": 30,
   "metadata": {
    "collapsed": false,
    "jupyter": {
     "outputs_hidden": false
    }
   },
   "outputs": [
    {
     "name": "stdout",
     "output_type": "stream",
     "text": [
      "Most frequent terms:\n",
      "[('.', 65574), ('the', 47222), (',', 46891), ('to', 26853), ('of', 25821), ('in', 21209), ('and', 18750), ('said', 18485), ('a', 17638), ('for', 9145), ('mln', 9128), ('-', 9003), ('The', 8825), (\"'\", 8457), ('pct', 7529), ('s', 7246), ('on', 6853), ('from', 6145), ('that', 6118), ('is', 5835), ('\"', 5775), ('dlrs', 5654), ('by', 5533), ('1', 5510), ('at', 5409), ('it', 5379), ('was', 4969), ('be', 4906), ('year', 4748), ('with', 4704), ('U', 4604), ('000', 4450), ('S', 4418), ('its', 4337), ('billion', 4320), ('vs', 4315), ('will', 4115), ('would', 3906), ('2', 3738), ('as', 3433), (';', 3400), ('lt', 3349), ('/', 3327), ('has', 3324), ('not', 3285), ('an', 3273), ('he', 3159), (',\"', 2990), ('which', 2873), ('3', 2861)]\n",
      "Most frequent document terms:\n",
      "[('.', 5518), (',', 5260), ('of', 4774), ('the', 4675), ('said', 4608), ('to', 4505), ('and', 4409), ('in', 4328), ('a', 4186), ('The', 3645), ('for', 3481), ('-', 3132), (\"'\", 3066), ('s', 2929), ('on', 2869), ('from', 2800), ('it', 2629), ('by', 2603), ('at', 2591), ('is', 2481), ('with', 2407), ('was', 2358), ('mln', 2349), ('its', 2256), ('pct', 2250), ('1', 2237), ('that', 2213), ('be', 2133), ('year', 2019), (';', 2004), ('lt', 1985), ('an', 1953), ('dlrs', 1920), ('will', 1886), ('>', 1865), ('has', 1848), ('which', 1806), ('not', 1787), ('2', 1751), ('U', 1743), ('as', 1737), ('would', 1733), ('\"', 1704), ('S', 1680), ('were', 1571), ('5', 1560), ('last', 1549), ('this', 1540), ('3', 1499), ('are', 1466)]\n",
      "Terms with the highest TFIDF:\n",
      "[('the', 13133.755890104927), ('vs', 11819.897451299465), ('mln', 11602.122089408393), ('pct', 10037.43141662644), ('\"', 10014.825591502971), ('billion', 9708.298988635965), ('to', 8903.573031221764), ('dlrs', 8831.479915724474), ('000', 8735.648149554252), ('/', 8538.756942662225), ('that', 8302.681624636662), ('in', 8258.652467773287), ('U', 7833.805905389986), ('S', 7751.968753725295), ('a', 7717.012287508844), ('-', 7706.658538925057), (\"'\", 7499.131190762607), ('1', 7391.824860309295), ('tonnes', 7101.385223833243), ('year', 7071.924546100801), ('is', 6956.326735464018), ('be', 6918.491748867262), ('s', 6903.163306261671), ('and', 6799.552353818978), ('on', 6733.389801100871), ('would', 6678.567132859057), ('he', 6604.153901689901), ('will', 6533.651300788917), ('cts', 6434.3737582039785), ('for', 6434.353001850576), ('of', 6400.914940388855), ('oil', 6358.193774547681), ('2', 6335.592962972377), ('was', 6288.42130712229), (',\"', 6260.578976192779), ('from', 6253.566431010715), ('by', 6213.110591378933), ('at', 6109.926636935147), ('trade', 5996.730016845508), ('it', 5963.052504216226), ('as', 5858.402536369312), ('with', 5813.476631030548), ('its', 5765.292072561284), ('0', 5695.314602771666), ('The', 5623.073386890246), ('said', 5526.1564156909535), ('3', 5490.527607478552), ('not', 5471.346975245519), ('1986', 5451.2519110030335), ('has', 5375.338499228798)]\n"
     ]
    }
   ],
   "source": [
    "import math\n",
    "\n",
    "tfidf = Counter() # tfidf of each word\n",
    "num_docs = len(documents)\n",
    "for w in term_freq:\n",
    "    tfidf[w] = term_freq[w] * math.log2(num_docs/doc_freq[w])\n",
    "\n",
    "print(\"Most frequent terms:\")\n",
    "print(term_freq.most_common(50))\n",
    "\n",
    "print(\"Most frequent document terms:\")\n",
    "print(doc_freq.most_common(50))\n",
    "\n",
    "print(\"Terms with the highest TFIDF:\")\n",
    "print(tfidf.most_common(50))"
   ]
  },
  {
   "cell_type": "code",
   "execution_count": 68,
   "metadata": {
    "collapsed": false,
    "jupyter": {
     "outputs_hidden": false
    }
   },
   "outputs": [
    {
     "name": "stdout",
     "output_type": "stream",
     "text": [
      "Most frequent terms:\n",
      "[('said', 18494), ('mln', 9160), ('pct', 7551), ('dlrs', 5815), ('year', 5071), ('u', 4607), ('billion', 4321), ('vs', 4317), ('would', 3930), ('lt', 3351), ('last', 2770), ('bank', 2731), ('trade', 2699), ('oil', 2382), ('cts', 2322), ('market', 2320), ('tonnes', 2307), ('net', 2190), ('one', 1998), ('company', 1983), ('new', 1974), ('also', 1826), ('two', 1813), ('prices', 1813), ('government', 1644), ('japan', 1503), ('rate', 1492), ('february', 1488), ('dollar', 1484), ('january', 1455), ('week', 1431), ('may', 1403), ('shares', 1399), ('price', 1328), ('foreign', 1318), ('loss', 1304), ('march', 1278), ('told', 1276), ('exchange', 1272), ('could', 1250), ('production', 1241), ('share', 1228), ('stock', 1226), ('group', 1205), ('april', 1169), ('rates', 1168), ('today', 1163), ('month', 1159), ('shr', 1150), ('rose', 1148)]\n",
      "Most frequent document terms:\n",
      "[('said', 4609), ('mln', 2352), ('pct', 2253), ('year', 2200), ('lt', 1987), ('dlrs', 1966), ('u', 1744), ('would', 1740), ('last', 1618), ('one', 1306), ('two', 1295), ('also', 1274), ('market', 1219), ('billion', 1194), ('new', 1173), ('company', 1099), ('told', 1053), ('trade', 1018), ('net', 967), ('bank', 954), ('may', 914), ('government', 879), ('today', 877), ('vs', 850), ('prices', 836), ('april', 833), ('cts', 827), ('march', 826), ('three', 809), ('week', 806), ('could', 806), ('added', 781), ('oil', 767), ('month', 764), ('exchange', 757), ('international', 752), ('price', 741), ('total', 737), ('first', 733), ('expected', 733), ('foreign', 714), ('per', 704), ('rate', 701), ('share', 699), ('corp', 696), ('current', 693), ('group', 686), ('inc', 685), ('tonnes', 671), ('five', 671)]\n",
      "Terms with the highest TFIDF:\n",
      "[('mln', 11625.928874284848), ('pct', 10052.245761614773), ('billion', 9710.54628006852), ('dlrs', 8884.33695958949), ('tonnes', 7102.583041707593), ('bank', 7021.491390129802), ('year', 6924.910669960947), ('oil', 6873.965563005887), ('would', 6696.74736491751), ('trade', 6686.38575420033), ('cts', 6448.507550453009), ('net', 5587.799178810262), ('said', 5523.057434422488), ('market', 5144.359052222177), ('dollar', 5049.739415228694), ('last', 5010.604972048774), ('prices', 5006.63471161198), ('japan', 4996.303127414279), ('loss', 4847.404181128349), ('company', 4693.568416731597), ('january', 4679.590091592154), ('february', 4669.286973448756), ('shares', 4522.777242325159), ('rate', 4499.287016354734), ('new', 4486.687338931271), ('government', 4420.977722623381), ('stg', 4273.980342230134), ('one', 4231.642865801446), ('production', 4094.001358499999), ('rates', 4074.8471241785546), ('week', 4027.1810536920775), ('foreign', 3939.6315459436505), ('also', 3932.709138594268), ('stock', 3925.7648080906674), ('price', 3898.408834970051), ('two', 3861.9477564681106), ('profit', 3803.0457369254964), ('share', 3708.22832756922), ('exchange', 3694.81536919646), ('may', 3693.8579628621833), ('exports', 3684.1487886651003), ('group', 3671.4106141141697), ('rose', 3633.532280877387), ('shr', 3626.788340297595), ('japanese', 3605.1178054429806), ('sales', 3599.8345492389662), ('wheat', 3568.2748360658793), ('march', 3551.409384307176), ('could', 3517.8031566143236), ('offer', 3493.1652955028644)]\n"
     ]
    }
   ],
   "source": [
    "from nltk.corpus import stopwords\n",
    "stopword_list = stopwords.words('english')\n",
    "\n",
    "term_freq = Counter()\n",
    "doc_freq = Counter()\n",
    "\n",
    "for doc in documents:\n",
    "    doc_terms = set()\n",
    "    for w in doc['content']:\n",
    "        if not w.isalpha():\n",
    "            continue\n",
    "        w = w.lower()\n",
    "        if w not in stopword_list:\n",
    "            term_freq[w] += 1\n",
    "            doc_terms.add(w)\n",
    "    for w in doc_terms:\n",
    "        doc_freq[w] += 1\n",
    "\n",
    "\n",
    "tfidf = Counter()\n",
    "num_docs = len(documents)\n",
    "for w in term_freq:\n",
    "    if w not in stopword_list and len(w) > 2:\n",
    "        tfidf[w] = term_freq[w] * math.log2(num_docs/doc_freq[w])\n",
    "\n",
    "print(\"Most frequent terms:\")\n",
    "print(term_freq.most_common(50))\n",
    "\n",
    "print(\"Most frequent document terms:\")\n",
    "print(doc_freq.most_common(50))\n",
    "\n",
    "print(\"Terms with the highest TFIDF:\")\n",
    "print(tfidf.most_common(50))\n",
    "\n"
   ]
  },
  {
   "cell_type": "markdown",
   "metadata": {},
   "source": [
    "# Basic IR Model\n",
    "https://en.wikipedia.org/wiki/Tf%E2%80%93idf"
   ]
  },
  {
   "cell_type": "markdown",
   "metadata": {},
   "source": [
    "## Representation\n",
    "\n",
    "\n",
    "```\n",
    "doc -> `[('u', 18), ('said', 16), ('trade', 15), ('japan', 12), ('dlrs', 6), ('exports', 6), ('imports', 5), ('tariffs', 5), ('japanese', 5), ('billion', 5), ('businessmen', 4), ('might', 4), ('electronics', 4), ('taiwan', 4), ('also', 4), ('last', 4), ('year', 4), ('hong', 4), ('kong', 4), ('products', 3)]`\n",
    "```"
   ]
  },
  {
   "cell_type": "code",
   "execution_count": 37,
   "metadata": {},
   "outputs": [
    {
     "name": "stdout",
     "output_type": "stream",
     "text": [
      "[('u', 18), ('said', 16), ('trade', 15), ('japan', 12), ('dlrs', 6), ('exports', 6), ('imports', 5), ('tariffs', 5), ('japanese', 5), ('billion', 5), ('businessmen', 4), ('might', 4), ('electronics', 4), ('taiwan', 4), ('also', 4), ('last', 4), ('year', 4), ('hong', 4), ('kong', 4), ('products', 3)]\n"
     ]
    }
   ],
   "source": [
    "def represent(terms):\n",
    "    counter = Counter()\n",
    "    for term in terms:\n",
    "        term = term.lower()\n",
    "        if term in stopword_list:\n",
    "            continue\n",
    "        if not term.isalpha():\n",
    "            continue\n",
    "        counter[term] += 1\n",
    "    return counter\n",
    "print(represent(documents[0]['content']).most_common(20))"
   ]
  },
  {
   "cell_type": "code",
   "execution_count": 36,
   "metadata": {
    "collapsed": false,
    "jupyter": {
     "outputs_hidden": false
    }
   },
   "outputs": [
    {
     "name": "stdout",
     "output_type": "stream",
     "text": [
      "Number of matched results: 21\n",
      "ASIAN EXPORTERS FEAR DAMAGE FROM U . S .- JAPAN RIFT\n",
      "JAPAN MINISTRY SAYS OPEN FARM TRADE WOULD HIT U . S .\n",
      "JAPAN ' S LDP URGES MORE IMPORTS OF 12 FARM ITEMS\n",
      "U . S . URGES JAPAN TO OPEN FARM MARKET FURTHER U . S .\n",
      "LYNG OPENS JAPAN TALKS ON FARM TRADE BARRIERS U . S .\n",
      "U . S . URGES JAPAN TO OPEN FARM MARKET FURTHER U . S .\n",
      "U . S . MEAT INDUSTRY LAUNCHES CAMPAIGN IN JAPAN\n",
      "GATT CASE AGAINST JAPAN A MODEL FOR U . S . - LYNG\n",
      "U . S . TAKES TOUGH STAND ON GATT FARM ISSUES\n",
      "EC AGREES TRADE DEAL WITH ARGENTINA\n",
      "\n",
      "---------------------------------------------------------------\n",
      "ranked_search\n",
      "---------------------------------------------------------------\n",
      "\n",
      "\n",
      "Number of matched results: 21\n",
      "japan beef price support cut will not raise demand \t 168.859461\n",
      "u . s . meat industry launches campaign in japan \t 145.589919\n",
      "lyng opens japan talks on farm trade barriers u . s . \t 96.102045\n",
      "japan ministry says open farm trade would hit u . s . \t 86.204470\n",
      "japan seen reducing beef , pork intervention prices \t 79.368314\n",
      "more pressure urged for asia to take u . s . beef \t 59.573164\n",
      "asian exporters fear damage from u . s .- japan rift \t 46.501541\n",
      "economic spotlight - u . s . congress raps japan \t 46.501541\n",
      "gatt case against japan a model for u . s . - lyng \t 46.351369\n",
      "australian beef output seen declining in 1987 \t 42.989606\n",
      "ec agrees trade deal with argentina \t 39.740471\n",
      "u . s . urges japan to open farm market further u . s . \t 33.204660\n",
      "u . s . urges japan to open farm market further u . s . \t 33.204660\n",
      "oecd farm subsidies study results detailed \t 33.204660\n",
      "u . s . to ask for share of japan ' s rice market u . s . \t 33.129574\n",
      "japan ' s lipc to buy beef on april 23 \t 33.092031\n",
      "japan ' s lipc to buy beef on april 23 \t 33.092031\n",
      "u . s . house panel extends eep , urges ussr offer \t 16.546015\n",
      "japan sets 1987 / 88 first half beef import quota \t 13.259338\n",
      "japan ' s ldp urges more imports of 12 farm items \t 9.935118\n",
      "u . s . takes tough stand on gatt farm issues \t 9.935118\n"
     ]
    }
   ],
   "source": [
    "def tfidf(doc_dict, query_dict):\n",
    "    global num_docs\n",
    "    global doc_freq\n",
    "    score = 0\n",
    "    for term in query_dict:\n",
    "        if term in doc_dict:\n",
    "            score += doc_dict[term] * math.log2(num_docs / doc_freq[term])\n",
    "    return score\n",
    "\n",
    "\n",
    "def match_docs(docs, query_dict):\n",
    "    results = []\n",
    "    for doc in docs:\n",
    "        doc_dict = represent(doc['content'])\n",
    "        matched = True\n",
    "        for term in query_dict:\n",
    "            if term not in doc_dict:\n",
    "                matched = False\n",
    "                break\n",
    "        if matched:\n",
    "            results.append(doc)\n",
    "    return results\n",
    "\n",
    "\n",
    "def ranked_search(docs, query, score_func):\n",
    "    query_terms = query.split(\" \")\n",
    "    query_dict = represent(query_terms)\n",
    "    results = []\n",
    "    matched_docs = match_docs(docs, query_dict)\n",
    "    for doc in matched_docs:\n",
    "        doc_dict = represent(doc['content'])\n",
    "        score = score_func(doc_dict, query_dict)\n",
    "        results.append((doc['title'], score))\n",
    "    \n",
    "    ranked = sorted(results, key=lambda x: x[1], reverse=True)\n",
    "    return ranked\n",
    "\n",
    "    \n",
    "query = \"Japan beef\"\n",
    "results = search(documents, query)\n",
    "print(\"Number of matched results: %d\" % len(results))\n",
    "print(\"\\n\".join(results[0:10]))\n",
    "\n",
    "print(\n",
    "'''\n",
    "---------------------------------------------------------------\n",
    "ranked_search\n",
    "---------------------------------------------------------------\n",
    "''')\n",
    "results = ranked_search(documents, query, tfidf)\n",
    "print(\"\\nNumber of matched results: %d\" % len(results))\n",
    "for title, score in results:\n",
    "    print(\"%s \\t %f\" % (title.lower(), score))\n",
    "                           "
   ]
  },
  {
   "cell_type": "markdown",
   "metadata": {},
   "source": [
    "### Sorting"
   ]
  },
  {
   "cell_type": "code",
   "execution_count": 38,
   "metadata": {
    "collapsed": false,
    "jupyter": {
     "outputs_hidden": false
    }
   },
   "outputs": [
    {
     "name": "stdout",
     "output_type": "stream",
     "text": [
      "[3, 4, 5, 6, 6, 7, 9]\n",
      "[9, 7, 6, 6, 5, 4, 3]\n",
      "[9, 7, 6, 6, 5, 4, 3]\n",
      "['beef', 'chiken', 'hot', 'mutton', 'pork']\n",
      "['hot', 'beef', 'pork', 'chiken', 'mutton']\n",
      "[('beef', 4), ('chiken', 2), ('hot', 7), ('mutton', 3), ('pork', 4)]\n",
      "[('beef', 4), ('chiken', 2), ('hot', 7), ('mutton', 3), ('pork', 4)]\n",
      "[('chiken', 2), ('mutton', 3), ('beef', 4), ('pork', 4), ('hot', 7)]\n",
      "[('hot', 7), ('beef', 4), ('pork', 4), ('chiken', 2), ('mutton', 3)]\n",
      "['國家發展研究所', '政治系', '社會工作系', '社會系', '經濟系']\n",
      "['社會系', '經濟系', '政治系', '社會工作系', '國家發展研究所']\n"
     ]
    }
   ],
   "source": [
    "small_list = [5, 6, 3, 4, 6, 7, 9]\n",
    "print(sorted(small_list))\n",
    "print(sorted(small_list, reverse=True))\n",
    "print(sorted(small_list, key=lambda x: -x))\n",
    "\n",
    "small_strings = ['beef', 'chiken', 'pork', 'mutton', 'hot']\n",
    "print(sorted(small_strings))\n",
    "print(sorted(small_strings, key=lambda x: len(x)))\n",
    "\n",
    "\n",
    "small_tuples = [('beef', 4), ('chiken', 2), ('pork', 4), ('mutton', 3), ('hot', 7)]\n",
    "print(sorted(small_tuples))\n",
    "print(sorted(small_tuples, key=lambda x: x[0]))\n",
    "print(sorted(small_tuples, key=lambda x: x[1]))\n",
    "print(sorted(small_tuples, key=lambda x: len(x[0])))\n",
    "\n",
    "\n",
    "small_strings = ['社會系', '社會工作系', '經濟系', '政治系', '國家發展研究所']\n",
    "print(sorted(small_strings))\n",
    "print(sorted(small_strings, key=lambda x: len(x)))\n"
   ]
  },
  {
   "cell_type": "markdown",
   "metadata": {},
   "source": [
    "## BM25\n",
    "https://en.wikipedia.org/wiki/Okapi_BM25"
   ]
  },
  {
   "cell_type": "code",
   "execution_count": 23,
   "metadata": {
    "collapsed": false,
    "jupyter": {
     "outputs_hidden": false
    }
   },
   "outputs": [
    {
     "name": "stdout",
     "output_type": "stream",
     "text": [
      "\n",
      "Number of matched results: 21\n",
      "japan ' s lipc to buy beef on april 23 \t 1.676211\n",
      "japan ' s lipc to buy beef on april 23 \t 1.676211\n",
      "japan sets 1987 / 88 first half beef import quota \t 1.548682\n",
      "more pressure urged for asia to take u . s . beef \t 0.618041\n",
      "japan seen reducing beef , pork intervention prices \t 0.523364\n",
      "australian beef output seen declining in 1987 \t 0.444577\n",
      "u . s . meat industry launches campaign in japan \t 0.430094\n",
      "gatt case against japan a model for u . s . - lyng \t 0.426406\n",
      "japan ' s ldp urges more imports of 12 farm items \t 0.424614\n",
      "u . s . to ask for share of japan ' s rice market u . s . \t 0.337159\n",
      "japan beef price support cut will not raise demand \t 0.315739\n",
      "lyng opens japan talks on farm trade barriers u . s . \t 0.241400\n",
      "u . s . urges japan to open farm market further u . s . \t 0.233559\n",
      "u . s . urges japan to open farm market further u . s . \t 0.233559\n",
      "japan ministry says open farm trade would hit u . s . \t 0.215694\n",
      "ec agrees trade deal with argentina \t 0.160007\n",
      "economic spotlight - u . s . congress raps japan \t 0.091814\n",
      "oecd farm subsidies study results detailed \t 0.052830\n",
      "asian exporters fear damage from u . s .- japan rift \t 0.050941\n",
      "u . s . house panel extends eep , urges ussr offer \t 0.030293\n",
      "u . s . takes tough stand on gatt farm issues \t 0.027802\n"
     ]
    }
   ],
   "source": [
    "avgdl = 0\n",
    "for doc in documents:\n",
    "    doc_dict = represent(doc['content'])\n",
    "    avgdl += sum(doc_dict.values())\n",
    "avgdl /= num_docs\n",
    "    \n",
    "\n",
    "def idf(term):\n",
    "    global num_docs\n",
    "    global doc_freq\n",
    "    return math.log2((num_docs - doc_freq[term] + 0.5) / (doc_freq[term] + 0.5))\n",
    "                     \n",
    "                     \n",
    "def bm25(doc_dict, query_dict):\n",
    "    global num_docs\n",
    "    global doc_freq\n",
    "    global avgdl\n",
    "    k1 = 1.2\n",
    "    b = 0.75\n",
    "    query_len = sum(query_dict.values())\n",
    "    doc_len = sum(doc_dict.values())\n",
    "    score = 0\n",
    "    for term in query_dict:\n",
    "        if term in doc_dict:\n",
    "            tf = ((doc_dict[term] / doc_len) * (k1 + 1)) / (\n",
    "                (doc_dict[term] / doc_len) + k1 *(1 - b + b * (doc_len / avgdl)))\n",
    "            score += idf(term) * tf\n",
    "    return score\n",
    "                                                            \n",
    "                \n",
    "results = ranked_search(documents, query, bm25)\n",
    "print(\"\\nNumber of matched results: %d\" % len(results))\n",
    "for title, score in results:\n",
    "    print(\"%s \\t %f\" % (title.lower(), score))\n"
   ]
  },
  {
   "cell_type": "markdown",
   "metadata": {},
   "source": [
    "\n",
    "# Inverted Indexing"
   ]
  },
  {
   "cell_type": "markdown",
   "metadata": {},
   "source": [
    "## Build inverted index"
   ]
  },
  {
   "cell_type": "code",
   "execution_count": 110,
   "metadata": {
    "collapsed": false,
    "jupyter": {
     "outputs_hidden": false
    }
   },
   "outputs": [],
   "source": [
    "inverted_index = {}\n",
    "\n",
    "for i in range(len(documents)):\n",
    "    doc_dict = represent(documents[i]['content'])\n",
    "    for term in doc_dict:\n",
    "        if term not in inverted_index:\n",
    "            inverted_index[term] = []\n",
    "        inverted_index[term].append(i)\n",
    "        \n",
    "    "
   ]
  },
  {
   "cell_type": "code",
   "execution_count": 111,
   "metadata": {
    "collapsed": false,
    "jupyter": {
     "outputs_hidden": false
    }
   },
   "outputs": [
    {
     "name": "stdout",
     "output_type": "stream",
     "text": [
      "\n",
      "Number of matched results: 21\n",
      "JAPAN ' S LIPC TO BUY BEEF ON APRIL 23 1.676211\n",
      "JAPAN ' S LIPC TO BUY BEEF ON APRIL 23 1.676211\n",
      "JAPAN SETS 1987 / 88 FIRST HALF BEEF IMPORT QUOTA 1.548682\n",
      "MORE PRESSURE URGED FOR ASIA TO TAKE U . S . BEEF 0.618041\n",
      "JAPAN SEEN REDUCING BEEF , PORK INTERVENTION PRICES 0.523364\n",
      "AUSTRALIAN BEEF OUTPUT SEEN DECLINING IN 1987 0.444577\n",
      "U . S . MEAT INDUSTRY LAUNCHES CAMPAIGN IN JAPAN 0.430094\n",
      "GATT CASE AGAINST JAPAN A MODEL FOR U . S . - LYNG 0.426406\n",
      "JAPAN ' S LDP URGES MORE IMPORTS OF 12 FARM ITEMS 0.424614\n",
      "U . S . TO ASK FOR SHARE OF JAPAN ' S RICE MARKET U . S . 0.337159\n",
      "JAPAN BEEF PRICE SUPPORT CUT WILL NOT RAISE DEMAND 0.315739\n",
      "LYNG OPENS JAPAN TALKS ON FARM TRADE BARRIERS U . S . 0.241400\n",
      "U . S . URGES JAPAN TO OPEN FARM MARKET FURTHER U . S . 0.233559\n",
      "U . S . URGES JAPAN TO OPEN FARM MARKET FURTHER U . S . 0.233559\n",
      "JAPAN MINISTRY SAYS OPEN FARM TRADE WOULD HIT U . S . 0.215694\n",
      "EC AGREES TRADE DEAL WITH ARGENTINA 0.160007\n",
      "ECONOMIC SPOTLIGHT - U . S . CONGRESS RAPS JAPAN 0.091814\n",
      "OECD FARM SUBSIDIES STUDY RESULTS DETAILED 0.052830\n",
      "ASIAN EXPORTERS FEAR DAMAGE FROM U . S .- JAPAN RIFT 0.050941\n",
      "U . S . HOUSE PANEL EXTENDS EEP , URGES USSR OFFER 0.030293\n",
      "U . S . TAKES TOUGH STAND ON GATT FARM ISSUES 0.027802\n"
     ]
    }
   ],
   "source": [
    "def match_indexed_docs(docs, inverted_index, query_dict):\n",
    "    count = Counter()\n",
    "    for term in query_dict:\n",
    "        for doc_id in inverted_index[term]:\n",
    "            count[doc_id] += 1\n",
    "    results = []\n",
    "    for doc_id in count:\n",
    "        if count[doc_id] == len(query_dict):\n",
    "            results.append(docs[doc_id])\n",
    "    return results\n",
    "            \n",
    "    \n",
    "def ranked_indexed_search(docs, inverted_index, query, score_func):\n",
    "    query_terms = query.split(\" \")\n",
    "    query_dict = represent(query_terms)\n",
    "    results = []\n",
    "    docs = match_indexed_docs(docs, inverted_index, query_dict)\n",
    "    for doc in docs:\n",
    "        doc_dict = represent(doc['content'])\n",
    "        score = score_func(doc_dict, query_dict)\n",
    "        if score > 0:\n",
    "            results.append((doc['title'], score))\n",
    "    \n",
    "    ranked = sorted(results, key=lambda x: x[1], reverse=True)\n",
    "    return ranked\n",
    "\n",
    "\n",
    "results = ranked_indexed_search(documents, inverted_index, query, bm25)\n",
    "print(\"\\nNumber of matched results: %d\" % len(results))\n",
    "for title, score in results:\n",
    "    print(\"%s %f\" % (title, score))\n"
   ]
  },
  {
   "cell_type": "code",
   "execution_count": 112,
   "metadata": {
    "collapsed": false,
    "jupyter": {
     "outputs_hidden": false
    }
   },
   "outputs": [
    {
     "name": "stdout",
     "output_type": "stream",
     "text": [
      "\n",
      "Number of matched results: 41\n",
      "RISING TAIWAN DOLLAR CAUSES FOREIGN RESERVES LOSS 0.557418\n",
      "TAIWAN STEEL FIRM SEES LOWER EXPORTS , MORE OUTPUT 0.534024\n",
      "THAI ZINC EXPORTS FALL IN MARCH 0.447403\n",
      "LONDON GRAIN FREIGHTS 27 , 000 0.411234\n",
      "TAIWAN PLANS MISSION TO CLOSE TRADE GAP WITH U . S . 0.361747\n",
      "TAIWAN FOREIGN EXCHANGE RESERVES HIT NEW HIGH 0.358275\n",
      "TAIWAN SEES SHARP DECLINE IN SHIPBREAKING 0.304945\n",
      "YEUTTER PUTS CURRENCY BURDEN ON TAIWAN , KOREA 0.289958\n",
      "MULFORD SAYS GERMANY , JAPAN SHOULD DO MORE 0.248875\n",
      "BALDRIGE CONCERNED ABOUT KOREAN / TAIWAN DEFICITS 0.226503\n",
      "SOUTH AFRICA CORN EXPORTS COULD BE REDUCED - USDA 0.210748\n",
      "LONDON FREIGHT MARKET FEATURES GRAIN OUT OF U . S . 0.210735\n",
      "TAIWAN ANNOUNCES NEW ROUND OF IMPORT TARIFF CUTS 0.165164\n",
      "TAIWAN ANNOUNCES NEW ROUND OF IMPORT TARIFF CUTS 0.165164\n",
      "BALDRIGE WARNS OF WORLD TRADE WAR DANGER U . S . 0.155060\n",
      "BALDRIGE WARNS OF WORLD TRADE WAR DANGER U . S . 0.152501\n",
      "TAIWAN CURBS INFLOWS OF FOREIGN EXCHANGE 0.141761\n",
      "TAIWAN COMPLAINS ABOUT SIZE OF RESERVES 0.139054\n",
      "REPORT EXPECTS SHARP DROP IN WORLD IRON IMPORTS 0.138398\n",
      "USDA COMMENTS ON EXPORT SALES REPORT U . S . 0.130159\n",
      "U . S . HOUSE PANEL APPROVES TRADE BILL 0.122454\n",
      "TAIWAN SHIPBUILDER LOOKS FOR JAPANESE VENTURES 0.099780\n",
      "TAIWAN DOLLAR AND RESERVES SEEN RISING MORE SLOWLY 0.098053\n",
      "USDA COMMENTS ON EXPORT SALES REPORT 0.095963\n",
      "AUSTRALIAN BEEF OUTPUT SEEN DECLINING IN 1987 0.095316\n",
      "ECONOMIC SPOTLIGHT - U . S . DEFICIT WITH 0.093116\n",
      "ECONOMIC SPOTLIGHT - U . S . CONGRESS RAPS JAPAN 0.090142\n",
      "USDA COMMENTS ON EXPORT SALES 0.089580\n",
      "PHILIPPINE PLANNING CHIEF URGES PESO DEVALUATION 0.078124\n",
      "ASIAN EXPORTERS FEAR DAMAGE FROM U . S .- JAPAN RIFT 0.069852\n",
      "LATIN , CARIBBEAN NATIONS OPPOSE TRADE BILLS A 0.052019\n",
      "ECONOMIC SPOTLIGHT - JAPAN SHIPBUILDERS RECOVERY 0.047666\n",
      "U . S . HOUSE PANEL APPROVES TRADE BILL 0.044894\n",
      "JAPANESE TARIFFS SEEN AS WORLDWIDE WARNING 0.040512\n",
      "U . S . TRADE DEFICIT 38 . 37 BILLION DLRS IN 4TH QTR 0.039176\n",
      "EXPORT BUSINESS - GRAINS / OILSEEDS COMPLEX 0.025505\n",
      "U . S . HOUSE PANEL TAKES FIRST TRADE BILL VOTES 0.019227\n",
      "DOLLAR VALUE APPROPRIATE , BUNDESBANK OFFICIAL SAYS 0.018462\n",
      "NET CHANGE IN EXPORT COMMITMENTS -- USDA 0.011454\n",
      "TRADE INTERESTS READY FOR BATTLE IN U . S . HOUSE U . S . 0.010810\n",
      "TRADE INTERESTS READY FOR FIGHT IN U . S . CONGRESS U . S . 0.008743\n"
     ]
    }
   ],
   "source": [
    "query = \"Taiwan Japan\"\n",
    "results = ranked_indexed_search(documents, inverted_index, query, bm25)\n",
    "print(\"\\nNumber of matched results: %d\" % len(results))\n",
    "for title, score in results:\n",
    "    print(\"%s %f\" % (title, score))\n"
   ]
  },
  {
   "cell_type": "code",
   "execution_count": 113,
   "metadata": {
    "collapsed": false,
    "jupyter": {
     "outputs_hidden": false
    }
   },
   "outputs": [
    {
     "name": "stdout",
     "output_type": "stream",
     "text": [
      "\n",
      "Number of matched results: 41\n",
      "ECONOMIC SPOTLIGHT - U . S . DEFICIT WITH 121.213109\n",
      "TAIWAN SEES SHARP DECLINE IN SHIPBREAKING 64.755111\n",
      "ASIAN EXPORTERS FEAR DAMAGE FROM U . S .- JAPAN RIFT 63.133312\n",
      "ECONOMIC SPOTLIGHT - U . S . CONGRESS RAPS JAPAN 45.701311\n",
      "TAIWAN CURBS INFLOWS OF FOREIGN EXCHANGE 43.998890\n",
      "NET CHANGE IN EXPORT COMMITMENTS -- USDA 39.863770\n",
      "TAIWAN ANNOUNCES NEW ROUND OF IMPORT TARIFF CUTS 38.188223\n",
      "TAIWAN ANNOUNCES NEW ROUND OF IMPORT TARIFF CUTS 38.188223\n",
      "RISING TAIWAN DOLLAR CAUSES FOREIGN RESERVES LOSS 35.701776\n",
      "TAIWAN COMPLAINS ABOUT SIZE OF RESERVES 32.377556\n",
      "TAIWAN FOREIGN EXCHANGE RESERVES HIT NEW HIGH 32.377556\n",
      "TAIWAN DOLLAR AND RESERVES SEEN RISING MORE SLOWLY 32.377556\n",
      "JAPANESE TARIFFS SEEN AS WORLDWIDE WARNING 31.566656\n",
      "ECONOMIC SPOTLIGHT - JAPAN SHIPBUILDERS RECOVERY 25.755989\n",
      "USDA COMMENTS ON EXPORT SALES REPORT U . S . 24.918215\n",
      "TAIWAN PLANS MISSION TO CLOSE TRADE GAP WITH U . S . 24.080442\n",
      "YEUTTER PUTS CURRENCY BURDEN ON TAIWAN , KOREA 24.080442\n",
      "TAIWAN STEEL FIRM SEES LOWER EXPORTS , MORE OUTPUT 20.756222\n",
      "TAIWAN SHIPBUILDER LOOKS FOR JAPANESE VENTURES 20.756222\n",
      "USDA COMMENTS ON EXPORT SALES 15.783328\n",
      "LONDON FREIGHT MARKET FEATURES GRAIN OUT OF U . S . 15.783328\n",
      "USDA COMMENTS ON EXPORT SALES REPORT 15.783328\n",
      "U . S . TRADE DEFICIT 38 . 37 BILLION DLRS IN 4TH QTR 15.783328\n",
      "BALDRIGE CONCERNED ABOUT KOREAN / TAIWAN DEFICITS 14.945554\n",
      "LATIN , CARIBBEAN NATIONS OPPOSE TRADE BILLS A 12.459108\n",
      "MULFORD SAYS GERMANY , JAPAN SHOULD DO MORE 12.459108\n",
      "THAI ZINC EXPORTS FALL IN MARCH 9.134887\n",
      "TRADE INTERESTS READY FOR FIGHT IN U . S . CONGRESS U . S . 9.134887\n",
      "TRADE INTERESTS READY FOR BATTLE IN U . S . HOUSE U . S . 9.134887\n",
      "PHILIPPINE PLANNING CHIEF URGES PESO DEVALUATION 9.134887\n",
      "LONDON GRAIN FREIGHTS 27 , 000 9.134887\n",
      "BALDRIGE WARNS OF WORLD TRADE WAR DANGER U . S . 9.134887\n",
      "REPORT EXPECTS SHARP DROP IN WORLD IRON IMPORTS 9.134887\n",
      "EXPORT BUSINESS - GRAINS / OILSEEDS COMPLEX 9.134887\n",
      "U . S . HOUSE PANEL TAKES FIRST TRADE BILL VOTES 9.134887\n",
      "SOUTH AFRICA CORN EXPORTS COULD BE REDUCED - USDA 9.134887\n",
      "DOLLAR VALUE APPROPRIATE , BUNDESBANK OFFICIAL SAYS 9.134887\n",
      "U . S . HOUSE PANEL APPROVES TRADE BILL 9.134887\n",
      "U . S . HOUSE PANEL APPROVES TRADE BILL 9.134887\n",
      "AUSTRALIAN BEEF OUTPUT SEEN DECLINING IN 1987 9.134887\n",
      "BALDRIGE WARNS OF WORLD TRADE WAR DANGER U . S . 9.134887\n"
     ]
    }
   ],
   "source": [
    "results = ranked_indexed_search(documents, inverted_index, query, tfidf)\n",
    "print(\"\\nNumber of matched results: %d\" % len(results))\n",
    "for title, score in results:\n",
    "    print(\"%s %f\" % (title, score))\n"
   ]
  }
 ],
 "metadata": {
  "kernelspec": {
   "display_name": "Python 3",
   "language": "python",
   "name": "python3"
  },
  "language_info": {
   "codemirror_mode": {
    "name": "ipython",
    "version": 3
   },
   "file_extension": ".py",
   "mimetype": "text/x-python",
   "name": "python",
   "nbconvert_exporter": "python",
   "pygments_lexer": "ipython3",
   "version": "3.7.6"
  }
 },
 "nbformat": 4,
 "nbformat_minor": 4
}
