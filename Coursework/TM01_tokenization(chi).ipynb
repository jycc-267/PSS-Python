{
 "cells": [
  {
   "cell_type": "markdown",
   "metadata": {
    "id": "lvAl2Vh6cqeF"
   },
   "source": [
    "# Chinese Processing\n",
    "## Loading data"
   ]
  },
  {
   "cell_type": "markdown",
   "metadata": {
    "id": "tRbzsSU6cqeM"
   },
   "source": [
    "Load the fiction \"Blessing\" written by Lu Xun"
   ]
  },
  {
   "cell_type": "code",
   "execution_count": 1,
   "metadata": {
    "colab": {
     "base_uri": "https://localhost:8080/"
    },
    "executionInfo": {
     "elapsed": 1315,
     "status": "ok",
     "timestamp": 1619881333534,
     "user": {
      "displayName": "JILUNG",
      "photoUrl": "https://lh3.googleusercontent.com/a-/AOh14Gg6zj7prBu9I41dXrwQwaD6D0pMAipXePNpoU-MZ30=s64",
      "userId": "08765716966079614016"
     },
     "user_tz": -480
    },
    "id": "J_eIDlc5c1LM",
    "outputId": "ea055856-35b6-4577-ee10-d2d16d6264b1"
   },
   "outputs": [
    {
     "name": "stdout",
     "output_type": "stream",
     "text": [
      "--2021-05-01 15:02:12--  https://raw.githubusercontent.com/P4CSS/PSS/master/data/blessing.txt\n",
      "Resolving raw.githubusercontent.com (raw.githubusercontent.com)... 185.199.108.133, 185.199.110.133, 185.199.111.133, ...\n",
      "Connecting to raw.githubusercontent.com (raw.githubusercontent.com)|185.199.108.133|:443... connected.\n",
      "HTTP request sent, awaiting response... 200 OK\n",
      "Length: 28418 (28K) [text/plain]\n",
      "Saving to: ‘blessing.txt’\n",
      "\n",
      "blessing.txt        100%[===================>]  27.75K  --.-KB/s    in 0s      \n",
      "\n",
      "Last-modified header missing -- time-stamps turned off.\n",
      "2021-05-01 15:02:12 (113 MB/s) - ‘blessing.txt’ saved [28418/28418]\n",
      "\n",
      "blessing.txt  sample_data\n"
     ]
    }
   ],
   "source": [
    "!wget -N https://raw.githubusercontent.com/P4CSS/PSS/master/data/blessing.txt\n",
    "!ls"
   ]
  },
  {
   "cell_type": "code",
   "execution_count": 2,
   "metadata": {
    "colab": {
     "base_uri": "https://localhost:8080/"
    },
    "executionInfo": {
     "elapsed": 720,
     "status": "ok",
     "timestamp": 1619881353162,
     "user": {
      "displayName": "JILUNG",
      "photoUrl": "https://lh3.googleusercontent.com/a-/AOh14Gg6zj7prBu9I41dXrwQwaD6D0pMAipXePNpoU-MZ30=s64",
      "userId": "08765716966079614016"
     },
     "user_tz": -480
    },
    "id": "sgHqC3G1cqeN",
    "outputId": "bc46f6ae-c00e-4c78-c43d-7e7f4cc53a80"
   },
   "outputs": [
    {
     "name": "stdout",
     "output_type": "stream",
     "text": [
      "<class '_io.TextIOWrapper'>\n",
      "<class 'str'>\n",
      "Number of characters: 9618\n",
      "　　舊曆的年底畢竟最像年底，村鎮上不必說，就在天空中也顯出將到新年的氣象來。灰白色的沉重的晚雲中間時時發出閃光，接著一聲鈍響，是送竈的爆竹；近處燃放的可就更強烈了，震耳的大音還沒有息，空氣裏已經散滿了幽微的火藥香。我是正在這一夜回到我的故鄉魯鎮的。雖說故鄉，然而已沒有家，所以只得暫寓在魯四老爺的宅子裏。他是我的本家，比我長一輩，應該稱之曰「四叔」，是一個講理學的老監生。他比先前並沒有甚麽大改變，單是老了些，但也還未留鬍子，一見面是寒暄，寒暄之後說我「胖了」，說我「胖了」之後即大罵其新黨。但我知道，這並非借題在罵我：因為他所罵的還是康有為。但是，談話是總不投機的了，於是不多久，我便一個人剩在書房裏。\n",
      "\n",
      "　　第二天我起得很遲，午飯之後，出去看了幾個本家和朋友；第三天也照樣。他們也都沒有甚麽大改變，單是老了些；家中卻一律忙，都在準備著「祝福」。這是魯鎮年終的大典，致敬盡禮，迎接福神，拜求來年一年中的好運氣的。殺雞，宰鵝，買豬肉，用心細細的洗，女人的臂膊都在水裏浸得通紅，有的還帶著絞絲銀鐲子。煮熟之後，橫七豎八的插些筷子在這類東西上，可就稱為「福禮」了，五更天陳列起來，並且點上香燭，恭請福神們來享用，拜的卻只限於男人，拜完自然仍然是放爆竹。年年如此，家家如此，——只要買得起福禮和爆竹之類的——今年自然也如此。天色愈陰暗了，下午竟下起雪來，雪花大的有梅花那麽大，滿天飛舞，夾著煙靄和忙碌的氣色，將魯鎮亂成一團糟。我回到四叔的書房裏時，瓦楞上已經雪白，房裏也映得較光明，極分明的顯出壁上掛著的朱拓的大「壽」字，陳摶老祖寫的，一邊的對聯已經脫落，鬆鬆的卷了放在長桌上，一邊的還在，道是「事理通達心氣和平」。我又無聊賴的到窗下的案頭去一翻，只見一堆似乎未必完全的《康熙字典》，一部《近思錄集註》和一部《四書襯》。無論如何、我明天決計要走了。\n",
      "\n",
      "　　況且，一直到昨天遇見祥林嫂的事，也就使我不能安住。那是下午，我到鎮的東頭訪過一個朋友，走出來，就在河邊遇見她；而且見她瞪著的眼睛的視線，就知道明明是向我走來的。我這回在魯鎮所見的人們中，改變之大，可以說無過於她的了：五年前的花白的頭髮，即今已經全白，會不像四十上下的人；臉上瘦削不堪，黃中帶黑，而且消盡了先前悲哀的神色，仿佛是木刻似的；只有那眼珠間或一輪，還可以表示她是一\n"
     ]
    }
   ],
   "source": [
    "with open(\"data/blessing.txt\", encoding=\"utf8\") as fin:\n",
    "    text = fin.read()\n",
    "print(type(fin))\n",
    "print(type(text))\n",
    "print(\"Number of characters: %d\" % len(text))\n",
    "print(text[:int(len(text)/10)])"
   ]
  },
  {
   "cell_type": "markdown",
   "metadata": {
    "id": "KXAI27dFcqeO"
   },
   "source": [
    "## Setence segment\n",
    "\n",
    "After Removing the fullspace and newline symbols"
   ]
  },
  {
   "cell_type": "code",
   "execution_count": 3,
   "metadata": {
    "colab": {
     "base_uri": "https://localhost:8080/"
    },
    "executionInfo": {
     "elapsed": 773,
     "status": "ok",
     "timestamp": 1619881363295,
     "user": {
      "displayName": "JILUNG",
      "photoUrl": "https://lh3.googleusercontent.com/a-/AOh14Gg6zj7prBu9I41dXrwQwaD6D0pMAipXePNpoU-MZ30=s64",
      "userId": "08765716966079614016"
     },
     "user_tz": -480
    },
    "id": "jD-cs8YwcqeO",
    "outputId": "da13d4e1-bd67-4756-da3d-ad62149ff8a7"
   },
   "outputs": [
    {
     "name": "stdout",
     "output_type": "stream",
     "text": [
      "['舊曆的年底畢竟最像年底，村鎮上不必說，就在天空中也顯出將到新年的氣象來', '灰白色的沉重的晚雲中間時時發出閃光，接著一聲鈍響，是送竈的爆竹；近處燃放的可就更強烈了，震耳的大音還沒有息，空氣裏已經散滿了幽微的火藥香', '我是正在這一夜回到我的故鄉魯鎮的', '雖說故鄉，然而已沒有家，所以只得暫寓在魯四老爺的宅子裏', '他是我的本家，比我長一輩，應該稱之曰「四叔」，是一個講理學的老監生', '他比先前並沒有甚麽大改變，單是老了些，但也還未留鬍子，一見面是寒暄，寒暄之後說我「胖了」，說我「胖了」之後即大罵其新黨', '但我知道，這並非借題在罵我：因為他所罵的還是康有為', '但是，談話是總不投機的了，於是不多久，我便一個人剩在書房裏', '第二天我起得很遲，午飯之後，出去看了幾個本家和朋友；第三天也照樣', '他們也都沒有甚麽大改變，單是老了些；家中卻一律忙，都在準備著「祝福」', '這是魯鎮年終的大典，致敬盡禮，迎接福神，拜求來年一年中的好運氣的', '殺雞，宰鵝，買豬肉，用心細細的洗，女人的臂膊都在水裏浸得通紅，有的還帶著絞絲銀鐲子', '煮熟之後，橫七豎八的插些筷子在這類東西上，可就稱為「福禮」了，五更天陳列起來，並且點上香燭，恭請福神們來享用，拜的卻只限於男人，拜完自然仍然是放爆竹', '年年如此，家家如此，——只要買得起福禮和爆竹之類的——今年自然也如此', '天色愈陰暗了，下午竟下起雪來，雪花大的有梅花那麽大，滿天飛舞，夾著煙靄和忙碌的氣色，將魯鎮亂成一團糟', '我回到四叔的書房裏時，瓦楞上已經雪白，房裏也映得較光明，極分明的顯出壁上掛著的朱拓的大「壽」字，陳摶老祖寫的，一邊的對聯已經脫落，鬆鬆的卷了放在長桌上，一邊的還在，道是「事理通達心氣和平」', '我又無聊賴的到窗下的案頭去一翻，只見一堆似乎未必完全的《康熙字典》，一部《近思錄集註》和一部《四書襯》', '無論如何、我明天決計要走了', '況且，一直到昨天遇見祥林嫂的事，也就使我不能安住', '那是下午，我到鎮的東頭訪過一個朋友，走出來，就在河邊遇見她；而且見她瞪著的眼睛的視線，就知道明明是向我走來的']\n",
      "Number of sentences: 273\n"
     ]
    }
   ],
   "source": [
    "# 將全型空白與換行符號移除\n",
    "text_refined = text.replace(\"　\", \"\").replace(\"\\n\", \"\")\n",
    "\n",
    "# 斷句\n",
    "sentences = text_refined.split(\"。\")\n",
    "print(sentences[:20])\n",
    "print(\"Number of sentences: %d\" % len(sentences))"
   ]
  },
  {
   "cell_type": "markdown",
   "metadata": {
    "id": "Ejr2-YfdcqeP"
   },
   "source": [
    "## Chinese word Segmentation"
   ]
  },
  {
   "cell_type": "code",
   "execution_count": 8,
   "metadata": {
    "colab": {
     "base_uri": "https://localhost:8080/"
    },
    "executionInfo": {
     "elapsed": 1730,
     "status": "ok",
     "timestamp": 1619881373177,
     "user": {
      "displayName": "JILUNG",
      "photoUrl": "https://lh3.googleusercontent.com/a-/AOh14Gg6zj7prBu9I41dXrwQwaD6D0pMAipXePNpoU-MZ30=s64",
      "userId": "08765716966079614016"
     },
     "user_tz": -480
    },
    "id": "zRerhSujcqeP",
    "outputId": "9677c9fe-4505-4294-8190-67b458c9d39a"
   },
   "outputs": [
    {
     "name": "stdout",
     "output_type": "stream",
     "text": [
      "舊曆的年底畢竟最像年底，村鎮上不必說，就在天空中也顯出將到新年的氣象來\n",
      "<generator object Tokenizer.cut at 0x000002C0AE706C10>\n",
      "['舊', '曆', '的', '年底', '畢竟', '最', '像', '年底', '，', '村鎮', '上', '不必', '說', '，', '就', '在', '天空', '中', '也', '顯出', '將到', '新年', '的', '氣象', '來']\n"
     ]
    }
   ],
   "source": [
    "import jieba\n",
    "print(sentences[0])\n",
    "print(jieba.cut(sentences[0])) # 會顯示一個 generator\n",
    "print(list(jieba.cut(sentences[0]))) # 轉乘 list 將 generator 印出來"
   ]
  },
  {
   "cell_type": "code",
   "execution_count": 10,
   "metadata": {
    "colab": {
     "base_uri": "https://localhost:8080/"
    },
    "executionInfo": {
     "elapsed": 699,
     "status": "ok",
     "timestamp": 1619881378533,
     "user": {
      "displayName": "JILUNG",
      "photoUrl": "https://lh3.googleusercontent.com/a-/AOh14Gg6zj7prBu9I41dXrwQwaD6D0pMAipXePNpoU-MZ30=s64",
      "userId": "08765716966079614016"
     },
     "user_tz": -480
    },
    "id": "e3d24lrfcqeP",
    "outputId": "d2cd49eb-93ab-4564-9509-7156164d0bb5"
   },
   "outputs": [
    {
     "name": "stdout",
     "output_type": "stream",
     "text": [
      "舊 / 曆 / 的 / 年底 / 畢竟 / 最 / 像 / 年底 / ， / 村鎮 / 上 / 不必 / 說 / ， / 就 / 在 / 天空 / 中 / 也 / 顯出 / 將到 / 新年 / 的 / 氣象 / 來\n",
      "台北市 長 柯文 哲\n"
     ]
    }
   ],
   "source": [
    "import jieba\n",
    "print(\" / \".join(jieba.cut(sentences[0]))) # 以斜線為間隔合併\n",
    "print(\" \".join(jieba.cut(\"台北市長柯文哲\")))"
   ]
  },
  {
   "cell_type": "markdown",
   "metadata": {
    "id": "Qf1sJxwecqeP"
   },
   "source": [
    "# Comparing Simlified and Traditional Chinese Word Segmentation\n",
    "\n",
    "## Converstion between Simplified and Traditional Chinese"
   ]
  },
  {
   "cell_type": "code",
   "execution_count": 11,
   "metadata": {
    "colab": {
     "base_uri": "https://localhost:8080/"
    },
    "executionInfo": {
     "elapsed": 6589,
     "status": "ok",
     "timestamp": 1619881395556,
     "user": {
      "displayName": "JILUNG",
      "photoUrl": "https://lh3.googleusercontent.com/a-/AOh14Gg6zj7prBu9I41dXrwQwaD6D0pMAipXePNpoU-MZ30=s64",
      "userId": "08765716966079614016"
     },
     "user_tz": -480
    },
    "id": "1TcDVHoicqeQ",
    "outputId": "634f2274-23d6-47dc-9afa-707d570403c1"
   },
   "outputs": [
    {
     "name": "stdout",
     "output_type": "stream",
     "text": [
      "台北市长柯文哲\n",
      "颱北市長柯文哲\n"
     ]
    }
   ],
   "source": [
    "from hanziconv import HanziConv\n",
    "\n",
    "sim = HanziConv.toSimplified('臺北市長柯文哲')\n",
    "print(sim)\n",
    "\n",
    "tra = HanziConv.toTraditional(sim)\n",
    "print(tra)"
   ]
  },
  {
   "cell_type": "code",
   "execution_count": 12,
   "metadata": {
    "colab": {
     "base_uri": "https://localhost:8080/"
    },
    "executionInfo": {
     "elapsed": 807,
     "status": "ok",
     "timestamp": 1619881399868,
     "user": {
      "displayName": "JILUNG",
      "photoUrl": "https://lh3.googleusercontent.com/a-/AOh14Gg6zj7prBu9I41dXrwQwaD6D0pMAipXePNpoU-MZ30=s64",
      "userId": "08765716966079614016"
     },
     "user_tz": -480
    },
    "id": "It0i0L2GcqeQ",
    "outputId": "9db11564-3a7d-420b-99c1-64f678ceb7bd"
   },
   "outputs": [
    {
     "name": "stdout",
     "output_type": "stream",
     "text": [
      "第二天我起得很迟，午饭之后，出去看了几个本家和朋友\n",
      "第二天我起得很遲，午飯之後，齣去看瞭幾個本傢和朋友\n"
     ]
    }
   ],
   "source": [
    "sim = HanziConv.toSimplified('第二天我起得很遲，午飯之後，出去看了幾個本家和朋友')\n",
    "print(sim)\n",
    "\n",
    "tra = HanziConv.toTraditional(sim)\n",
    "print(tra)"
   ]
  },
  {
   "cell_type": "markdown",
   "metadata": {
    "id": "Lk-ygD5icqeQ"
   },
   "source": [
    "## Segmentation comparision between traditional and simplified Chinese"
   ]
  },
  {
   "cell_type": "code",
   "execution_count": 13,
   "metadata": {
    "colab": {
     "base_uri": "https://localhost:8080/"
    },
    "executionInfo": {
     "elapsed": 679,
     "status": "ok",
     "timestamp": 1619881403416,
     "user": {
      "displayName": "JILUNG",
      "photoUrl": "https://lh3.googleusercontent.com/a-/AOh14Gg6zj7prBu9I41dXrwQwaD6D0pMAipXePNpoU-MZ30=s64",
      "userId": "08765716966079614016"
     },
     "user_tz": -480
    },
    "id": "OdosgkdncqeQ",
    "outputId": "d01aa539-4dae-44d6-f946-217d78b70fea"
   },
   "outputs": [
    {
     "name": "stdout",
     "output_type": "stream",
     "text": [
      "台北市 / 長 / 柯文 / 哲\n",
      "台北 / 市长 / 柯文 / 哲\n"
     ]
    }
   ],
   "source": [
    "tra = '台北市長柯文哲'\n",
    "sim = HanziConv.toSimplified(tra)\n",
    "print(\" / \".join(jieba.cut(tra)))\n",
    "print(\" / \".join(jieba.cut(sim)))"
   ]
  },
  {
   "cell_type": "code",
   "execution_count": 16,
   "metadata": {
    "colab": {
     "base_uri": "https://localhost:8080/"
    },
    "executionInfo": {
     "elapsed": 798,
     "status": "ok",
     "timestamp": 1619881406354,
     "user": {
      "displayName": "JILUNG",
      "photoUrl": "https://lh3.googleusercontent.com/a-/AOh14Gg6zj7prBu9I41dXrwQwaD6D0pMAipXePNpoU-MZ30=s64",
      "userId": "08765716966079614016"
     },
     "user_tz": -480
    },
    "id": "wgIyGUjAcqeR",
    "outputId": "b6c718a2-1893-491f-effb-c38c2d757a9a"
   },
   "outputs": [
    {
     "name": "stdout",
     "output_type": "stream",
     "text": [
      "舊 / 曆 / 的 / 年底 / 畢竟 / 最 / 像 / 年底 / ， / 村鎮 / 上 / 不必 / 說 / ， / 就 / 在 / 天空 / 中 / 也 / 顯出 / 將到 / 新年 / 的 / 氣象 / 來\n",
      "舊曆 / 的 / 年底 / 畢竟 / 最像 / 年底 / ， / 村鎮 / 上 / 不必 / 說 / ， / 就 / 在 / 天空 / 中 / 也 / 顯齣 / 將 / 到 / 新年 / 的 / 氣象 / 來\n",
      "旧历 / 的 / 年底 / 毕竟 / 最像 / 年底 / ， / 村镇 / 上 / 不必 / 说 / ， / 就 / 在 / 天空 / 中 / 也 / 显出 / 将 / 到 / 新年 / 的 / 气象 / 来\n"
     ]
    }
   ],
   "source": [
    "tra = sentences[0]\n",
    "\n",
    "# 轉成簡體再斷詞\n",
    "sim = HanziConv.toSimplified(tra)\n",
    "sim_cutted = list(jieba.cut(sim))\n",
    "\n",
    "# 斷完詞再轉回繁體\n",
    "sim_cutted_to_tra = [HanziConv.toTraditional(term) for term in sim_cutted]\n",
    "\n",
    "print(\" / \".join(jieba.cut(tra))) # 直接斷繁體\n",
    "print(\" / \".join(sim_cutted_to_tra))\n",
    "print(\" / \".join(jieba.cut(sim)))"
   ]
  },
  {
   "cell_type": "code",
   "execution_count": 17,
   "metadata": {
    "colab": {
     "base_uri": "https://localhost:8080/"
    },
    "executionInfo": {
     "elapsed": 622,
     "status": "ok",
     "timestamp": 1619881409269,
     "user": {
      "displayName": "JILUNG",
      "photoUrl": "https://lh3.googleusercontent.com/a-/AOh14Gg6zj7prBu9I41dXrwQwaD6D0pMAipXePNpoU-MZ30=s64",
      "userId": "08765716966079614016"
     },
     "user_tz": -480
    },
    "id": "hjBDrhFVcqeR",
    "outputId": "c671a0dc-1ccd-451d-a956-a485b7e4803a"
   },
   "outputs": [
    {
     "name": "stdout",
     "output_type": "stream",
     "text": [
      "國民黨 / 高雄市 / 長 / 候選人 / 韓國瑜 / 今天 / 晚上 / 開 / 直播 / ， / 針對 / 最近 / 引起 / 爭議 / 的 / 一些 / 事 / 說明 / ， / 強調 / 他 / 並沒有 / 消費 / 愛心 / 菜 / 販陳樹菊 / ， / 全力支持 / 「 / 館長 / 」 / 做 / 公益 / ， / 所謂 / 高雄 / 三鳳 / 宮靈 / 籤 / 可能 / 是 / 「 / 新型 / 態選舉 / 詐騙 / 」 / ； / 至於 / 為 / 強調 / 招商 / 引資 / 說 / 出 / 「 / 陪 / 睡 / 」 / 遭批 / ， / 他 / 以後不會 / 說 / 這麼 / 有 / 張力 / 的 / 用語 / ， / 畢 / 竟是 / 市長 / 候選人 / 。\n",
      "國民黨 / 高雄市 / 長 / 候選人 / 韓國 / 瑜 / 今天 / 晚上 / 開 / 直播 / ， / 針對 / 最近 / 引起爭議 / 的 / 一些 / 事 / 說明 / ， / 強調 / 他 / 並 / 沒有 / 消費 / 愛心 / 菜販 / 陳樹菊 / ， / 全力支持 / 「 / 館長 / 」 / 做 / 公益 / ， / 所謂 / 高雄 / 三鳳宮 / 靈簽 / 可能 / 是 / 「 / 新型 / 態 / 選舉 / 詐騙 / 」 / ； / 至於 / 為 / 強調 / 招商引資 / 說齣 / 「 / 陪 / 睡 / 」 / 遭批 / ， / 他 / 以後 / 不會 / 說 / 這麼 / 有 / 張力 / 的 / 用語 / ， / 畢竟 / 是 / 市長 / 候選人 / 。\n",
      "国民党 / 高雄市 / 长 / 候选人 / 韩国 / 瑜 / 今天 / 晚上 / 开 / 直播 / ， / 针对 / 最近 / 引起争议 / 的 / 一些 / 事 / 说明 / ， / 强调 / 他 / 并 / 没有 / 消费 / 爱心 / 菜贩 / 陈树菊 / ， / 全力支持 / 「 / 馆长 / 」 / 做 / 公益 / ， / 所谓 / 高雄 / 三凤宫 / 灵签 / 可能 / 是 / 「 / 新型 / 态 / 选举 / 诈骗 / 」 / ； / 至于 / 为 / 强调 / 招商引资 / 说出 / 「 / 陪 / 睡 / 」 / 遭批 / ， / 他 / 以后 / 不会 / 说 / 这么 / 有 / 张力 / 的 / 用语 / ， / 毕竟 / 是 / 市长 / 候选人 / 。\n"
     ]
    }
   ],
   "source": [
    "tra = \"國民黨高雄市長候選人韓國瑜今天晚上開直播，針對最近引起爭議的一些事說明，強調他並沒有消費愛心菜販陳樹菊，全力支持「館長」做公益，所謂高雄三鳳宮靈籤可能是「新型態選舉詐騙」；至於為強調招商引資說出「陪睡」遭批，他以後不會說這麼有張力的用語，畢竟是市長候選人。\"\n",
    "\n",
    "sim = HanziConv.toSimplified(tra)\n",
    "sim_cutted = list(jieba.cut(sim))\n",
    "sim_cutted_tra = [HanziConv.toTraditional(term) for term in sim_cutted]\n",
    "print(\" / \".join(jieba.cut(tra)))\n",
    "print(\" / \".join(sim_cutted_tra))\n",
    "print(\" / \".join(jieba.cut(sim)))"
   ]
  },
  {
   "cell_type": "markdown",
   "metadata": {
    "id": "ErzJt9A5cqeR"
   },
   "source": [
    "## Solution 1: Traditional cutted by Simplified index"
   ]
  },
  {
   "cell_type": "code",
   "execution_count": 12,
   "metadata": {
    "colab": {
     "base_uri": "https://localhost:8080/"
    },
    "executionInfo": {
     "elapsed": 607,
     "status": "ok",
     "timestamp": 1619881412615,
     "user": {
      "displayName": "JILUNG",
      "photoUrl": "https://lh3.googleusercontent.com/a-/AOh14Gg6zj7prBu9I41dXrwQwaD6D0pMAipXePNpoU-MZ30=s64",
      "userId": "08765716966079614016"
     },
     "user_tz": -480
    },
    "id": "UWyPU2t1cqeR",
    "outputId": "cb1bc4b8-e93d-4ba7-9d39-dac5bee81923"
   },
   "outputs": [
    {
     "data": {
      "text/plain": [
       "array([ 1,  3,  6, 10, 15])"
      ]
     },
     "execution_count": 12,
     "metadata": {
      "tags": []
     },
     "output_type": "execute_result"
    }
   ],
   "source": [
    "import numpy\n",
    "numpy.cumsum([1, 2, 3, 4, 5])"
   ]
  },
  {
   "cell_type": "code",
   "execution_count": 18,
   "metadata": {
    "colab": {
     "base_uri": "https://localhost:8080/"
    },
    "executionInfo": {
     "elapsed": 697,
     "status": "ok",
     "timestamp": 1619881415012,
     "user": {
      "displayName": "JILUNG",
      "photoUrl": "https://lh3.googleusercontent.com/a-/AOh14Gg6zj7prBu9I41dXrwQwaD6D0pMAipXePNpoU-MZ30=s64",
      "userId": "08765716966079614016"
     },
     "user_tz": -480
    },
    "id": "W8dFuecIcqeS",
    "outputId": "d08d06bf-08bd-46b9-9910-c266fb90556a"
   },
   "outputs": [
    {
     "name": "stdout",
     "output_type": "stream",
     "text": [
      "舊曆的年底畢竟最像年底，村鎮上不必說，就在天空中也顯出將到新年的氣象來\n",
      "['舊曆', '的', '年底', '畢竟', '最像', '年底', '，', '村鎮', '上', '不必', '說', '，', '就', '在', '天空', '中', '也', '顯出', '將', '到', '新年', '的', '氣象', '來']\n",
      "['舊曆', '的', '年底', '畢竟', '最像', '年底', '，', '村鎮', '上', '不必', '說', '，', '就', '在', '天空', '中', '也', '顯齣', '將', '到', '新年', '的', '氣象', '來']\n"
     ]
    }
   ],
   "source": [
    "import numpy\n",
    "print(sentences[0])\n",
    "\n",
    "def tra_cutted_by_sim(tra): # 讀到的是繁體的句子\n",
    "    sim_cutted = jieba.cut(HanziConv.toSimplified(tra))\n",
    "    # 算出各組詞彙的長度\n",
    "    term_len = [len(w) for w in list(sim_cutted)]\n",
    "    # 對簡體斷詞的各組詞彙長度做累計加總，去掉最後一項(不是任何一組的 index)再於前頭加上第一組詞彙的 index: 0\n",
    "    term_index = [0] + list(numpy.cumsum(term_len)[:-1])\n",
    "    # 將 term index and term length 存成 term dict 的 key and value\n",
    "    term_dict = {k:v for k, v, in zip(term_index, term_len)}\n",
    "    # 按照簡體的 term index + length 可以完整對讀到的繁體句子斷詞。 Ex: tra[0: 0+2](index: 0, 1 == 舊曆)\n",
    "    tra_cutted  = [tra[k:k+v] for k, v in term_dict.items()]\n",
    "    return tra_cutted\n",
    "\n",
    "print(tra_cutted_by_sim(sentences[0]))\n",
    "\n",
    "sim_cutted = jieba.cut(HanziConv.toSimplified(sentences[0]))\n",
    "sim_cutted_to_tra = [HanziConv.toTraditional(term) for term in sim_cutted]\n",
    "\n",
    "print(sim_cutted_to_tra)"
   ]
  },
  {
   "cell_type": "markdown",
   "metadata": {
    "id": "B5ZmokGUcqeS"
   },
   "source": [
    "## Solution 2: traditional by simplified index"
   ]
  },
  {
   "cell_type": "code",
   "execution_count": 22,
   "metadata": {
    "colab": {
     "base_uri": "https://localhost:8080/"
    },
    "executionInfo": {
     "elapsed": 621,
     "status": "ok",
     "timestamp": 1619881420592,
     "user": {
      "displayName": "JILUNG",
      "photoUrl": "https://lh3.googleusercontent.com/a-/AOh14Gg6zj7prBu9I41dXrwQwaD6D0pMAipXePNpoU-MZ30=s64",
      "userId": "08765716966079614016"
     },
     "user_tz": -480
    },
    "id": "nWg5APUScqeS",
    "outputId": "1043f556-3324-4ddc-89be-bde2946d134f"
   },
   "outputs": [
    {
     "name": "stdout",
     "output_type": "stream",
     "text": [
      "['國民黨', '高雄市', '長', '候選人', '韓國', '瑜', '今天', '晚上', '開', '直播', '，', '針對', '最近', '引起爭議', '的', '一些', '事', '說明', '，', '強調', '他', '並', '沒有', '消費', '愛心', '菜販', '陳樹菊', '，', '全力支持', '「', '館長', '」', '做', '公益', '，', '所謂', '高雄', '三鳳宮', '靈籤', '可能', '是', '「', '新型', '態', '選舉', '詐騙', '」', '；', '至於', '為', '強調', '招商引資', '說出', '「', '陪', '睡', '」', '遭批', '，', '他', '以後', '不會', '說', '這麼', '有', '張力', '的', '用語', '，', '畢竟', '是', '市長', '候選人', '。']\n"
     ]
    }
   ],
   "source": [
    "def restore(text, toks):\n",
    "    results = []\n",
    "    offset = 0\n",
    "    for tok in toks:\n",
    "        results.append(text[offset:offset + len(tok)])\n",
    "        offset += len(tok)\n",
    "    return results\n",
    "print(restore(tra, list(jieba.cut(HanziConv.toSimplified(tra)))))"
   ]
  },
  {
   "cell_type": "markdown",
   "metadata": {
    "id": "Sgsk0HAWcqeS"
   },
   "source": [
    "Handle OOV with an external dictionary"
   ]
  },
  {
   "cell_type": "code",
   "execution_count": 19,
   "metadata": {
    "colab": {
     "base_uri": "https://localhost:8080/"
    },
    "executionInfo": {
     "elapsed": 832,
     "status": "ok",
     "timestamp": 1619881423804,
     "user": {
      "displayName": "JILUNG",
      "photoUrl": "https://lh3.googleusercontent.com/a-/AOh14Gg6zj7prBu9I41dXrwQwaD6D0pMAipXePNpoU-MZ30=s64",
      "userId": "08765716966079614016"
     },
     "user_tz": -480
    },
    "id": "XdHz8FahcqeS",
    "outputId": "a9c12344-8319-40f2-aa5f-f951f4bc96f0"
   },
   "outputs": [
    {
     "name": "stdout",
     "output_type": "stream",
     "text": [
      "國民黨 / 高雄市 / 長 / 候選人 / 韓國瑜 / 今天 / 晚上 / 開 / 直播 / ， / 針對 / 最近 / 引起 / 爭議 / 的 / 一些 / 事 / 說明 / ， / 強調 / 他 / 並沒有 / 消費 / 愛心 / 菜 / 販陳樹菊 / ， / 全力支持 / 「 / 館長 / 」 / 做 / 公益 / ， / 所謂 / 高雄 / 三鳳 / 宮靈 / 籤 / 可能 / 是 / 「 / 新型 / 態選舉 / 詐騙 / 」 / ； / 至於 / 為 / 強調 / 招商 / 引資 / 說 / 出 / 「 / 陪 / 睡 / 」 / 遭批 / ， / 他 / 以後不會 / 說 / 這麼 / 有 / 張力 / 的 / 用語 / ， / 畢 / 竟是 / 市長 / 候選人 / 。\n"
     ]
    }
   ],
   "source": [
    "# Segmenting traditional Chinese directly\n",
    "sample = \"國民黨高雄市長候選人韓國瑜今天晚上開直播，針對最近引起爭議的一些事說明，強調他並沒有消費愛心菜販陳樹菊，全力支持「館長」做公益，所謂高雄三鳳宮靈籤可能是「新型態選舉詐騙」；至於為強調招商引資說出「陪睡」遭批，他以後不會說這麼有張力的用語，畢竟是市長候選人。\"\n",
    "print(\" / \".join(jieba.cut(sample)))"
   ]
  },
  {
   "cell_type": "code",
   "execution_count": 20,
   "metadata": {
    "colab": {
     "base_uri": "https://localhost:8080/"
    },
    "executionInfo": {
     "elapsed": 715,
     "status": "ok",
     "timestamp": 1619881427150,
     "user": {
      "displayName": "JILUNG",
      "photoUrl": "https://lh3.googleusercontent.com/a-/AOh14Gg6zj7prBu9I41dXrwQwaD6D0pMAipXePNpoU-MZ30=s64",
      "userId": "08765716966079614016"
     },
     "user_tz": -480
    },
    "id": "zx5TnGKDcqeT",
    "outputId": "409adabe-4a1d-4f1f-e6f8-587348da607c"
   },
   "outputs": [
    {
     "name": "stdout",
     "output_type": "stream",
     "text": [
      "国民党 / 高雄市 / 长 / 候选人 / 韩国 / 瑜 / 今天 / 晚上 / 开 / 直播 / ， / 针对 / 最近 / 引起争议 / 的 / 一些 / 事 / 说明 / ， / 强调 / 他 / 并 / 没有 / 消费 / 爱心 / 菜贩 / 陈树菊 / ， / 全力支持 / 「 / 馆长 / 」 / 做 / 公益 / ， / 所谓 / 高雄 / 三凤宫 / 灵签 / 可能 / 是 / 「 / 新型 / 态 / 选举 / 诈骗 / 」 / ； / 至于 / 为 / 强调 / 招商引资 / 说出 / 「 / 陪 / 睡 / 」 / 遭批 / ， / 他 / 以后 / 不会 / 说 / 这么 / 有 / 张力 / 的 / 用语 / ， / 毕竟 / 是 / 市长 / 候选人 / 。\n"
     ]
    }
   ],
   "source": [
    "# cutting traditional-to-simplified Chinese\n",
    "print(\" / \".join(jieba.cut(HanziConv.toSimplified(sample))))"
   ]
  },
  {
   "cell_type": "code",
   "execution_count": 23,
   "metadata": {
    "colab": {
     "base_uri": "https://localhost:8080/"
    },
    "executionInfo": {
     "elapsed": 648,
     "status": "ok",
     "timestamp": 1619881429289,
     "user": {
      "displayName": "JILUNG",
      "photoUrl": "https://lh3.googleusercontent.com/a-/AOh14Gg6zj7prBu9I41dXrwQwaD6D0pMAipXePNpoU-MZ30=s64",
      "userId": "08765716966079614016"
     },
     "user_tz": -480
    },
    "id": "cTTRAmVvcqeT",
    "outputId": "25d0fcd6-e487-4ab7-dfe2-56cabf42100c"
   },
   "outputs": [
    {
     "name": "stdout",
     "output_type": "stream",
     "text": [
      "國民黨 / 高雄市 / 長 / 候選人 / 韓國瑜 / 今天 / 晚上 / 開 / 直播 / ， / 針對 / 最近 / 引起 / 爭議 / 的 / 一些 / 事 / 說明 / ， / 強調 / 他 / 並沒有 / 消費 / 愛心 / 菜 / 販陳樹菊 / ， / 全力支持 / 「 / 館長 / 」 / 做 / 公益 / ， / 所謂 / 高雄 / 三鳳 / 宮靈 / 籤 / 可能 / 是 / 「 / 新型 / 態選舉 / 詐騙 / 」 / ； / 至於 / 為 / 強調 / 招商 / 引資 / 說 / 出 / 「 / 陪 / 睡 / 」 / 遭批 / ， / 他 / 以後不會 / 說 / 這麼 / 有 / 張力 / 的 / 用語 / ， / 畢 / 竟是 / 市長 / 候選人 / 。\n",
      "國民黨/ 高雄市/ 長/ 候選人/ 韓國/ 瑜/ 今天/ 晚上/ 開/ 直播/ ，/ 針對/ 最近/ 引起爭議/ 的/ 一些/ 事/ 說明/ ，/ 強調/ 他/ 並/ 沒有/ 消費/ 愛心/ 菜販/ 陳樹菊/ ，/ 全力支持/ 「/ 館長/ 」/ 做/ 公益/ ，/ 所謂/ 高雄/ 三鳳宮/ 靈籤/ 可能/ 是/ 「/ 新型/ 態/ 選舉/ 詐騙/ 」/ ；/ 至於/ 為/ 強調/ 招商引資/ 說出/ 「/ 陪/ 睡/ 」/ 遭批/ ，/ 他/ 以後/ 不會/ 說/ 這麼/ 有/ 張力/ 的/ 用語/ ，/ 畢竟/ 是/ 市長/ 候選人/ 。\n"
     ]
    }
   ],
   "source": [
    "# Segmenting traditional Chinese directly\n",
    "sample = \"國民黨高雄市長候選人韓國瑜今天晚上開直播，針對最近引起爭議的一些事說明，強調他並沒有消費愛心菜販陳樹菊，全力支持「館長」做公益，所謂高雄三鳳宮靈籤可能是「新型態選舉詐騙」；至於為強調招商引資說出「陪睡」遭批，他以後不會說這麼有張力的用語，畢竟是市長候選人。\"\n",
    "print(\" / \".join(jieba.cut(sample)))\n",
    "# Segmenting traditional Chinese by cutted simplified index\n",
    "print(\"/ \".join(tra_cutted_by_sim(sample)))"
   ]
  },
  {
   "cell_type": "markdown",
   "metadata": {
    "id": "w2pqPE8dcqeT"
   },
   "source": [
    "## (Tool) Comparing Traditional cutted by simplfied Chinese"
   ]
  },
  {
   "cell_type": "code",
   "execution_count": 24,
   "metadata": {
    "colab": {
     "base_uri": "https://localhost:8080/"
    },
    "executionInfo": {
     "elapsed": 690,
     "status": "ok",
     "timestamp": 1619881432796,
     "user": {
      "displayName": "JILUNG",
      "photoUrl": "https://lh3.googleusercontent.com/a-/AOh14Gg6zj7prBu9I41dXrwQwaD6D0pMAipXePNpoU-MZ30=s64",
      "userId": "08765716966079614016"
     },
     "user_tz": -480
    },
    "id": "gEGL4pXwcqeT",
    "outputId": "e5831b58-13f6-482f-9cf2-31809acdfe44"
   },
   "outputs": [
    {
     "name": "stdout",
     "output_type": "stream",
     "text": [
      "Cutted tra directly: ['國民黨', '高雄市', '長', '候選人', '韓國瑜', '今天', '晚上', '開', '直播', '，', '針對', '最近', '引起', '爭議', '的', '一些', '事', '說明', '，', '強調', '他', '並沒有', '消費', '愛心', '菜', '販陳樹菊', '，', '全力支持', '「', '館長', '」', '做', '公益', '，', '所謂', '高雄', '三鳳', '宮靈', '籤', '可能', '是', '「', '新型', '態選舉', '詐騙', '」', '；', '至於', '為', '強調', '招商', '引資', '說', '出', '「', '陪', '睡', '」', '遭批', '，', '他', '以後不會', '說', '這麼', '有', '張力', '的', '用語', '，', '畢', '竟是', '市長', '候選人', '。']\n",
      "Cutted by sim: ['國民黨', '高雄市', '長', '候選人', '韓國', '瑜', '今天', '晚上', '開', '直播', '，', '針對', '最近', '引起爭議', '的', '一些', '事', '說明', '，', '強調', '他', '並', '沒有', '消費', '愛心', '菜販', '陳樹菊', '，', '全力支持', '「', '館長', '」', '做', '公益', '，', '所謂', '高雄', '三鳳宮', '靈籤', '可能', '是', '「', '新型', '態', '選舉', '詐騙', '」', '；', '至於', '為', '強調', '招商引資', '說出', '「', '陪', '睡', '」', '遭批', '，', '他', '以後', '不會', '說', '這麼', '有', '張力', '的', '用語', '，', '畢竟', '是', '市長', '候選人', '。']\n",
      "74 74\n",
      "[0]國民黨\t[0]國民黨\n",
      "[1]高雄市\t[1]高雄市\n",
      "[2]長\t[2]長\n",
      "[3]候選人\t[3]候選人\n",
      "\t[4_1]['韓國瑜']\t[4_2]['韓國', '瑜']\n",
      "[5]今天\t[6]今天\n",
      "[6]晚上\t[7]晚上\n",
      "[7]開\t[8]開\n",
      "[8]直播\t[9]直播\n",
      "[9]，\t[10]，\n",
      "[10]針對\t[11]針對\n",
      "[11]最近\t[12]最近\n",
      "\t[12_2]['引起', '爭議']\t[13_1]['引起爭議']\n",
      "[14]的\t[14]的\n",
      "[15]一些\t[15]一些\n",
      "[16]事\t[16]事\n",
      "[17]說明\t[17]說明\n",
      "[18]，\t[18]，\n",
      "[19]強調\t[19]強調\n",
      "[20]他\t[20]他\n",
      "\t[21_1]['並沒有']\t[21_2]['並', '沒有']\n",
      "[22]消費\t[23]消費\n",
      "[23]愛心\t[24]愛心\n",
      "\t[24_2]['菜', '販陳樹菊']\t[25_2]['菜販', '陳樹菊']\n",
      "[26]，\t[27]，\n",
      "[27]全力支持\t[28]全力支持\n",
      "[28]「\t[29]「\n",
      "[29]館長\t[30]館長\n",
      "[30]」\t[31]」\n",
      "[31]做\t[32]做\n",
      "[32]公益\t[33]公益\n",
      "[33]，\t[34]，\n",
      "[34]所謂\t[35]所謂\n",
      "[35]高雄\t[36]高雄\n",
      "\t[36_3]['三鳳', '宮靈', '籤']\t[37_2]['三鳳宮', '靈籤']\n",
      "[39]可能\t[39]可能\n",
      "[40]是\t[40]是\n",
      "[41]「\t[41]「\n",
      "[42]新型\t[42]新型\n",
      "\t[43_1]['態選舉']\t[43_2]['態', '選舉']\n",
      "[44]詐騙\t[45]詐騙\n",
      "[45]」\t[46]」\n",
      "[46]；\t[47]；\n",
      "[47]至於\t[48]至於\n",
      "[48]為\t[49]為\n",
      "[49]強調\t[50]強調\n",
      "\t[50_2]['招商', '引資']\t[51_1]['招商引資']\n",
      "\t[52_2]['說', '出']\t[52_1]['說出']\n",
      "[54]「\t[53]「\n",
      "[55]陪\t[54]陪\n",
      "[56]睡\t[55]睡\n",
      "[57]」\t[56]」\n",
      "[58]遭批\t[57]遭批\n",
      "[59]，\t[58]，\n",
      "[60]他\t[59]他\n",
      "\t[61_1]['以後不會']\t[60_2]['以後', '不會']\n",
      "[62]說\t[62]說\n",
      "[63]這麼\t[63]這麼\n",
      "[64]有\t[64]有\n",
      "[65]張力\t[65]張力\n",
      "[66]的\t[66]的\n",
      "[67]用語\t[67]用語\n",
      "[68]，\t[68]，\n",
      "\t[69_2]['畢', '竟是']\t[69_2]['畢竟', '是']\n",
      "[71]市長\t[71]市長\n",
      "[72]候選人\t[72]候選人\n",
      "[73]。\t[73]。\n"
     ]
    }
   ],
   "source": [
    "tra_cutted = list(jieba.cut(sample)) # 繁體直接斷\n",
    "cut_by_sim = tra_cutted_by_sim(sample) # 用簡體的 index 斷繁體\n",
    "i, j  = 0, 0\n",
    "print(\"Cutted tra directly:\", tra_cutted)\n",
    "print(\"Cutted by sim:\", cut_by_sim)\n",
    "print(len(tra_cutted), len(cut_by_sim))\n",
    "\n",
    "\n",
    "while i < len(tra_cutted) and j < len(cut_by_sim):\n",
    "        if tra_cutted[i] == cut_by_sim[j]:\n",
    "            print(\"[%d]%s\\t[%d]%s\" % (i, tra_cutted[i], j, cut_by_sim[j]))\n",
    "            i += 1\n",
    "            j += 1            \n",
    "        else:\n",
    "            ei, ej = 1, 1\n",
    "            listi, listj = [], []\n",
    "            listi.append(tra_cutted[i])\n",
    "            listj.append(cut_by_sim[j])\n",
    "            while \"\".join(listi) != \"\".join(listj):\n",
    "                if(len(\"\".join(listi)) < len(\"\".join(listj))):\n",
    "                    listi.append(tra_cutted[i+ei])\n",
    "                    ei += 1\n",
    "                else:\n",
    "                    listj.append(cut_by_sim[j+ej])\n",
    "                    ej += 1\n",
    "            print(\"\\t[%d_%d]%s\\t[%d_%d]%s\" % (i, ei, listi, j, ej, listj))\n",
    "            i += ei\n",
    "            j += ej"
   ]
  },
  {
   "cell_type": "markdown",
   "metadata": {
    "id": "cDVb2asWcqeU"
   },
   "source": [
    "# Loading userdict"
   ]
  },
  {
   "cell_type": "code",
   "execution_count": 27,
   "metadata": {
    "colab": {
     "base_uri": "https://localhost:8080/"
    },
    "executionInfo": {
     "elapsed": 1029,
     "status": "ok",
     "timestamp": 1619881505089,
     "user": {
      "displayName": "JILUNG",
      "photoUrl": "https://lh3.googleusercontent.com/a-/AOh14Gg6zj7prBu9I41dXrwQwaD6D0pMAipXePNpoU-MZ30=s64",
      "userId": "08765716966079614016"
     },
     "user_tz": -480
    },
    "id": "IhnR6jrfcqeU",
    "outputId": "248c2249-419d-40b8-db3d-34dbfa85fa61"
   },
   "outputs": [
    {
     "name": "stdout",
     "output_type": "stream",
     "text": [
      "舊曆 / 的 / 年底 / 畢竟 / 最 / 像 / 年底 / ， / 村鎮 / 上 / 不必 / 說 / ， / 就 / 在 / 天空 / 中 / 也 / 顯出 / 將到 / 新年 / 的 / 氣象 / 來\n"
     ]
    }
   ],
   "source": [
    "# !wget -N https://raw.githubusercontent.com/P4CSS/PSS/master/data/userdict.txt\n",
    "# !ls\n",
    "jieba.load_userdict(\"data/userdict.txt\")\n",
    "print(\" / \".join(jieba.cut(sentences[0])))"
   ]
  },
  {
   "cell_type": "code",
   "execution_count": 28,
   "metadata": {
    "colab": {
     "base_uri": "https://localhost:8080/"
    },
    "executionInfo": {
     "elapsed": 620,
     "status": "ok",
     "timestamp": 1619881513576,
     "user": {
      "displayName": "JILUNG",
      "photoUrl": "https://lh3.googleusercontent.com/a-/AOh14Gg6zj7prBu9I41dXrwQwaD6D0pMAipXePNpoU-MZ30=s64",
      "userId": "08765716966079614016"
     },
     "user_tz": -480
    },
    "id": "AQg6nlR6cqeU",
    "outputId": "cd493e34-a834-4f6e-f66a-ef69437e1d09"
   },
   "outputs": [
    {
     "name": "stdout",
     "output_type": "stream",
     "text": [
      "國民黨 / 高雄市 / 長 / 候選人 / 韓國瑜 / 今天 / 晚上 / 開 / 直播 / ， / 針對 / 最近 / 引起 / 爭議 / 的 / 一些 / 事 / 說明 / ， / 強調 / 他 / 並沒有 / 消費 / 愛心 / 菜販 / 陳樹菊 / ， / 全力支持 / 「 / 館長 / 」 / 做 / 公益 / ， / 所謂 / 高雄 / 三鳳宮 / 靈籤 / 可能 / 是 / 「 / 新型 / 態選舉 / 詐騙 / 」 / ； / 至於 / 為 / 強調 / 招商 / 引資 / 說 / 出 / 「 / 陪 / 睡 / 」 / 遭批 / ， / 他 / 以後不會 / 說 / 這麼 / 有 / 張力 / 的 / 用語 / ， / 畢 / 竟是 / 市長 / 候選人 / 。\n"
     ]
    }
   ],
   "source": [
    "print(\" / \".join(jieba.cut(sample)))"
   ]
  },
  {
   "cell_type": "markdown",
   "metadata": {
    "id": "pfyZlxhwcqeU"
   },
   "source": [
    "# POS Tagging with Jieba"
   ]
  },
  {
   "cell_type": "code",
   "execution_count": 29,
   "metadata": {
    "colab": {
     "base_uri": "https://localhost:8080/"
    },
    "executionInfo": {
     "elapsed": 1865,
     "status": "ok",
     "timestamp": 1619881518783,
     "user": {
      "displayName": "JILUNG",
      "photoUrl": "https://lh3.googleusercontent.com/a-/AOh14Gg6zj7prBu9I41dXrwQwaD6D0pMAipXePNpoU-MZ30=s64",
      "userId": "08765716966079614016"
     },
     "user_tz": -480
    },
    "id": "98w7b2G8cqeV",
    "outputId": "c454b4ad-5d14-4f09-9021-228f8f33b965"
   },
   "outputs": [
    {
     "name": "stdout",
     "output_type": "stream",
     "text": [
      "[pair('國民黨', 'nt'), pair('高雄市', 'ns'), pair('長候', 'n'), pair('選人', 'n'), pair('韓國瑜', 'x'), pair('今天', 't'), pair('晚上', 't'), pair('開', 'zg'), pair('直播', 'vn'), pair('，', 'x'), pair('針對', 'p'), pair('最近', 'f'), pair('引起', 'v'), pair('爭議', 'n'), pair('的', 'uj'), pair('一些', 'm'), pair('事', 'n'), pair('說', 'v'), pair('明', 't'), pair('，', 'x'), pair('強調', 'v'), pair('他', 'r'), pair('並', 'c'), pair('沒有', 'v'), pair('消費', 'vn'), pair('愛心', 'n'), pair('菜販', 'n'), pair('陳樹菊', 'x'), pair('，', 'x'), pair('全力支持', 'n'), pair('「', 'x'), pair('館長', 'n'), pair('」', 'x'), pair('做', 'v'), pair('公益', 'n'), pair('，', 'x'), pair('所謂', 'b'), pair('高雄', 'n'), pair('三鳳宮', 'x'), pair('靈籤', 'x'), pair('可能', 'v'), pair('是', 'v'), pair('「', 'x'), pair('新型', 'b'), pair('態', 'n'), pair('選舉', 'v'), pair('詐騙', 'vn'), pair('」', 'x'), pair('；', 'x'), pair('至於', 'i'), pair('為', 'p'), pair('強調', 'v'), pair('招商', 'n'), pair('引資說', 'l'), pair('出', 'v'), pair('「', 'x'), pair('陪', 'v'), pair('睡', 'v'), pair('」', 'x'), pair('遭批', 'v'), pair('，', 'x'), pair('他', 'r'), pair('以', 'p'), pair('後', 'nr'), pair('不', 'd'), pair('會', 'v'), pair('說', 'v'), pair('這麼', 'r'), pair('有', 'v'), pair('張力', 'nr'), pair('的', 'uj'), pair('用語', 'n'), pair('，', 'x'), pair('畢', 'zg'), pair('竟是', 'd'), pair('市長候', 'n'), pair('選人', 'n'), pair('。', 'x')]\n"
     ]
    }
   ],
   "source": [
    "# 詞性判斷\n",
    "import jieba.posseg\n",
    "print(list((jieba.posseg.cut(sample))))"
   ]
  },
  {
   "cell_type": "code",
   "execution_count": 30,
   "metadata": {
    "colab": {
     "base_uri": "https://localhost:8080/"
    },
    "executionInfo": {
     "elapsed": 1147,
     "status": "ok",
     "timestamp": 1619881522454,
     "user": {
      "displayName": "JILUNG",
      "photoUrl": "https://lh3.googleusercontent.com/a-/AOh14Gg6zj7prBu9I41dXrwQwaD6D0pMAipXePNpoU-MZ30=s64",
      "userId": "08765716966079614016"
     },
     "user_tz": -480
    },
    "id": "9wTs-SSFcqeV",
    "outputId": "f3e1bd9b-daa0-4d80-978c-3e4b1cc5b58e"
   },
   "outputs": [
    {
     "name": "stdout",
     "output_type": "stream",
     "text": [
      "國民黨\tnt\n",
      "高雄市\tns\n",
      "長候\tn\n",
      "選人\tn\n",
      "韓國瑜\tx\n",
      "今天\tt\n",
      "晚上\tt\n",
      "開\tzg\n",
      "直播\tvn\n",
      "，\tx\n",
      "針對\tp\n",
      "最近\tf\n",
      "引起\tv\n",
      "爭議\tn\n",
      "的\tuj\n",
      "一些\tm\n",
      "事\tn\n",
      "說\tv\n",
      "明\tt\n",
      "，\tx\n",
      "強調\tv\n",
      "他\tr\n",
      "並\tc\n",
      "沒有\tv\n",
      "消費\tvn\n",
      "愛心\tn\n",
      "菜販\tn\n",
      "陳樹菊\tx\n",
      "，\tx\n",
      "全力支持\tn\n",
      "「\tx\n",
      "館長\tn\n",
      "」\tx\n",
      "做\tv\n",
      "公益\tn\n",
      "，\tx\n",
      "所謂\tb\n",
      "高雄\tn\n",
      "三鳳宮\tx\n",
      "靈籤\tx\n",
      "可能\tv\n",
      "是\tv\n",
      "「\tx\n",
      "新型\tb\n",
      "態\tn\n",
      "選舉\tv\n",
      "詐騙\tvn\n",
      "」\tx\n",
      "；\tx\n",
      "至於\ti\n",
      "為\tp\n",
      "強調\tv\n",
      "招商\tn\n",
      "引資說\tl\n",
      "出\tv\n",
      "「\tx\n",
      "陪\tv\n",
      "睡\tv\n",
      "」\tx\n",
      "遭批\tv\n",
      "，\tx\n",
      "他\tr\n",
      "以\tp\n",
      "後\tnr\n",
      "不\td\n",
      "會\tv\n",
      "說\tv\n",
      "這麼\tr\n",
      "有\tv\n",
      "張力\tnr\n",
      "的\tuj\n",
      "用語\tn\n",
      "，\tx\n",
      "畢\tzg\n",
      "竟是\td\n",
      "市長候\tn\n",
      "選人\tn\n",
      "。\tx\n"
     ]
    }
   ],
   "source": [
    "for word, pos in jieba.posseg.cut(sample):\n",
    "    print(\"%s\\t%s\" % (word, pos))"
   ]
  },
  {
   "cell_type": "markdown",
   "metadata": {
    "id": "ZG1-UEcjcqeV"
   },
   "source": [
    "# Top Words Mining"
   ]
  },
  {
   "cell_type": "code",
   "execution_count": 34,
   "metadata": {
    "colab": {
     "base_uri": "https://localhost:8080/"
    },
    "executionInfo": {
     "elapsed": 789,
     "status": "ok",
     "timestamp": 1619881526054,
     "user": {
      "displayName": "JILUNG",
      "photoUrl": "https://lh3.googleusercontent.com/a-/AOh14Gg6zj7prBu9I41dXrwQwaD6D0pMAipXePNpoU-MZ30=s64",
      "userId": "08765716966079614016"
     },
     "user_tz": -480
    },
    "id": "UHmAfjVccqeV",
    "outputId": "57bc7c03-9a5a-49f2-de44-164921d5f7b1"
   },
   "outputs": [
    {
     "name": "stdout",
     "output_type": "stream",
     "text": [
      "[('，', 693), ('的', 345), ('了', 197), ('她', 155), ('我', 88), ('是', 86), ('「', 83), ('」', 83), ('也', 77), ('說', 65), ('在', 61), ('來', 57), ('就', 56), ('裏', 54), ('…', 50), ('？', 47), ('有', 46), ('麽', 45), ('不', 37), ('祥林嫂', 35)]\n",
      "舊曆的年底畢竟最像年底，村鎮上不必說，就在天空中也顯出將到新年的氣象來\n"
     ]
    }
   ],
   "source": [
    "from collections import Counter\n",
    "word_counts = Counter()\n",
    "\n",
    "for sentence in sentences:\n",
    "    for word in jieba.cut(sentence):\n",
    "        word_counts[word] += 1\n",
    "print(word_counts.most_common(20))\n",
    "print(sentences[0])"
   ]
  },
  {
   "cell_type": "code",
   "execution_count": 35,
   "metadata": {
    "colab": {
     "base_uri": "https://localhost:8080/"
    },
    "executionInfo": {
     "elapsed": 607,
     "status": "ok",
     "timestamp": 1619881528172,
     "user": {
      "displayName": "JILUNG",
      "photoUrl": "https://lh3.googleusercontent.com/a-/AOh14Gg6zj7prBu9I41dXrwQwaD6D0pMAipXePNpoU-MZ30=s64",
      "userId": "08765716966079614016"
     },
     "user_tz": -480
    },
    "id": "kg4qztxqcqeV",
    "outputId": "178d3b1d-0a62-4885-e6d4-c8f6c5000eca"
   },
   "outputs": [
    {
     "name": "stdout",
     "output_type": "stream",
     "text": [
      "[('祥林嫂', 35), ('一個', 33), ('知道', 26), ('四叔', 21), ('自己', 18), ('然而', 17), ('時候', 17), ('已經', 16), ('起來', 15), ('大家', 15), ('所以', 13), ('他們', 12), ('四嬸', 12), ('女人', 11), ('男人', 11), ('似乎', 11), ('先前', 10), ('人們', 10), ('阿毛', 10), ('出去', 9)]\n"
     ]
    }
   ],
   "source": [
    "from collections import Counter\n",
    "word_counts = Counter()\n",
    "\n",
    "for sentence in sentences:\n",
    "    for word in jieba.cut(sentence):\n",
    "        if len(word) > 1:\n",
    "            word_counts[word] += 1\n",
    "print(word_counts.most_common(20))"
   ]
  },
  {
   "cell_type": "markdown",
   "metadata": {},
   "source": [
    "# Punctuation Mark Removal"
   ]
  },
  {
   "cell_type": "code",
   "execution_count": 36,
   "metadata": {
    "colab": {
     "base_uri": "https://localhost:8080/"
    },
    "executionInfo": {
     "elapsed": 733,
     "status": "ok",
     "timestamp": 1619881531912,
     "user": {
      "displayName": "JILUNG",
      "photoUrl": "https://lh3.googleusercontent.com/a-/AOh14Gg6zj7prBu9I41dXrwQwaD6D0pMAipXePNpoU-MZ30=s64",
      "userId": "08765716966079614016"
     },
     "user_tz": -480
    },
    "id": "3hHBvYk8cqeW",
    "outputId": "83027e02-0bba-4606-e964-6e57175d33ec"
   },
   "outputs": [
    {
     "name": "stdout",
     "output_type": "stream",
     "text": [
      "['Ps', 'Ps', 'Po', 'Po', 'Po', 'Lo', 'Lo', 'Lo', 'Lo']\n"
     ]
    }
   ],
   "source": [
    "import unicodedata\n",
    "chars = \"『「，。、標點符號\"\n",
    "print([unicodedata.category(ch) for ch in chars])"
   ]
  },
  {
   "cell_type": "code",
   "execution_count": 38,
   "metadata": {
    "colab": {
     "base_uri": "https://localhost:8080/"
    },
    "executionInfo": {
     "elapsed": 526,
     "status": "ok",
     "timestamp": 1619881534657,
     "user": {
      "displayName": "JILUNG",
      "photoUrl": "https://lh3.googleusercontent.com/a-/AOh14Gg6zj7prBu9I41dXrwQwaD6D0pMAipXePNpoU-MZ30=s64",
      "userId": "08765716966079614016"
     },
     "user_tz": -480
    },
    "id": "WF1ee5oKcqeW",
    "outputId": "fa06cc2b-1953-403c-c3c5-1c28ea6ff590"
   },
   "outputs": [
    {
     "name": "stdout",
     "output_type": "stream",
     "text": [
      "[('的', 345), ('了', 197), ('她', 155), ('我', 88), ('是', 86), ('也', 77), ('說', 65), ('在', 61), ('來', 57), ('就', 56), ('裏', 54), ('有', 46), ('麽', 45), ('不', 37), ('祥林嫂', 35), ('又', 34), ('一個', 33), ('你', 33), ('去', 32), ('他', 28)]\n"
     ]
    }
   ],
   "source": [
    "import unicodedata\n",
    "\n",
    "from collections import Counter\n",
    "word_counts = Counter()\n",
    "for sentence in sentences:\n",
    "    for word in jieba.cut(sentence):\n",
    "        if len(word) > 1 or not unicodedata.category(word).startswith('P'): # 若某個詞組長度大於 1 而且它的 unicode 類別不是 punctuation \"p\" 的話\n",
    "            word_counts[word] += 1\n",
    "print(word_counts.most_common(20))"
   ]
  },
  {
   "cell_type": "markdown",
   "metadata": {
    "id": "mm2Oln3wcqeW"
   },
   "source": [
    "# Stop word removal \n",
    "\n",
    "Manipulate a Chinese stopword list.\n",
    "\n",
    "What is \"U+FEFF\"?\n",
    "> The Unicode character U+FEFF is the byte order mark, or BOM, and is used to tell the difference between big- and little-endian UTF-16 encoding. If you decode the web page using the right codec, Python will remove it for you. Examples:"
   ]
  },
  {
   "cell_type": "code",
   "execution_count": 39,
   "metadata": {
    "executionInfo": {
     "elapsed": 691,
     "status": "ok",
     "timestamp": 1619881539170,
     "user": {
      "displayName": "JILUNG",
      "photoUrl": "https://lh3.googleusercontent.com/a-/AOh14Gg6zj7prBu9I41dXrwQwaD6D0pMAipXePNpoU-MZ30=s64",
      "userId": "08765716966079614016"
     },
     "user_tz": -480
    },
    "id": "6KtRC_x3cqeX"
   },
   "outputs": [],
   "source": [
    "stopwords = [\"的\", \"了\", \"是\", \"也\", \"在\"]"
   ]
  },
  {
   "cell_type": "code",
   "execution_count": 41,
   "metadata": {
    "colab": {
     "base_uri": "https://localhost:8080/"
    },
    "executionInfo": {
     "elapsed": 1312,
     "status": "ok",
     "timestamp": 1619881593154,
     "user": {
      "displayName": "JILUNG",
      "photoUrl": "https://lh3.googleusercontent.com/a-/AOh14Gg6zj7prBu9I41dXrwQwaD6D0pMAipXePNpoU-MZ30=s64",
      "userId": "08765716966079614016"
     },
     "user_tz": -480
    },
    "id": "ZPY-T68NcqeX",
    "outputId": "6d5a832b-b117-4305-ab4c-2b86ed466d18"
   },
   "outputs": [
    {
     "name": "stdout",
     "output_type": "stream",
     "text": [
      "['?', '、', '。', '“', '”', '《', '》', '！', '，', '：', '；', '？', '人民', '末##末', '啊', '阿', '哎', '哎呀', '哎喲', '唉', '我', '我們', '按', '按照', '依照', '吧', '吧噠', '把', '罷了', '被', '本', '本著', '比', '比方', '比如', '鄙人', '彼', '彼此', '邊', '別', '別的', '別說', '並', '並且', '不比', '不成', '不單', '不但', '不獨', '不管', '不光', '不過', '不僅', '不拘', '不論', '不怕', '不然', '不如', '不特', '不惟', '不問', '不只', '朝', '朝著', '趁', '趁著', '乘', '沖', '除', '除此之外', '除非', '除了', '此', '此間', '此外', '從', '從而', '打', '待', '但', '但是', '當', '當著', '到', '得', '的', '的話', '等', '等等', '地', '第', '叮咚', '對', '對於', '多', '多少', '而', '而況', '而且', '而是', '而外', '而言', '而已', '爾後', '反過來', '反過來說', '反之', '非但', '非徒', '否則', '嘎', '嘎登', '該', '趕', '個', '各', '各個', '各位', '各種', '各自', '給', '根據', '跟', '故', '故此', '固然', '關於', '管', '歸', '果然', '果真', '過', '哈', '哈哈', '呵', '和', '何', '何處', '何況', '何時', '嘿', '哼', '哼唷', '呼哧', '乎', '嘩', '還是', '還有', '換句話說', '換言之', '或', '或是', '或者', '極了', '及', '及其', '及至', '即', '即便', '即或', '即令', '即若', '即使', '幾', '幾時', '己', '既', '既然', '既是', '繼而', '加之', '假如', '假若', '假使', '鑒於', '將', '較', '較之', '叫', '接著', '結果', '借', '緊接著', '進而', '盡', '儘管', '經', '經過', '就', '就是', '就是說', '據', '具體地說', '具體說來', '開始', '開外', '靠', '咳', '可', '可見', '可是', '可以', '況且', '啦', '來', '來著', '離', '例如', '哩', '連', '連同', '兩者', '了', '臨', '另', '另外', '另一方面', '論', '嘛', '嗎', '慢說', '漫說', '冒', '麼', '每', '每當', '們', '莫若', '某', '某個', '某些', '拿', '哪', '哪邊', '哪兒', '哪個', '哪裏', '哪年', '哪怕', '哪天', '哪些', '哪樣', '那', '那邊', '那兒', '那個', '那會兒', '那裏', '那麼', '那麼些', '那麼樣', '那時', '那些', '那樣', '乃', '乃至', '呢', '能', '你', '你們', '您', '寧', '寧可', '寧肯', '寧願', '哦', '嘔', '啪達', '旁人', '呸', '憑', '憑藉', '其', '其次', '其二', '其他', '其它', '其一', '其餘', '其中', '起', '起見', '豈但', '恰恰相反', '前後', '前者', '且', '然而', '然後', '然則', '讓', '人家', '任', '任何', '任憑', '如', '如此', '如果', '如何', '如其', '如若', '如上所述', '若', '若非', '若是', '啥', '上下', '尚且', '設若', '設使', '甚而', '甚麼', '甚至', '省得', '時候', '什麼', '什麼樣', '使得', '是', '是的', '首先', '誰', '誰知', '順', '順著', '似的', '雖', '雖然', '雖說', '雖則', '隨', '隨著', '所', '所以', '他', '他們', '他人', '它', '它們', '她', '她們', '倘', '倘或', '倘然', '倘若', '倘使', '騰', '替', '通過', '同', '同時', '哇', '萬一', '往', '望', '為', '為何', '為了', '為什麼', '為著', '餵', '嗡嗡', '我', '我們', '嗚', '嗚呼', '烏乎', '無論', '無寧', '毋寧', '嘻', '嚇', '相對而言', '像', '向', '向著', '噓', '呀', '焉', '沿', '沿著', '要', '要不', '要不然', '要不是', '要麼', '要是', '也', '也罷', '也好', '一', '一般', '一旦', '一方面', '一來', '一切', '一樣', '一則', '依', '依照', '矣', '以', '以便', '以及', '以免', '以至', '以至於', '以致', '抑或', '因', '因此', '因而', '因為', '喲', '用', '由', '由此可見', '由於', '有', '有的', '有關', '有些', '又', '於', '於是', '於是乎', '與', '與此同時', '與否', '與其', '越是', '雲雲', '哉', '再說', '再者', '在', '在下', '咱', '咱們', '則', '怎', '怎麼', '怎麼辦', '怎麼樣', '怎樣', '咋', '照', '照著', '者', '這', '這邊', '這兒', '這個', '這會兒', '這就是說', '這裏', '這麼', '這麼點兒', '這麼些', '這麼樣', '這時', '這些', '這樣', '正如', '吱', '之', '之類', '之所以', '之一', '只是', '只限', '只要', '只有', '至', '至於', '諸位', '著', '著呢', '自', '自從', '自個兒', '自各兒', '自己', '自家', '自身', '綜上所述', '總的來看', '總的來說', '總的說來', '總而言之', '總之', '縱', '縱令', '縱然', '縱使', '遵照', '作為', '兮', '呃', '唄', '咚', '咦', '喏', '啐', '喔唷', '嗬', '嗯', '噯', '~', '!', '.', ':', '\"', \"'\", '(', ')', '*', 'A', '白', '社會主義', '--', '..', '>>', ' [', ' ]', '', '<', '>', '/', '\\\\', '|', '-', '_', '+', '=', '&', '^', '%', '#', '@', '`', ';', '$', '（', '）', '——', '—', '￥', '·', '...', '‘', '’', '〉', '〈', '…', '\\u3000', '0', '1', '2', '3', '4', '5', '6', '7', '8', '9', '０', '１', '２', '３', '４', '５', '６', '７', '８', '９', '二', '三', '四', '五', '六', '七', '八', '九', '零', '＞', '＜', '＠', '＃', '＄', '％', '︿', '＆', '＊', '＋', '～', '｜', '［', '］', '｛', '｝', '啊哈', '啊呀', '啊喲', '挨次', '挨個', '挨家挨戶', '挨門挨戶', '挨門逐戶', '挨著', '按理', '按期', '按時', '按說', '暗地裏', '暗中', '暗自', '昂然', '八成', '白白', '半', '梆', '保管', '保險', '飽', '背地裏', '背靠背', '倍感', '倍加', '本人', '本身', '甭', '比起', '比如說', '比照', '畢竟', '必', '必定', '必將', '必須', '便', '別人', '並非', '並肩', '並沒', '並沒有', '併排', '並無', '勃然', '不', '不必', '不常', '不大', '不但...而且', '不得', '不得不', '不得了', '不得已', '不迭', '不定', '不對', '不妨', '不管怎樣', '不會', '不僅...而且', '不僅僅', '不僅僅是', '不經意', '不可開交', '不可抗拒', '不力', '不了', '不料', '不滿', '不免', '不能不', '不起', '不巧', '不然的話', '不日', '不少', '不勝', '不時', '不是', '不同', '不能', '不要', '不外', '不外乎', '不下', '不限', '不消', '不已', '不亦樂乎', '不由得', '不再', '不擇手段', '不怎麼', '不曾', '不知不覺', '不止', '不止一次', '不至於', '才', '才能', '策略地', '差不多', '差一點', '常', '常常', '常言道', '常言說', '常言說得好', '長此下去', '長話短說', '長期以來', '長線', '敞開兒', '徹夜', '陳年', '趁便', '趁機', '趁熱', '趁勢', '趁早', '成年', '成年累月', '成心', '乘機', '乘勝', '乘勢', '乘隙', '乘虛', '誠然', '遲早', '充分', '充其極', '充其量', '抽冷子', '臭', '初', '出', '出來', '出去', '除此', '除此而外', '除此以外', '除開', '除去', '除卻', '除外', '處處', '川流不息', '傳', '傳說', '傳聞', '串列', '純', '純粹', '此後', '此中', '次第', '匆匆', '從不', '從此', '從此以後', '從古到今', '從古至今', '從今以後', '從寬', '從來', '從輕', '從速', '從頭', '從未', '從無到有', '從小', '從新', '從嚴', '從優', '從早到晚', '從中', '從重', '湊巧', '粗', '存心', '達旦', '打從', '打開天窗說亮話', '大', '大不了', '大大', '大抵', '大都', '大多', '大凡', '大概', '大家', '大舉', '大略', '大面兒上', '大事', '大體', '大體上', '大約', '大張旗鼓', '大致', '呆呆地', '帶', '殆', '待到', '單', '單純', '單單', '但願', '彈指之間', '當場', '當兒', '當即', '當口兒', '當然', '當庭', '當頭', '當下', '當真', '當中', '倒不如', '倒不如說', '倒是', '到處', '到底', '到了兒', '到目前為止', '到頭', '到頭來', '得起', '得天獨厚', '的確', '等到', '叮噹', '頂多', '定', '動不動', '動輒', '陡然', '都', '獨', '獨自', '斷然', '頓時', '多次', '多多', '多多少少', '多多益善', '多虧', '多年來', '多年前', '而後', '而論', '而又', '爾等', '二話不說', '二話沒說', '反倒', '反倒是', '反而', '反手', '反之亦然', '反之則', '方', '方才', '方能', '放量', '非常', '非得', '分期', '分期分批', '分頭', '奮勇', '憤然', '風雨無阻', '逢', '弗', '甫', '嘎嘎', '該當', '概', '趕快', '趕早不趕晚', '敢', '敢情', '敢於', '剛', '剛才', '剛好', '剛巧', '高低', '格外', '隔日', '隔夜', '個人', '各式', '更', '更加', '更進一步', '更為', '公然', '共', '共總', '夠瞧的', '姑且', '古來', '故而', '故意', '固', '怪', '怪不得', '慣常', '光', '光是', '歸根到底', '歸根結底', '過於', '毫不', '毫無', '毫無保留地', '毫無例外', '好在', '何必', '何嘗', '何妨', '何苦', '何樂而不為', '何須', '何止', '很', '很多', '很少', '轟然', '後來', '呼啦', '忽地', '忽然', '互', '互相', '嘩啦', '話說', '還', '恍然', '會', '豁然', '活', '夥同', '或多或少', '或許', '基本', '基本上', '基於', '極', '極大', '極度', '極端', '極力', '極其', '極為', '急匆匆', '即將', '即刻', '即是說', '幾度', '幾番', '幾乎', '幾經', '既...又', '繼之', '加上', '加以', '間或', '簡而言之', '簡言之', '簡直', '見', '將才', '將近', '將要', '交口', '較比', '較為', '接連不斷', '接下來', '皆可', '截然', '截至', '藉以', '藉此', '藉以', '屆時', '僅', '僅僅', '謹', '進來', '進去', '近', '近幾年來', '近來', '近年來', '儘管如此', '儘可能', '儘快', '儘量', '盡然', '盡如人意', '盡心竭力', '盡心盡力', '儘早', '精光', '經常', '竟', '竟然', '究竟', '就此', '就地', '就算', '居然', '局外', '舉凡', '據稱', '據此', '據實', '據說', '據我所知', '據悉', '具體來說', '決不', '決非', '絕', '絕不', '絕頂', '絕對', '絕非', '均', '喀', '看', '看來', '看起來', '看上去', '看樣子', '可好', '可能', '恐怕', '快', '快要', '來不及', '來得及', '來講', '來看', '攔腰', '牢牢', '老', '老大', '老老實實', '老是', '累次', '累年', '理當', '理該', '理應', '歷', '立', '立地', '立刻', '立馬', '立時', '聯袂', '連連', '連日', '連日來', '連聲', '連袂', '臨到', '另方面', '另行', '另一個', '路經', '屢', '屢次', '屢次三番', '屢屢', '縷縷', '率爾', '率然', '略', '略加', '略微', '略為', '論說', '馬上', '蠻', '滿', '沒', '沒有', '每逢', '每每', '每時每刻', '猛然', '猛然間', '莫', '莫不', '莫非', '莫如', '默默地', '默然', '吶', '那末', '奈', '難道', '難得', '難怪', '難說', '內', '年覆一年', '凝神', '偶而', '偶爾', '怕', '砰', '碰巧', '譬如', '偏偏', '乒', '平素', '頗', '迫於', '撲通', '其後', '其實', '奇', '齊', '起初', '起來', '起首', '起頭', '起先', '豈', '豈非', '豈止', '迄', '恰逢', '恰好', '恰恰', '恰巧', '恰如', '恰似', '千', '千萬', '千萬千萬', '切', '切不可', '切莫', '切切', '切勿', '竊', '親口', '親身', '親手', '親眼', '親自', '頃', '頃刻', '頃刻間', '頃刻之間', '請勿', '窮年累月', '取道', '去', '權時', '全都', '全力', '全年', '全然', '全身心', '然', '人人', '仍', '仍舊', '仍然', '日覆一日', '日見', '日漸', '日益', '日臻', '如常', '如此等等', '如次', '如今', '如期', '如前所述', '如上', '如下', '汝', '三番兩次', '三番五次', '三天兩頭', '瑟瑟', '沙沙', '上', '上來', '上去']\n",
      "1208\n"
     ]
    }
   ],
   "source": [
    "# !wget -N https://raw.githubusercontent.com/P4CSS/PSS/master/data/stopwords_zh-tw.txt\n",
    "with open(\"data/stopwords_zh-tw.txt\", encoding=\"utf-8\") as fin:\n",
    "    stopwords = fin.read().split(\"\\n\")[1:] # 停詞字典裡面一行就是一個停用詞，用換行符號斷開\n",
    "print(stopwords)\n",
    "print(len(stopwords))"
   ]
  },
  {
   "cell_type": "code",
   "execution_count": 42,
   "metadata": {
    "colab": {
     "base_uri": "https://localhost:8080/"
    },
    "executionInfo": {
     "elapsed": 1056,
     "status": "ok",
     "timestamp": 1619881597034,
     "user": {
      "displayName": "JILUNG",
      "photoUrl": "https://lh3.googleusercontent.com/a-/AOh14Gg6zj7prBu9I41dXrwQwaD6D0pMAipXePNpoU-MZ30=s64",
      "userId": "08765716966079614016"
     },
     "user_tz": -480
    },
    "id": "o6X4ZW-kcqeX",
    "outputId": "1ddeacaf-ff38-472f-9ce3-dbd6762ca7e5"
   },
   "outputs": [
    {
     "name": "stdout",
     "output_type": "stream",
     "text": [
      "[('說', 65), ('裏', 54), ('麽', 45), ('祥林嫂', 35), ('一個', 33), ('知道', 26), ('甚', 23), ('人', 23), ('話', 22), ('四叔', 21), ('後', 21), ('聽', 18), ('已經', 16), ('卻', 15), ('走', 14), ('事', 14), ('想', 13), ('喫', 12), ('四嬸', 12), ('女人', 11)]\n",
      "1576\n"
     ]
    }
   ],
   "source": [
    "import unicodedata\n",
    "\n",
    "from collections import Counter\n",
    "word_counts = Counter()\n",
    "\n",
    "for sentence in sentences:\n",
    "    for word in jieba.cut(sentence):\n",
    "        if word in stopwords: # 如果遇到給定的條件(這個詞組在停詞字典中)，直接跳出這輪的 for loop，continue 以下的 for loop 都不用跑。\n",
    "            continue # 從下一個詞組開始 run: for word in jieba.cut(sentence): ...\n",
    "        if len(word) > 1 or not unicodedata.category(word).startswith('P'):\n",
    "            word_counts[word] += 1\n",
    "\n",
    "print(word_counts.most_common(20))\n",
    "print(len(word_counts))"
   ]
  }
 ],
 "metadata": {
  "colab": {
   "collapsed_sections": [],
   "name": "TM04_Chinese Processing.ipynb",
   "provenance": [],
   "toc_visible": true
  },
  "kernelspec": {
   "display_name": "Python 3 (ipykernel)",
   "language": "python",
   "name": "python3"
  },
  "language_info": {
   "codemirror_mode": {
    "name": "ipython",
    "version": 3
   },
   "file_extension": ".py",
   "mimetype": "text/x-python",
   "name": "python",
   "nbconvert_exporter": "python",
   "pygments_lexer": "ipython3",
   "version": "3.8.12"
  },
  "toc": {
   "base_numbering": 1,
   "nav_menu": {},
   "number_sections": true,
   "sideBar": true,
   "skip_h1_title": false,
   "title_cell": "Table of Contents",
   "title_sidebar": "Contents",
   "toc_cell": false,
   "toc_position": {
    "height": "calc(100% - 180px)",
    "left": "10px",
    "top": "150px",
    "width": "249px"
   },
   "toc_section_display": true,
   "toc_window_display": true
  },
  "varInspector": {
   "cols": {
    "lenName": 16,
    "lenType": 16,
    "lenVar": 40
   },
   "kernels_config": {
    "python": {
     "delete_cmd_postfix": "",
     "delete_cmd_prefix": "del ",
     "library": "var_list.py",
     "varRefreshCmd": "print(var_dic_list())"
    },
    "r": {
     "delete_cmd_postfix": ") ",
     "delete_cmd_prefix": "rm(",
     "library": "var_list.r",
     "varRefreshCmd": "cat(var_dic_list()) "
    }
   },
   "types_to_exclude": [
    "module",
    "function",
    "builtin_function_or_method",
    "instance",
    "_Feature"
   ],
   "window_display": false
  }
 },
 "nbformat": 4,
 "nbformat_minor": 4
}
