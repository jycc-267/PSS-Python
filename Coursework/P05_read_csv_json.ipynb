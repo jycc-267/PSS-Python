{
 "cells": [
  {
   "cell_type": "markdown",
   "metadata": {
    "id": "HwYOc-dyXuYW",
    "slideshow": {
     "slide_type": "slide"
    }
   },
   "source": [
    "# INDEX\n",
    "\n",
    "- Read [Slide](https://docs.google.com/presentation/d/1ZQoBdfjIsd-RdXEby3RmFfotBHZXR0bzKzhaZThkfJU/edit?usp=sharing) to know what is CSV and JSON\n",
    "- Read CSV (Metdho 1, 2, 3)\n",
    "- Read JSON\n",
    "- Load CSV and JSON by pandas\n",
    "- Eseential functions in Pandas \n",
    "- Convert data structures"
   ]
  },
  {
   "cell_type": "markdown",
   "metadata": {
    "id": "RFRYjjGZGl7d"
   },
   "source": [
    "# I. Read CSV\n",
    "\n",
    "當規劃要讀進一個CSV檔時，我可能有三種做法：\n",
    "1. 全部靠自己逐行讀，用`readlines()`來判斷換行符號，將所有資料依照換行符號切割為list內的Element，再將每個Elements遇到逗號進行切割。\n",
    "2. 利用`csv.reader()`函式幫我把文字資料轉換成python物件\n",
    "3. 利用pandas的函式讀檔\n"
   ]
  },
  {
   "cell_type": "markdown",
   "metadata": {
    "id": "k8mUeHqLbls_"
   },
   "source": [
    "## File path\n",
    "\n",
    "- 若已經把ipynb下載回本機端，就只需要把相對位置作為資料路徑即可。\n",
    "- 如果是都在colab上執行，就要先在程式中mount google drive，並把位置指到相對應的路徑。"
   ]
  },
  {
   "cell_type": "code",
   "execution_count": null,
   "metadata": {
    "colab": {
     "base_uri": "https://localhost:8080/"
    },
    "executionInfo": {
     "elapsed": 29985,
     "status": "ok",
     "timestamp": 1616038973693,
     "user": {
      "displayName": "JILUNG",
      "photoUrl": "https://lh3.googleusercontent.com/a-/AOh14Gg6zj7prBu9I41dXrwQwaD6D0pMAipXePNpoU-MZ30=s64",
      "userId": "08765716966079614016"
     },
     "user_tz": -480
    },
    "id": "EiG9mBY1JgU6",
    "outputId": "d79b475d-1b1b-4fbc-e558-2d5042767ca4"
   },
   "outputs": [],
   "source": [
    "#Mount google drive as data\n",
    "from google.colab import drive\n",
    "drive.mount('/content/drive')\n",
    "\n",
    "# data path using google colab\n",
    "gdrive_path = \"/content/drive/My Drive/Colab Notebooks/PSS1092/data/14196_drug_adv.csv\" \n"
   ]
  },
  {
   "cell_type": "code",
   "execution_count": 15,
   "metadata": {
    "executionInfo": {
     "elapsed": 837,
     "status": "ok",
     "timestamp": 1616055278111,
     "user": {
      "displayName": "JILUNG",
      "photoUrl": "https://lh3.googleusercontent.com/a-/AOh14Gg6zj7prBu9I41dXrwQwaD6D0pMAipXePNpoU-MZ30=s64",
      "userId": "08765716966079614016"
     },
     "user_tz": -480
    },
    "id": "IGmUSERvKoiw"
   },
   "outputs": [],
   "source": [
    "# local PC\n",
    "relative_path = \"data/14196_drug_adv.csv\"   \n",
    "\n",
    "# Assign gdrive_path as my fin_path(file_in_path)\n",
    "# fin_path = gdrive_path # if run on google drive\n",
    "fin_path = relative_path"
   ]
  },
  {
   "cell_type": "markdown",
   "metadata": {
    "id": "Qup5q06uZpai"
   },
   "source": [
    "### CSV檔案內容\n",
    "當我用`f.read()`讀取純文字檔案內的內容時，整個內容會被轉為單一string。由於我加了Slicing `f.read()[:400]`來取出前400個字，剛好可以看見第一列的詮釋資料、第一二三筆資料，但到了第三筆資料的一半，便超過400個字。"
   ]
  },
  {
   "cell_type": "code",
   "execution_count": 18,
   "metadata": {
    "colab": {
     "base_uri": "https://localhost:8080/"
    },
    "executionInfo": {
     "elapsed": 889,
     "status": "ok",
     "timestamp": 1616055882936,
     "user": {
      "displayName": "JILUNG",
      "photoUrl": "https://lh3.googleusercontent.com/a-/AOh14Gg6zj7prBu9I41dXrwQwaD6D0pMAipXePNpoU-MZ30=s64",
      "userId": "08765716966079614016"
     },
     "user_tz": -480
    },
    "id": "h2IRI7qJbrXf",
    "outputId": "bdb6bcca-aa55-4db7-91d6-cf597a32bd67"
   },
   "outputs": [
    {
     "name": "stdout",
     "output_type": "stream",
     "text": [
      "<_io.TextIOWrapper name='data/14196_drug_adv.csv' mode='r' encoding='utf-8-sig'>\n",
      "<class '_io.TextIOWrapper'>\n"
     ]
    }
   ],
   "source": [
    "with open(fin_path, \"r\", encoding=\"utf-8-sig\") as f:\n",
    "    print(f)\n",
    "    print(type(f))"
   ]
  },
  {
   "cell_type": "code",
   "execution_count": 19,
   "metadata": {
    "colab": {
     "base_uri": "https://localhost:8080/"
    },
    "executionInfo": {
     "elapsed": 883,
     "status": "ok",
     "timestamp": 1616055383590,
     "user": {
      "displayName": "JILUNG",
      "photoUrl": "https://lh3.googleusercontent.com/a-/AOh14Gg6zj7prBu9I41dXrwQwaD6D0pMAipXePNpoU-MZ30=s64",
      "userId": "08765716966079614016"
     },
     "user_tz": -480
    },
    "id": "o3zri5svZu50",
    "outputId": "2a030d27-fbe6-4fc3-c9f1-475f4f60087e"
   },
   "outputs": [
    {
     "name": "stdout",
     "output_type": "stream",
     "text": [
      "違規產品名稱,違規廠商名稱或負責人,處分機關,處分日期,處分法條,違規情節,刊播日期,刊播媒體類別,刊播媒體,查處情形\n",
      "\"《現貨》日本熱銷 超人氣SS製藥 痘痘乳膏\",\"Y7868533113/鍾青砡\",\"\",\"08 15 2017 12:00AM\",\"\",\"無照藥商\",\"02 3 2017 12:00AM\",\"網路\",\"Yahoo！奇摩拍賣\",\"相關案件已處分\"\n",
      "\"《現貨》大正漢方腸胃藥 60錠\",\"Y9159169900/鍾青砡\",\"\",\"08 15 2017 12:00AM\",\"\",\"無照藥商\",\"02 3 2017 12:00AM\",\"網路\",\"Yahoo！奇摩拍賣\",\"相關案件已處分\"\n",
      "\"《現貨》日本熱銷 超人氣SS製藥 痘痘乳膏\",\"Y9159169900/鍾青砡\",\"\",\"08 15 2017 12:00AM\",\"\",\"無照藥商\",\"02 3 2017 12:00AM\",\"網\n"
     ]
    }
   ],
   "source": [
    "with open(fin_path, \"r\", encoding=\"utf-8-sig\") as f:\n",
    "    print(f.read()[:400])"
   ]
  },
  {
   "cell_type": "markdown",
   "metadata": {
    "id": "loEQZRFoGl7j"
   },
   "source": [
    "## M.1 Read CSV by lines\n",
    "\n",
    "前面說到，CSV檔的每一列都有一個`\\n`做換行，所以，我要讀取CSV就可以用`f.readlines()`讀進每一列的資料，該函式會遇到`\\n`即切開為一行，切開後的資料就存進一個外層List中。之後，我可以針對切開的每一列資料（例如底下的`line`），遇到逗號就斷開`line.split(\",\")`，每一列就會變成一個List。所以最後會產生一個兩層的List。\n",
    "\n",
    "* `.read()`是讀取整個檔案變成一個字串，因此，必須在後面跟著用`split()`函式，讓這個大字串遇到`\\n`就會切成分行的小字串。\n",
    "\n",
    "* `.readllines()`是上面兩個步驟的簡短版，讀檔過程遇到`\\n`會自動把大字串切為數個小字串並放到List中。"
   ]
  },
  {
   "cell_type": "code",
   "execution_count": 20,
   "metadata": {
    "ExecuteTime": {
     "end_time": "2020-03-14T06:50:00.683566Z",
     "start_time": "2020-03-14T06:50:00.671035Z"
    },
    "id": "ELGae_5MGl7j"
   },
   "outputs": [],
   "source": [
    "all_list = []\n",
    "with open(fin_path, \"r\", encoding=\"utf-8-sig\") as f:\n",
    "#     for line in f.readlines():\n",
    "    for line in f.read().split(\"\\n\"):\n",
    "        row = line.split(\",\")\n",
    "        all_list.append(row)"
   ]
  },
  {
   "cell_type": "code",
   "execution_count": 21,
   "metadata": {
    "colab": {
     "base_uri": "https://localhost:8080/"
    },
    "executionInfo": {
     "elapsed": 646,
     "status": "ok",
     "timestamp": 1615346651415,
     "user": {
      "displayName": "JILUNG",
      "photoUrl": "https://lh3.googleusercontent.com/a-/AOh14Gg6zj7prBu9I41dXrwQwaD6D0pMAipXePNpoU-MZ30=s64",
      "userId": "08765716966079614016"
     },
     "user_tz": -480
    },
    "id": "e2eimn5XIdz6",
    "outputId": "0953db2e-0fd4-4dc4-edc8-eb8468aaff10"
   },
   "outputs": [
    {
     "name": "stdout",
     "output_type": "stream",
     "text": [
      "<class 'list'>\n",
      "1761\n",
      "[['違規產品名稱', '違規廠商名稱或負責人', '處分機關', '處分日期', '處分法條', '違規情節', '刊播日期', '刊播媒體類別', '刊播媒體', '查處情形'], ['\"《現貨》日本熱銷 超人氣SS製藥 痘痘乳膏\"', '\"Y7868533113/鍾青砡\"', '\"\"', '\"08 15 2017 12:00AM\"', '\"\"', '\"無照藥商\"', '\"02 3 2017 12:00AM\"', '\"網路\"', '\"Yahoo！奇摩拍賣\"', '\"相關案件已處分\"'], ['\"《現貨》大正漢方腸胃藥 60錠\"', '\"Y9159169900/鍾青砡\"', '\"\"', '\"08 15 2017 12:00AM\"', '\"\"', '\"無照藥商\"', '\"02 3 2017 12:00AM\"', '\"網路\"', '\"Yahoo！奇摩拍賣\"', '\"相關案件已處分\"']]\n"
     ]
    }
   ],
   "source": [
    "# Explore the data\n",
    "print(type(all_list))\n",
    "print(len(all_list))\n",
    "print(all_list[:3])"
   ]
  },
  {
   "cell_type": "code",
   "execution_count": 22,
   "metadata": {
    "ExecuteTime": {
     "end_time": "2020-03-14T06:51:14.321799Z",
     "start_time": "2020-03-14T06:51:14.317143Z"
    },
    "colab": {
     "base_uri": "https://localhost:8080/"
    },
    "executionInfo": {
     "elapsed": 647,
     "status": "ok",
     "timestamp": 1615346661511,
     "user": {
      "displayName": "JILUNG",
      "photoUrl": "https://lh3.googleusercontent.com/a-/AOh14Gg6zj7prBu9I41dXrwQwaD6D0pMAipXePNpoU-MZ30=s64",
      "userId": "08765716966079614016"
     },
     "user_tz": -480
    },
    "id": "YvdMdyXEGl7j",
    "outputId": "135f0d84-c979-48af-f9c8-8f1d5995eba5"
   },
   "outputs": [
    {
     "name": "stdout",
     "output_type": "stream",
     "text": [
      "['違規產品名稱', '違規廠商名稱或負責人', '處分機關', '處分日期', '處分法條', '違規情節', '刊播日期', '刊播媒體類別', '刊播媒體', '查處情形']\n",
      "['\"《現貨》日本熱銷 超人氣SS製藥 痘痘乳膏\"', '\"Y7868533113/鍾青砡\"', '\"\"', '\"08 15 2017 12:00AM\"', '\"\"', '\"無照藥商\"', '\"02 3 2017 12:00AM\"', '\"網路\"', '\"Yahoo！奇摩拍賣\"', '\"相關案件已處分\"']\n",
      "['\"《現貨》大正漢方腸胃藥 60錠\"', '\"Y9159169900/鍾青砡\"', '\"\"', '\"08 15 2017 12:00AM\"', '\"\"', '\"無照藥商\"', '\"02 3 2017 12:00AM\"', '\"網路\"', '\"Yahoo！奇摩拍賣\"', '\"相關案件已處分\"']\n",
      "['\"《現貨》日本熱銷 超人氣SS製藥 痘痘乳膏\"', '\"Y9159169900/鍾青砡\"', '\"\"', '\"08 15 2017 12:00AM\"', '\"\"', '\"無照藥商\"', '\"02 3 2017 12:00AM\"', '\"網路\"', '\"Yahoo！奇摩拍賣\"', '\"相關案件已處分\"']\n",
      "['\"日本小林製藥 - 喉嚨噴劑 (現貨)\"', '\"**VIOLA Shop**/代號 Y0899501333/蔡佩蓉\"', '\"\"', '\"05 16 2017 12:00AM\"', '\"\"', '\"無照藥商\"', '\"02 3 2017 12:00AM\"', '\"網路\"', '\"Yahoo！奇摩拍賣\"', '\"相關案件已處分\"']\n",
      "1761\n",
      "\"Yahoo！奇摩拍賣\"\n"
     ]
    }
   ],
   "source": [
    "# print the first 5 lists by for-loop\n",
    "for li in all_list[:5]:\n",
    "    print(li)\n",
    "\n",
    "# print the length of data (the length of the outer list)\n",
    "print(len(all_list))\n",
    "\n",
    "\n",
    "# print element by index with two dimensions\n",
    "print(all_list[1][-2])\n"
   ]
  },
  {
   "cell_type": "markdown",
   "metadata": {
    "id": "TPiR9C17Gl7l"
   },
   "source": [
    "## M.2 Read by csv.reader()"
   ]
  },
  {
   "cell_type": "markdown",
   "metadata": {},
   "source": [
    "`csv_read()`並非預載於python runtime environment的基本函式，因此要import csv library，才可以使用該library中的`csv_read()`"
   ]
  },
  {
   "cell_type": "code",
   "execution_count": 4,
   "metadata": {
    "ExecuteTime": {
     "end_time": "2020-03-14T06:51:52.207212Z",
     "start_time": "2020-03-14T06:51:52.189910Z"
    },
    "id": "xM47dxGjGl7l"
   },
   "outputs": [],
   "source": [
    "import csv\n",
    "with open(fin_path, \"r\", encoding=\"utf-8-sig\") as csv_file:\n",
    "    csv_reader = csv.reader(csv_file, delimiter=',')\n",
    "    data_list  = list(csv_reader)"
   ]
  },
  {
   "cell_type": "code",
   "execution_count": 5,
   "metadata": {
    "ExecuteTime": {
     "end_time": "2020-03-14T06:51:53.658839Z",
     "start_time": "2020-03-14T06:51:53.652838Z"
    },
    "colab": {
     "base_uri": "https://localhost:8080/"
    },
    "executionInfo": {
     "elapsed": 800,
     "status": "ok",
     "timestamp": 1615346744931,
     "user": {
      "displayName": "JILUNG",
      "photoUrl": "https://lh3.googleusercontent.com/a-/AOh14Gg6zj7prBu9I41dXrwQwaD6D0pMAipXePNpoU-MZ30=s64",
      "userId": "08765716966079614016"
     },
     "user_tz": -480
    },
    "id": "wIMdvOO5Gl7l",
    "outputId": "6c45d749-2159-45ec-ebd1-4d142d25595b"
   },
   "outputs": [
    {
     "name": "stdout",
     "output_type": "stream",
     "text": [
      "['違規產品名稱', '違規廠商名稱或負責人', '處分機關', '處分日期', '處分法條', '違規情節', '刊播日期', '刊播媒體類別', '刊播媒體', '查處情形']\n",
      "['《現貨》日本熱銷 超人氣SS製藥 痘痘乳膏', 'Y7868533113/鍾青砡', '', '08 15 2017 12:00AM', '', '無照藥商', '02 3 2017 12:00AM', '網路', 'Yahoo！奇摩拍賣', '相關案件已處分']\n",
      "Yahoo！奇摩拍賣\n",
      "1761\n"
     ]
    }
   ],
   "source": [
    "# Exploring data content, the first and the second elements\n",
    "print(data_list[0])\n",
    "print(data_list[1])\n",
    "\n",
    "print(data_list[1][-2])\n",
    "print(len(data_list))\n",
    "\n",
    "# for row in data_list: # never do this if you are not sure that the number of lines\n",
    "#     print(row)"
   ]
  },
  {
   "cell_type": "markdown",
   "metadata": {
    "id": "y6DQQYOPGl7m"
   },
   "source": [
    "## M.3 Read by pandas data.frame"
   ]
  },
  {
   "cell_type": "code",
   "execution_count": 8,
   "metadata": {
    "ExecuteTime": {
     "end_time": "2020-03-14T06:52:11.508365Z",
     "start_time": "2020-03-14T06:52:11.490900Z"
    },
    "id": "Q3xUes5yGl7m"
   },
   "outputs": [],
   "source": [
    "import pandas as pd\n",
    "df = pd.read_csv(fin_path, error_bad_lines=False)"
   ]
  },
  {
   "cell_type": "code",
   "execution_count": 9,
   "metadata": {
    "colab": {
     "base_uri": "https://localhost:8080/",
     "height": 1000
    },
    "executionInfo": {
     "elapsed": 1139,
     "status": "ok",
     "timestamp": 1616040171949,
     "user": {
      "displayName": "JILUNG",
      "photoUrl": "https://lh3.googleusercontent.com/a-/AOh14Gg6zj7prBu9I41dXrwQwaD6D0pMAipXePNpoU-MZ30=s64",
      "userId": "08765716966079614016"
     },
     "user_tz": -480
    },
    "id": "MUI2arHqf_sr",
    "outputId": "3482f51e-0f35-47cb-f4f2-523c5d545176"
   },
   "outputs": [
    {
     "data": {
      "text/html": [
       "<div>\n",
       "<style scoped>\n",
       "    .dataframe tbody tr th:only-of-type {\n",
       "        vertical-align: middle;\n",
       "    }\n",
       "\n",
       "    .dataframe tbody tr th {\n",
       "        vertical-align: top;\n",
       "    }\n",
       "\n",
       "    .dataframe thead th {\n",
       "        text-align: right;\n",
       "    }\n",
       "</style>\n",
       "<table border=\"1\" class=\"dataframe\">\n",
       "  <thead>\n",
       "    <tr style=\"text-align: right;\">\n",
       "      <th></th>\n",
       "      <th>違規產品名稱</th>\n",
       "      <th>違規廠商名稱或負責人</th>\n",
       "      <th>處分機關</th>\n",
       "      <th>處分日期</th>\n",
       "      <th>處分法條</th>\n",
       "      <th>違規情節</th>\n",
       "      <th>刊播日期</th>\n",
       "      <th>刊播媒體類別</th>\n",
       "      <th>刊播媒體</th>\n",
       "      <th>查處情形</th>\n",
       "    </tr>\n",
       "  </thead>\n",
       "  <tbody>\n",
       "    <tr>\n",
       "      <th>0</th>\n",
       "      <td>《現貨》日本熱銷 超人氣SS製藥 痘痘乳膏</td>\n",
       "      <td>Y7868533113/鍾青砡</td>\n",
       "      <td>NaN</td>\n",
       "      <td>08 15 2017 12:00AM</td>\n",
       "      <td>NaN</td>\n",
       "      <td>無照藥商</td>\n",
       "      <td>02 3 2017 12:00AM</td>\n",
       "      <td>網路</td>\n",
       "      <td>Yahoo！奇摩拍賣</td>\n",
       "      <td>相關案件已處分</td>\n",
       "    </tr>\n",
       "    <tr>\n",
       "      <th>1</th>\n",
       "      <td>《現貨》大正漢方腸胃藥 60錠</td>\n",
       "      <td>Y9159169900/鍾青砡</td>\n",
       "      <td>NaN</td>\n",
       "      <td>08 15 2017 12:00AM</td>\n",
       "      <td>NaN</td>\n",
       "      <td>無照藥商</td>\n",
       "      <td>02 3 2017 12:00AM</td>\n",
       "      <td>網路</td>\n",
       "      <td>Yahoo！奇摩拍賣</td>\n",
       "      <td>相關案件已處分</td>\n",
       "    </tr>\n",
       "    <tr>\n",
       "      <th>2</th>\n",
       "      <td>《現貨》日本熱銷 超人氣SS製藥 痘痘乳膏</td>\n",
       "      <td>Y9159169900/鍾青砡</td>\n",
       "      <td>NaN</td>\n",
       "      <td>08 15 2017 12:00AM</td>\n",
       "      <td>NaN</td>\n",
       "      <td>無照藥商</td>\n",
       "      <td>02 3 2017 12:00AM</td>\n",
       "      <td>網路</td>\n",
       "      <td>Yahoo！奇摩拍賣</td>\n",
       "      <td>相關案件已處分</td>\n",
       "    </tr>\n",
       "    <tr>\n",
       "      <th>3</th>\n",
       "      <td>日本小林製藥 - 喉嚨噴劑 (現貨)</td>\n",
       "      <td>**VIOLA Shop**/代號 Y0899501333/蔡佩蓉</td>\n",
       "      <td>NaN</td>\n",
       "      <td>05 16 2017 12:00AM</td>\n",
       "      <td>NaN</td>\n",
       "      <td>無照藥商</td>\n",
       "      <td>02 3 2017 12:00AM</td>\n",
       "      <td>網路</td>\n",
       "      <td>Yahoo！奇摩拍賣</td>\n",
       "      <td>相關案件已處分</td>\n",
       "    </tr>\n",
       "    <tr>\n",
       "      <th>4</th>\n",
       "      <td>《現貨》日本 小林製藥 命之母 生命之 840錠 女性更年期保養</td>\n",
       "      <td>日本藥妝全職服務現貨快速出/代號 Y4681313568/鍾青砡</td>\n",
       "      <td>NaN</td>\n",
       "      <td>08 15 2017 12:00AM</td>\n",
       "      <td>NaN</td>\n",
       "      <td>無照藥商</td>\n",
       "      <td>02 3 2017 12:00AM</td>\n",
       "      <td>網路</td>\n",
       "      <td>Yahoo！奇摩拍賣</td>\n",
       "      <td>相關案件已處分</td>\n",
       "    </tr>\n",
       "    <tr>\n",
       "      <th>...</th>\n",
       "      <td>...</td>\n",
       "      <td>...</td>\n",
       "      <td>...</td>\n",
       "      <td>...</td>\n",
       "      <td>...</td>\n",
       "      <td>...</td>\n",
       "      <td>...</td>\n",
       "      <td>...</td>\n",
       "      <td>...</td>\n",
       "      <td>...</td>\n",
       "    </tr>\n",
       "    <tr>\n",
       "      <th>1755</th>\n",
       "      <td>全新麵包超人止癢貼片（76入）</td>\n",
       "      <td>非廠商/蕭千容</td>\n",
       "      <td>NaN</td>\n",
       "      <td>10 19 2017 12:00AM</td>\n",
       "      <td>NaN</td>\n",
       "      <td>無照藥商</td>\n",
       "      <td>06 22 2017 12:00AM</td>\n",
       "      <td>網路</td>\n",
       "      <td>蝦皮拍賣網站</td>\n",
       "      <td>輔導結案</td>\n",
       "    </tr>\n",
       "    <tr>\n",
       "      <th>1756</th>\n",
       "      <td>御岳百草丸</td>\n",
       "      <td>非廠商/吳俊儀</td>\n",
       "      <td>NaN</td>\n",
       "      <td>11 1 2017 12:00AM</td>\n",
       "      <td>藥事法第39條</td>\n",
       "      <td>藥品未申請查驗登記</td>\n",
       "      <td>05 23 2017 12:00AM</td>\n",
       "      <td>網路</td>\n",
       "      <td>蝦皮拍賣網站</td>\n",
       "      <td>未違規結案</td>\n",
       "    </tr>\n",
       "    <tr>\n",
       "      <th>1757</th>\n",
       "      <td>（現貨供應中）日本樂敦，減輕疲憊</td>\n",
       "      <td>非廠商/陳O卿</td>\n",
       "      <td>NaN</td>\n",
       "      <td>10 20 2017 12:00AM</td>\n",
       "      <td>NaN</td>\n",
       "      <td>無照藥商藥品未申請查驗登記</td>\n",
       "      <td>07 20 2017 12:00AM</td>\n",
       "      <td>網路</td>\n",
       "      <td>商店街個人賣場網站</td>\n",
       "      <td>輔導結案</td>\n",
       "    </tr>\n",
       "    <tr>\n",
       "      <th>1758</th>\n",
       "      <td>客製訂單～詹淑惠</td>\n",
       "      <td>非廠商/陳O卿</td>\n",
       "      <td>NaN</td>\n",
       "      <td>10 20 2017 12:00AM</td>\n",
       "      <td>NaN</td>\n",
       "      <td>無照藥商藥品未申請查驗登記</td>\n",
       "      <td>07 20 2017 12:00AM</td>\n",
       "      <td>網路</td>\n",
       "      <td>商店街個人賣場網站</td>\n",
       "      <td>輔導結案</td>\n",
       "    </tr>\n",
       "    <tr>\n",
       "      <th>1759</th>\n",
       "      <td>bb美白錠</td>\n",
       "      <td>非廠商/楊庭妮</td>\n",
       "      <td>NaN</td>\n",
       "      <td>09 28 2017 12:00AM</td>\n",
       "      <td>NaN</td>\n",
       "      <td>廣告內容誇大不實</td>\n",
       "      <td>06 7 2017 12:00AM</td>\n",
       "      <td>網路</td>\n",
       "      <td>蝦皮拍賣網站</td>\n",
       "      <td>輔導結案</td>\n",
       "    </tr>\n",
       "  </tbody>\n",
       "</table>\n",
       "<p>1760 rows × 10 columns</p>\n",
       "</div>"
      ],
      "text/plain": [
       "                                違規產品名稱                         違規廠商名稱或負責人  \\\n",
       "0                《現貨》日本熱銷 超人氣SS製藥 痘痘乳膏                    Y7868533113/鍾青砡   \n",
       "1                      《現貨》大正漢方腸胃藥 60錠                    Y9159169900/鍾青砡   \n",
       "2                《現貨》日本熱銷 超人氣SS製藥 痘痘乳膏                    Y9159169900/鍾青砡   \n",
       "3                   日本小林製藥 - 喉嚨噴劑 (現貨)  **VIOLA Shop**/代號 Y0899501333/蔡佩蓉   \n",
       "4     《現貨》日本 小林製藥 命之母 生命之 840錠 女性更年期保養   日本藥妝全職服務現貨快速出/代號 Y4681313568/鍾青砡   \n",
       "...                                ...                                ...   \n",
       "1755                   全新麵包超人止癢貼片（76入）                            非廠商/蕭千容   \n",
       "1756                             御岳百草丸                            非廠商/吳俊儀   \n",
       "1757                  （現貨供應中）日本樂敦，減輕疲憊                            非廠商/陳O卿   \n",
       "1758                          客製訂單～詹淑惠                            非廠商/陳O卿   \n",
       "1759                             bb美白錠                            非廠商/楊庭妮   \n",
       "\n",
       "     處分機關                處分日期     處分法條           違規情節                刊播日期  \\\n",
       "0     NaN  08 15 2017 12:00AM      NaN           無照藥商   02 3 2017 12:00AM   \n",
       "1     NaN  08 15 2017 12:00AM      NaN           無照藥商   02 3 2017 12:00AM   \n",
       "2     NaN  08 15 2017 12:00AM      NaN           無照藥商   02 3 2017 12:00AM   \n",
       "3     NaN  05 16 2017 12:00AM      NaN           無照藥商   02 3 2017 12:00AM   \n",
       "4     NaN  08 15 2017 12:00AM      NaN           無照藥商   02 3 2017 12:00AM   \n",
       "...   ...                 ...      ...            ...                 ...   \n",
       "1755  NaN  10 19 2017 12:00AM      NaN           無照藥商  06 22 2017 12:00AM   \n",
       "1756  NaN   11 1 2017 12:00AM  藥事法第39條      藥品未申請查驗登記  05 23 2017 12:00AM   \n",
       "1757  NaN  10 20 2017 12:00AM      NaN  無照藥商藥品未申請查驗登記  07 20 2017 12:00AM   \n",
       "1758  NaN  10 20 2017 12:00AM      NaN  無照藥商藥品未申請查驗登記  07 20 2017 12:00AM   \n",
       "1759  NaN  09 28 2017 12:00AM      NaN       廣告內容誇大不實   06 7 2017 12:00AM   \n",
       "\n",
       "     刊播媒體類別        刊播媒體     查處情形  \n",
       "0        網路  Yahoo！奇摩拍賣  相關案件已處分  \n",
       "1        網路  Yahoo！奇摩拍賣  相關案件已處分  \n",
       "2        網路  Yahoo！奇摩拍賣  相關案件已處分  \n",
       "3        網路  Yahoo！奇摩拍賣  相關案件已處分  \n",
       "4        網路  Yahoo！奇摩拍賣  相關案件已處分  \n",
       "...     ...         ...      ...  \n",
       "1755     網路      蝦皮拍賣網站     輔導結案  \n",
       "1756     網路      蝦皮拍賣網站    未違規結案  \n",
       "1757     網路   商店街個人賣場網站     輔導結案  \n",
       "1758     網路   商店街個人賣場網站     輔導結案  \n",
       "1759     網路      蝦皮拍賣網站     輔導結案  \n",
       "\n",
       "[1760 rows x 10 columns]"
      ]
     },
     "execution_count": 9,
     "metadata": {},
     "output_type": "execute_result"
    }
   ],
   "source": [
    "df"
   ]
  },
  {
   "cell_type": "markdown",
   "metadata": {
    "id": "SESEJwX6gQkb"
   },
   "source": [
    "### Read url directly by pandas\n",
    "1. 至https://data.taipei/ 搜尋「結婚」可找到「臺北市婚姻概況按月別」後，對「下載資料」按右鍵複製連結即得https://data.taipei/api/getDatasetInfo/downloadResource?id=bc83f1a0-2192-4e06-acc2-4d2a0bc9121b&rid=d4ce96ce-a463-40dc-95b2-0c88d81a5427\n",
    "\n",
    "\n",
    "2. (無法直接讀取URL，只能用下載的) Find an interesting dataset on https://data.gov.tw/ (e.g.) 結婚對數按婚姻類型、性別及年齡分(按登記) https://data.gov.tw/dataset/130547 . Click \"檢視資料\" to obtain data link https://data.moi.gov.tw/MoiOD/System/DownloadFile.aspx?DATA=50E1F8E9-3A75-45A7-A50D-306CC625A700"
   ]
  },
  {
   "cell_type": "code",
   "execution_count": 23,
   "metadata": {
    "colab": {
     "base_uri": "https://localhost:8080/",
     "height": 1000
    },
    "executionInfo": {
     "elapsed": 1732,
     "status": "ok",
     "timestamp": 1616041227457,
     "user": {
      "displayName": "JILUNG",
      "photoUrl": "https://lh3.googleusercontent.com/a-/AOh14Gg6zj7prBu9I41dXrwQwaD6D0pMAipXePNpoU-MZ30=s64",
      "userId": "08765716966079614016"
     },
     "user_tz": -480
    },
    "id": "YBQUvMdTgU5E",
    "outputId": "b6fb0b4f-b637-4582-8ac5-dcf0e858f7d9"
   },
   "outputs": [
    {
     "data": {
      "text/html": [
       "<div>\n",
       "<style scoped>\n",
       "    .dataframe tbody tr th:only-of-type {\n",
       "        vertical-align: middle;\n",
       "    }\n",
       "\n",
       "    .dataframe tbody tr th {\n",
       "        vertical-align: top;\n",
       "    }\n",
       "\n",
       "    .dataframe thead th {\n",
       "        text-align: right;\n",
       "    }\n",
       "</style>\n",
       "<table border=\"1\" class=\"dataframe\">\n",
       "  <thead>\n",
       "    <tr style=\"text-align: right;\">\n",
       "      <th></th>\n",
       "      <th>年月別</th>\n",
       "      <th>結婚對數[對]</th>\n",
       "      <th>結婚對數中相同性別對數[對]</th>\n",
       "      <th>結婚對數中對象為大陸港澳配偶對數[對]</th>\n",
       "      <th>結婚對數中對象為其他外籍配偶對數[對]</th>\n",
       "      <th>結婚對數中配偶為大陸港澳及其他外籍人士之對數比率[%]</th>\n",
       "      <th>結婚人數中大陸港澳及其他外籍配偶之人數比率[%]</th>\n",
       "      <th>粗結婚率/月[千分比]</th>\n",
       "      <th>粗結婚率/折合年率[千分比]</th>\n",
       "      <th>離婚對數[對]</th>\n",
       "      <th>離婚對數中相同性別對數[對]</th>\n",
       "      <th>離婚對數中對象為大陸港澳配偶對數[對]</th>\n",
       "      <th>離婚對數中對象為其他外籍配偶對數[對]</th>\n",
       "      <th>離婚對數中配偶為大陸港澳及其他外籍人士之對數比率[%]</th>\n",
       "      <th>離婚人數中大陸港澳及其他外籍配偶之人數比率[%]</th>\n",
       "      <th>粗離婚率/月[千分比]</th>\n",
       "      <th>粗離婚率/折合年率[千分比]</th>\n",
       "    </tr>\n",
       "  </thead>\n",
       "  <tbody>\n",
       "    <tr>\n",
       "      <th>0</th>\n",
       "      <td>87年1月</td>\n",
       "      <td>2158</td>\n",
       "      <td>-</td>\n",
       "      <td>-</td>\n",
       "      <td>75</td>\n",
       "      <td>3.48</td>\n",
       "      <td>1.74</td>\n",
       "      <td>0.83</td>\n",
       "      <td>9.78</td>\n",
       "      <td>344</td>\n",
       "      <td>-</td>\n",
       "      <td>-</td>\n",
       "      <td>11</td>\n",
       "      <td>3.20</td>\n",
       "      <td>1.60</td>\n",
       "      <td>0.13</td>\n",
       "      <td>1.56</td>\n",
       "    </tr>\n",
       "    <tr>\n",
       "      <th>1</th>\n",
       "      <td>87年2月</td>\n",
       "      <td>1926</td>\n",
       "      <td>-</td>\n",
       "      <td>-</td>\n",
       "      <td>87</td>\n",
       "      <td>4.52</td>\n",
       "      <td>2.26</td>\n",
       "      <td>0.74</td>\n",
       "      <td>9.65</td>\n",
       "      <td>423</td>\n",
       "      <td>-</td>\n",
       "      <td>-</td>\n",
       "      <td>15</td>\n",
       "      <td>3.55</td>\n",
       "      <td>1.77</td>\n",
       "      <td>0.16</td>\n",
       "      <td>2.12</td>\n",
       "    </tr>\n",
       "    <tr>\n",
       "      <th>2</th>\n",
       "      <td>87年3月</td>\n",
       "      <td>1755</td>\n",
       "      <td>-</td>\n",
       "      <td>-</td>\n",
       "      <td>106</td>\n",
       "      <td>6.04</td>\n",
       "      <td>3.02</td>\n",
       "      <td>0.67</td>\n",
       "      <td>7.94</td>\n",
       "      <td>479</td>\n",
       "      <td>-</td>\n",
       "      <td>-</td>\n",
       "      <td>12</td>\n",
       "      <td>2.51</td>\n",
       "      <td>1.25</td>\n",
       "      <td>0.18</td>\n",
       "      <td>2.17</td>\n",
       "    </tr>\n",
       "    <tr>\n",
       "      <th>3</th>\n",
       "      <td>87年4月</td>\n",
       "      <td>1402</td>\n",
       "      <td>-</td>\n",
       "      <td>-</td>\n",
       "      <td>82</td>\n",
       "      <td>5.85</td>\n",
       "      <td>2.92</td>\n",
       "      <td>0.54</td>\n",
       "      <td>6.54</td>\n",
       "      <td>487</td>\n",
       "      <td>-</td>\n",
       "      <td>-</td>\n",
       "      <td>8</td>\n",
       "      <td>1.64</td>\n",
       "      <td>0.82</td>\n",
       "      <td>0.19</td>\n",
       "      <td>2.27</td>\n",
       "    </tr>\n",
       "    <tr>\n",
       "      <th>4</th>\n",
       "      <td>87年5月</td>\n",
       "      <td>1348</td>\n",
       "      <td>-</td>\n",
       "      <td>-</td>\n",
       "      <td>93</td>\n",
       "      <td>6.90</td>\n",
       "      <td>3.45</td>\n",
       "      <td>0.52</td>\n",
       "      <td>6.08</td>\n",
       "      <td>470</td>\n",
       "      <td>-</td>\n",
       "      <td>-</td>\n",
       "      <td>16</td>\n",
       "      <td>3.40</td>\n",
       "      <td>1.70</td>\n",
       "      <td>0.18</td>\n",
       "      <td>2.12</td>\n",
       "    </tr>\n",
       "    <tr>\n",
       "      <th>...</th>\n",
       "      <td>...</td>\n",
       "      <td>...</td>\n",
       "      <td>...</td>\n",
       "      <td>...</td>\n",
       "      <td>...</td>\n",
       "      <td>...</td>\n",
       "      <td>...</td>\n",
       "      <td>...</td>\n",
       "      <td>...</td>\n",
       "      <td>...</td>\n",
       "      <td>...</td>\n",
       "      <td>...</td>\n",
       "      <td>...</td>\n",
       "      <td>...</td>\n",
       "      <td>...</td>\n",
       "      <td>...</td>\n",
       "      <td>...</td>\n",
       "    </tr>\n",
       "    <tr>\n",
       "      <th>273</th>\n",
       "      <td>109年10月</td>\n",
       "      <td>1361</td>\n",
       "      <td>-</td>\n",
       "      <td>39</td>\n",
       "      <td>94</td>\n",
       "      <td>9.77</td>\n",
       "      <td>4.89</td>\n",
       "      <td>0.52</td>\n",
       "      <td>6.16</td>\n",
       "      <td>358</td>\n",
       "      <td>-</td>\n",
       "      <td>25</td>\n",
       "      <td>24</td>\n",
       "      <td>13.69</td>\n",
       "      <td>6.84</td>\n",
       "      <td>0.14</td>\n",
       "      <td>1.62</td>\n",
       "    </tr>\n",
       "    <tr>\n",
       "      <th>274</th>\n",
       "      <td>109年11月</td>\n",
       "      <td>896</td>\n",
       "      <td>-</td>\n",
       "      <td>55</td>\n",
       "      <td>83</td>\n",
       "      <td>15.40</td>\n",
       "      <td>7.70</td>\n",
       "      <td>0.34</td>\n",
       "      <td>4.19</td>\n",
       "      <td>375</td>\n",
       "      <td>-</td>\n",
       "      <td>33</td>\n",
       "      <td>33</td>\n",
       "      <td>17.60</td>\n",
       "      <td>8.80</td>\n",
       "      <td>0.14</td>\n",
       "      <td>1.75</td>\n",
       "    </tr>\n",
       "    <tr>\n",
       "      <th>275</th>\n",
       "      <td>109年12月</td>\n",
       "      <td>1599</td>\n",
       "      <td>-</td>\n",
       "      <td>56</td>\n",
       "      <td>95</td>\n",
       "      <td>9.44</td>\n",
       "      <td>4.72</td>\n",
       "      <td>0.61</td>\n",
       "      <td>7.25</td>\n",
       "      <td>400</td>\n",
       "      <td>-</td>\n",
       "      <td>34</td>\n",
       "      <td>25</td>\n",
       "      <td>14.75</td>\n",
       "      <td>7.38</td>\n",
       "      <td>0.15</td>\n",
       "      <td>1.81</td>\n",
       "    </tr>\n",
       "    <tr>\n",
       "      <th>276</th>\n",
       "      <td>110年1月</td>\n",
       "      <td>1065</td>\n",
       "      <td>21</td>\n",
       "      <td>51</td>\n",
       "      <td>83</td>\n",
       "      <td>12.58</td>\n",
       "      <td>6.29</td>\n",
       "      <td>0.41</td>\n",
       "      <td>4.82</td>\n",
       "      <td>328</td>\n",
       "      <td>4</td>\n",
       "      <td>24</td>\n",
       "      <td>17</td>\n",
       "      <td>12.50</td>\n",
       "      <td>6.25</td>\n",
       "      <td>0.13</td>\n",
       "      <td>1.49</td>\n",
       "    </tr>\n",
       "    <tr>\n",
       "      <th>277</th>\n",
       "      <td>110年2月</td>\n",
       "      <td>824</td>\n",
       "      <td>9</td>\n",
       "      <td>44</td>\n",
       "      <td>87</td>\n",
       "      <td>15.90</td>\n",
       "      <td>7.95</td>\n",
       "      <td>0.32</td>\n",
       "      <td>4.14</td>\n",
       "      <td>356</td>\n",
       "      <td>6</td>\n",
       "      <td>35</td>\n",
       "      <td>17</td>\n",
       "      <td>14.61</td>\n",
       "      <td>7.30</td>\n",
       "      <td>0.14</td>\n",
       "      <td>1.79</td>\n",
       "    </tr>\n",
       "  </tbody>\n",
       "</table>\n",
       "<p>278 rows × 17 columns</p>\n",
       "</div>"
      ],
      "text/plain": [
       "         年月別  結婚對數[對] 結婚對數中相同性別對數[對] 結婚對數中對象為大陸港澳配偶對數[對]  結婚對數中對象為其他外籍配偶對數[對]  \\\n",
       "0      87年1月     2158              -                   -                   75   \n",
       "1      87年2月     1926              -                   -                   87   \n",
       "2      87年3月     1755              -                   -                  106   \n",
       "3      87年4月     1402              -                   -                   82   \n",
       "4      87年5月     1348              -                   -                   93   \n",
       "..       ...      ...            ...                 ...                  ...   \n",
       "273  109年10月     1361              -                  39                   94   \n",
       "274  109年11月      896              -                  55                   83   \n",
       "275  109年12月     1599              -                  56                   95   \n",
       "276   110年1月     1065             21                  51                   83   \n",
       "277   110年2月      824              9                  44                   87   \n",
       "\n",
       "     結婚對數中配偶為大陸港澳及其他外籍人士之對數比率[%]  結婚人數中大陸港澳及其他外籍配偶之人數比率[%]  粗結婚率/月[千分比]  \\\n",
       "0                           3.48                      1.74         0.83   \n",
       "1                           4.52                      2.26         0.74   \n",
       "2                           6.04                      3.02         0.67   \n",
       "3                           5.85                      2.92         0.54   \n",
       "4                           6.90                      3.45         0.52   \n",
       "..                           ...                       ...          ...   \n",
       "273                         9.77                      4.89         0.52   \n",
       "274                        15.40                      7.70         0.34   \n",
       "275                         9.44                      4.72         0.61   \n",
       "276                        12.58                      6.29         0.41   \n",
       "277                        15.90                      7.95         0.32   \n",
       "\n",
       "     粗結婚率/折合年率[千分比]  離婚對數[對] 離婚對數中相同性別對數[對] 離婚對數中對象為大陸港澳配偶對數[對]  \\\n",
       "0              9.78      344              -                   -   \n",
       "1              9.65      423              -                   -   \n",
       "2              7.94      479              -                   -   \n",
       "3              6.54      487              -                   -   \n",
       "4              6.08      470              -                   -   \n",
       "..              ...      ...            ...                 ...   \n",
       "273            6.16      358              -                  25   \n",
       "274            4.19      375              -                  33   \n",
       "275            7.25      400              -                  34   \n",
       "276            4.82      328              4                  24   \n",
       "277            4.14      356              6                  35   \n",
       "\n",
       "     離婚對數中對象為其他外籍配偶對數[對]  離婚對數中配偶為大陸港澳及其他外籍人士之對數比率[%]  \\\n",
       "0                     11                         3.20   \n",
       "1                     15                         3.55   \n",
       "2                     12                         2.51   \n",
       "3                      8                         1.64   \n",
       "4                     16                         3.40   \n",
       "..                   ...                          ...   \n",
       "273                   24                        13.69   \n",
       "274                   33                        17.60   \n",
       "275                   25                        14.75   \n",
       "276                   17                        12.50   \n",
       "277                   17                        14.61   \n",
       "\n",
       "     離婚人數中大陸港澳及其他外籍配偶之人數比率[%]  粗離婚率/月[千分比]  粗離婚率/折合年率[千分比]  \n",
       "0                        1.60         0.13            1.56  \n",
       "1                        1.77         0.16            2.12  \n",
       "2                        1.25         0.18            2.17  \n",
       "3                        0.82         0.19            2.27  \n",
       "4                        1.70         0.18            2.12  \n",
       "..                        ...          ...             ...  \n",
       "273                      6.84         0.14            1.62  \n",
       "274                      8.80         0.14            1.75  \n",
       "275                      7.38         0.15            1.81  \n",
       "276                      6.25         0.13            1.49  \n",
       "277                      7.30         0.14            1.79  \n",
       "\n",
       "[278 rows x 17 columns]"
      ]
     },
     "execution_count": 23,
     "metadata": {},
     "output_type": "execute_result"
    }
   ],
   "source": [
    "import pandas as pd\n",
    "url = 'https://data.taipei/api/getDatasetInfo/downloadResource?id=bc83f1a0-2192-4e06-acc2-4d2a0bc9121b&rid=d4ce96ce-a463-40dc-95b2-0c88d81a5427'\n",
    "df = pd.read_csv(url, error_bad_lines=False, encoding='big5')\n",
    "df"
   ]
  },
  {
   "cell_type": "markdown",
   "metadata": {
    "id": "ZzRCB5mvTJ8L"
   },
   "source": [
    "# II. JSON"
   ]
  },
  {
   "cell_type": "markdown",
   "metadata": {
    "id": "687SdJqyLr0H"
   },
   "source": [
    "## Dump and load JSON\n",
    "\n",
    "通常把資料寫到檔案中稱為dump out（或者save、write視程式語言的函式而不同），而把資料從檔案中讀成程式語言所能處理的結構則稱為load（或read）。無論是讀入資料或寫出資料，都要先開啟檔案（如`open('sample.json', 'w')`）。檔案開啟後，才可以將資料寫入。完整的寫法如下：\n",
    "```\n",
    "json.dump(sample_data, open('sample.json', 'w'))\n",
    "```\n",
    "一個更常見的寫法如下，其將開檔後的結果指到一個變項`fout`，藉此把資料dump到檔案中。\n",
    "```\n",
    "with open('sample.json', 'w') as fout:\n",
    "    json.dump(sample_data, fout)\n",
    "```\n",
    "讀取JSON則分讀取字串和直接讀取檔案兩種：\n",
    "* `json.loads(str)`讀取字串：例如像讀取ubike的線上資料，就是先把抓回來的資料轉文字後當成字串讀取入json。\n",
    "* `json.load(f)`直接讀取檔案：例如適才把一個list of dictionary存成json後，可以用`json.load(f)`讀成python的list of dictionary"
   ]
  },
  {
   "cell_type": "code",
   "execution_count": null,
   "metadata": {
    "ExecuteTime": {
     "end_time": "2020-03-14T12:37:27.931461Z",
     "start_time": "2020-03-14T12:37:27.926162Z"
    },
    "id": "OSSAs3ZXGl7o"
   },
   "outputs": [],
   "source": [
    "## dump out\n",
    "import json\n",
    "sample_data = [{\"site\":\"基隆\",\"AQI\":38,\"PM25\":8},\\\n",
    "               {\"site\":\"新店\",\"AQI\":40,\"PM25\":9},\\\n",
    "               {\"site\":\"苗栗\",\"AQI\":76,\"PM25\":11}]\n",
    "json.dump(sample_data, open('sample.json', 'w'))"
   ]
  },
  {
   "cell_type": "code",
   "execution_count": null,
   "metadata": {
    "ExecuteTime": {
     "end_time": "2020-03-14T12:37:39.223967Z",
     "start_time": "2020-03-14T12:37:39.218019Z"
    },
    "colab": {
     "base_uri": "https://localhost:8080/"
    },
    "executionInfo": {
     "elapsed": 638,
     "status": "ok",
     "timestamp": 1615346917391,
     "user": {
      "displayName": "JILUNG",
      "photoUrl": "https://lh3.googleusercontent.com/a-/AOh14Gg6zj7prBu9I41dXrwQwaD6D0pMAipXePNpoU-MZ30=s64",
      "userId": "08765716966079614016"
     },
     "user_tz": -480
    },
    "id": "YPDkqOLwGl7o",
    "outputId": "8fa1a78c-3aef-44fe-e729-5876bd226226"
   },
   "outputs": [
    {
     "data": {
      "text/plain": [
       "[{'AQI': 38, 'PM25': 8, 'site': '基隆'},\n",
       " {'AQI': 40, 'PM25': 9, 'site': '新店'},\n",
       " {'AQI': 76, 'PM25': 11, 'site': '苗栗'}]"
      ]
     },
     "execution_count": 21,
     "metadata": {
      "tags": []
     },
     "output_type": "execute_result"
    }
   ],
   "source": [
    "## load back\n",
    "with open(\"sample.json\", \"r\") as f:\n",
    "    new_data = json.load(f)\n",
    "new_data"
   ]
  },
  {
   "cell_type": "markdown",
   "metadata": {
    "id": "wR2CG1GHGl7o"
   },
   "source": [
    "## Example: Loading json: ubike\n",
    "\n",
    "這個例子載入了台北市ubike的即時資料，該資料以JSON格式儲存，但他並非List of dict(s)的型態，而是Dict of dict(s)的型態，在最外面亦多一層Dictionary包裹著資料和回傳是否傳輸成功的確認碼。因此，和一般的例子比較起來，這個例子必須要找到資料的節點，在解出為Python的物件時，也要考慮如何處理資料中兩層的Dictionary。"
   ]
  },
  {
   "cell_type": "markdown",
   "metadata": {
    "id": "dtah5k-IGl7p"
   },
   "source": [
    "### Step 1. requests to get data from internet\n",
    "在以下的程式碼中，我用`requests`這個套件發出一個`get()`要求，然後我嘗試列印出一些該要求的回傳資料，以確認我成功地獲得我要求的資料。"
   ]
  },
  {
   "cell_type": "code",
   "execution_count": 10,
   "metadata": {
    "ExecuteTime": {
     "end_time": "2020-03-14T14:59:15.035249Z",
     "start_time": "2020-03-14T14:59:13.983694Z"
    },
    "colab": {
     "base_uri": "https://localhost:8080/"
    },
    "executionInfo": {
     "elapsed": 2555,
     "status": "ok",
     "timestamp": 1615347035433,
     "user": {
      "displayName": "JILUNG",
      "photoUrl": "https://lh3.googleusercontent.com/a-/AOh14Gg6zj7prBu9I41dXrwQwaD6D0pMAipXePNpoU-MZ30=s64",
      "userId": "08765716966079614016"
     },
     "user_tz": -480
    },
    "id": "434LY8skGl7p",
    "outputId": "7cf8692c-e2cb-47ca-fb3b-4612781d20db"
   },
   "outputs": [
    {
     "name": "stdout",
     "output_type": "stream",
     "text": [
      "<Response [200]>\n",
      "200\n",
      "{'Content-Length': '32913', 'Content-Type': 'application/octet-stream', 'Content-Encoding': 'gzip', 'Content-MD5': 'LsbVQohQ3899oz+25ehxdA==', 'Last-Modified': 'Sun, 21 Mar 2021 10:47:01 GMT', 'ETag': '0x8D8EC56A877BF83', 'Server': 'Windows-Azure-Blob/1.0 Microsoft-HTTPAPI/2.0', 'x-ms-request-id': '1e6f1b05-e01e-009b-723f-1e77eb000000', 'x-ms-version': '2009-09-19', 'x-ms-lease-status': 'unlocked', 'x-ms-blob-type': 'BlockBlob', 'Access-Control-Allow-Origin': '*', 'Date': 'Sun, 21 Mar 2021 10:47:56 GMT'}\n",
      "<class 'requests.models.Response'>\n",
      "<class 'str'>\n"
     ]
    }
   ],
   "source": [
    "import requests\n",
    "import json\n",
    "response = requests.get('https://tcgbusfs.blob.core.windows.net/blobyoubike/YouBikeTP.gz')\n",
    "print(response)\n",
    "print(response.status_code)\n",
    "print(response.headers)\n",
    "print(type(response)) # <class 'requests.models.Response'>\n",
    "print(type(response.text)) # <class 'str'>"
   ]
  },
  {
   "cell_type": "markdown",
   "metadata": {
    "id": "0mbL97lFGl7p"
   },
   "source": [
    "把前500個字元印出來可以看到這裡面只有大括號，而且在資料（`retVal`所對應到的那個大括號）外面還有一層，也就是`retCode`和`retVal`所在的那一層大括號。"
   ]
  },
  {
   "cell_type": "code",
   "execution_count": null,
   "metadata": {
    "ExecuteTime": {
     "end_time": "2020-03-14T15:00:16.919359Z",
     "start_time": "2020-03-14T15:00:16.004128Z"
    },
    "id": "PDiDzoZ0Gl7p",
    "outputId": "2d83326b-2e28-4637-f5e5-26bed51687f3"
   },
   "outputs": [
    {
     "data": {
      "text/plain": [
       "'{\"retCode\":1,\"retVal\":{\"0001\":{\"sno\": \"0001\", \"sna\": \"捷運市政府站(3號出口)\", \"tot\": \"180\", \"sbi\": \"46\", \"sarea\": \"信義區\", \"mday\": \"20200314225731\", \"lat\": \"25.0408578889\", \"lng\": \"121.567904444\", \"ar\": \"忠孝東路/松仁路(東南側)\", \"sareaen\": \"Xinyi Dist.\", \"snaen\": \"MRT Taipei City Hall Stataion(Exit 3)-2\", \"aren\": \"The S.W. side of Road Zhongxiao East Road & Road Chung Yan.\", \"bemp\": \"132\", \"act\": \"1\"},\"0002\":{\"sno\": \"0002\", \"sna\": \"捷運國父紀念館站(2號出口)\", \"tot\": \"48\", \"sbi\": \"29\", \"sarea\": \"大安區\", \"mday\": \"20200314225728\",'"
      ]
     },
     "execution_count": 56,
     "metadata": {
      "tags": []
     },
     "output_type": "execute_result"
    }
   ],
   "source": [
    "response.text[:500]"
   ]
  },
  {
   "cell_type": "markdown",
   "metadata": {
    "id": "4NGBgoiJGl7p"
   },
   "source": [
    "### Step 2. Convert json text to python objects"
   ]
  },
  {
   "cell_type": "code",
   "execution_count": 11,
   "metadata": {
    "ExecuteTime": {
     "end_time": "2020-03-14T15:01:20.974966Z",
     "start_time": "2020-03-14T15:01:20.059094Z"
    },
    "colab": {
     "base_uri": "https://localhost:8080/"
    },
    "executionInfo": {
     "elapsed": 1355,
     "status": "ok",
     "timestamp": 1615347372387,
     "user": {
      "displayName": "JILUNG",
      "photoUrl": "https://lh3.googleusercontent.com/a-/AOh14Gg6zj7prBu9I41dXrwQwaD6D0pMAipXePNpoU-MZ30=s64",
      "userId": "08765716966079614016"
     },
     "user_tz": -480
    },
    "id": "1m8HvG5nGl7q",
    "outputId": "97b9dd52-75c5-4dc3-92c8-4a6c0c663a4f"
   },
   "outputs": [
    {
     "name": "stdout",
     "output_type": "stream",
     "text": [
      "<class 'dict'>\n",
      "<class 'dict'>\n",
      "<class 'int'>\n",
      "400\n"
     ]
    }
   ],
   "source": [
    "json_obj = json.loads(response.text)\n",
    "print(type(json_obj))\n",
    "print(type(json_obj[\"retVal\"]))\n",
    "print(type(json_obj[\"retCode\"]))\n",
    "print(len(json_obj[\"retVal\"]))"
   ]
  },
  {
   "cell_type": "markdown",
   "metadata": {
    "id": "BIwGjy5gGl7q"
   },
   "source": [
    "## Trial: Load youbike json by pandas\n",
    "\n",
    "如果要載入的JSON資料檔是表述為**a List of dict**，那麼pandas套件有函式可以將JSON字串轉為data frame。可以從以下的stackoverflow網站找到類似的函式。但如果資料並非典型List of dict的型態，那麼被解出來的資料常不會是所預期的List of dictionary的型態。不過，總之JSON解析後所轉成的Python物件必然是\n",
    "https://stackoverflow.com/questions/20638006/convert-list-of-dictionaries-to-dataframe"
   ]
  },
  {
   "cell_type": "code",
   "execution_count": null,
   "metadata": {
    "ExecuteTime": {
     "end_time": "2020-03-14T12:57:54.422264Z",
     "start_time": "2020-03-14T12:57:54.408017Z"
    },
    "colab": {
     "base_uri": "https://localhost:8080/",
     "height": 1000
    },
    "executionInfo": {
     "elapsed": 765,
     "status": "ok",
     "timestamp": 1615347614672,
     "user": {
      "displayName": "JILUNG",
      "photoUrl": "https://lh3.googleusercontent.com/a-/AOh14Gg6zj7prBu9I41dXrwQwaD6D0pMAipXePNpoU-MZ30=s64",
      "userId": "08765716966079614016"
     },
     "user_tz": -480
    },
    "id": "NCcz6z4RGl7q",
    "outputId": "da5fb77e-4204-461c-cbba-c0384d275dd4"
   },
   "outputs": [
    {
     "data": {
      "text/html": [
       "<div>\n",
       "<style scoped>\n",
       "    .dataframe tbody tr th:only-of-type {\n",
       "        vertical-align: middle;\n",
       "    }\n",
       "\n",
       "    .dataframe tbody tr th {\n",
       "        vertical-align: top;\n",
       "    }\n",
       "\n",
       "    .dataframe thead th {\n",
       "        text-align: right;\n",
       "    }\n",
       "</style>\n",
       "<table border=\"1\" class=\"dataframe\">\n",
       "  <thead>\n",
       "    <tr style=\"text-align: right;\">\n",
       "      <th></th>\n",
       "      <th>sno</th>\n",
       "      <th>sna</th>\n",
       "      <th>tot</th>\n",
       "      <th>sbi</th>\n",
       "      <th>sarea</th>\n",
       "      <th>mday</th>\n",
       "      <th>lat</th>\n",
       "      <th>lng</th>\n",
       "      <th>ar</th>\n",
       "      <th>sareaen</th>\n",
       "      <th>snaen</th>\n",
       "      <th>aren</th>\n",
       "      <th>bemp</th>\n",
       "      <th>act</th>\n",
       "    </tr>\n",
       "  </thead>\n",
       "  <tbody>\n",
       "    <tr>\n",
       "      <th>0001</th>\n",
       "      <td>0001</td>\n",
       "      <td>捷運市政府站(3號出口)</td>\n",
       "      <td>180</td>\n",
       "      <td>14</td>\n",
       "      <td>信義區</td>\n",
       "      <td>20210310112836</td>\n",
       "      <td>25.0408578889</td>\n",
       "      <td>121.567904444</td>\n",
       "      <td>忠孝東路/松仁路(東南側)</td>\n",
       "      <td>Xinyi Dist.</td>\n",
       "      <td>MRT Taipei City Hall Stataion(Exit 3)-2</td>\n",
       "      <td>The S.W. side of Road Zhongxiao East Road &amp; Ro...</td>\n",
       "      <td>164</td>\n",
       "      <td>1</td>\n",
       "    </tr>\n",
       "    <tr>\n",
       "      <th>0002</th>\n",
       "      <td>0002</td>\n",
       "      <td>捷運國父紀念館站(2號出口)</td>\n",
       "      <td>48</td>\n",
       "      <td>8</td>\n",
       "      <td>大安區</td>\n",
       "      <td>20210310112839</td>\n",
       "      <td>25.041254</td>\n",
       "      <td>121.55742</td>\n",
       "      <td>忠孝東路四段/光復南路口(西南側)</td>\n",
       "      <td>Daan Dist.</td>\n",
       "      <td>MRT S.Y.S Memorial Hall Stataion(Exit 2.)</td>\n",
       "      <td>Sec,4. Zhongxiao E.Rd/GuangFu S. Rd</td>\n",
       "      <td>38</td>\n",
       "      <td>1</td>\n",
       "    </tr>\n",
       "    <tr>\n",
       "      <th>0003</th>\n",
       "      <td>0003</td>\n",
       "      <td>台北市政府</td>\n",
       "      <td>40</td>\n",
       "      <td>12</td>\n",
       "      <td>信義區</td>\n",
       "      <td>20210310112828</td>\n",
       "      <td>25.0377972222</td>\n",
       "      <td>121.565169444</td>\n",
       "      <td>台北市政府東門(松智路) (鄰近信義商圈/台北探索館)</td>\n",
       "      <td>Xinyi Dist.</td>\n",
       "      <td>Taipei City Hall</td>\n",
       "      <td>Taipei City Government Eastgate (Song Zhi Road)</td>\n",
       "      <td>28</td>\n",
       "      <td>1</td>\n",
       "    </tr>\n",
       "    <tr>\n",
       "      <th>0004</th>\n",
       "      <td>0004</td>\n",
       "      <td>市民廣場</td>\n",
       "      <td>60</td>\n",
       "      <td>17</td>\n",
       "      <td>信義區</td>\n",
       "      <td>20210310112819</td>\n",
       "      <td>25.0360361111</td>\n",
       "      <td>121.562325</td>\n",
       "      <td>市府路/松壽路(西北側)(鄰近台北101/台北世界貿易中心/台北探索館)</td>\n",
       "      <td>Xinyi Dist.</td>\n",
       "      <td>Citizen Square</td>\n",
       "      <td>The N.W. side of Road Shifu &amp; Road Song Shou.</td>\n",
       "      <td>43</td>\n",
       "      <td>1</td>\n",
       "    </tr>\n",
       "    <tr>\n",
       "      <th>0005</th>\n",
       "      <td>0005</td>\n",
       "      <td>興雅國中</td>\n",
       "      <td>60</td>\n",
       "      <td>10</td>\n",
       "      <td>信義區</td>\n",
       "      <td>20210310112818</td>\n",
       "      <td>25.0365638889</td>\n",
       "      <td>121.5686639</td>\n",
       "      <td>松仁路/松仁路95巷(東南側)(鄰近信義商圈/台北信義威秀影城)</td>\n",
       "      <td>Xinyi Dist.</td>\n",
       "      <td>Xingya Jr. High School</td>\n",
       "      <td>The S.E. side of Road Songren &amp; Ln. 95, Songre...</td>\n",
       "      <td>50</td>\n",
       "      <td>1</td>\n",
       "    </tr>\n",
       "  </tbody>\n",
       "</table>\n",
       "</div>"
      ],
      "text/plain": [
       "       sno             sna  ... bemp act\n",
       "0001  0001    捷運市政府站(3號出口)  ...  164   1\n",
       "0002  0002  捷運國父紀念館站(2號出口)  ...   38   1\n",
       "0003  0003           台北市政府  ...   28   1\n",
       "0004  0004            市民廣場  ...   43   1\n",
       "0005  0005            興雅國中  ...   50   1\n",
       "\n",
       "[5 rows x 14 columns]"
      ]
     },
     "execution_count": 33,
     "metadata": {
      "tags": []
     },
     "output_type": "execute_result"
    }
   ],
   "source": [
    "import pandas as pd\n",
    "# df = pd.DataFrame(json_obj)\n",
    "# df = pd.DataFrame(json_obj['retVal'])\n",
    "df = pd.DataFrame.from_dict(json_obj['retVal'], orient='index')\n",
    "df.head()"
   ]
  },
  {
   "cell_type": "markdown",
   "metadata": {
    "id": "IAYhbKpBGl7q"
   },
   "source": [
    "# III. Converting data structure"
   ]
  },
  {
   "cell_type": "markdown",
   "metadata": {
    "id": "wd7HkElOPAm6"
   },
   "source": [
    "## Coverting to typical JSON\n",
    "\n",
    "現在我嘗試要把Dictionary of dictionry的資料整理為List of dictionary的型態。要這麼做並不難，我只需要把所有內層的dictionary取出來，一一`append()`到一個空的List即可。最後，我把這樣的結構用`pd.DataFrame()`轉為一個pandas的Data frame。"
   ]
  },
  {
   "cell_type": "code",
   "execution_count": 13,
   "metadata": {
    "ExecuteTime": {
     "end_time": "2020-03-14T15:03:37.122538Z",
     "start_time": "2020-03-14T15:03:37.113424Z"
    },
    "id": "XGMH1sz6Gl7q"
   },
   "outputs": [
    {
     "data": {
      "text/html": [
       "<div>\n",
       "<style scoped>\n",
       "    .dataframe tbody tr th:only-of-type {\n",
       "        vertical-align: middle;\n",
       "    }\n",
       "\n",
       "    .dataframe tbody tr th {\n",
       "        vertical-align: top;\n",
       "    }\n",
       "\n",
       "    .dataframe thead th {\n",
       "        text-align: right;\n",
       "    }\n",
       "</style>\n",
       "<table border=\"1\" class=\"dataframe\">\n",
       "  <thead>\n",
       "    <tr style=\"text-align: right;\">\n",
       "      <th></th>\n",
       "      <th>sno</th>\n",
       "      <th>sna</th>\n",
       "      <th>tot</th>\n",
       "      <th>sbi</th>\n",
       "      <th>sarea</th>\n",
       "      <th>mday</th>\n",
       "      <th>lat</th>\n",
       "      <th>lng</th>\n",
       "      <th>ar</th>\n",
       "      <th>sareaen</th>\n",
       "      <th>snaen</th>\n",
       "      <th>aren</th>\n",
       "      <th>bemp</th>\n",
       "      <th>act</th>\n",
       "    </tr>\n",
       "  </thead>\n",
       "  <tbody>\n",
       "    <tr>\n",
       "      <th>0</th>\n",
       "      <td>0001</td>\n",
       "      <td>捷運市政府站(3號出口)</td>\n",
       "      <td>180</td>\n",
       "      <td>135</td>\n",
       "      <td>信義區</td>\n",
       "      <td>20210321184423</td>\n",
       "      <td>25.0408578889</td>\n",
       "      <td>121.567904444</td>\n",
       "      <td>忠孝東路/松仁路(東南側)</td>\n",
       "      <td>Xinyi Dist.</td>\n",
       "      <td>MRT Taipei City Hall Stataion(Exit 3)-2</td>\n",
       "      <td>The S.W. side of Road Zhongxiao East Road &amp; Ro...</td>\n",
       "      <td>44</td>\n",
       "      <td>1</td>\n",
       "    </tr>\n",
       "    <tr>\n",
       "      <th>1</th>\n",
       "      <td>0002</td>\n",
       "      <td>捷運國父紀念館站(2號出口)</td>\n",
       "      <td>48</td>\n",
       "      <td>37</td>\n",
       "      <td>大安區</td>\n",
       "      <td>20210321184518</td>\n",
       "      <td>25.041254</td>\n",
       "      <td>121.55742</td>\n",
       "      <td>忠孝東路四段/光復南路口(西南側)</td>\n",
       "      <td>Daan Dist.</td>\n",
       "      <td>MRT S.Y.S Memorial Hall Stataion(Exit 2.)</td>\n",
       "      <td>Sec,4. Zhongxiao E.Rd/GuangFu S. Rd</td>\n",
       "      <td>11</td>\n",
       "      <td>1</td>\n",
       "    </tr>\n",
       "    <tr>\n",
       "      <th>2</th>\n",
       "      <td>0003</td>\n",
       "      <td>台北市政府</td>\n",
       "      <td>40</td>\n",
       "      <td>23</td>\n",
       "      <td>信義區</td>\n",
       "      <td>20210321184540</td>\n",
       "      <td>25.0377972222</td>\n",
       "      <td>121.565169444</td>\n",
       "      <td>台北市政府東門(松智路) (鄰近信義商圈/台北探索館)</td>\n",
       "      <td>Xinyi Dist.</td>\n",
       "      <td>Taipei City Hall</td>\n",
       "      <td>Taipei City Government Eastgate (Song Zhi Road)</td>\n",
       "      <td>8</td>\n",
       "      <td>1</td>\n",
       "    </tr>\n",
       "    <tr>\n",
       "      <th>3</th>\n",
       "      <td>0004</td>\n",
       "      <td>市民廣場</td>\n",
       "      <td>60</td>\n",
       "      <td>29</td>\n",
       "      <td>信義區</td>\n",
       "      <td>20210321184532</td>\n",
       "      <td>25.0360361111</td>\n",
       "      <td>121.562325</td>\n",
       "      <td>市府路/松壽路(西北側)(鄰近台北101/台北世界貿易中心/台北探索館)</td>\n",
       "      <td>Xinyi Dist.</td>\n",
       "      <td>Citizen Square</td>\n",
       "      <td>The N.W. side of Road Shifu &amp; Road Song Shou.</td>\n",
       "      <td>31</td>\n",
       "      <td>1</td>\n",
       "    </tr>\n",
       "    <tr>\n",
       "      <th>4</th>\n",
       "      <td>0005</td>\n",
       "      <td>興雅國中</td>\n",
       "      <td>60</td>\n",
       "      <td>16</td>\n",
       "      <td>信義區</td>\n",
       "      <td>20210321184524</td>\n",
       "      <td>25.0365638889</td>\n",
       "      <td>121.5686639</td>\n",
       "      <td>松仁路/松仁路95巷(東南側)(鄰近信義商圈/台北信義威秀影城)</td>\n",
       "      <td>Xinyi Dist.</td>\n",
       "      <td>Xingya Jr. High School</td>\n",
       "      <td>The S.E. side of Road Songren &amp; Ln. 95, Songre...</td>\n",
       "      <td>43</td>\n",
       "      <td>1</td>\n",
       "    </tr>\n",
       "  </tbody>\n",
       "</table>\n",
       "</div>"
      ],
      "text/plain": [
       "    sno             sna  tot  sbi sarea            mday            lat  \\\n",
       "0  0001    捷運市政府站(3號出口)  180  135   信義區  20210321184423  25.0408578889   \n",
       "1  0002  捷運國父紀念館站(2號出口)   48   37   大安區  20210321184518      25.041254   \n",
       "2  0003           台北市政府   40   23   信義區  20210321184540  25.0377972222   \n",
       "3  0004            市民廣場   60   29   信義區  20210321184532  25.0360361111   \n",
       "4  0005            興雅國中   60   16   信義區  20210321184524  25.0365638889   \n",
       "\n",
       "             lng                                    ar      sareaen  \\\n",
       "0  121.567904444                         忠孝東路/松仁路(東南側)  Xinyi Dist.   \n",
       "1      121.55742                     忠孝東路四段/光復南路口(西南側)   Daan Dist.   \n",
       "2  121.565169444           台北市政府東門(松智路) (鄰近信義商圈/台北探索館)  Xinyi Dist.   \n",
       "3     121.562325  市府路/松壽路(西北側)(鄰近台北101/台北世界貿易中心/台北探索館)  Xinyi Dist.   \n",
       "4    121.5686639      松仁路/松仁路95巷(東南側)(鄰近信義商圈/台北信義威秀影城)  Xinyi Dist.   \n",
       "\n",
       "                                       snaen  \\\n",
       "0    MRT Taipei City Hall Stataion(Exit 3)-2   \n",
       "1  MRT S.Y.S Memorial Hall Stataion(Exit 2.)   \n",
       "2                           Taipei City Hall   \n",
       "3                             Citizen Square   \n",
       "4                     Xingya Jr. High School   \n",
       "\n",
       "                                                aren bemp act  \n",
       "0  The S.W. side of Road Zhongxiao East Road & Ro...   44   1  \n",
       "1                Sec,4. Zhongxiao E.Rd/GuangFu S. Rd   11   1  \n",
       "2    Taipei City Government Eastgate (Song Zhi Road)    8   1  \n",
       "3      The N.W. side of Road Shifu & Road Song Shou.   31   1  \n",
       "4  The S.E. side of Road Songren & Ln. 95, Songre...   43   1  "
      ]
     },
     "execution_count": 13,
     "metadata": {},
     "output_type": "execute_result"
    }
   ],
   "source": [
    "import pandas as pd\n",
    "\n",
    "all_list = []\n",
    "for k, v in json_obj[\"retVal\"].items():\n",
    "    all_list.append(v)\n",
    "    \n",
    "## convert a list of dictionries to a data frame\n",
    "df = pd.DataFrame(all_list)\n",
    "df.head()"
   ]
  },
  {
   "cell_type": "markdown",
   "metadata": {
    "id": "wLtGa1AnGl7r"
   },
   "source": [
    "## Converting csv to json\n",
    "\n",
    "現在我想做的是，假設我有一個檔案是CSV檔，但我希望用手動方式把它改為JSON檔，要怎麼做？做法其實就是先把CSV第一列取出來儲存為Key，然後把這個Key一一和每一列的值給對應起來結合成一個又一個的Dictionary，最後把每列所產生的Dictionary用`append()`加入一個List中，就會是一個List of dictionaries結構的JSON格式。\n",
    "* https://stackoverflow.com/questions/17912307/u-ufeff-in-python-string"
   ]
  },
  {
   "cell_type": "code",
   "execution_count": null,
   "metadata": {
    "colab": {
     "base_uri": "https://localhost:8080/"
    },
    "executionInfo": {
     "elapsed": 739,
     "status": "ok",
     "timestamp": 1615347887203,
     "user": {
      "displayName": "JILUNG",
      "photoUrl": "https://lh3.googleusercontent.com/a-/AOh14Gg6zj7prBu9I41dXrwQwaD6D0pMAipXePNpoU-MZ30=s64",
      "userId": "08765716966079614016"
     },
     "user_tz": -480
    },
    "id": "0fV9ExH3Gl7r",
    "outputId": "b60efd2d-4440-4fb8-8d46-d2ce37ca7195"
   },
   "outputs": [
    {
     "name": "stdout",
     "output_type": "stream",
     "text": [
      "\"Yahoo！奇摩拍賣\"\n",
      "['\"《現貨》日本熱銷 超人氣SS製藥 痘痘乳膏\"', '\"Y7868533113/鍾青砡\"', '\"\"', '\"08 15 2017 12:00AM\"', '\"\"', '\"無照藥商\"', '\"02 3 2017 12:00AM\"', '\"網路\"', '\"Yahoo！奇摩拍賣\"', '\"相關案件已處分\"']\n"
     ]
    }
   ],
   "source": [
    "all_list = []\n",
    "with open(fin_path, \"r\", encoding=\"utf-8-sig\") as f:\n",
    "    for line in f.read().split(\"\\n\"):\n",
    "        row = line.split(\",\")\n",
    "        all_list.append(row)\n",
    "#         print(len(row))\n",
    "print(all_list[1][-2])\n",
    "print(all_list[1])\n",
    "\n",
    "keys = all_list[0]"
   ]
  },
  {
   "cell_type": "code",
   "execution_count": null,
   "metadata": {
    "colab": {
     "base_uri": "https://localhost:8080/"
    },
    "executionInfo": {
     "elapsed": 642,
     "status": "ok",
     "timestamp": 1615347904665,
     "user": {
      "displayName": "JILUNG",
      "photoUrl": "https://lh3.googleusercontent.com/a-/AOh14Gg6zj7prBu9I41dXrwQwaD6D0pMAipXePNpoU-MZ30=s64",
      "userId": "08765716966079614016"
     },
     "user_tz": -480
    },
    "id": "gBbNlNBXGl7s",
    "outputId": "48644897-c5d7-43c0-aa7e-9fe2763ec876"
   },
   "outputs": [
    {
     "data": {
      "text/plain": [
       "[{'刊播媒體': '\"Yahoo！奇摩拍賣\"',\n",
       "  '刊播媒體類別': '\"網路\"',\n",
       "  '刊播日期': '\"02 3 2017 12:00AM\"',\n",
       "  '查處情形': '\"相關案件已處分\"',\n",
       "  '處分日期': '\"08 15 2017 12:00AM\"',\n",
       "  '處分機關': '\"\"',\n",
       "  '處分法條': '\"\"',\n",
       "  '違規廠商名稱或負責人': '\"Y7868533113/鍾青砡\"',\n",
       "  '違規情節': '\"無照藥商\"',\n",
       "  '違規產品名稱': '\"《現貨》日本熱銷 超人氣SS製藥 痘痘乳膏\"'},\n",
       " {'刊播媒體': '\"Yahoo！奇摩拍賣\"',\n",
       "  '刊播媒體類別': '\"網路\"',\n",
       "  '刊播日期': '\"02 3 2017 12:00AM\"',\n",
       "  '查處情形': '\"相關案件已處分\"',\n",
       "  '處分日期': '\"08 15 2017 12:00AM\"',\n",
       "  '處分機關': '\"\"',\n",
       "  '處分法條': '\"\"',\n",
       "  '違規廠商名稱或負責人': '\"Y9159169900/鍾青砡\"',\n",
       "  '違規情節': '\"無照藥商\"',\n",
       "  '違規產品名稱': '\"《現貨》大正漢方腸胃藥 60錠\"'},\n",
       " {'刊播媒體': '\"Yahoo！奇摩拍賣\"',\n",
       "  '刊播媒體類別': '\"網路\"',\n",
       "  '刊播日期': '\"02 3 2017 12:00AM\"',\n",
       "  '查處情形': '\"相關案件已處分\"',\n",
       "  '處分日期': '\"08 15 2017 12:00AM\"',\n",
       "  '處分機關': '\"\"',\n",
       "  '處分法條': '\"\"',\n",
       "  '違規廠商名稱或負責人': '\"Y9159169900/鍾青砡\"',\n",
       "  '違規情節': '\"無照藥商\"',\n",
       "  '違規產品名稱': '\"《現貨》日本熱銷 超人氣SS製藥 痘痘乳膏\"'}]"
      ]
     },
     "execution_count": 42,
     "metadata": {
      "tags": []
     },
     "output_type": "execute_result"
    }
   ],
   "source": [
    "json_list = []\n",
    "for row in all_list[1:]:\n",
    "    temp_dict = dict(zip(keys, row))\n",
    "    json_list.append(temp_dict)\n",
    "json_list[:3]"
   ]
  }
 ],
 "metadata": {
  "colab": {
   "collapsed_sections": [],
   "name": "P05_read_csv_json.ipynb",
   "provenance": [
    {
     "file_id": "1JVorXfUiLWA5pkLFiTGPChD9PdxhySq8",
     "timestamp": 1616037915685
    }
   ],
   "toc_visible": true
  },
  "kernelspec": {
   "display_name": "Python 3 (ipykernel)",
   "language": "python",
   "name": "python3"
  },
  "language_info": {
   "codemirror_mode": {
    "name": "ipython",
    "version": 3
   },
   "file_extension": ".py",
   "mimetype": "text/x-python",
   "name": "python",
   "nbconvert_exporter": "python",
   "pygments_lexer": "ipython3",
   "version": "3.8.12"
  },
  "toc": {
   "base_numbering": 1,
   "nav_menu": {},
   "number_sections": true,
   "sideBar": true,
   "skip_h1_title": false,
   "title_cell": "Table of Contents",
   "title_sidebar": "Contents",
   "toc_cell": false,
   "toc_position": {},
   "toc_section_display": true,
   "toc_window_display": true
  },
  "toc-autonumbering": false,
  "toc-showcode": false,
  "toc-showmarkdowntxt": false,
  "toc-showtags": false
 },
 "nbformat": 4,
 "nbformat_minor": 4
}
