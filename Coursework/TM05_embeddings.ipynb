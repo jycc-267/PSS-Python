{
 "cells": [
  {
   "cell_type": "markdown",
   "metadata": {},
   "source": [
    "# Word Embeddings"
   ]
  },
  {
   "cell_type": "markdown",
   "metadata": {},
   "source": [
    "## Load Pre-trained Word Embeddings\n",
    "\n",
    "- Load the pre-trained FastText word embedding provided by Facebook. \n",
    "- https://github.com/facebookresearch/fastText/blob/master/pretrained-vectors.md\n",
    "- This version only contains top 5000 words. "
   ]
  },
  {
   "cell_type": "code",
   "execution_count": 1,
   "metadata": {},
   "outputs": [
    {
     "name": "stdout",
     "output_type": "stream",
     "text": [
      "<class 'gensim.models.keyedvectors.Word2VecKeyedVectors'>\n",
      "Number of words: 5000\n"
     ]
    }
   ],
   "source": [
    "# %pip install gensim\n",
    "from gensim.models import KeyedVectors\n",
    "\n",
    "# 載入 word embedding model w2v\n",
    "w2v = KeyedVectors.load_word2vec_format(\"data/wiki.en.5k.vec\", binary=False)\n",
    "print(type(w2v))\n",
    "print(\"Number of words: %d\" % len(w2v.vocab))"
   ]
  },
  {
   "cell_type": "markdown",
   "metadata": {},
   "source": [
    "# Word representation"
   ]
  },
  {
   "cell_type": "code",
   "execution_count": 2,
   "metadata": {},
   "outputs": [
    {
     "name": "stdout",
     "output_type": "stream",
     "text": [
      "(300,)\n",
      "[-3.7518e-01  2.9000e-01 -2.3914e-02  2.1455e-01 -5.8593e-02  4.8193e-02\n",
      "  3.1506e-01 -3.9259e-02 -2.7525e-02  5.3540e-01 -2.8230e-01  5.6714e-01\n",
      "  9.3813e-02  9.2664e-02  4.8761e-02 -9.4374e-02  8.4925e-02 -1.9372e-01\n",
      "  6.5348e-01  1.5214e-02 -3.3648e-01 -8.8303e-02 -3.8034e-01 -3.2440e-01\n",
      " -9.3732e-02 -1.5610e-01 -4.6248e-01  1.5584e-01  3.2326e-01  5.3039e-02\n",
      "  3.7053e-02  2.7317e-01 -7.3461e-01 -9.2249e-02 -1.5369e-01  1.9083e-01\n",
      "  8.6497e-02 -4.5127e-03 -2.0048e-01 -1.9983e-01  6.4252e-02  2.3410e-01\n",
      "  2.8670e-02  1.4806e-01  7.9216e-02  1.4361e-01 -2.4750e-01  8.3084e-02\n",
      " -2.8028e-01  6.8699e-02 -2.1377e-01 -4.2123e-01  3.9940e-01  5.9221e-02\n",
      "  1.2218e-01  2.9633e-01  1.3683e-02  1.3073e-01  5.1317e-02 -1.8742e-01\n",
      "  1.7622e-02 -4.7196e-01  2.8897e-01  1.1879e-01 -1.4669e-01  1.4271e-01\n",
      "  2.8189e-02  3.0163e-01  9.7564e-02 -1.4091e-01 -2.6867e-01  1.5017e-01\n",
      "  2.4055e-01 -2.6390e-01 -4.8686e-01  4.1241e-02  5.6252e-02 -6.4265e-02\n",
      "  1.7506e-01 -1.6706e-02  3.5092e-01  1.8170e-01 -1.1316e-01 -2.1886e-01\n",
      " -7.7267e-02 -1.1362e-01 -8.9897e-02  1.3592e-01  2.6297e-01  1.1650e-01\n",
      "  1.4325e-01  8.5233e-02  5.1829e-01 -1.3349e-01  2.2552e-01  2.1011e-02\n",
      " -1.1172e-02 -2.5199e-01  1.7661e-01  1.5065e-01  2.5251e-01 -7.1947e-02\n",
      "  3.2593e-02  1.6568e-01  2.5434e-02  4.1273e-02 -1.2043e-01  1.9151e-01\n",
      "  1.0916e-01  8.2791e-03  8.0645e-02 -8.6830e-02 -2.9643e-01  6.8512e-02\n",
      "  7.8454e-04 -2.4871e-01 -1.8441e-01 -2.2060e-01 -1.9833e-01  5.9674e-02\n",
      "  9.3457e-02 -5.5328e-03 -9.5403e-02  2.2548e-01 -2.9028e-01  8.7934e-02\n",
      " -1.6711e-01 -1.3500e-01 -1.2626e-01  3.6360e-01  5.8987e-02  4.6902e-01\n",
      " -1.6427e-01 -7.2117e-02  6.7542e-02  4.4139e-02 -1.3377e-01  3.8002e-01\n",
      " -2.3986e-02  6.5441e-01  3.2892e-01 -2.3679e-01  5.2041e-01  7.6816e-03\n",
      " -8.0834e-02  3.9328e-01 -1.5020e-01 -6.0676e-02  1.4013e-01 -3.2665e-02\n",
      "  1.0219e-01 -1.3580e-01 -4.9234e-01 -9.0217e-02 -3.9429e-01 -4.2058e-01\n",
      "  2.4903e-01 -5.0369e-02 -2.0456e-01 -1.5288e-02 -9.1494e-03  7.0333e-02\n",
      " -3.7276e-01  7.3085e-02 -5.6994e-03  1.7425e-02 -1.2920e-02 -2.5098e-01\n",
      "  1.3594e-01  2.0295e-01 -1.2952e-01 -1.7483e-01  1.7298e-01 -5.6901e-01\n",
      "  3.2767e-01  2.6931e-01 -2.4921e-02  2.2960e-01  2.4559e-02 -1.8279e-01\n",
      "  1.9382e-01 -9.9037e-02 -1.2924e-01 -7.9143e-03 -2.9852e-02  1.6518e-01\n",
      " -1.4921e-01 -5.2421e-03  2.6834e-01 -3.3291e-01 -3.4595e-01 -8.1510e-03\n",
      "  6.0822e-04  1.4195e-02 -5.4727e-01 -2.2146e-01  1.2647e-01  2.9175e-01\n",
      " -3.6658e-01  1.5511e-01 -5.2920e-02  4.7585e-01 -1.2488e-01 -9.7357e-02\n",
      "  5.8205e-02 -7.8665e-02 -3.9705e-02  4.9378e-02  4.8005e-01 -8.3775e-02\n",
      "  3.7331e-01 -2.2646e-01  2.0837e-01 -2.7248e-01 -2.4062e-01 -5.8130e-02\n",
      " -1.3064e-02 -3.3357e-01 -6.2673e-02 -1.8591e-01 -9.6532e-03  4.2218e-01\n",
      " -2.0384e-02  9.9136e-03 -1.1158e-01  7.5296e-02 -1.7870e-01 -1.7851e-01\n",
      " -6.4300e-02  1.8369e-02 -1.5820e-01 -2.8940e-01  1.2724e-01 -4.2047e-01\n",
      " -4.5396e-02  9.1702e-02  1.0790e-01  2.0359e-01 -3.4684e-01 -2.3394e-02\n",
      "  3.6144e-01  1.8299e-01  1.6680e-01  8.4126e-02 -3.9069e-01  3.2692e-01\n",
      " -1.4871e-01 -1.2071e-01 -5.4178e-02 -9.7344e-02 -5.7430e-02  3.5128e-02\n",
      " -8.6676e-02 -1.3239e-01 -3.1513e-01  1.9565e-01 -1.9557e-01 -2.6499e-01\n",
      " -1.1598e-01  2.0752e-01  7.7503e-02 -7.4465e-03 -4.2686e-01 -3.3447e-01\n",
      " -3.7755e-01 -2.1960e-01 -1.5877e-01 -9.7486e-03  9.8018e-03 -9.7204e-02\n",
      " -5.1198e-01  4.4550e-02 -1.9534e-01  1.7085e-01 -3.0830e-02 -3.2392e-02\n",
      " -2.2419e-01  3.6188e-01 -9.0711e-02 -3.1420e-01  2.4638e-01 -2.2277e-02\n",
      "  1.9827e-03 -1.6628e-01 -1.5777e-02 -1.6151e-01  1.2346e-01  1.1046e-02\n",
      " -4.3662e-02 -1.0843e-01  1.4185e-01  1.1200e-01  1.6129e-01 -8.9137e-02\n",
      "  1.1626e-01 -1.8159e-02  2.2805e-01 -1.0496e-01  4.2678e-01  1.6460e-01]\n"
     ]
    }
   ],
   "source": [
    "print(w2v[\"fast\"].shape)\n",
    "print(w2v[\"fast\"])"
   ]
  },
  {
   "cell_type": "code",
   "execution_count": 3,
   "metadata": {},
   "outputs": [
    {
     "name": "stdout",
     "output_type": "stream",
     "text": [
      "[ 9.6523e-03  2.9594e-01  8.7192e-02  1.4251e-02 -6.2758e-01  1.4494e-01\n",
      " -3.1512e-04 -4.3654e-01 -1.4803e-01 -3.5733e-01 -2.8666e-01 -1.9130e-01\n",
      "  9.8917e-02 -2.0994e-01  2.0118e-01 -2.8731e-01  1.0561e-01 -4.0479e-03\n",
      "  5.5040e-01  1.7419e-01 -1.5684e-01  2.4033e-01  1.0947e-01 -1.7691e-02\n",
      " -2.8782e-01  5.1930e-01  2.8683e-01  5.9717e-02 -1.8463e-01 -3.3210e-01\n",
      " -3.2824e-01  2.1625e-01 -1.5339e-01  6.8707e-01 -4.2779e-01  1.6954e-01\n",
      "  1.2408e-01 -3.6369e-01  4.0434e-01  4.6514e-01 -6.4378e-01 -2.6312e-01\n",
      "  1.8545e-01  1.6788e-01  1.3870e-01  6.9593e-02 -7.0434e-02 -4.8797e-02\n",
      " -1.1680e-01 -2.6751e-01  2.0893e-01 -3.1818e-01 -1.1809e-01 -7.2132e-02\n",
      " -4.1897e-01  1.0179e-01 -7.4415e-03  3.5534e-01  7.0169e-02  2.5135e-01\n",
      "  1.2294e-01 -9.1569e-02 -4.0842e-02 -2.3755e-01  5.4077e-02 -2.4699e-01\n",
      " -3.5040e-01 -2.5217e-01  1.2314e-01  3.9869e-02  2.5982e-02 -2.6672e-01\n",
      "  6.1487e-02  5.2644e-02 -3.6487e-01  4.8748e-01  5.0030e-01  3.7484e-01\n",
      "  7.6510e-02  1.4107e-01 -1.2549e-01 -3.0338e-02  3.4975e-02 -3.0483e-01\n",
      " -7.8405e-02 -2.6523e-01 -5.2463e-01  5.4873e-01  3.1705e-02  2.7283e-01\n",
      "  1.8115e-01 -2.1256e-01  2.9584e-01 -1.8590e-01  1.0925e-01  1.8754e-02\n",
      " -5.8304e-01  1.2989e-01 -1.5034e-02 -3.6848e-01  1.4093e-01  1.8796e-01\n",
      "  3.3456e-01 -2.6100e-01 -4.1059e-01  7.0917e-02 -1.1608e-01  3.0808e-01\n",
      "  2.4176e-01  6.4659e-02  8.0909e-03 -2.4954e-01  6.0331e-01 -1.1735e-01\n",
      "  1.5585e-01 -7.4365e-02 -2.3927e-01 -2.0352e-01  2.9225e-01 -2.0683e-01\n",
      "  2.5730e-01 -2.2697e-01 -1.3582e-01  1.2365e-01  5.1500e-01 -3.8673e-02\n",
      " -3.2073e-02 -1.1763e-01 -2.4624e-01 -2.1793e-01  2.1019e-01  4.9852e-02\n",
      "  2.0812e-01 -4.9074e-02  2.1422e-01  2.8391e-01 -2.3564e-01 -1.1722e-01\n",
      " -5.1890e-02  5.0016e-01  1.3438e-01 -1.2130e-02 -1.0971e-01  4.4193e-01\n",
      "  6.6878e-02  3.7237e-01  5.0562e-01 -3.0633e-02  2.7693e-01  3.3441e-01\n",
      "  4.7540e-02 -1.1416e-01 -3.1516e-01  2.9750e-02 -2.7162e-01  1.0309e-01\n",
      "  1.0878e-02 -2.8785e-01  9.3577e-02  2.4536e-01  4.5684e-01  1.6401e-01\n",
      " -3.3714e-01  1.7897e-01  7.0318e-01  4.0167e-02 -5.5359e-02  2.6282e-02\n",
      "  4.7133e-01  3.2762e-01  8.4115e-03 -1.1981e-01 -2.3564e-01 -7.5251e-02\n",
      "  2.5871e-01 -5.9482e-01 -2.5007e-02 -2.1002e-02  3.5705e-01  4.4600e-01\n",
      " -2.6596e-02  5.4596e-03  8.3103e-02 -1.6966e-01  2.0050e-01  4.2837e-02\n",
      "  1.3175e-01 -2.6859e-01  2.3041e-01 -8.2292e-02 -6.7622e-01 -4.4203e-01\n",
      "  2.6781e-01  4.6220e-01 -3.0663e-01 -2.0500e-01  1.4135e-01 -1.8173e-01\n",
      " -4.2665e-01  6.3585e-02  4.4941e-01 -1.0760e-01 -7.5692e-02 -1.2512e-01\n",
      "  3.7174e-01 -5.4252e-01 -1.0888e-01  9.3425e-02  6.7205e-01  3.5517e-01\n",
      "  3.3639e-01 -3.0976e-01  4.5757e-02 -3.8399e-01  5.1915e-02 -3.6973e-01\n",
      "  2.6851e-01 -3.0026e-01 -4.2189e-01  1.0450e-01 -1.5941e-01 -3.9549e-01\n",
      "  2.0662e-01 -7.3999e-02  1.7181e-01 -3.6790e-01 -5.5208e-01 -3.1249e-01\n",
      " -1.7508e-01 -1.6667e-01 -1.4078e-01 -2.5917e-02 -7.5833e-02  2.5673e-01\n",
      "  5.8753e-01 -1.7433e-01  5.6877e-02 -5.6656e-01 -3.0349e-01  5.0024e-02\n",
      "  5.6558e-02  1.4802e-01 -3.7620e-02 -2.2353e-02  1.3057e-01 -8.4798e-03\n",
      "  8.5063e-02  2.7326e-01 -2.1357e-01  2.7458e-01  5.2926e-01 -2.8615e-01\n",
      "  6.3463e-02 -9.7928e-02  3.5179e-01  5.7411e-01 -1.5099e-01 -3.8597e-01\n",
      "  5.1694e-01  2.2451e-01 -5.3734e-02 -1.2494e-01  1.7291e-01 -6.3553e-01\n",
      " -5.0112e-01 -4.3920e-01  2.9727e-01  2.4375e-01  1.2061e-01 -2.1322e-01\n",
      "  1.4090e-01  6.6010e-02 -6.6503e-02 -3.1777e-01 -1.1134e-01 -1.4056e-01\n",
      " -3.0090e-01  3.1443e-01  2.3985e-01  4.8350e-02  1.1584e-01 -3.4514e-02\n",
      "  5.1891e-02 -1.1821e-01  3.3497e-01  2.5008e-01 -7.3015e-02 -1.2232e-01\n",
      " -2.5211e-01  4.0237e-01 -3.9002e-01 -1.5639e-01 -2.0981e-01 -1.4468e-02\n",
      "  5.4258e-03 -1.1084e-01 -2.0970e-01 -2.8378e-01 -2.2145e-02 -2.5031e-01]\n"
     ]
    }
   ],
   "source": [
    "print(w2v[\"taiwan\"])"
   ]
  },
  {
   "cell_type": "code",
   "execution_count": 4,
   "metadata": {},
   "outputs": [],
   "source": [
    "# if not in w2v (word to vector)\n",
    "# print(w2v[\"taipei\"])"
   ]
  },
  {
   "cell_type": "markdown",
   "metadata": {},
   "source": [
    "# Similarity"
   ]
  },
  {
   "cell_type": "markdown",
   "metadata": {},
   "source": [
    "## pair similarity"
   ]
  },
  {
   "cell_type": "code",
   "execution_count": 5,
   "metadata": {},
   "outputs": [
    {
     "name": "stdout",
     "output_type": "stream",
     "text": [
      "nice \t good \t 0.60910374\n",
      "nice \t bad \t 0.45045793\n",
      "nice \t fast \t 0.27487028\n",
      "good \t bad \t 0.6704173\n",
      "--------------------------------------------------------------------------------\n",
      "red \t sky \t 0.33816254\n",
      "yellow \t sky \t 0.3600589\n",
      "blue \t sky \t 0.46580052\n",
      "--------------------------------------------------------------------------------\n",
      "tiger \t lion \t 0.52325076\n",
      "tiger \t bird \t 0.30507404\n",
      "--------------------------------------------------------------------------------\n",
      "france \t paris \t 0.6153761\n",
      "italy \t paris \t 0.3688634\n",
      "italy \t rome \t 0.64244974\n",
      "paris \t rome \t 0.53335226\n",
      "good \t paris \t 0.09129018\n"
     ]
    }
   ],
   "source": [
    "def print_pair_similarity(w1, w2):\n",
    "    print(w1, \"\\t\", w2, \"\\t\", w2v.similarity(w1, w2))\n",
    "print_pair_similarity(\"nice\", \"good\")\n",
    "print_pair_similarity(\"nice\", \"bad\")\n",
    "print_pair_similarity(\"nice\", \"fast\")\n",
    "print_pair_similarity(\"good\", \"bad\")\n",
    "print(\"-\"*80)\n",
    "print_pair_similarity(\"red\", \"sky\")\n",
    "print_pair_similarity(\"yellow\", \"sky\")\n",
    "print_pair_similarity(\"blue\", \"sky\")\n",
    "print(\"-\"*80)\n",
    "print_pair_similarity(\"tiger\", \"lion\")\n",
    "print_pair_similarity(\"tiger\", \"bird\")\n",
    "print(\"-\"*80)\n",
    "print_pair_similarity(\"france\", \"paris\")\n",
    "print_pair_similarity(\"italy\", \"paris\")\n",
    "print_pair_similarity(\"italy\", \"rome\")\n",
    "print_pair_similarity(\"paris\", \"rome\")\n",
    "print_pair_similarity(\"good\", \"paris\")"
   ]
  },
  {
   "cell_type": "markdown",
   "metadata": {},
   "source": [
    "## Most similar words"
   ]
  },
  {
   "cell_type": "code",
   "execution_count": 6,
   "metadata": {},
   "outputs": [
    {
     "name": "stdout",
     "output_type": "stream",
     "text": [
      "[('excellent', 0.7223856449127197), ('bad', 0.670417308807373), ('nice', 0.6091036796569824), ('better', 0.5967727303504944), ('perfect', 0.5752175450325012), ('reasonable', 0.5712679028511047), ('faith', 0.5607122778892517), ('helpful', 0.5578594207763672), ('poor', 0.5506519079208374), ('definitely', 0.5472526550292969)]\n",
      "[('france', 0.6153761148452759), ('vienna', 0.5634822845458984), ('berlin', 0.5617253184318542), ('london', 0.5515710115432739), ('munich', 0.5390844345092773), ('rome', 0.5333521366119385), ('madrid', 0.5264111757278442), ('moscow', 0.5238058567047119), ('prague', 0.5211637020111084), ('french', 0.5190050601959229)]\n",
      "[('tigers', 0.5982854962348938), ('cats', 0.5247116088867188), ('lion', 0.5232507586479187), ('lions', 0.49344372749328613), ('hamilton', 0.46046364307403564), ('dragon', 0.4476792514324188), ('cat', 0.430864542722702), ('woods', 0.43060770630836487), ('bear', 0.4008936882019043), ('wolf', 0.3999537229537964)]\n",
      "[('left', 0.6660147905349731), ('hand', 0.5235728025436401), ('handed', 0.512216329574585), ('wrong', 0.47229379415512085), ('arm', 0.4591131806373596), ('just', 0.4399382174015045), ('bottom', 0.4254627227783203), ('exactly', 0.4170149564743042), ('align', 0.4089397192001343), ('way', 0.4043542742729187)]\n"
     ]
    }
   ],
   "source": [
    "print(w2v.most_similar(\"good\"))\n",
    "print(w2v.most_similar(\"paris\"))\n",
    "print(w2v.most_similar(\"tiger\"))\n",
    "print(w2v.most_similar(\"right\"))"
   ]
  },
  {
   "cell_type": "markdown",
   "metadata": {},
   "source": [
    "## Analogy\n",
    "- `France : Paris = Italy : ?`\n",
    "- `Pairs - France + Italy`"
   ]
  },
  {
   "cell_type": "code",
   "execution_count": 7,
   "metadata": {},
   "outputs": [
    {
     "name": "stdout",
     "output_type": "stream",
     "text": [
      "[('rome', 0.9118089079856873), ('milan', 0.8868755102157593), ('vienna', 0.8417393565177917), ('venice', 0.8385935425758362), ('florence', 0.8238525390625), ('munich', 0.8000103831291199), ('prague', 0.7927053570747375), ('italian', 0.784573495388031), ('madrid', 0.7796931862831116), ('athens', 0.779522180557251)]\n",
      "[('paris', 1.0550767183303833), ('rome', 0.8601745367050171), ('munich', 0.8483597636222839), ('amsterdam', 0.8383409380912781), ('berlin', 0.8285969495773315), ('venice', 0.8250125050544739), ('french', 0.816684365272522), ('barcelona', 0.8140460848808289), ('england', 0.8124412894248962), ('vienna', 0.8115441799163818)]\n",
      "[('queen', 0.8924742341041565), ('princess', 0.8137581944465637), ('kings', 0.8062561750411987), ('reign', 0.78184574842453), ('kingdom', 0.7693678736686707), ('throne', 0.7536834478378296), ('royal', 0.7402397990226746), ('prince', 0.7384786605834961), ('crown', 0.7332648634910583), ('elizabeth', 0.7213146090507507)]\n",
      "[('tea', 0.8334957361221313), ('beer', 0.8212701082229614), ('sugar', 0.8099021911621094), ('milk', 0.7977914810180664), ('wine', 0.7942050099372864), ('fruit', 0.7887060046195984), ('food', 0.7804028987884521), ('rice', 0.7542921900749207), ('restaurant', 0.7530092597007751), ('restaurants', 0.7307345271110535)]\n",
      "[('vehicles', 0.9059291481971741), ('cars', 0.9036244750022888), ('vehicle', 0.8967863917350769), ('motor', 0.8891515731811523), ('locomotives', 0.8754465579986572), ('engines', 0.8740257620811462), ('passenger', 0.8730894327163696), ('engine', 0.8665419816970825), ('diesel', 0.8630682826042175), ('car', 0.8622882962226868)]\n",
      "[('good', 0.8663628101348877), ('wrong', 0.8139793276786804), ('hoax', 0.8080534338951111), ('poor', 0.7989814877510071), ('worse', 0.794325590133667), ('nothing', 0.7809121012687683), ('just', 0.7766373157501221), ('obviously', 0.7740558385848999), ('faith', 0.7691490650177002), ('plenty', 0.7675331234931946)]\n",
      "[('excellent', 0.8916696310043335), ('plenty', 0.8705934286117554), ('interesting', 0.8577498197555542), ('bad', 0.842410147190094), ('quick', 0.8329883217811584), ('nice', 0.8289033770561218), ('better', 0.827112078666687), ('definitely', 0.8242558836936951), ('poor', 0.813267171382904), ('nothing', 0.8125602006912231)]\n"
     ]
    }
   ],
   "source": [
    "# 前面是 positive term，後面是 negative term\n",
    "# (Paris/France)*Italy:\n",
    "    # Paris is the capital of France, so we discard the country attribute (France) from Paris then add a new one (Italy)\n",
    "    # we get \"the capital of Italy\"\n",
    "\n",
    "#  France : Paris = Italy : ?\n",
    "print(w2v.most_similar_cosmul([\"paris\", \"italy\"], [\"france\"]))\n",
    "\n",
    "#  UK : London = France : ?\n",
    "print(w2v.most_similar_cosmul([\"london\", \"france\"], [\"uk\"]))\n",
    "\n",
    "#  Male : King = Female :？\n",
    "print(w2v.most_similar_cosmul([\"king\", \"female\"], [\"male\"]))\n",
    "\n",
    "#  Black : Coffee  = Red : ?\n",
    "print(w2v.most_similar_cosmul([\"coffee\", \"red\"], [\"black\"]))\n",
    "\n",
    "#  Wing : Aircraft = Wheel : ?\n",
    "print(w2v.most_similar_cosmul([\"aircraft\", \"wheel\"], [\"wing\"]))\n",
    "\n",
    "#  Microsoft : Google = Bad : ?\n",
    "print(w2v.most_similar_cosmul([\"google\", \"bad\"], [\"microsoft\"]))\n",
    "\n",
    "#  Microsoft : Google = Good : ?\n",
    "print(w2v.most_similar_cosmul([\"google\", \"good\"], [\"microsoft\"]))\n"
   ]
  },
  {
   "cell_type": "markdown",
   "metadata": {},
   "source": [
    "# Train Word Embeddings"
   ]
  },
  {
   "cell_type": "markdown",
   "metadata": {},
   "source": [
    "## Load a corpus. "
   ]
  },
  {
   "cell_type": "code",
   "execution_count": 8,
   "metadata": {},
   "outputs": [
    {
     "name": "stdout",
     "output_type": "stream",
     "text": [
      "Number of characters: 2221405\n"
     ]
    }
   ],
   "source": [
    "with open(\"data/wealth_of_nations.txt\", encoding=\"utf8\") as fin:\n",
    "    text = fin.read()\n",
    "print(\"Number of characters: %d\" % len(text))"
   ]
  },
  {
   "cell_type": "markdown",
   "metadata": {},
   "source": [
    "## Preprocessing"
   ]
  },
  {
   "cell_type": "markdown",
   "metadata": {},
   "source": [
    "### Sentence Tokenization"
   ]
  },
  {
   "cell_type": "code",
   "execution_count": 10,
   "metadata": {},
   "outputs": [
    {
     "name": "stdout",
     "output_type": "stream",
     "text": [
      "Number of sentences: 11914\n",
      "﻿AN INQUIRY INTO THE NATURE AND CAUSES OF THE WEALTH OF NATIONS.\n",
      "By Adam Smith\n",
      "\n",
      "\n",
      "\n",
      "\n",
      "INTRODUCTION AND PLAN OF THE WORK.\n",
      "['\\ufeffAN INQUIRY INTO THE NATURE AND CAUSES OF THE WEALTH OF NATIONS.', 'By Adam Smith\\n\\n\\n\\n\\nINTRODUCTION AND PLAN OF THE WORK.']\n",
      "Each individual becomes\n",
      "more expert in his own peculiar branch, more work is done upon the\n",
      "whole, and the quantity of science is considerably increased by it.\n"
     ]
    }
   ],
   "source": [
    "import nltk\n",
    "# nltk.download('punkt')\n",
    "# nltk.download('averaged_perceptron_tagger')\n",
    "from nltk.tokenize import sent_tokenize\n",
    "\n",
    "sents = sent_tokenize(text)\n",
    "print(\"Number of sentences: %d\" % len(sents))\n",
    "\n",
    "print(sents[0])\n",
    "print(sents[1])\n",
    "print(sents[:2])\n",
    "print(sents[100])"
   ]
  },
  {
   "cell_type": "markdown",
   "metadata": {},
   "source": [
    "### Word Tokenization"
   ]
  },
  {
   "cell_type": "code",
   "execution_count": 11,
   "metadata": {},
   "outputs": [
    {
     "name": "stdout",
     "output_type": "stream",
     "text": [
      "['\\ufeffan', 'inquiry', 'into', 'the', 'nature', 'and', 'causes', 'of', 'the', 'wealth', 'of', 'nations', '.']\n",
      "['by', 'adam', 'smith', 'introduction', 'and', 'plan', 'of', 'the', 'work', '.']\n",
      "['each', 'individual', 'becomes', 'more', 'expert', 'in', 'his', 'own', 'peculiar', 'branch', ',', 'more', 'work', 'is', 'done', 'upon', 'the', 'whole', ',', 'and', 'the', 'quantity', 'of', 'science', 'is', 'considerably', 'increased', 'by', 'it', '.']\n",
      "11914\n"
     ]
    }
   ],
   "source": [
    "from nltk.corpus import stopwords\n",
    "stopword_list = stopwords.words('english')\n",
    "\n",
    "from nltk.tokenize import word_tokenize\n",
    "\n",
    "sent_tokens = []\n",
    "for sent in sents:\n",
    "    sent_tokens.append(word_tokenize(sent.lower()))\n",
    "\n",
    "print(sent_tokens[0])\n",
    "print(sent_tokens[1])\n",
    "print(sent_tokens[100])\n",
    "print(len(sent_tokens))"
   ]
  },
  {
   "cell_type": "markdown",
   "metadata": {},
   "source": [
    "## Train Word2Vec\n",
    "gensim 升到4.0.0以後參考: https://github.com/RaRe-Technologies/gensim/wiki/Migrating-from-Gensim-3.x-to-4"
   ]
  },
  {
   "cell_type": "code",
   "execution_count": 12,
   "metadata": {
    "tags": []
   },
   "outputs": [],
   "source": [
    "from gensim.models import Word2Vec\n",
    "model = Word2Vec(sent_tokens, min_count=5, size=100, sg=1, hs=1, negative=5, iter=10)"
   ]
  },
  {
   "cell_type": "code",
   "execution_count": 13,
   "metadata": {},
   "outputs": [
    {
     "name": "stdout",
     "output_type": "stream",
     "text": [
      "<class 'gensim.models.word2vec.Word2Vec'>\n",
      "<class 'gensim.models.keyedvectors.Word2VecKeyedVectors'>\n",
      "Number of words: 3975\n",
      "100\n",
      "[-0.63048357  0.03218684 -0.25213563  0.49383494  0.07951883 -0.15656997\n",
      "  0.05103911  0.43813434  0.48747098  0.02981645 -0.40684494  0.83656377\n",
      " -0.05253973  0.6675955  -0.463687   -0.30963132  0.10014705 -0.08347005\n",
      " -0.46946454 -0.09966189 -0.49423933  0.26181278 -0.25573182  0.5397464\n",
      "  0.18344757  0.51858187 -0.34840748  0.38829896  0.0077427   0.20472226\n",
      "  0.3708094  -0.168079   -0.34337577 -0.06276008  0.05760368 -0.1241343\n",
      "  0.18390921 -0.13092774  0.13314995 -0.02225766 -0.31451857 -0.29526997\n",
      " -0.69213635  0.88941807 -0.29185936 -0.11923076 -0.0420463  -0.723381\n",
      " -0.35330898  0.38833645 -0.35616085  0.9268974  -0.21448573  0.10386202\n",
      " -0.12358859  0.24549903  0.55288094 -0.05869054 -0.7073949   0.06774861\n",
      "  0.03223285  0.17246173  0.41174915 -0.5319319   0.36067286 -0.00560049\n",
      " -0.5270577   0.10587072  0.23943472 -0.24444261  0.11337954 -0.21898209\n",
      "  0.3135496  -0.26036847 -0.02098903  0.06033184 -0.32366234 -0.1707489\n",
      " -0.14078677  0.48200226  0.83099914  0.17200932  0.3055896   0.6267586\n",
      " -0.23187587  0.2684076   0.2587378   0.08080713 -0.20160745 -0.11009321\n",
      " -0.29131067 -0.5710841   0.00459909  0.10445556  0.16369341 -0.3059854\n",
      "  0.08646175  0.3988238  -0.6133415   0.0671814 ]\n"
     ]
    }
   ],
   "source": [
    "print(type(model))\n",
    "print(type(model.wv))\n",
    "print(\"Number of words: %d\" % len(model.wv.vocab))\n",
    "print(len(model.wv[\"class\"]))\n",
    "print(model.wv[\"class\"])"
   ]
  },
  {
   "cell_type": "markdown",
   "metadata": {},
   "source": [
    "## Similarity"
   ]
  },
  {
   "cell_type": "code",
   "execution_count": 14,
   "metadata": {},
   "outputs": [
    {
     "name": "stdout",
     "output_type": "stream",
     "text": [
      "[('riches', 0.6879153251647949), ('greatness', 0.6297317743301392), ('real', 0.5778223276138306), ('population', 0.5591711401939392), ('national', 0.5425323247909546), ('increase', 0.5413027405738831), ('populousness', 0.5352174043655396), ('prosperity', 0.5301321148872375), ('scantiness', 0.5246376991271973), ('declension', 0.5204905271530151)]\n",
      "[('nations', 0.6461886167526245), ('monarchy', 0.5157290697097778), ('country', 0.5129830837249756), ('militia', 0.49890264868736267), ('rival', 0.4807049334049225), ('husbandmen', 0.47296494245529175), ('civilized', 0.46563369035720825), ('barbarous', 0.45905566215515137), ('wealth', 0.4465785026550293), ('dispute', 0.44189974665641785)]\n",
      "[('paper', 0.5914057493209839), ('coin', 0.5718703866004944), ('bullion', 0.5641735196113586), ('currency', 0.5607221722602844), ('holders', 0.5511983036994934), ('bank', 0.5459861159324646), ('current', 0.5371934175491333), ('issued', 0.523169755935669), ('sum', 0.5224979519844055), ('bills', 0.5192636847496033)]\n"
     ]
    }
   ],
   "source": [
    "print(model.wv.most_similar(\"wealth\"))\n",
    "print(model.wv.most_similar(\"nation\"))\n",
    "print(model.wv.most_similar(\"money\"))"
   ]
  },
  {
   "cell_type": "code",
   "execution_count": 15,
   "metadata": {},
   "outputs": [
    {
     "name": "stdout",
     "output_type": "stream",
     "text": [
      "Distance between class and classes: \t0.329436\n",
      "Distance between country and national: \t0.512983\n",
      "Distance between rich and poor: \t0.655524\n"
     ]
    }
   ],
   "source": [
    "print(\"Distance between %s and %s: \\t%f\" % (\"class\", \"classes\", model.wv.similarity(\"class\", \"classes\")))\n",
    "print(\"Distance between %s and %s: \\t%f\" % (\"country\", \"national\", model.wv.similarity(\"country\", \"nation\")))\n",
    "print(\"Distance between %s and %s: \\t%f\" % (\"rich\", \"poor\", model.wv.similarity(\"rich\", \"poor\")))"
   ]
  },
  {
   "cell_type": "code",
   "execution_count": 17,
   "metadata": {},
   "outputs": [
    {
     "name": "stdout",
     "output_type": "stream",
     "text": [
      "[('labourer', 0.8615534901618958), ('rent', 0.8602850437164307), ('tending', 0.8472421169281006), ('land', 0.8442574739456177), ('tenant', 0.8400576114654541), ('raise', 0.8181530237197876), ('farmer', 0.816287100315094), ('real', 0.8092840313911438), ('provisions', 0.7997682094573975), ('tithe', 0.7973160147666931)]\n"
     ]
    }
   ],
   "source": [
    "#  Capital : Landlord = Labour : ?\n",
    "print(model.wv.most_similar_cosmul([\"landlord\", \"labour\"], [\"capital\"]))"
   ]
  },
  {
   "cell_type": "markdown",
   "metadata": {},
   "source": [
    "# Visualization"
   ]
  },
  {
   "cell_type": "code",
   "execution_count": 18,
   "metadata": {},
   "outputs": [],
   "source": [
    "%matplotlib inline\n",
    "import matplotlib.pyplot as plt"
   ]
  },
  {
   "cell_type": "code",
   "execution_count": 19,
   "metadata": {},
   "outputs": [
    {
     "data": {
      "image/png": "[encoded data removed]",
      "text/plain": [
       "<Figure size 432x288 with 1 Axes>"
      ]
     },
     "metadata": {
      "needs_background": "light"
     },
     "output_type": "display_data"
    }
   ],
   "source": [
    "plt.scatter(x=[1, 3], y=[-2, 4])\n",
    "plt.axis('equal');"
   ]
  },
  {
   "cell_type": "markdown",
   "metadata": {},
   "source": [
    "## Dimension Reduction: Principal Component Analysis"
   ]
  },
  {
   "cell_type": "code",
   "execution_count": 20,
   "metadata": {},
   "outputs": [
    {
     "name": "stdout",
     "output_type": "stream",
     "text": [
      "[ 0.8167357  -0.39238113 -0.14886408  0.5223769  -0.5271477   0.19810104\n",
      "  0.0897987  -0.08416038 -0.29183963 -0.02570699 -0.43929464  0.28804204\n",
      " -0.25969583  0.08557855 -0.21923712 -0.01490569 -0.01088307 -0.23218451\n",
      " -0.39849865  0.08749396  0.19375274 -0.5780583   0.40864605 -0.20953645\n",
      "  0.3086798   0.31866953 -0.28123173  0.25606614  0.51286864  0.30657855\n",
      " -0.47273502  0.06829853 -0.6040833  -0.263874   -0.2556219  -0.21321122\n",
      " -0.04446896  0.3392845   0.2595458   0.38120183 -0.06921475 -0.27362454\n",
      "  0.8529413  -0.09329614  0.16644369 -0.20633706  0.17533135 -0.03612992\n",
      " -0.07691583  0.86090827 -0.33886018 -0.1499429  -1.0836753   0.1825738\n",
      "  0.47891468  0.44652322  0.12627351 -0.50694    -0.26916543 -0.17195016\n",
      " -0.4645994   0.36836115  0.4255939  -0.41800454 -0.05698138  0.5619786\n",
      "  0.29475382 -0.00582271  0.19987063  0.13115916 -0.00359519  0.01101172\n",
      "  0.08095095  0.05592437  0.12741865  0.04920204 -0.1116821   0.04463055\n",
      " -0.33516672 -0.04904539  0.4340212  -0.29667193 -0.16778874 -0.22324727\n",
      " -0.24956872 -0.09855511  0.27285174  0.37871823 -0.2142128   0.4559558\n",
      " -0.15512003 -0.12289874 -0.05247876  0.2358641  -0.05909515 -0.05262074\n",
      "  0.15534097 -0.29995733  0.13627094  0.39594156]\n",
      "(100,)\n",
      "8\n"
     ]
    }
   ],
   "source": [
    "# getting representation of embedding model\n",
    "words = [\"landlord\", \"labour\", \"labourer\", \"class\", \"rich\", \"money\", \"wealth\", \"farmer\"]\n",
    "X = []\n",
    "for word in words:\n",
    "    X.append(model.wv[word])\n",
    "\n",
    "print(X[0])\n",
    "print(X[0].shape)\n",
    "print(len(X))"
   ]
  },
  {
   "cell_type": "code",
   "execution_count": 21,
   "metadata": {},
   "outputs": [
    {
     "name": "stdout",
     "output_type": "stream",
     "text": [
      "[[-1.79286657 -0.08173501]\n",
      " [ 0.70353315 -0.65847008]\n",
      " [-0.63063339 -0.80982985]\n",
      " [ 2.16744227 -1.9626561 ]\n",
      " [ 0.35977338  0.92670816]\n",
      " [-0.37692968  1.13759963]\n",
      " [ 1.29418497  2.20396549]\n",
      " [-1.72450413 -0.75558226]]\n"
     ]
    }
   ],
   "source": [
    "# Dimension Reduction by PCA\n",
    "from sklearn.decomposition import PCA\n",
    "\n",
    "# 建 PCA Model，降為兩維\n",
    "pca = PCA(n_components=2) # 可解釋變異量最大與第二大的維度\n",
    "points = pca.fit_transform(X)\n",
    "\n",
    "print(points)"
   ]
  },
  {
   "cell_type": "code",
   "execution_count": 22,
   "metadata": {},
   "outputs": [
    {
     "data": {
      "image/png": "[encoded data removed]",
      "text/plain": [
       "<Figure size 1200x900 with 1 Axes>"
      ]
     },
     "metadata": {
      "needs_background": "light"
     },
     "output_type": "display_data"
    }
   ],
   "source": [
    "import matplotlib.pyplot as plt\n",
    "\n",
    "plt.figure(figsize=(8, 6), dpi=150) \n",
    "for i in range(len(points)):\n",
    "    label = words[i]\n",
    "    x = points[i][0]\n",
    "    y = points[i][1]\n",
    "    plt.scatter(x, y)\n",
    "    plt.annotate(label, xy=(x, y))\n",
    "plt.axis('equal');"
   ]
  },
  {
   "cell_type": "code",
   "execution_count": 23,
   "metadata": {},
   "outputs": [
    {
     "data": {
      "image/png": "[encoded data removed]",
      "text/plain": [
       "<Figure size 432x288 with 1 Axes>"
      ]
     },
     "metadata": {
      "needs_background": "light"
     },
     "output_type": "display_data"
    }
   ],
   "source": [
    "from sklearn.decomposition import PCA\n",
    "pca = PCA(n_components=2)\n",
    "\n",
    "words = [\"france\", \"usa\", \"uk\", \"china\", \"taiwan\", \"german\", \"italy\", \"ireland\", \"england\", \"scotland\", \"japan\", \"india\", \"russia\"]\n",
    "X = []\n",
    "for word in words:\n",
    "    X.append(w2v[word])\n",
    "pca.fit(X)\n",
    "points = pca.transform(X)\n",
    "\n",
    "for i in range(len(points)):\n",
    "    label = words[i]\n",
    "    x = points[i][0]\n",
    "    y = points[i][1]\n",
    "    plt.scatter(x, y)\n",
    "    plt.annotate(label, xy=(x, y))\n",
    "plt.axis('equal');"
   ]
  }
 ],
 "metadata": {
  "kernelspec": {
   "display_name": "Python 3 (ipykernel)",
   "language": "python",
   "name": "python3"
  },
  "language_info": {
   "codemirror_mode": {
    "name": "ipython",
    "version": 3
   },
   "file_extension": ".py",
   "mimetype": "text/x-python",
   "name": "python",
   "nbconvert_exporter": "python",
   "pygments_lexer": "ipython3",
   "version": "3.8.13"
  },
  "toc": {
   "base_numbering": 1,
   "nav_menu": {},
   "number_sections": true,
   "sideBar": true,
   "skip_h1_title": false,
   "title_cell": "Table of Contents",
   "title_sidebar": "Contents",
   "toc_cell": false,
   "toc_position": {},
   "toc_section_display": true,
   "toc_window_display": true
  }
 },
 "nbformat": 4,
 "nbformat_minor": 4
}
