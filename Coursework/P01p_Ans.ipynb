{
 "cells": [
  {
   "cell_type": "markdown",
   "id": "29b1f38c",
   "metadata": {},
   "source": [
    "# Self-Quiz: Counting departments\n",
    "以下的stu_list為一群修課生的科系，現在要列數每個科系有多少人修課。"
   ]
  },
  {
   "cell_type": "code",
   "execution_count": 11,
   "id": "b5777abc",
   "metadata": {},
   "outputs": [],
   "source": [
    "stu_dict = {}\n",
    "stu_list = [\"soc\", \"soc\", \"econ\", \"bio\", \"psy\", \"psy\", \"econ\", \"poli\", \"econ\"]"
   ]
  },
  {
   "cell_type": "markdown",
   "id": "22e8c046",
   "metadata": {},
   "source": [
    "## Counting with for-loop\n",
    "以下為其中一種可能的寫法，不盡然要照著邏輯寫，可以自己寫寫看。"
   ]
  },
  {
   "cell_type": "code",
   "execution_count": 13,
   "id": "9e1b62b2",
   "metadata": {},
   "outputs": [
    {
     "name": "stdout",
     "output_type": "stream",
     "text": [
      "{'soc': 2, 'econ': 3, 'bio': 1, 'psy': 2, 'poli': 1}\n"
     ]
    }
   ],
   "source": [
    "for student in stu_list:\n",
    "    stu_dict[student] = 0\n",
    "for student in stu_list:\n",
    "    stu_dict[student] += 1\n",
    "print(stu_dict)"
   ]
  },
  {
   "cell_type": "markdown",
   "id": "42a14997",
   "metadata": {},
   "source": [
    "## Print out all keys and value()"
   ]
  },
  {
   "cell_type": "code",
   "execution_count": 15,
   "id": "32ccc8d2",
   "metadata": {},
   "outputs": [
    {
     "name": "stdout",
     "output_type": "stream",
     "text": [
      "dict_keys(['soc', 'econ', 'bio', 'psy', 'poli'])\n",
      "dict_values([2, 3, 1, 2, 1])\n"
     ]
    }
   ],
   "source": [
    "print(stu_dict.keys())\n",
    "print(stu_dict.values())"
   ]
  },
  {
   "cell_type": "markdown",
   "id": "335f3565",
   "metadata": {},
   "source": [
    "## Print out all pairs by items()"
   ]
  },
  {
   "cell_type": "code",
   "execution_count": 14,
   "id": "95b8c3ee",
   "metadata": {},
   "outputs": [
    {
     "name": "stdout",
     "output_type": "stream",
     "text": [
      "dict_items([('soc', 2), ('econ', 3), ('bio', 1), ('psy', 2), ('poli', 1)])\n"
     ]
    }
   ],
   "source": [
    "print(stu_dict.items())"
   ]
  },
  {
   "cell_type": "markdown",
   "id": "b8e0feb2",
   "metadata": {},
   "source": [
    "## Counting by Counter()"
   ]
  },
  {
   "cell_type": "code",
   "execution_count": 18,
   "id": "acd3277a",
   "metadata": {},
   "outputs": [
    {
     "name": "stdout",
     "output_type": "stream",
     "text": [
      "Counter({'econ': 3, 'soc': 2, 'psy': 2, 'bio': 1, 'poli': 1})\n",
      "econ 3\n",
      "soc 2\n",
      "psy 2\n",
      "bio 1\n",
      "poli 1\n"
     ]
    }
   ],
   "source": [
    "from collections import Counter\n",
    "print(Counter(stu_list))\n",
    "\n",
    "for k, c in Counter(stu_list).most_common():\n",
    "    print(k, c)"
   ]
  }
 ],
 "metadata": {
  "kernelspec": {
   "display_name": "Python 3",
   "language": "python",
   "name": "python3"
  },
  "language_info": {
   "codemirror_mode": {
    "name": "ipython",
    "version": 3
   },
   "file_extension": ".py",
   "mimetype": "text/x-python",
   "name": "python",
   "nbconvert_exporter": "python",
   "pygments_lexer": "ipython3",
   "version": "3.7.6"
  }
 },
 "nbformat": 4,
 "nbformat_minor": 5
}
